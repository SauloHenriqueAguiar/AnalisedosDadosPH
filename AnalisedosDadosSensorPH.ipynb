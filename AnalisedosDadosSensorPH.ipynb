{
  "nbformat": 4,
  "nbformat_minor": 0,
  "metadata": {
    "colab": {
      "name": "AnalisedosDadosSensorPH.ipynb",
      "provenance": [],
      "collapsed_sections": [],
      "authorship_tag": "ABX9TyPwVDy3wcSJanDXWgYhyu+F",
      "include_colab_link": true
    },
    "kernelspec": {
      "name": "python3",
      "display_name": "Python 3"
    },
    "language_info": {
      "name": "python"
    },
    "accelerator": "GPU"
  },
  "cells": [
    {
      "cell_type": "markdown",
      "metadata": {
        "id": "view-in-github",
        "colab_type": "text"
      },
      "source": [
        "<a href=\"https://colab.research.google.com/github/SauloHenriqueAguiar/AnalisedosDadosPH/blob/main/AnalisedosDadosSensorPH.ipynb\" target=\"_parent\"><img src=\"https://colab.research.google.com/assets/colab-badge.svg\" alt=\"Open In Colab\"/></a>"
      ]
    },
    {
      "cell_type": "markdown",
      "source": [
        "#Analise  dos Dados "
      ],
      "metadata": {
        "id": "WMW4OfEpytGl"
      }
    },
    {
      "cell_type": "code",
      "execution_count": 363,
      "metadata": {
        "id": "61SfkPfXw5NC"
      },
      "outputs": [],
      "source": [
        "import pandas as pd \n",
        "read_file = pd.read_excel (\"/content/dados calibração esp32 PH solo.xlsx\")"
      ]
    },
    {
      "cell_type": "code",
      "source": [
        "read_file.to_csv (\"/content/dados calibração esp32 PH solo.csv\",  \n",
        "                  index = None, \n",
        "                  header=True)"
      ],
      "metadata": {
        "id": "HruS5Ys_x-Op"
      },
      "execution_count": 364,
      "outputs": []
    },
    {
      "cell_type": "code",
      "source": [
        "df = pd.DataFrame(pd.read_csv(\"/content/dados calibração esp32 PH solo.csv\"))\n"
      ],
      "metadata": {
        "id": "_N0sWniLyNyn"
      },
      "execution_count": 365,
      "outputs": []
    },
    {
      "cell_type": "code",
      "source": [
        "df"
      ],
      "metadata": {
        "colab": {
          "base_uri": "https://localhost:8080/",
          "height": 424
        },
        "id": "5MBTGjopyXWx",
        "outputId": "9ee25c5e-7fad-469e-db87-04ffa44964e5"
      },
      "execution_count": 366,
      "outputs": [
        {
          "output_type": "execute_result",
          "data": {
            "text/plain": [
              "    nº  pH_Meio_Aquoso  pH_Medida_Direta_Akso  Valores_Analogicos_Sensor_pH\n",
              "0    1             5.1                   6.43                        711.00\n",
              "1    2             4.5                   5.84                        724.00\n",
              "2    3             7.0                   7.80                        601.00\n",
              "3    4             4.2                   4.41                        763.50\n",
              "4    5             6.1                   6.43                        645.25\n",
              "..  ..             ...                    ...                           ...\n",
              "73  74             7.5                   6.73                        644.10\n",
              "74  75             7.0                   6.97                        609.40\n",
              "75  76             7.3                   7.51                        578.80\n",
              "76  77             6.1                   6.71                        650.50\n",
              "77  78             5.8                   6.96                        633.00\n",
              "\n",
              "[78 rows x 4 columns]"
            ],
            "text/html": [
              "\n",
              "  <div id=\"df-0329c484-e7a3-4598-9101-92099fdba47a\">\n",
              "    <div class=\"colab-df-container\">\n",
              "      <div>\n",
              "<style scoped>\n",
              "    .dataframe tbody tr th:only-of-type {\n",
              "        vertical-align: middle;\n",
              "    }\n",
              "\n",
              "    .dataframe tbody tr th {\n",
              "        vertical-align: top;\n",
              "    }\n",
              "\n",
              "    .dataframe thead th {\n",
              "        text-align: right;\n",
              "    }\n",
              "</style>\n",
              "<table border=\"1\" class=\"dataframe\">\n",
              "  <thead>\n",
              "    <tr style=\"text-align: right;\">\n",
              "      <th></th>\n",
              "      <th>nº</th>\n",
              "      <th>pH_Meio_Aquoso</th>\n",
              "      <th>pH_Medida_Direta_Akso</th>\n",
              "      <th>Valores_Analogicos_Sensor_pH</th>\n",
              "    </tr>\n",
              "  </thead>\n",
              "  <tbody>\n",
              "    <tr>\n",
              "      <th>0</th>\n",
              "      <td>1</td>\n",
              "      <td>5.1</td>\n",
              "      <td>6.43</td>\n",
              "      <td>711.00</td>\n",
              "    </tr>\n",
              "    <tr>\n",
              "      <th>1</th>\n",
              "      <td>2</td>\n",
              "      <td>4.5</td>\n",
              "      <td>5.84</td>\n",
              "      <td>724.00</td>\n",
              "    </tr>\n",
              "    <tr>\n",
              "      <th>2</th>\n",
              "      <td>3</td>\n",
              "      <td>7.0</td>\n",
              "      <td>7.80</td>\n",
              "      <td>601.00</td>\n",
              "    </tr>\n",
              "    <tr>\n",
              "      <th>3</th>\n",
              "      <td>4</td>\n",
              "      <td>4.2</td>\n",
              "      <td>4.41</td>\n",
              "      <td>763.50</td>\n",
              "    </tr>\n",
              "    <tr>\n",
              "      <th>4</th>\n",
              "      <td>5</td>\n",
              "      <td>6.1</td>\n",
              "      <td>6.43</td>\n",
              "      <td>645.25</td>\n",
              "    </tr>\n",
              "    <tr>\n",
              "      <th>...</th>\n",
              "      <td>...</td>\n",
              "      <td>...</td>\n",
              "      <td>...</td>\n",
              "      <td>...</td>\n",
              "    </tr>\n",
              "    <tr>\n",
              "      <th>73</th>\n",
              "      <td>74</td>\n",
              "      <td>7.5</td>\n",
              "      <td>6.73</td>\n",
              "      <td>644.10</td>\n",
              "    </tr>\n",
              "    <tr>\n",
              "      <th>74</th>\n",
              "      <td>75</td>\n",
              "      <td>7.0</td>\n",
              "      <td>6.97</td>\n",
              "      <td>609.40</td>\n",
              "    </tr>\n",
              "    <tr>\n",
              "      <th>75</th>\n",
              "      <td>76</td>\n",
              "      <td>7.3</td>\n",
              "      <td>7.51</td>\n",
              "      <td>578.80</td>\n",
              "    </tr>\n",
              "    <tr>\n",
              "      <th>76</th>\n",
              "      <td>77</td>\n",
              "      <td>6.1</td>\n",
              "      <td>6.71</td>\n",
              "      <td>650.50</td>\n",
              "    </tr>\n",
              "    <tr>\n",
              "      <th>77</th>\n",
              "      <td>78</td>\n",
              "      <td>5.8</td>\n",
              "      <td>6.96</td>\n",
              "      <td>633.00</td>\n",
              "    </tr>\n",
              "  </tbody>\n",
              "</table>\n",
              "<p>78 rows × 4 columns</p>\n",
              "</div>\n",
              "      <button class=\"colab-df-convert\" onclick=\"convertToInteractive('df-0329c484-e7a3-4598-9101-92099fdba47a')\"\n",
              "              title=\"Convert this dataframe to an interactive table.\"\n",
              "              style=\"display:none;\">\n",
              "        \n",
              "  <svg xmlns=\"http://www.w3.org/2000/svg\" height=\"24px\"viewBox=\"0 0 24 24\"\n",
              "       width=\"24px\">\n",
              "    <path d=\"M0 0h24v24H0V0z\" fill=\"none\"/>\n",
              "    <path d=\"M18.56 5.44l.94 2.06.94-2.06 2.06-.94-2.06-.94-.94-2.06-.94 2.06-2.06.94zm-11 1L8.5 8.5l.94-2.06 2.06-.94-2.06-.94L8.5 2.5l-.94 2.06-2.06.94zm10 10l.94 2.06.94-2.06 2.06-.94-2.06-.94-.94-2.06-.94 2.06-2.06.94z\"/><path d=\"M17.41 7.96l-1.37-1.37c-.4-.4-.92-.59-1.43-.59-.52 0-1.04.2-1.43.59L10.3 9.45l-7.72 7.72c-.78.78-.78 2.05 0 2.83L4 21.41c.39.39.9.59 1.41.59.51 0 1.02-.2 1.41-.59l7.78-7.78 2.81-2.81c.8-.78.8-2.07 0-2.86zM5.41 20L4 18.59l7.72-7.72 1.47 1.35L5.41 20z\"/>\n",
              "  </svg>\n",
              "      </button>\n",
              "      \n",
              "  <style>\n",
              "    .colab-df-container {\n",
              "      display:flex;\n",
              "      flex-wrap:wrap;\n",
              "      gap: 12px;\n",
              "    }\n",
              "\n",
              "    .colab-df-convert {\n",
              "      background-color: #E8F0FE;\n",
              "      border: none;\n",
              "      border-radius: 50%;\n",
              "      cursor: pointer;\n",
              "      display: none;\n",
              "      fill: #1967D2;\n",
              "      height: 32px;\n",
              "      padding: 0 0 0 0;\n",
              "      width: 32px;\n",
              "    }\n",
              "\n",
              "    .colab-df-convert:hover {\n",
              "      background-color: #E2EBFA;\n",
              "      box-shadow: 0px 1px 2px rgba(60, 64, 67, 0.3), 0px 1px 3px 1px rgba(60, 64, 67, 0.15);\n",
              "      fill: #174EA6;\n",
              "    }\n",
              "\n",
              "    [theme=dark] .colab-df-convert {\n",
              "      background-color: #3B4455;\n",
              "      fill: #D2E3FC;\n",
              "    }\n",
              "\n",
              "    [theme=dark] .colab-df-convert:hover {\n",
              "      background-color: #434B5C;\n",
              "      box-shadow: 0px 1px 3px 1px rgba(0, 0, 0, 0.15);\n",
              "      filter: drop-shadow(0px 1px 2px rgba(0, 0, 0, 0.3));\n",
              "      fill: #FFFFFF;\n",
              "    }\n",
              "  </style>\n",
              "\n",
              "      <script>\n",
              "        const buttonEl =\n",
              "          document.querySelector('#df-0329c484-e7a3-4598-9101-92099fdba47a button.colab-df-convert');\n",
              "        buttonEl.style.display =\n",
              "          google.colab.kernel.accessAllowed ? 'block' : 'none';\n",
              "\n",
              "        async function convertToInteractive(key) {\n",
              "          const element = document.querySelector('#df-0329c484-e7a3-4598-9101-92099fdba47a');\n",
              "          const dataTable =\n",
              "            await google.colab.kernel.invokeFunction('convertToInteractive',\n",
              "                                                     [key], {});\n",
              "          if (!dataTable) return;\n",
              "\n",
              "          const docLinkHtml = 'Like what you see? Visit the ' +\n",
              "            '<a target=\"_blank\" href=https://colab.research.google.com/notebooks/data_table.ipynb>data table notebook</a>'\n",
              "            + ' to learn more about interactive tables.';\n",
              "          element.innerHTML = '';\n",
              "          dataTable['output_type'] = 'display_data';\n",
              "          await google.colab.output.renderOutput(dataTable, element);\n",
              "          const docLink = document.createElement('div');\n",
              "          docLink.innerHTML = docLinkHtml;\n",
              "          element.appendChild(docLink);\n",
              "        }\n",
              "      </script>\n",
              "    </div>\n",
              "  </div>\n",
              "  "
            ]
          },
          "metadata": {},
          "execution_count": 366
        }
      ]
    },
    {
      "cell_type": "code",
      "source": [
        "#excuindo coluna de indice\n",
        "del df['nº']"
      ],
      "metadata": {
        "id": "h-JFs4Vs6AEi"
      },
      "execution_count": 367,
      "outputs": []
    },
    {
      "cell_type": "code",
      "source": [
        "#dataset\n",
        "df"
      ],
      "metadata": {
        "colab": {
          "base_uri": "https://localhost:8080/",
          "height": 424
        },
        "id": "E0GmzIPO6GQb",
        "outputId": "6cb6ec62-c609-4623-9ec9-74869afd3217"
      },
      "execution_count": 368,
      "outputs": [
        {
          "output_type": "execute_result",
          "data": {
            "text/plain": [
              "    pH_Meio_Aquoso  pH_Medida_Direta_Akso  Valores_Analogicos_Sensor_pH\n",
              "0              5.1                   6.43                        711.00\n",
              "1              4.5                   5.84                        724.00\n",
              "2              7.0                   7.80                        601.00\n",
              "3              4.2                   4.41                        763.50\n",
              "4              6.1                   6.43                        645.25\n",
              "..             ...                    ...                           ...\n",
              "73             7.5                   6.73                        644.10\n",
              "74             7.0                   6.97                        609.40\n",
              "75             7.3                   7.51                        578.80\n",
              "76             6.1                   6.71                        650.50\n",
              "77             5.8                   6.96                        633.00\n",
              "\n",
              "[78 rows x 3 columns]"
            ],
            "text/html": [
              "\n",
              "  <div id=\"df-6c8fb8ed-aa41-4e35-921c-f5f0243b86a6\">\n",
              "    <div class=\"colab-df-container\">\n",
              "      <div>\n",
              "<style scoped>\n",
              "    .dataframe tbody tr th:only-of-type {\n",
              "        vertical-align: middle;\n",
              "    }\n",
              "\n",
              "    .dataframe tbody tr th {\n",
              "        vertical-align: top;\n",
              "    }\n",
              "\n",
              "    .dataframe thead th {\n",
              "        text-align: right;\n",
              "    }\n",
              "</style>\n",
              "<table border=\"1\" class=\"dataframe\">\n",
              "  <thead>\n",
              "    <tr style=\"text-align: right;\">\n",
              "      <th></th>\n",
              "      <th>pH_Meio_Aquoso</th>\n",
              "      <th>pH_Medida_Direta_Akso</th>\n",
              "      <th>Valores_Analogicos_Sensor_pH</th>\n",
              "    </tr>\n",
              "  </thead>\n",
              "  <tbody>\n",
              "    <tr>\n",
              "      <th>0</th>\n",
              "      <td>5.1</td>\n",
              "      <td>6.43</td>\n",
              "      <td>711.00</td>\n",
              "    </tr>\n",
              "    <tr>\n",
              "      <th>1</th>\n",
              "      <td>4.5</td>\n",
              "      <td>5.84</td>\n",
              "      <td>724.00</td>\n",
              "    </tr>\n",
              "    <tr>\n",
              "      <th>2</th>\n",
              "      <td>7.0</td>\n",
              "      <td>7.80</td>\n",
              "      <td>601.00</td>\n",
              "    </tr>\n",
              "    <tr>\n",
              "      <th>3</th>\n",
              "      <td>4.2</td>\n",
              "      <td>4.41</td>\n",
              "      <td>763.50</td>\n",
              "    </tr>\n",
              "    <tr>\n",
              "      <th>4</th>\n",
              "      <td>6.1</td>\n",
              "      <td>6.43</td>\n",
              "      <td>645.25</td>\n",
              "    </tr>\n",
              "    <tr>\n",
              "      <th>...</th>\n",
              "      <td>...</td>\n",
              "      <td>...</td>\n",
              "      <td>...</td>\n",
              "    </tr>\n",
              "    <tr>\n",
              "      <th>73</th>\n",
              "      <td>7.5</td>\n",
              "      <td>6.73</td>\n",
              "      <td>644.10</td>\n",
              "    </tr>\n",
              "    <tr>\n",
              "      <th>74</th>\n",
              "      <td>7.0</td>\n",
              "      <td>6.97</td>\n",
              "      <td>609.40</td>\n",
              "    </tr>\n",
              "    <tr>\n",
              "      <th>75</th>\n",
              "      <td>7.3</td>\n",
              "      <td>7.51</td>\n",
              "      <td>578.80</td>\n",
              "    </tr>\n",
              "    <tr>\n",
              "      <th>76</th>\n",
              "      <td>6.1</td>\n",
              "      <td>6.71</td>\n",
              "      <td>650.50</td>\n",
              "    </tr>\n",
              "    <tr>\n",
              "      <th>77</th>\n",
              "      <td>5.8</td>\n",
              "      <td>6.96</td>\n",
              "      <td>633.00</td>\n",
              "    </tr>\n",
              "  </tbody>\n",
              "</table>\n",
              "<p>78 rows × 3 columns</p>\n",
              "</div>\n",
              "      <button class=\"colab-df-convert\" onclick=\"convertToInteractive('df-6c8fb8ed-aa41-4e35-921c-f5f0243b86a6')\"\n",
              "              title=\"Convert this dataframe to an interactive table.\"\n",
              "              style=\"display:none;\">\n",
              "        \n",
              "  <svg xmlns=\"http://www.w3.org/2000/svg\" height=\"24px\"viewBox=\"0 0 24 24\"\n",
              "       width=\"24px\">\n",
              "    <path d=\"M0 0h24v24H0V0z\" fill=\"none\"/>\n",
              "    <path d=\"M18.56 5.44l.94 2.06.94-2.06 2.06-.94-2.06-.94-.94-2.06-.94 2.06-2.06.94zm-11 1L8.5 8.5l.94-2.06 2.06-.94-2.06-.94L8.5 2.5l-.94 2.06-2.06.94zm10 10l.94 2.06.94-2.06 2.06-.94-2.06-.94-.94-2.06-.94 2.06-2.06.94z\"/><path d=\"M17.41 7.96l-1.37-1.37c-.4-.4-.92-.59-1.43-.59-.52 0-1.04.2-1.43.59L10.3 9.45l-7.72 7.72c-.78.78-.78 2.05 0 2.83L4 21.41c.39.39.9.59 1.41.59.51 0 1.02-.2 1.41-.59l7.78-7.78 2.81-2.81c.8-.78.8-2.07 0-2.86zM5.41 20L4 18.59l7.72-7.72 1.47 1.35L5.41 20z\"/>\n",
              "  </svg>\n",
              "      </button>\n",
              "      \n",
              "  <style>\n",
              "    .colab-df-container {\n",
              "      display:flex;\n",
              "      flex-wrap:wrap;\n",
              "      gap: 12px;\n",
              "    }\n",
              "\n",
              "    .colab-df-convert {\n",
              "      background-color: #E8F0FE;\n",
              "      border: none;\n",
              "      border-radius: 50%;\n",
              "      cursor: pointer;\n",
              "      display: none;\n",
              "      fill: #1967D2;\n",
              "      height: 32px;\n",
              "      padding: 0 0 0 0;\n",
              "      width: 32px;\n",
              "    }\n",
              "\n",
              "    .colab-df-convert:hover {\n",
              "      background-color: #E2EBFA;\n",
              "      box-shadow: 0px 1px 2px rgba(60, 64, 67, 0.3), 0px 1px 3px 1px rgba(60, 64, 67, 0.15);\n",
              "      fill: #174EA6;\n",
              "    }\n",
              "\n",
              "    [theme=dark] .colab-df-convert {\n",
              "      background-color: #3B4455;\n",
              "      fill: #D2E3FC;\n",
              "    }\n",
              "\n",
              "    [theme=dark] .colab-df-convert:hover {\n",
              "      background-color: #434B5C;\n",
              "      box-shadow: 0px 1px 3px 1px rgba(0, 0, 0, 0.15);\n",
              "      filter: drop-shadow(0px 1px 2px rgba(0, 0, 0, 0.3));\n",
              "      fill: #FFFFFF;\n",
              "    }\n",
              "  </style>\n",
              "\n",
              "      <script>\n",
              "        const buttonEl =\n",
              "          document.querySelector('#df-6c8fb8ed-aa41-4e35-921c-f5f0243b86a6 button.colab-df-convert');\n",
              "        buttonEl.style.display =\n",
              "          google.colab.kernel.accessAllowed ? 'block' : 'none';\n",
              "\n",
              "        async function convertToInteractive(key) {\n",
              "          const element = document.querySelector('#df-6c8fb8ed-aa41-4e35-921c-f5f0243b86a6');\n",
              "          const dataTable =\n",
              "            await google.colab.kernel.invokeFunction('convertToInteractive',\n",
              "                                                     [key], {});\n",
              "          if (!dataTable) return;\n",
              "\n",
              "          const docLinkHtml = 'Like what you see? Visit the ' +\n",
              "            '<a target=\"_blank\" href=https://colab.research.google.com/notebooks/data_table.ipynb>data table notebook</a>'\n",
              "            + ' to learn more about interactive tables.';\n",
              "          element.innerHTML = '';\n",
              "          dataTable['output_type'] = 'display_data';\n",
              "          await google.colab.output.renderOutput(dataTable, element);\n",
              "          const docLink = document.createElement('div');\n",
              "          docLink.innerHTML = docLinkHtml;\n",
              "          element.appendChild(docLink);\n",
              "        }\n",
              "      </script>\n",
              "    </div>\n",
              "  </div>\n",
              "  "
            ]
          },
          "metadata": {},
          "execution_count": 368
        }
      ]
    },
    {
      "cell_type": "code",
      "source": [
        "# Verificar tipos de dados, quantidades e valores null:\n",
        "df.info()"
      ],
      "metadata": {
        "colab": {
          "base_uri": "https://localhost:8080/"
        },
        "id": "uPwWkQ-yUc6U",
        "outputId": "dc6f27db-76ba-4b13-ad37-8e57135f9a83"
      },
      "execution_count": 369,
      "outputs": [
        {
          "output_type": "stream",
          "name": "stdout",
          "text": [
            "<class 'pandas.core.frame.DataFrame'>\n",
            "RangeIndex: 78 entries, 0 to 77\n",
            "Data columns (total 3 columns):\n",
            " #   Column                        Non-Null Count  Dtype  \n",
            "---  ------                        --------------  -----  \n",
            " 0   pH_Meio_Aquoso                78 non-null     float64\n",
            " 1   pH_Medida_Direta_Akso         78 non-null     float64\n",
            " 2   Valores_Analogicos_Sensor_pH  78 non-null     float64\n",
            "dtypes: float64(3)\n",
            "memory usage: 2.0 KB\n"
          ]
        }
      ]
    },
    {
      "cell_type": "code",
      "source": [
        "# Verificar valores faltosos:\n",
        "pd.options.mode.use_inf_as_na = True\n",
        "df.isnull().sum()"
      ],
      "metadata": {
        "colab": {
          "base_uri": "https://localhost:8080/"
        },
        "id": "O7Ehq9dPUjad",
        "outputId": "0e39c999-6ad6-490e-eed3-8e016cf49505"
      },
      "execution_count": 370,
      "outputs": [
        {
          "output_type": "execute_result",
          "data": {
            "text/plain": [
              "pH_Meio_Aquoso                  0\n",
              "pH_Medida_Direta_Akso           0\n",
              "Valores_Analogicos_Sensor_pH    0\n",
              "dtype: int64"
            ]
          },
          "metadata": {},
          "execution_count": 370
        }
      ]
    },
    {
      "cell_type": "code",
      "source": [
        "#verificar Missing Values\n",
        "import missingno as msno\n",
        "msno.matrix(df)"
      ],
      "metadata": {
        "colab": {
          "base_uri": "https://localhost:8080/",
          "height": 686
        },
        "id": "gxUybStxUmcJ",
        "outputId": "62d9b442-4425-43e7-9d35-87de3a119a0a"
      },
      "execution_count": 371,
      "outputs": [
        {
          "output_type": "execute_result",
          "data": {
            "text/plain": [
              "<matplotlib.axes._subplots.AxesSubplot at 0x7f225fd4c190>"
            ]
          },
          "metadata": {},
          "execution_count": 371
        },
        {
          "output_type": "display_data",
          "data": {
            "text/plain": [
              "<Figure size 1800x720 with 2 Axes>"
            ],
            "image/png": "[encoded data removed]"
          },
          "metadata": {
            "needs_background": "light"
          }
        }
      ]
    },
    {
      "cell_type": "code",
      "source": [
        "#descrição estatistica\n",
        "df.describe(include='all')"
      ],
      "metadata": {
        "colab": {
          "base_uri": "https://localhost:8080/",
          "height": 300
        },
        "id": "VKKSRyw7dQES",
        "outputId": "815b4552-6b59-44f0-b729-b922f2e33c07"
      },
      "execution_count": 372,
      "outputs": [
        {
          "output_type": "execute_result",
          "data": {
            "text/plain": [
              "       pH_Meio_Aquoso  pH_Medida_Direta_Akso  Valores_Analogicos_Sensor_pH\n",
              "count        78.00000              78.000000                     78.000000\n",
              "mean          6.29500               6.461795                    648.244487\n",
              "std           1.15893               1.030649                     62.386971\n",
              "min           4.10000               4.280000                    468.250000\n",
              "25%           5.25000               5.740000                    606.675000\n",
              "50%           6.45000               6.675000                    644.675000\n",
              "75%           7.20000               7.245000                    698.332500\n",
              "max           8.80000               8.190000                    787.500000"
            ],
            "text/html": [
              "\n",
              "  <div id=\"df-43689028-c1eb-452a-8b99-eec732ab26c4\">\n",
              "    <div class=\"colab-df-container\">\n",
              "      <div>\n",
              "<style scoped>\n",
              "    .dataframe tbody tr th:only-of-type {\n",
              "        vertical-align: middle;\n",
              "    }\n",
              "\n",
              "    .dataframe tbody tr th {\n",
              "        vertical-align: top;\n",
              "    }\n",
              "\n",
              "    .dataframe thead th {\n",
              "        text-align: right;\n",
              "    }\n",
              "</style>\n",
              "<table border=\"1\" class=\"dataframe\">\n",
              "  <thead>\n",
              "    <tr style=\"text-align: right;\">\n",
              "      <th></th>\n",
              "      <th>pH_Meio_Aquoso</th>\n",
              "      <th>pH_Medida_Direta_Akso</th>\n",
              "      <th>Valores_Analogicos_Sensor_pH</th>\n",
              "    </tr>\n",
              "  </thead>\n",
              "  <tbody>\n",
              "    <tr>\n",
              "      <th>count</th>\n",
              "      <td>78.00000</td>\n",
              "      <td>78.000000</td>\n",
              "      <td>78.000000</td>\n",
              "    </tr>\n",
              "    <tr>\n",
              "      <th>mean</th>\n",
              "      <td>6.29500</td>\n",
              "      <td>6.461795</td>\n",
              "      <td>648.244487</td>\n",
              "    </tr>\n",
              "    <tr>\n",
              "      <th>std</th>\n",
              "      <td>1.15893</td>\n",
              "      <td>1.030649</td>\n",
              "      <td>62.386971</td>\n",
              "    </tr>\n",
              "    <tr>\n",
              "      <th>min</th>\n",
              "      <td>4.10000</td>\n",
              "      <td>4.280000</td>\n",
              "      <td>468.250000</td>\n",
              "    </tr>\n",
              "    <tr>\n",
              "      <th>25%</th>\n",
              "      <td>5.25000</td>\n",
              "      <td>5.740000</td>\n",
              "      <td>606.675000</td>\n",
              "    </tr>\n",
              "    <tr>\n",
              "      <th>50%</th>\n",
              "      <td>6.45000</td>\n",
              "      <td>6.675000</td>\n",
              "      <td>644.675000</td>\n",
              "    </tr>\n",
              "    <tr>\n",
              "      <th>75%</th>\n",
              "      <td>7.20000</td>\n",
              "      <td>7.245000</td>\n",
              "      <td>698.332500</td>\n",
              "    </tr>\n",
              "    <tr>\n",
              "      <th>max</th>\n",
              "      <td>8.80000</td>\n",
              "      <td>8.190000</td>\n",
              "      <td>787.500000</td>\n",
              "    </tr>\n",
              "  </tbody>\n",
              "</table>\n",
              "</div>\n",
              "      <button class=\"colab-df-convert\" onclick=\"convertToInteractive('df-43689028-c1eb-452a-8b99-eec732ab26c4')\"\n",
              "              title=\"Convert this dataframe to an interactive table.\"\n",
              "              style=\"display:none;\">\n",
              "        \n",
              "  <svg xmlns=\"http://www.w3.org/2000/svg\" height=\"24px\"viewBox=\"0 0 24 24\"\n",
              "       width=\"24px\">\n",
              "    <path d=\"M0 0h24v24H0V0z\" fill=\"none\"/>\n",
              "    <path d=\"M18.56 5.44l.94 2.06.94-2.06 2.06-.94-2.06-.94-.94-2.06-.94 2.06-2.06.94zm-11 1L8.5 8.5l.94-2.06 2.06-.94-2.06-.94L8.5 2.5l-.94 2.06-2.06.94zm10 10l.94 2.06.94-2.06 2.06-.94-2.06-.94-.94-2.06-.94 2.06-2.06.94z\"/><path d=\"M17.41 7.96l-1.37-1.37c-.4-.4-.92-.59-1.43-.59-.52 0-1.04.2-1.43.59L10.3 9.45l-7.72 7.72c-.78.78-.78 2.05 0 2.83L4 21.41c.39.39.9.59 1.41.59.51 0 1.02-.2 1.41-.59l7.78-7.78 2.81-2.81c.8-.78.8-2.07 0-2.86zM5.41 20L4 18.59l7.72-7.72 1.47 1.35L5.41 20z\"/>\n",
              "  </svg>\n",
              "      </button>\n",
              "      \n",
              "  <style>\n",
              "    .colab-df-container {\n",
              "      display:flex;\n",
              "      flex-wrap:wrap;\n",
              "      gap: 12px;\n",
              "    }\n",
              "\n",
              "    .colab-df-convert {\n",
              "      background-color: #E8F0FE;\n",
              "      border: none;\n",
              "      border-radius: 50%;\n",
              "      cursor: pointer;\n",
              "      display: none;\n",
              "      fill: #1967D2;\n",
              "      height: 32px;\n",
              "      padding: 0 0 0 0;\n",
              "      width: 32px;\n",
              "    }\n",
              "\n",
              "    .colab-df-convert:hover {\n",
              "      background-color: #E2EBFA;\n",
              "      box-shadow: 0px 1px 2px rgba(60, 64, 67, 0.3), 0px 1px 3px 1px rgba(60, 64, 67, 0.15);\n",
              "      fill: #174EA6;\n",
              "    }\n",
              "\n",
              "    [theme=dark] .colab-df-convert {\n",
              "      background-color: #3B4455;\n",
              "      fill: #D2E3FC;\n",
              "    }\n",
              "\n",
              "    [theme=dark] .colab-df-convert:hover {\n",
              "      background-color: #434B5C;\n",
              "      box-shadow: 0px 1px 3px 1px rgba(0, 0, 0, 0.15);\n",
              "      filter: drop-shadow(0px 1px 2px rgba(0, 0, 0, 0.3));\n",
              "      fill: #FFFFFF;\n",
              "    }\n",
              "  </style>\n",
              "\n",
              "      <script>\n",
              "        const buttonEl =\n",
              "          document.querySelector('#df-43689028-c1eb-452a-8b99-eec732ab26c4 button.colab-df-convert');\n",
              "        buttonEl.style.display =\n",
              "          google.colab.kernel.accessAllowed ? 'block' : 'none';\n",
              "\n",
              "        async function convertToInteractive(key) {\n",
              "          const element = document.querySelector('#df-43689028-c1eb-452a-8b99-eec732ab26c4');\n",
              "          const dataTable =\n",
              "            await google.colab.kernel.invokeFunction('convertToInteractive',\n",
              "                                                     [key], {});\n",
              "          if (!dataTable) return;\n",
              "\n",
              "          const docLinkHtml = 'Like what you see? Visit the ' +\n",
              "            '<a target=\"_blank\" href=https://colab.research.google.com/notebooks/data_table.ipynb>data table notebook</a>'\n",
              "            + ' to learn more about interactive tables.';\n",
              "          element.innerHTML = '';\n",
              "          dataTable['output_type'] = 'display_data';\n",
              "          await google.colab.output.renderOutput(dataTable, element);\n",
              "          const docLink = document.createElement('div');\n",
              "          docLink.innerHTML = docLinkHtml;\n",
              "          element.appendChild(docLink);\n",
              "        }\n",
              "      </script>\n",
              "    </div>\n",
              "  </div>\n",
              "  "
            ]
          },
          "metadata": {},
          "execution_count": 372
        }
      ]
    },
    {
      "cell_type": "markdown",
      "source": [
        "#Outleires "
      ],
      "metadata": {
        "id": "BCGqKfe2K1aa"
      }
    },
    {
      "cell_type": "code",
      "source": [
        "#Verificar Outliers\n",
        "import warnings\n",
        "import matplotlib.pyplot as plt\n",
        "warnings.filterwarnings(\"ignore\")\n",
        "import seaborn as sns\n",
        "for feature in ['pH_Meio_Aquoso', 'pH_Medida_Direta_Akso', 'Valores_Analogicos_Sensor_pH']:\n",
        "    fig, ax = plt.subplots(figsize=(6, 4))\n",
        "    sns.boxplot(df[feature])"
      ],
      "metadata": {
        "colab": {
          "base_uri": "https://localhost:8080/",
          "height": 806
        },
        "id": "hefOXxG3cVSS",
        "outputId": "e7e2824b-648a-416b-c805-6cec3afc439d"
      },
      "execution_count": 373,
      "outputs": [
        {
          "output_type": "display_data",
          "data": {
            "text/plain": [
              "<Figure size 432x288 with 1 Axes>"
            ],
            "image/png": "[encoded data removed]"
          },
          "metadata": {
            "needs_background": "light"
          }
        },
        {
          "output_type": "display_data",
          "data": {
            "text/plain": [
              "<Figure size 432x288 with 1 Axes>"
            ],
            "image/png": "[encoded data removed]"
          },
          "metadata": {
            "needs_background": "light"
          }
        },
        {
          "output_type": "display_data",
          "data": {
            "text/plain": [
              "<Figure size 432x288 with 1 Axes>"
            ],
            "image/png": "[encoded data removed]"
          },
          "metadata": {
            "needs_background": "light"
          }
        }
      ]
    },
    {
      "cell_type": "code",
      "source": [
        "#violinplot valores de pH medição direta\n",
        "from matplotlib import pyplot \n",
        "fig, ax = pyplot.subplots(figsize =(9, 7)) \n",
        "sns.violinplot( ax = ax, y = df[\"pH_Medida_Direta_Akso\"] ) \n",
        "\n"
      ],
      "metadata": {
        "colab": {
          "base_uri": "https://localhost:8080/",
          "height": 432
        },
        "id": "1q7Pq8UtjV1J",
        "outputId": "2ccefca6-beec-44c6-b274-10e5fda47232"
      },
      "execution_count": 374,
      "outputs": [
        {
          "output_type": "execute_result",
          "data": {
            "text/plain": [
              "<matplotlib.axes._subplots.AxesSubplot at 0x7f225fb94110>"
            ]
          },
          "metadata": {},
          "execution_count": 374
        },
        {
          "output_type": "display_data",
          "data": {
            "text/plain": [
              "<Figure size 648x504 with 1 Axes>"
            ],
            "image/png": "[encoded data removed]"
          },
          "metadata": {
            "needs_background": "light"
          }
        }
      ]
    },
    {
      "cell_type": "code",
      "source": [
        "#violinplot valores de pH medição em meio aquoso \n",
        "from matplotlib import pyplot \n",
        "fig, ax = pyplot.subplots(figsize =(9, 7)) \n",
        "sns.violinplot( ax = ax, y = df[\"pH_Meio_Aquoso\"] ) \n"
      ],
      "metadata": {
        "colab": {
          "base_uri": "https://localhost:8080/",
          "height": 432
        },
        "id": "TIBQB-y-m7tb",
        "outputId": "50a3b278-cd60-4b40-ff95-991e0cd642a3"
      },
      "execution_count": 375,
      "outputs": [
        {
          "output_type": "execute_result",
          "data": {
            "text/plain": [
              "<matplotlib.axes._subplots.AxesSubplot at 0x7f225faef850>"
            ]
          },
          "metadata": {},
          "execution_count": 375
        },
        {
          "output_type": "display_data",
          "data": {
            "text/plain": [
              "<Figure size 648x504 with 1 Axes>"
            ],
            "image/png": "[encoded data removed]"
          },
          "metadata": {
            "needs_background": "light"
          }
        }
      ]
    },
    {
      "cell_type": "code",
      "source": [
        "#violinplot valores analogicos medidos com sensor na ESP32 \n",
        "from matplotlib import pyplot \n",
        "fig, ax = pyplot.subplots(figsize =(9, 7)) \n",
        "sns.violinplot( ax = ax, y = df[\"Valores_Analogicos_Sensor_pH\"] ) \n"
      ],
      "metadata": {
        "colab": {
          "base_uri": "https://localhost:8080/",
          "height": 432
        },
        "id": "h18_tE_XnAKE",
        "outputId": "38d3eeef-94fd-482c-8985-12c6942a4169"
      },
      "execution_count": 376,
      "outputs": [
        {
          "output_type": "execute_result",
          "data": {
            "text/plain": [
              "<matplotlib.axes._subplots.AxesSubplot at 0x7f225fad0c90>"
            ]
          },
          "metadata": {},
          "execution_count": 376
        },
        {
          "output_type": "display_data",
          "data": {
            "text/plain": [
              "<Figure size 648x504 with 1 Axes>"
            ],
            "image/png": "[encoded data removed]"
          },
          "metadata": {
            "needs_background": "light"
          }
        }
      ]
    },
    {
      "cell_type": "code",
      "source": [
        "plt.figure(figsize=(15,10))\n",
        "sns.boxplot(data=df,x='pH_Meio_Aquoso',y='Valores_Analogicos_Sensor_pH')\n",
        "plt.title('Relação Valores medição sensor pH desenvolvido x pH meio aquoso')"
      ],
      "metadata": {
        "colab": {
          "base_uri": "https://localhost:8080/",
          "height": 639
        },
        "id": "oKhOb0Tvfbhs",
        "outputId": "32291b2c-2d4f-4c8d-aa33-c16b07d17d43"
      },
      "execution_count": 377,
      "outputs": [
        {
          "output_type": "execute_result",
          "data": {
            "text/plain": [
              "Text(0.5, 1.0, 'Relação Valores medição sensor pH desenvolvido x pH meio aquoso')"
            ]
          },
          "metadata": {},
          "execution_count": 377
        },
        {
          "output_type": "display_data",
          "data": {
            "text/plain": [
              "<Figure size 1080x720 with 1 Axes>"
            ],
            "image/png": "[encoded data removed]"
          },
          "metadata": {
            "needs_background": "light"
          }
        }
      ]
    },
    {
      "cell_type": "code",
      "source": [
        "plt.figure(figsize=(15,10))\n",
        "sns.boxplot(data=df,x='pH_Medida_Direta_Akso',y='Valores_Analogicos_Sensor_pH')\n",
        "plt.title('Relação Valores medição sensor desenvolvido x pH medição direta(akso)')"
      ],
      "metadata": {
        "colab": {
          "base_uri": "https://localhost:8080/",
          "height": 639
        },
        "id": "dqweujpmf-5m",
        "outputId": "d913af4f-a7f3-4a17-cef7-f00928127fa3"
      },
      "execution_count": 378,
      "outputs": [
        {
          "output_type": "execute_result",
          "data": {
            "text/plain": [
              "Text(0.5, 1.0, 'Relação Valores medição sensor desenvolvido x pH medição direta(akso)')"
            ]
          },
          "metadata": {},
          "execution_count": 378
        },
        {
          "output_type": "display_data",
          "data": {
            "text/plain": [
              "<Figure size 1080x720 with 1 Axes>"
            ],
            "image/png": "[encoded data removed]"
          },
          "metadata": {
            "needs_background": "light"
          }
        }
      ]
    },
    {
      "cell_type": "code",
      "source": [
        "from seaborn import jointplot\n",
        "for feature in ['pH_Meio_Aquoso', 'pH_Medida_Direta_Akso', 'Valores_Analogicos_Sensor_pH']:\n",
        "  p = jointplot(feature, \"Valores_Analogicos_Sensor_pH\", data=df, kind=\"reg\")"
      ],
      "metadata": {
        "id": "i-tCFmcmr1t6",
        "outputId": "f396101d-85b1-4647-baf7-4203edd9d924",
        "colab": {
          "base_uri": "https://localhost:8080/",
          "height": 1000
        }
      },
      "execution_count": 379,
      "outputs": [
        {
          "output_type": "display_data",
          "data": {
            "text/plain": [
              "<Figure size 432x432 with 3 Axes>"
            ],
            "image/png": "[encoded data removed]"
          },
          "metadata": {
            "needs_background": "light"
          }
        },
        {
          "output_type": "display_data",
          "data": {
            "text/plain": [
              "<Figure size 432x432 with 3 Axes>"
            ],
            "image/png": "[encoded data removed]"
          },
          "metadata": {
            "needs_background": "light"
          }
        },
        {
          "output_type": "display_data",
          "data": {
            "text/plain": [
              "<Figure size 432x432 with 3 Axes>"
            ],
            "image/png": "[encoded data removed]"
          },
          "metadata": {
            "needs_background": "light"
          }
        }
      ]
    },
    {
      "cell_type": "markdown",
      "source": [
        "#Analise da Normalidade\n",
        "Teste de Normalidade dos Dados\n",
        "\n",
        "Aplicou-se o teste Shapiro-Wilk:\n",
        "\n",
        "Ho= distribuição normal: p-value> 0.05.\n",
        "\n",
        "Ha = distribuição não normal : p-value <= 0,05"
      ],
      "metadata": {
        "id": "ZM74-dQkpO97"
      }
    },
    {
      "cell_type": "code",
      "source": [
        "import scipy.stats as stats\n",
        "import pylab\n",
        "def teste_shapiro(data):\n",
        "  shapiro_stat, shapiro_p_valor=stats.shapiro(data)\n",
        "  print('O valor da estatistica de Shapiro-Wilk =%.3f, O valor de p de Shapiro-Wilk=%.3f' % (shapiro_stat, shapiro_p_valor))\n",
        "  alpha = 0.05\n",
        "  return shapiro_p_valor > alpha\n",
        "\n",
        "for columns in list(df.keys()):\n",
        "   print(f'\\n** {columns} **')\n",
        "   nenhum_rejeita = True\n",
        "   for feature in ['pH_Meio_Aquoso', 'pH_Medida_Direta_Akso', 'Valores_Analogicos_Sensor_pH']:\n",
        "    print(f'- Métrica: {feature}')\n",
        "    if teste_shapiro(df[feature]):\n",
        "      print(f'Segue uma distribuição Normal(não rejeita H0)')\n",
        "      nenhum_rejeita = False\n",
        "    if nenhum_rejeita: print('Não segue uma distribuição Normal (rejeita H0)')\n"
      ],
      "metadata": {
        "colab": {
          "base_uri": "https://localhost:8080/"
        },
        "id": "Pvc0L0V1pUNZ",
        "outputId": "54e866bb-221c-41ab-b878-b0ae3c2d3240"
      },
      "execution_count": 380,
      "outputs": [
        {
          "output_type": "stream",
          "name": "stdout",
          "text": [
            "\n",
            "** pH_Meio_Aquoso **\n",
            "- Métrica: pH_Meio_Aquoso\n",
            "O valor da estatistica de Shapiro-Wilk =0.960, O valor de p de Shapiro-Wilk=0.014\n",
            "Não segue uma distribuição Normal (rejeita H0)\n",
            "- Métrica: pH_Medida_Direta_Akso\n",
            "O valor da estatistica de Shapiro-Wilk =0.959, O valor de p de Shapiro-Wilk=0.014\n",
            "Não segue uma distribuição Normal (rejeita H0)\n",
            "- Métrica: Valores_Analogicos_Sensor_pH\n",
            "O valor da estatistica de Shapiro-Wilk =0.983, O valor de p de Shapiro-Wilk=0.410\n",
            "Segue uma distribuição Normal(não rejeita H0)\n",
            "\n",
            "** pH_Medida_Direta_Akso **\n",
            "- Métrica: pH_Meio_Aquoso\n",
            "O valor da estatistica de Shapiro-Wilk =0.960, O valor de p de Shapiro-Wilk=0.014\n",
            "Não segue uma distribuição Normal (rejeita H0)\n",
            "- Métrica: pH_Medida_Direta_Akso\n",
            "O valor da estatistica de Shapiro-Wilk =0.959, O valor de p de Shapiro-Wilk=0.014\n",
            "Não segue uma distribuição Normal (rejeita H0)\n",
            "- Métrica: Valores_Analogicos_Sensor_pH\n",
            "O valor da estatistica de Shapiro-Wilk =0.983, O valor de p de Shapiro-Wilk=0.410\n",
            "Segue uma distribuição Normal(não rejeita H0)\n",
            "\n",
            "** Valores_Analogicos_Sensor_pH **\n",
            "- Métrica: pH_Meio_Aquoso\n",
            "O valor da estatistica de Shapiro-Wilk =0.960, O valor de p de Shapiro-Wilk=0.014\n",
            "Não segue uma distribuição Normal (rejeita H0)\n",
            "- Métrica: pH_Medida_Direta_Akso\n",
            "O valor da estatistica de Shapiro-Wilk =0.959, O valor de p de Shapiro-Wilk=0.014\n",
            "Não segue uma distribuição Normal (rejeita H0)\n",
            "- Métrica: Valores_Analogicos_Sensor_pH\n",
            "O valor da estatistica de Shapiro-Wilk =0.983, O valor de p de Shapiro-Wilk=0.410\n",
            "Segue uma distribuição Normal(não rejeita H0)\n"
          ]
        }
      ]
    },
    {
      "cell_type": "code",
      "source": [
        "valoresphmedidos =df[['pH_Meio_Aquoso', 'pH_Medida_Direta_Akso', 'Valores_Analogicos_Sensor_pH']]"
      ],
      "metadata": {
        "id": "5zNocQSg5JZX"
      },
      "execution_count": 381,
      "outputs": []
    },
    {
      "cell_type": "code",
      "source": [
        "valoresphmedidos"
      ],
      "metadata": {
        "colab": {
          "base_uri": "https://localhost:8080/",
          "height": 424
        },
        "id": "ayOfXzdp5jPY",
        "outputId": "28075d5f-b407-4dbe-a9d1-f48924350c57"
      },
      "execution_count": 382,
      "outputs": [
        {
          "output_type": "execute_result",
          "data": {
            "text/plain": [
              "    pH_Meio_Aquoso  pH_Medida_Direta_Akso  Valores_Analogicos_Sensor_pH\n",
              "0              5.1                   6.43                        711.00\n",
              "1              4.5                   5.84                        724.00\n",
              "2              7.0                   7.80                        601.00\n",
              "3              4.2                   4.41                        763.50\n",
              "4              6.1                   6.43                        645.25\n",
              "..             ...                    ...                           ...\n",
              "73             7.5                   6.73                        644.10\n",
              "74             7.0                   6.97                        609.40\n",
              "75             7.3                   7.51                        578.80\n",
              "76             6.1                   6.71                        650.50\n",
              "77             5.8                   6.96                        633.00\n",
              "\n",
              "[78 rows x 3 columns]"
            ],
            "text/html": [
              "\n",
              "  <div id=\"df-9e856759-8f50-43c5-84dd-9336018eb859\">\n",
              "    <div class=\"colab-df-container\">\n",
              "      <div>\n",
              "<style scoped>\n",
              "    .dataframe tbody tr th:only-of-type {\n",
              "        vertical-align: middle;\n",
              "    }\n",
              "\n",
              "    .dataframe tbody tr th {\n",
              "        vertical-align: top;\n",
              "    }\n",
              "\n",
              "    .dataframe thead th {\n",
              "        text-align: right;\n",
              "    }\n",
              "</style>\n",
              "<table border=\"1\" class=\"dataframe\">\n",
              "  <thead>\n",
              "    <tr style=\"text-align: right;\">\n",
              "      <th></th>\n",
              "      <th>pH_Meio_Aquoso</th>\n",
              "      <th>pH_Medida_Direta_Akso</th>\n",
              "      <th>Valores_Analogicos_Sensor_pH</th>\n",
              "    </tr>\n",
              "  </thead>\n",
              "  <tbody>\n",
              "    <tr>\n",
              "      <th>0</th>\n",
              "      <td>5.1</td>\n",
              "      <td>6.43</td>\n",
              "      <td>711.00</td>\n",
              "    </tr>\n",
              "    <tr>\n",
              "      <th>1</th>\n",
              "      <td>4.5</td>\n",
              "      <td>5.84</td>\n",
              "      <td>724.00</td>\n",
              "    </tr>\n",
              "    <tr>\n",
              "      <th>2</th>\n",
              "      <td>7.0</td>\n",
              "      <td>7.80</td>\n",
              "      <td>601.00</td>\n",
              "    </tr>\n",
              "    <tr>\n",
              "      <th>3</th>\n",
              "      <td>4.2</td>\n",
              "      <td>4.41</td>\n",
              "      <td>763.50</td>\n",
              "    </tr>\n",
              "    <tr>\n",
              "      <th>4</th>\n",
              "      <td>6.1</td>\n",
              "      <td>6.43</td>\n",
              "      <td>645.25</td>\n",
              "    </tr>\n",
              "    <tr>\n",
              "      <th>...</th>\n",
              "      <td>...</td>\n",
              "      <td>...</td>\n",
              "      <td>...</td>\n",
              "    </tr>\n",
              "    <tr>\n",
              "      <th>73</th>\n",
              "      <td>7.5</td>\n",
              "      <td>6.73</td>\n",
              "      <td>644.10</td>\n",
              "    </tr>\n",
              "    <tr>\n",
              "      <th>74</th>\n",
              "      <td>7.0</td>\n",
              "      <td>6.97</td>\n",
              "      <td>609.40</td>\n",
              "    </tr>\n",
              "    <tr>\n",
              "      <th>75</th>\n",
              "      <td>7.3</td>\n",
              "      <td>7.51</td>\n",
              "      <td>578.80</td>\n",
              "    </tr>\n",
              "    <tr>\n",
              "      <th>76</th>\n",
              "      <td>6.1</td>\n",
              "      <td>6.71</td>\n",
              "      <td>650.50</td>\n",
              "    </tr>\n",
              "    <tr>\n",
              "      <th>77</th>\n",
              "      <td>5.8</td>\n",
              "      <td>6.96</td>\n",
              "      <td>633.00</td>\n",
              "    </tr>\n",
              "  </tbody>\n",
              "</table>\n",
              "<p>78 rows × 3 columns</p>\n",
              "</div>\n",
              "      <button class=\"colab-df-convert\" onclick=\"convertToInteractive('df-9e856759-8f50-43c5-84dd-9336018eb859')\"\n",
              "              title=\"Convert this dataframe to an interactive table.\"\n",
              "              style=\"display:none;\">\n",
              "        \n",
              "  <svg xmlns=\"http://www.w3.org/2000/svg\" height=\"24px\"viewBox=\"0 0 24 24\"\n",
              "       width=\"24px\">\n",
              "    <path d=\"M0 0h24v24H0V0z\" fill=\"none\"/>\n",
              "    <path d=\"M18.56 5.44l.94 2.06.94-2.06 2.06-.94-2.06-.94-.94-2.06-.94 2.06-2.06.94zm-11 1L8.5 8.5l.94-2.06 2.06-.94-2.06-.94L8.5 2.5l-.94 2.06-2.06.94zm10 10l.94 2.06.94-2.06 2.06-.94-2.06-.94-.94-2.06-.94 2.06-2.06.94z\"/><path d=\"M17.41 7.96l-1.37-1.37c-.4-.4-.92-.59-1.43-.59-.52 0-1.04.2-1.43.59L10.3 9.45l-7.72 7.72c-.78.78-.78 2.05 0 2.83L4 21.41c.39.39.9.59 1.41.59.51 0 1.02-.2 1.41-.59l7.78-7.78 2.81-2.81c.8-.78.8-2.07 0-2.86zM5.41 20L4 18.59l7.72-7.72 1.47 1.35L5.41 20z\"/>\n",
              "  </svg>\n",
              "      </button>\n",
              "      \n",
              "  <style>\n",
              "    .colab-df-container {\n",
              "      display:flex;\n",
              "      flex-wrap:wrap;\n",
              "      gap: 12px;\n",
              "    }\n",
              "\n",
              "    .colab-df-convert {\n",
              "      background-color: #E8F0FE;\n",
              "      border: none;\n",
              "      border-radius: 50%;\n",
              "      cursor: pointer;\n",
              "      display: none;\n",
              "      fill: #1967D2;\n",
              "      height: 32px;\n",
              "      padding: 0 0 0 0;\n",
              "      width: 32px;\n",
              "    }\n",
              "\n",
              "    .colab-df-convert:hover {\n",
              "      background-color: #E2EBFA;\n",
              "      box-shadow: 0px 1px 2px rgba(60, 64, 67, 0.3), 0px 1px 3px 1px rgba(60, 64, 67, 0.15);\n",
              "      fill: #174EA6;\n",
              "    }\n",
              "\n",
              "    [theme=dark] .colab-df-convert {\n",
              "      background-color: #3B4455;\n",
              "      fill: #D2E3FC;\n",
              "    }\n",
              "\n",
              "    [theme=dark] .colab-df-convert:hover {\n",
              "      background-color: #434B5C;\n",
              "      box-shadow: 0px 1px 3px 1px rgba(0, 0, 0, 0.15);\n",
              "      filter: drop-shadow(0px 1px 2px rgba(0, 0, 0, 0.3));\n",
              "      fill: #FFFFFF;\n",
              "    }\n",
              "  </style>\n",
              "\n",
              "      <script>\n",
              "        const buttonEl =\n",
              "          document.querySelector('#df-9e856759-8f50-43c5-84dd-9336018eb859 button.colab-df-convert');\n",
              "        buttonEl.style.display =\n",
              "          google.colab.kernel.accessAllowed ? 'block' : 'none';\n",
              "\n",
              "        async function convertToInteractive(key) {\n",
              "          const element = document.querySelector('#df-9e856759-8f50-43c5-84dd-9336018eb859');\n",
              "          const dataTable =\n",
              "            await google.colab.kernel.invokeFunction('convertToInteractive',\n",
              "                                                     [key], {});\n",
              "          if (!dataTable) return;\n",
              "\n",
              "          const docLinkHtml = 'Like what you see? Visit the ' +\n",
              "            '<a target=\"_blank\" href=https://colab.research.google.com/notebooks/data_table.ipynb>data table notebook</a>'\n",
              "            + ' to learn more about interactive tables.';\n",
              "          element.innerHTML = '';\n",
              "          dataTable['output_type'] = 'display_data';\n",
              "          await google.colab.output.renderOutput(dataTable, element);\n",
              "          const docLink = document.createElement('div');\n",
              "          docLink.innerHTML = docLinkHtml;\n",
              "          element.appendChild(docLink);\n",
              "        }\n",
              "      </script>\n",
              "    </div>\n",
              "  </div>\n",
              "  "
            ]
          },
          "metadata": {},
          "execution_count": 382
        }
      ]
    },
    {
      "cell_type": "code",
      "source": [
        "#pH medição meio aquoso\n",
        "stats.shapiro(valoresphmedidos.pH_Meio_Aquoso)"
      ],
      "metadata": {
        "colab": {
          "base_uri": "https://localhost:8080/"
        },
        "id": "XSAGf3Y532DQ",
        "outputId": "f05e439d-6c24-423a-eabf-d966302e23c5"
      },
      "execution_count": 383,
      "outputs": [
        {
          "output_type": "execute_result",
          "data": {
            "text/plain": [
              "(0.9595735669136047, 0.014347684569656849)"
            ]
          },
          "metadata": {},
          "execution_count": 383
        }
      ]
    },
    {
      "cell_type": "markdown",
      "source": [
        "p < 0.05 então nao segue distribuição normal"
      ],
      "metadata": {
        "id": "DvAJS_b89eff"
      }
    },
    {
      "cell_type": "code",
      "source": [
        "#pH medição direta no solo(akso)\n",
        "stats.shapiro(valoresphmedidos.pH_Medida_Direta_Akso)"
      ],
      "metadata": {
        "colab": {
          "base_uri": "https://localhost:8080/"
        },
        "id": "PP_cwXx18zcd",
        "outputId": "6e17eb74-5385-44a7-8028-0b89599006e9"
      },
      "execution_count": 384,
      "outputs": [
        {
          "output_type": "execute_result",
          "data": {
            "text/plain": [
              "(0.9591991901397705, 0.013628555461764336)"
            ]
          },
          "metadata": {},
          "execution_count": 384
        }
      ]
    },
    {
      "cell_type": "markdown",
      "source": [
        "p < 0.05 então nao segue distribuição normal"
      ],
      "metadata": {
        "id": "-byEI3zI9zIQ"
      }
    },
    {
      "cell_type": "code",
      "source": [
        "#valores analogicos sensor de pH\n",
        "stats.shapiro(valoresphmedidos.Valores_Analogicos_Sensor_pH)"
      ],
      "metadata": {
        "colab": {
          "base_uri": "https://localhost:8080/"
        },
        "id": "vwobA9YL86t4",
        "outputId": "3b3486c8-c4fb-49a1-cae0-b440fe871431"
      },
      "execution_count": 385,
      "outputs": [
        {
          "output_type": "execute_result",
          "data": {
            "text/plain": [
              "(0.9834951162338257, 0.4099825322628021)"
            ]
          },
          "metadata": {},
          "execution_count": 385
        }
      ]
    },
    {
      "cell_type": "markdown",
      "source": [
        "p > 0.05 então segue distribuição normal"
      ],
      "metadata": {
        "id": "0T25aQ8W900Z"
      }
    },
    {
      "cell_type": "code",
      "source": [
        "for feature in ['pH_Meio_Aquoso', 'pH_Medida_Direta_Akso', 'Valores_Analogicos_Sensor_pH']:\n",
        "    stats.probplot(df[feature], dist=\"norm\", plot=pylab)\n",
        "    print(f'- Variável Correspondente: {feature}')\n",
        "    pylab.title(\"Normal Q-Q Plot\")\n",
        "    pylab.legend(['Dados','Dist.Normal'],loc='upper left')\n",
        "    pylab.show()"
      ],
      "metadata": {
        "colab": {
          "base_uri": "https://localhost:8080/",
          "height": 1000
        },
        "id": "slM7VQcQqLqa",
        "outputId": "a4babd9e-b721-4015-da76-c0523beb29cf"
      },
      "execution_count": 386,
      "outputs": [
        {
          "output_type": "stream",
          "name": "stdout",
          "text": [
            "- Variável Correspondente: pH_Meio_Aquoso\n"
          ]
        },
        {
          "output_type": "display_data",
          "data": {
            "text/plain": [
              "<Figure size 1058.4x595.44 with 1 Axes>"
            ],
            "image/png": "[encoded data removed]"
          },
          "metadata": {
            "needs_background": "light"
          }
        },
        {
          "output_type": "stream",
          "name": "stdout",
          "text": [
            "- Variável Correspondente: pH_Medida_Direta_Akso\n"
          ]
        },
        {
          "output_type": "display_data",
          "data": {
            "text/plain": [
              "<Figure size 1058.4x595.44 with 1 Axes>"
            ],
            "image/png": "[encoded data removed]"
          },
          "metadata": {
            "needs_background": "light"
          }
        },
        {
          "output_type": "stream",
          "name": "stdout",
          "text": [
            "- Variável Correspondente: Valores_Analogicos_Sensor_pH\n"
          ]
        },
        {
          "output_type": "display_data",
          "data": {
            "text/plain": [
              "<Figure size 1058.4x595.44 with 1 Axes>"
            ],
            "image/png": "[encoded data removed]"
          },
          "metadata": {
            "needs_background": "light"
          }
        }
      ]
    },
    {
      "cell_type": "markdown",
      "source": [
        "#Correlação de Pearson\n",
        "coeficiente de Pearson é a medida estatística mais usada para obter a associação entre duas variáveis linearmente relacionadas"
      ],
      "metadata": {
        "id": "JNLi7wm9DAMD"
      }
    },
    {
      "cell_type": "code",
      "source": [
        "correlation = df.corr()\n"
      ],
      "metadata": {
        "id": "tIXQbvNt11MH"
      },
      "execution_count": 387,
      "outputs": []
    },
    {
      "cell_type": "code",
      "source": [
        "# plot da matriz de correlação\n",
        "import seaborn as sn\n",
        "plot = sn.heatmap(correlation, annot = True, fmt=\".1f\", linewidths=.6)\n",
        "plot"
      ],
      "metadata": {
        "colab": {
          "base_uri": "https://localhost:8080/",
          "height": 519
        },
        "id": "z3r_JjVv4rJ1",
        "outputId": "39d39aa3-21e9-4737-d026-7559d676d1e3"
      },
      "execution_count": 388,
      "outputs": [
        {
          "output_type": "execute_result",
          "data": {
            "text/plain": [
              "<matplotlib.axes._subplots.AxesSubplot at 0x7f225f3ea690>"
            ]
          },
          "metadata": {},
          "execution_count": 388
        },
        {
          "output_type": "display_data",
          "data": {
            "text/plain": [
              "<Figure size 1058.4x595.44 with 2 Axes>"
            ],
            "image/png": "[encoded data removed]"
          },
          "metadata": {
            "needs_background": "light"
          }
        }
      ]
    },
    {
      "cell_type": "markdown",
      "source": [
        "**Correlação entre pH(medição meio aquoso) x Valores analogicos do sensor**"
      ],
      "metadata": {
        "id": "4_2gijY68icR"
      }
    },
    {
      "cell_type": "code",
      "source": [
        "df.plot.scatter(x='pH_Meio_Aquoso',y='Valores_Analogicos_Sensor_pH');\n",
        "\n"
      ],
      "metadata": {
        "colab": {
          "base_uri": "https://localhost:8080/",
          "height": 512
        },
        "id": "nJ5D80m28CqC",
        "outputId": "7b89d19e-ea51-4147-ae37-0228b28d310d"
      },
      "execution_count": 389,
      "outputs": [
        {
          "output_type": "display_data",
          "data": {
            "text/plain": [
              "<Figure size 1058.4x595.44 with 1 Axes>"
            ],
            "image/png": "[encoded data removed]"
          },
          "metadata": {
            "needs_background": "light"
          }
        }
      ]
    },
    {
      "cell_type": "code",
      "source": [
        "import pandas as pd\n",
        "from scipy.stats import pearsonr\n",
        "import numpy as np\n"
      ],
      "metadata": {
        "id": "EmbSeFin9SPt"
      },
      "execution_count": 390,
      "outputs": []
    },
    {
      "cell_type": "code",
      "source": [
        "#Calculando o teste de correlação de Pearson entre pH meio aquoso x Valores analogicos do sensor \n",
        "corr = np.corrcoef(df['pH_Meio_Aquoso'], df['Valores_Analogicos_Sensor_pH'])\n",
        "print(corr)\n"
      ],
      "metadata": {
        "colab": {
          "base_uri": "https://localhost:8080/"
        },
        "id": "eY2U0s4S6St2",
        "outputId": "654efc21-f84d-41ba-96c4-a3b0bf66e11f"
      },
      "execution_count": 391,
      "outputs": [
        {
          "output_type": "stream",
          "name": "stdout",
          "text": [
            "[[ 1.         -0.91352823]\n",
            " [-0.91352823  1.        ]]\n"
          ]
        }
      ]
    },
    {
      "cell_type": "markdown",
      "source": [
        "#correlação pH medição direta no solo x valores analogicos do sensor desenvolvido"
      ],
      "metadata": {
        "id": "59dP0dImE17J"
      }
    },
    {
      "cell_type": "code",
      "source": [
        "df.plot.scatter(x='pH_Medida_Direta_Akso',y='Valores_Analogicos_Sensor_pH');\n"
      ],
      "metadata": {
        "colab": {
          "base_uri": "https://localhost:8080/",
          "height": 512
        },
        "id": "U9CiMYEdBeeZ",
        "outputId": "f14bcafc-dca1-4750-966f-9d005a5c718f"
      },
      "execution_count": 392,
      "outputs": [
        {
          "output_type": "display_data",
          "data": {
            "text/plain": [
              "<Figure size 1058.4x595.44 with 1 Axes>"
            ],
            "image/png": "[encoded data removed]"
          },
          "metadata": {
            "needs_background": "light"
          }
        }
      ]
    },
    {
      "cell_type": "code",
      "source": [
        "#Calculando o teste de correlação de Pearson entre pH medição direta x Valores analogicos do sensor \n",
        "corr = np.corrcoef(df['pH_Medida_Direta_Akso'], df['Valores_Analogicos_Sensor_pH'])\n",
        "print(corr)\n"
      ],
      "metadata": {
        "colab": {
          "base_uri": "https://localhost:8080/"
        },
        "id": "H4bsK-rjBCFJ",
        "outputId": "8edaeb69-607b-4250-e787-ebd1ccdde49b"
      },
      "execution_count": 393,
      "outputs": [
        {
          "output_type": "stream",
          "name": "stdout",
          "text": [
            "[[ 1.         -0.91148251]\n",
            " [-0.91148251  1.        ]]\n"
          ]
        }
      ]
    },
    {
      "cell_type": "markdown",
      "source": [
        "#correlação pH medição direta no solo x pH meio aquoso"
      ],
      "metadata": {
        "id": "fJwA0UcyFWy-"
      }
    },
    {
      "cell_type": "code",
      "source": [
        "df.plot.scatter(x='pH_Medida_Direta_Akso',y='pH_Meio_Aquoso');\n"
      ],
      "metadata": {
        "colab": {
          "base_uri": "https://localhost:8080/",
          "height": 513
        },
        "id": "q6dD7dGYBtCh",
        "outputId": "fbfca2ba-ceea-4439-a34b-b0e3953e677e"
      },
      "execution_count": 394,
      "outputs": [
        {
          "output_type": "display_data",
          "data": {
            "text/plain": [
              "<Figure size 1058.4x595.44 with 1 Axes>"
            ],
            "image/png": "[encoded data removed]"
          },
          "metadata": {
            "needs_background": "light"
          }
        }
      ]
    },
    {
      "cell_type": "code",
      "source": [
        "#Calculando o teste de correlação de Pearson entre pH medição direta x pH medição em meio aquoso \n",
        "corr = np.corrcoef(df['pH_Medida_Direta_Akso'], df['pH_Meio_Aquoso'])\n",
        "print(corr)"
      ],
      "metadata": {
        "colab": {
          "base_uri": "https://localhost:8080/"
        },
        "id": "VbaIUFMKB3pw",
        "outputId": "800e914c-23d7-42c5-c642-5cca356514cc"
      },
      "execution_count": 395,
      "outputs": [
        {
          "output_type": "stream",
          "name": "stdout",
          "text": [
            "[[1.         0.93749018]\n",
            " [0.93749018 1.        ]]\n"
          ]
        }
      ]
    },
    {
      "cell_type": "markdown",
      "source": [
        "#Correlação Spearman \n",
        "correlação de Spearman avalia a relação monótona (linear e não linear) entre duas variáveis.\n",
        "Teste não paramétrico.\n",
        "mede relação de força entre duas variáveis.\n"
      ],
      "metadata": {
        "id": "eOAXf0wIC2Mv"
      }
    },
    {
      "cell_type": "code",
      "source": [
        "my_r = df.corr(method=\"spearman\")\n",
        "print(my_r)"
      ],
      "metadata": {
        "colab": {
          "base_uri": "https://localhost:8080/"
        },
        "id": "N8sMOZJCCG0f",
        "outputId": "99d6e3d1-90ca-4163-ad27-312dfae0e4a6"
      },
      "execution_count": 396,
      "outputs": [
        {
          "output_type": "stream",
          "name": "stdout",
          "text": [
            "                              pH_Meio_Aquoso  pH_Medida_Direta_Akso  \\\n",
            "pH_Meio_Aquoso                      1.000000               0.929007   \n",
            "pH_Medida_Direta_Akso               0.929007               1.000000   \n",
            "Valores_Analogicos_Sensor_pH       -0.910509              -0.925010   \n",
            "\n",
            "                              Valores_Analogicos_Sensor_pH  \n",
            "pH_Meio_Aquoso                                   -0.910509  \n",
            "pH_Medida_Direta_Akso                            -0.925010  \n",
            "Valores_Analogicos_Sensor_pH                      1.000000  \n"
          ]
        }
      ]
    },
    {
      "cell_type": "code",
      "source": [
        "def display_correlation(discorr):\n",
        "    r = discorr.corr(method=\"spearman\")\n",
        "    plt.figure(figsize=(10,6))\n",
        "    heatmap = sns.heatmap(discorr.corr(), vmin=-1, \n",
        "                      vmax=1, annot=True)\n",
        "    plt.title(\"Spearman Correlation\")\n",
        "    return(r)"
      ],
      "metadata": {
        "id": "pHbQsZ6QGUuO"
      },
      "execution_count": 397,
      "outputs": []
    },
    {
      "cell_type": "code",
      "source": [
        "import numpy as np\n",
        "import pandas as pd\n",
        "import seaborn as sns # For pairplots and heatmaps\n",
        "import matplotlib.pyplot as plt\n"
      ],
      "metadata": {
        "id": "HdK3THejHXL4"
      },
      "execution_count": 398,
      "outputs": []
    },
    {
      "cell_type": "code",
      "source": [
        "r_simple=display_correlation(df)"
      ],
      "metadata": {
        "colab": {
          "base_uri": "https://localhost:8080/",
          "height": 391
        },
        "id": "yq2dT2TEGzPe",
        "outputId": "c6f7243b-1c32-43be-e354-18ea717b1d15"
      },
      "execution_count": 399,
      "outputs": [
        {
          "output_type": "display_data",
          "data": {
            "text/plain": [
              "<Figure size 720x432 with 2 Axes>"
            ],
            "image/png": "[encoded data removed]"
          },
          "metadata": {
            "needs_background": "light"
          }
        }
      ]
    },
    {
      "cell_type": "markdown",
      "source": [
        "#Correlação de Kendall\n",
        "mede a associação ordinal entre duas variáveis(não paramétrica)\n",
        "Teste não paramétrico usado para numero pequeno de amostras ou populações grandes com grandes quantidades de empates(valores repetidos).\n"
      ],
      "metadata": {
        "id": "23L5rUWyH9og"
      }
    },
    {
      "cell_type": "code",
      "source": [
        "import pandas as pd\n",
        "from pylab import rcParams\n",
        "import seaborn as sb\n",
        "from scipy.stats.stats import kendalltau\n"
      ],
      "metadata": {
        "id": "UWDKJuhtHjZU"
      },
      "execution_count": 400,
      "outputs": []
    },
    {
      "cell_type": "code",
      "source": [
        "corr = df.corr(method='kendall')"
      ],
      "metadata": {
        "id": "34_KVvB0JJWQ"
      },
      "execution_count": 401,
      "outputs": []
    },
    {
      "cell_type": "code",
      "source": [
        "rcParams['figure.figsize'] = 14.7,8.27\n",
        "sb.heatmap(corr, \n",
        "           xticklabels=corr.columns.values, \n",
        "           yticklabels=corr.columns.values, \n",
        "           cmap=\"YlGnBu\",\n",
        "          annot=True)"
      ],
      "metadata": {
        "colab": {
          "base_uri": "https://localhost:8080/",
          "height": 519
        },
        "id": "t2tcIwoKJMuY",
        "outputId": "a9bda5e1-79d8-44d1-84bf-74477059ff76"
      },
      "execution_count": 402,
      "outputs": [
        {
          "output_type": "execute_result",
          "data": {
            "text/plain": [
              "<matplotlib.axes._subplots.AxesSubplot at 0x7f2260117190>"
            ]
          },
          "metadata": {},
          "execution_count": 402
        },
        {
          "output_type": "display_data",
          "data": {
            "text/plain": [
              "<Figure size 1058.4x595.44 with 2 Axes>"
            ],
            "image/png": "[encoded data removed]"
          },
          "metadata": {
            "needs_background": "light"
          }
        }
      ]
    },
    {
      "cell_type": "markdown",
      "source": [
        "#Remoção de valores atípicos\n",
        "trata os outliers que detectamos usando o Boxplot\n",
        "Usando IQR, podemos seguir a abordagem abaixo para substituir os valores discrepantes por um valor NULL:\n",
        "\n",
        "Calcule o primeiro e o terceiro quartil (Q1 e Q3).\n",
        "\n",
        "Além disso, avalie o intervalo interquartil, IQR = Q3-Q1.\n",
        "\n",
        "Estime o limite inferior, o limite inferior = Q1*1,5.\n",
        "Estime o limite superior, limite superior = Q3*1,5.\n",
        "\n",
        "Substitua os pontos de dados que estão fora do limite inferior e superior por um valor NULL."
      ],
      "metadata": {
        "id": "i6B2gzMCMjMY"
      }
    },
    {
      "cell_type": "code",
      "source": [
        "for x in ['Valores_Analogicos_Sensor_pH']:\n",
        "    q75,q25 = np.percentile(df.loc[:,x],[75,25])\n",
        "    intr_qr = q75-q25\n",
        " \n",
        "    max = q75+(1.5*intr_qr)\n",
        "    min = q25-(1.5*intr_qr)\n",
        " \n",
        "    df.loc[df[x] < min,x] = np.nan\n",
        "    df.loc[df[x] > max,x] = np.nan\n",
        "    \n",
        "\n",
        "    "
      ],
      "metadata": {
        "id": "ntdSCTCpoXR2"
      },
      "execution_count": 403,
      "outputs": []
    },
    {
      "cell_type": "markdown",
      "source": [
        "Assim, usamos numpy.percentile() methodpara calcular os valores de Q1 e Q3. Além disso, substituímos os valores discrepantes por numpy.nanvalores NULL.\n",
        "\n",
        "Tendo substituído os outliers por nan, vamos agora verificar a soma dos valores nulos ou valores ausentes usando o código abaixo:"
      ],
      "metadata": {
        "id": "dr7A4YdYofoq"
      }
    },
    {
      "cell_type": "code",
      "source": [
        "df.isnull().sum()"
      ],
      "metadata": {
        "id": "W-BCYiKTogpM",
        "colab": {
          "base_uri": "https://localhost:8080/"
        },
        "outputId": "5fac07ef-622e-463b-cf2a-400ed0541865"
      },
      "execution_count": 404,
      "outputs": [
        {
          "output_type": "execute_result",
          "data": {
            "text/plain": [
              "pH_Meio_Aquoso                  0\n",
              "pH_Medida_Direta_Akso           0\n",
              "Valores_Analogicos_Sensor_pH    1\n",
              "dtype: int64"
            ]
          },
          "metadata": {},
          "execution_count": 404
        }
      ]
    },
    {
      "cell_type": "code",
      "source": [
        "#descarte de outleires\n",
        "df = df.dropna(axis = 0)"
      ],
      "metadata": {
        "id": "rJWV_l4wowfH"
      },
      "execution_count": 405,
      "outputs": []
    },
    {
      "cell_type": "code",
      "source": [
        "df.isnull().sum()"
      ],
      "metadata": {
        "id": "mi9H6Yhdo1wS",
        "colab": {
          "base_uri": "https://localhost:8080/"
        },
        "outputId": "cf79edd2-4abb-4684-9ae3-bb77888818af"
      },
      "execution_count": 406,
      "outputs": [
        {
          "output_type": "execute_result",
          "data": {
            "text/plain": [
              "pH_Meio_Aquoso                  0\n",
              "pH_Medida_Direta_Akso           0\n",
              "Valores_Analogicos_Sensor_pH    0\n",
              "dtype: int64"
            ]
          },
          "metadata": {},
          "execution_count": 406
        }
      ]
    },
    {
      "cell_type": "markdown",
      "source": [
        "#Regressão Linear"
      ],
      "metadata": {
        "id": "0ccFORpXFXnl"
      }
    },
    {
      "cell_type": "markdown",
      "source": [
        "##pH meio aquoso x valores analogicos sensor pH"
      ],
      "metadata": {
        "id": "QOfD5VP24H7e"
      }
    },
    {
      "cell_type": "markdown",
      "source": [
        "\n",
        "**Regressão Linear com Anova**\n",
        "\n",
        " teste entre pH meio aquoso e Valores analogicos sensor de pH\n",
        "\n",
        "H0 -> Não há nenhuma associação entre o termo e a resposta (pH_Meio_Aquoso).\n",
        "\n",
        "H1 -> Há uma associação entre o termo e a resposta (pH_Meio_Aquoso).\n",
        "\n",
        "Valor-p ≤ α: a associação é estatisticamente significativa Se o valor-p for menor ou igual ao nível de significância, é possível concluir que há uma associação estatisticamente significativa entre a variável de resposta e o termo.\n",
        "\n",
        "Valor-p > α: a associação não é estatisticamente significativa Se o valor-p for maior ou igual ao nível de significância, não é possível concluir que há uma associação estatisticamente significativa entre a variável de resposta e o termo. Talvez seja necessário reajustar o modelo sem o termo."
      ],
      "metadata": {
        "id": "QY3C1ZD4QQJF"
      }
    },
    {
      "cell_type": "code",
      "source": [
        "#Regressão Linear com Anova\n",
        "import statsmodels.api as sm\n",
        "from statsmodels.formula.api import ols\n",
        "regressao1 = ols('pH_Meio_Aquoso~Valores_Analogicos_Sensor_pH', data=df).fit() #relação da variável de entrada e verificar sua influência sobre a variável de destino. \n",
        "anova_table = sm.stats.anova_lm(regressao1, typ=2)#aplicou anova no modelo\n",
        "print(anova_table)"
      ],
      "metadata": {
        "colab": {
          "base_uri": "https://localhost:8080/"
        },
        "id": "8xmfW-XdAlwl",
        "outputId": "76cd6766-1ef6-4128-f397-eb68864b037b"
      },
      "execution_count": 407,
      "outputs": [
        {
          "output_type": "stream",
          "name": "stdout",
          "text": [
            "                                 sum_sq    df           F        PR(>F)\n",
            "Valores_Analogicos_Sensor_pH  82.780437   1.0  385.422198  2.798457e-31\n",
            "Residual                      16.108394  75.0         NaN           NaN\n"
          ]
        }
      ]
    },
    {
      "cell_type": "code",
      "source": [
        "print(f\"Overall model F({regressao1.df_model: .0f},{regressao1.df_resid: .0f}) = {regressao1.fvalue: .3f}, p = {regressao1.f_pvalue: .4f}\")\n",
        "print(regressao1.summary())"
      ],
      "metadata": {
        "colab": {
          "base_uri": "https://localhost:8080/"
        },
        "id": "eUwnVW3lA2tx",
        "outputId": "22ff30d6-6a42-49b0-c44d-59884b2c6086"
      },
      "execution_count": 408,
      "outputs": [
        {
          "output_type": "stream",
          "name": "stdout",
          "text": [
            "Overall model F( 1, 75) =  385.422, p =  0.0000\n",
            "                            OLS Regression Results                            \n",
            "==============================================================================\n",
            "Dep. Variable:         pH_Meio_Aquoso   R-squared:                       0.837\n",
            "Model:                            OLS   Adj. R-squared:                  0.835\n",
            "Method:                 Least Squares   F-statistic:                     385.4\n",
            "Date:                Fri, 15 Apr 2022   Prob (F-statistic):           2.80e-31\n",
            "Time:                        04:12:27   Log-Likelihood:                -49.026\n",
            "No. Observations:                  77   AIC:                             102.1\n",
            "Df Residuals:                      75   BIC:                             106.7\n",
            "Df Model:                           1                                         \n",
            "Covariance Type:            nonrobust                                         \n",
            "================================================================================================\n",
            "                                   coef    std err          t      P>|t|      [0.025      0.975]\n",
            "------------------------------------------------------------------------------------------------\n",
            "Intercept                       17.7256      0.586     30.247      0.000      16.558      18.893\n",
            "Valores_Analogicos_Sensor_pH    -0.0176      0.001    -19.632      0.000      -0.019      -0.016\n",
            "==============================================================================\n",
            "Omnibus:                        2.650   Durbin-Watson:                   1.881\n",
            "Prob(Omnibus):                  0.266   Jarque-Bera (JB):                2.041\n",
            "Skew:                           0.385   Prob(JB):                        0.360\n",
            "Kurtosis:                       3.211   Cond. No.                     7.25e+03\n",
            "==============================================================================\n",
            "\n",
            "Warnings:\n",
            "[1] Standard Errors assume that the covariance matrix of the errors is correctly specified.\n",
            "[2] The condition number is large, 7.25e+03. This might indicate that there are\n",
            "strong multicollinearity or other numerical problems.\n"
          ]
        }
      ]
    },
    {
      "cell_type": "markdown",
      "source": [
        "**Validação do Modelo de Regressão Linear com Anova**\n",
        "\n",
        "**Analise dos Residuos**"
      ],
      "metadata": {
        "id": "V_TYA3LwTVC4"
      }
    },
    {
      "cell_type": "code",
      "source": [
        "# listagem de residuos(distancia que o ponto está da reta)\n",
        "residuos = regressao1.resid\n",
        "residuos"
      ],
      "metadata": {
        "colab": {
          "base_uri": "https://localhost:8080/"
        },
        "id": "LXS1ygeXTQ3F",
        "outputId": "2fcd1200-144d-4484-dd04-deb535c4f851"
      },
      "execution_count": 409,
      "outputs": [
        {
          "output_type": "execute_result",
          "data": {
            "text/plain": [
              "0    -0.103450\n",
              "1    -0.474494\n",
              "2    -0.140774\n",
              "3    -0.078818\n",
              "4    -0.261441\n",
              "        ...   \n",
              "73    1.118305\n",
              "74    0.007167\n",
              "75   -0.231761\n",
              "76   -0.168978\n",
              "77   -0.777189\n",
              "Length: 77, dtype: float64"
            ]
          },
          "metadata": {},
          "execution_count": 409
        }
      ]
    },
    {
      "cell_type": "markdown",
      "source": [
        "**Teste de normalidade dos resíduos** \n",
        "\n",
        "H0 = distribuição normal: p>0.05\n",
        "\n",
        "Ha = distribuição não normal: p<=0.05"
      ],
      "metadata": {
        "id": "KSCF2sPO1Owh"
      }
    },
    {
      "cell_type": "code",
      "source": [
        "estatistica, p= stats.shapiro(residuos)\n",
        "print('Estatística de Teste: {}' .format(estatistica))\n",
        "print('p-valor: {}'.format(p))\n"
      ],
      "metadata": {
        "colab": {
          "base_uri": "https://localhost:8080/"
        },
        "id": "mmPg5EiVxZGU",
        "outputId": "2bb14ecc-a9ce-4fa9-ef66-b5aa77288b89"
      },
      "execution_count": 410,
      "outputs": [
        {
          "output_type": "stream",
          "name": "stdout",
          "text": [
            "Estatística de Teste: 0.9745129346847534\n",
            "p-valor: 0.12417738884687424\n"
          ]
        }
      ]
    },
    {
      "cell_type": "code",
      "source": [
        "#Q-Q plot\n",
        "stats.probplot(residuos, dist='norm', plot=plt)\n",
        "plt.title('Normal Q-Q Plot - Resíduos')\n",
        "plt.show()"
      ],
      "metadata": {
        "colab": {
          "base_uri": "https://localhost:8080/",
          "height": 527
        },
        "id": "uYXfvVPm2jFu",
        "outputId": "1d663022-4b54-49d3-f25c-37cbc7a8ce1d"
      },
      "execution_count": 411,
      "outputs": [
        {
          "output_type": "display_data",
          "data": {
            "text/plain": [
              "<Figure size 1058.4x595.44 with 1 Axes>"
            ],
            "image/png": "[encoded data removed]"
          },
          "metadata": {
            "needs_background": "light"
          }
        }
      ]
    },
    {
      "cell_type": "markdown",
      "source": [
        "**Analise de Homocedasticidade dos resíduos** \n",
        "\n",
        "Saber se os resíduos são homogeneos"
      ],
      "metadata": {
        "id": "L_dhD6Vi4Tn5"
      }
    },
    {
      "cell_type": "code",
      "source": [
        "plt.scatter(y=residuos ,x=regressao1.predict(), color='red')\n",
        "plt.hlines(y=0, xmin=3, xmax=9, color='orange')\n",
        "plt.ylabel('Resíduos')\n",
        "plt.xlabel('Valores Preditos')\n",
        "plt.show()"
      ],
      "metadata": {
        "colab": {
          "base_uri": "https://localhost:8080/",
          "height": 511
        },
        "id": "2eR2EpKd4RWI",
        "outputId": "e4bc7e27-ae54-40e4-e0ab-21273ab54390"
      },
      "execution_count": 412,
      "outputs": [
        {
          "output_type": "display_data",
          "data": {
            "text/plain": [
              "<Figure size 1058.4x595.44 with 1 Axes>"
            ],
            "image/png": "[encoded data removed]"
          },
          "metadata": {
            "needs_background": "light"
          }
        }
      ]
    },
    {
      "cell_type": "markdown",
      "source": [
        "Teste Breusch-Pagan(Homocedastiscidade ou Heterocedastiscidade)\n",
        "\n",
        "Ho = Existe Homocedastiscidade: p> 0.05\n",
        "Ha = Não existe Homocedastiscidade: p<= 0.05"
      ],
      "metadata": {
        "id": "U1BNZH8q7AXW"
      }
    },
    {
      "cell_type": "code",
      "source": [
        "from statsmodels.compat import lzip\n",
        "import statsmodels.stats.api as sms"
      ],
      "metadata": {
        "id": "Wb4Mrx_n63_p"
      },
      "execution_count": 413,
      "outputs": []
    },
    {
      "cell_type": "code",
      "source": [
        "estatistica, p, f, fp=sms.het_breuschpagan(regressao1.resid, regressao1.model.exog)\n",
        "print('Estatistica do teste: {}' .format(estatistica))\n",
        "print('p-valor: {}' .format(p))\n",
        "print('f-valor: {}' .format(f))\n",
        "print('f_p-valor: {}' .format(fp))"
      ],
      "metadata": {
        "colab": {
          "base_uri": "https://localhost:8080/"
        },
        "id": "PnXjhqH-8Axf",
        "outputId": "35cfa217-7803-4a7e-97b4-a26a9b26d4df"
      },
      "execution_count": 414,
      "outputs": [
        {
          "output_type": "stream",
          "name": "stdout",
          "text": [
            "Estatistica do teste: 0.5654350955185468\n",
            "p-valor: 0.4520786113997123\n",
            "f-valor: 0.5548227064141307\n",
            "f_p-valor: 0.4586815726112079\n"
          ]
        }
      ]
    },
    {
      "cell_type": "markdown",
      "source": [
        "p-valor = 0.45. então p>0.05. significa que tem Homocedastiscidade."
      ],
      "metadata": {
        "id": "P_on3wPE9Wtr"
      }
    },
    {
      "cell_type": "markdown",
      "source": [
        "**Outleires nos resíduos** \n",
        "\n",
        "(Entre -3 e 3)\n",
        "\n"
      ],
      "metadata": {
        "id": "NiHnMCGn9qLM"
      }
    },
    {
      "cell_type": "code",
      "source": [
        "outliers= regressao1.outlier_test()"
      ],
      "metadata": {
        "id": "xYgBszIL-NB5"
      },
      "execution_count": 415,
      "outputs": []
    },
    {
      "cell_type": "code",
      "source": [
        "outliers.max()"
      ],
      "metadata": {
        "colab": {
          "base_uri": "https://localhost:8080/"
        },
        "id": "BAtJDOz4-fSY",
        "outputId": "cba1552a-28b1-4974-d7c2-20cde9e71505"
      },
      "execution_count": 416,
      "outputs": [
        {
          "output_type": "execute_result",
          "data": {
            "text/plain": [
              "student_resid    2.513714\n",
              "unadj_p          0.987665\n",
              "bonf(p)          1.000000\n",
              "dtype: float64"
            ]
          },
          "metadata": {},
          "execution_count": 416
        }
      ]
    },
    {
      "cell_type": "code",
      "source": [
        "outliers.min()"
      ],
      "metadata": {
        "colab": {
          "base_uri": "https://localhost:8080/"
        },
        "id": "k75eGDWO-mVM",
        "outputId": "aeb6c45f-b82a-4cf6-8ad3-96d4fabdf1f0"
      },
      "execution_count": 417,
      "outputs": [
        {
          "output_type": "execute_result",
          "data": {
            "text/plain": [
              "student_resid   -2.817829\n",
              "unadj_p          0.006197\n",
              "bonf(p)          0.477189\n",
              "dtype: float64"
            ]
          },
          "metadata": {},
          "execution_count": 417
        }
      ]
    },
    {
      "cell_type": "markdown",
      "source": [
        "Portanto o modelo passou no teste de Normalidade, Homocedasticidade e Outleires de Resíduos, portanto o modelo é aprovado."
      ],
      "metadata": {
        "id": "lIxeG89g-0vp"
      }
    },
    {
      "cell_type": "code",
      "source": [
        "print(regressao1.summary())"
      ],
      "metadata": {
        "colab": {
          "base_uri": "https://localhost:8080/"
        },
        "id": "w6KsQCFi_Mwp",
        "outputId": "fca77a08-539f-41ba-c657-fbaf5461c61e"
      },
      "execution_count": 418,
      "outputs": [
        {
          "output_type": "stream",
          "name": "stdout",
          "text": [
            "                            OLS Regression Results                            \n",
            "==============================================================================\n",
            "Dep. Variable:         pH_Meio_Aquoso   R-squared:                       0.837\n",
            "Model:                            OLS   Adj. R-squared:                  0.835\n",
            "Method:                 Least Squares   F-statistic:                     385.4\n",
            "Date:                Fri, 15 Apr 2022   Prob (F-statistic):           2.80e-31\n",
            "Time:                        04:12:28   Log-Likelihood:                -49.026\n",
            "No. Observations:                  77   AIC:                             102.1\n",
            "Df Residuals:                      75   BIC:                             106.7\n",
            "Df Model:                           1                                         \n",
            "Covariance Type:            nonrobust                                         \n",
            "================================================================================================\n",
            "                                   coef    std err          t      P>|t|      [0.025      0.975]\n",
            "------------------------------------------------------------------------------------------------\n",
            "Intercept                       17.7256      0.586     30.247      0.000      16.558      18.893\n",
            "Valores_Analogicos_Sensor_pH    -0.0176      0.001    -19.632      0.000      -0.019      -0.016\n",
            "==============================================================================\n",
            "Omnibus:                        2.650   Durbin-Watson:                   1.881\n",
            "Prob(Omnibus):                  0.266   Jarque-Bera (JB):                2.041\n",
            "Skew:                           0.385   Prob(JB):                        0.360\n",
            "Kurtosis:                       3.211   Cond. No.                     7.25e+03\n",
            "==============================================================================\n",
            "\n",
            "Warnings:\n",
            "[1] Standard Errors assume that the covariance matrix of the errors is correctly specified.\n",
            "[2] The condition number is large, 7.25e+03. This might indicate that there are\n",
            "strong multicollinearity or other numerical problems.\n"
          ]
        }
      ]
    },
    {
      "cell_type": "code",
      "source": [
        "#coeficientes\n",
        "import pandas as pd\n",
        "coefs = pd.DataFrame(regressao1.params)\n",
        "coefs.columns = ['Coeficientes']\n",
        "print(coefs)"
      ],
      "metadata": {
        "colab": {
          "base_uri": "https://localhost:8080/"
        },
        "id": "6fPfMziUATbD",
        "outputId": "579a7135-a22c-48be-b885-045d96ee3668"
      },
      "execution_count": 419,
      "outputs": [
        {
          "output_type": "stream",
          "name": "stdout",
          "text": [
            "                              Coeficientes\n",
            "Intercept                        17.725605\n",
            "Valores_Analogicos_Sensor_pH     -0.017612\n"
          ]
        }
      ]
    },
    {
      "cell_type": "markdown",
      "source": [
        "Equação(Regressão Linear com Anova): pH(meio aquoso) = 17.7256 - 0.0176*Valores_Analogicos_Sensor_pH"
      ],
      "metadata": {
        "id": "J5jsoVoYAUHV"
      }
    },
    {
      "cell_type": "code",
      "source": [
        "df.head()"
      ],
      "metadata": {
        "colab": {
          "base_uri": "https://localhost:8080/",
          "height": 206
        },
        "id": "TOdeY6WIAj7E",
        "outputId": "dc5f21fa-bf83-48e3-c71f-5dcf75424c85"
      },
      "execution_count": 420,
      "outputs": [
        {
          "output_type": "execute_result",
          "data": {
            "text/plain": [
              "   pH_Meio_Aquoso  pH_Medida_Direta_Akso  Valores_Analogicos_Sensor_pH\n",
              "0             5.1                   6.43                        711.00\n",
              "1             4.5                   5.84                        724.00\n",
              "2             7.0                   7.80                        601.00\n",
              "3             4.2                   4.41                        763.50\n",
              "4             6.1                   6.43                        645.25"
            ],
            "text/html": [
              "\n",
              "  <div id=\"df-e70f34a1-b212-4330-9263-b3f31a219f98\">\n",
              "    <div class=\"colab-df-container\">\n",
              "      <div>\n",
              "<style scoped>\n",
              "    .dataframe tbody tr th:only-of-type {\n",
              "        vertical-align: middle;\n",
              "    }\n",
              "\n",
              "    .dataframe tbody tr th {\n",
              "        vertical-align: top;\n",
              "    }\n",
              "\n",
              "    .dataframe thead th {\n",
              "        text-align: right;\n",
              "    }\n",
              "</style>\n",
              "<table border=\"1\" class=\"dataframe\">\n",
              "  <thead>\n",
              "    <tr style=\"text-align: right;\">\n",
              "      <th></th>\n",
              "      <th>pH_Meio_Aquoso</th>\n",
              "      <th>pH_Medida_Direta_Akso</th>\n",
              "      <th>Valores_Analogicos_Sensor_pH</th>\n",
              "    </tr>\n",
              "  </thead>\n",
              "  <tbody>\n",
              "    <tr>\n",
              "      <th>0</th>\n",
              "      <td>5.1</td>\n",
              "      <td>6.43</td>\n",
              "      <td>711.00</td>\n",
              "    </tr>\n",
              "    <tr>\n",
              "      <th>1</th>\n",
              "      <td>4.5</td>\n",
              "      <td>5.84</td>\n",
              "      <td>724.00</td>\n",
              "    </tr>\n",
              "    <tr>\n",
              "      <th>2</th>\n",
              "      <td>7.0</td>\n",
              "      <td>7.80</td>\n",
              "      <td>601.00</td>\n",
              "    </tr>\n",
              "    <tr>\n",
              "      <th>3</th>\n",
              "      <td>4.2</td>\n",
              "      <td>4.41</td>\n",
              "      <td>763.50</td>\n",
              "    </tr>\n",
              "    <tr>\n",
              "      <th>4</th>\n",
              "      <td>6.1</td>\n",
              "      <td>6.43</td>\n",
              "      <td>645.25</td>\n",
              "    </tr>\n",
              "  </tbody>\n",
              "</table>\n",
              "</div>\n",
              "      <button class=\"colab-df-convert\" onclick=\"convertToInteractive('df-e70f34a1-b212-4330-9263-b3f31a219f98')\"\n",
              "              title=\"Convert this dataframe to an interactive table.\"\n",
              "              style=\"display:none;\">\n",
              "        \n",
              "  <svg xmlns=\"http://www.w3.org/2000/svg\" height=\"24px\"viewBox=\"0 0 24 24\"\n",
              "       width=\"24px\">\n",
              "    <path d=\"M0 0h24v24H0V0z\" fill=\"none\"/>\n",
              "    <path d=\"M18.56 5.44l.94 2.06.94-2.06 2.06-.94-2.06-.94-.94-2.06-.94 2.06-2.06.94zm-11 1L8.5 8.5l.94-2.06 2.06-.94-2.06-.94L8.5 2.5l-.94 2.06-2.06.94zm10 10l.94 2.06.94-2.06 2.06-.94-2.06-.94-.94-2.06-.94 2.06-2.06.94z\"/><path d=\"M17.41 7.96l-1.37-1.37c-.4-.4-.92-.59-1.43-.59-.52 0-1.04.2-1.43.59L10.3 9.45l-7.72 7.72c-.78.78-.78 2.05 0 2.83L4 21.41c.39.39.9.59 1.41.59.51 0 1.02-.2 1.41-.59l7.78-7.78 2.81-2.81c.8-.78.8-2.07 0-2.86zM5.41 20L4 18.59l7.72-7.72 1.47 1.35L5.41 20z\"/>\n",
              "  </svg>\n",
              "      </button>\n",
              "      \n",
              "  <style>\n",
              "    .colab-df-container {\n",
              "      display:flex;\n",
              "      flex-wrap:wrap;\n",
              "      gap: 12px;\n",
              "    }\n",
              "\n",
              "    .colab-df-convert {\n",
              "      background-color: #E8F0FE;\n",
              "      border: none;\n",
              "      border-radius: 50%;\n",
              "      cursor: pointer;\n",
              "      display: none;\n",
              "      fill: #1967D2;\n",
              "      height: 32px;\n",
              "      padding: 0 0 0 0;\n",
              "      width: 32px;\n",
              "    }\n",
              "\n",
              "    .colab-df-convert:hover {\n",
              "      background-color: #E2EBFA;\n",
              "      box-shadow: 0px 1px 2px rgba(60, 64, 67, 0.3), 0px 1px 3px 1px rgba(60, 64, 67, 0.15);\n",
              "      fill: #174EA6;\n",
              "    }\n",
              "\n",
              "    [theme=dark] .colab-df-convert {\n",
              "      background-color: #3B4455;\n",
              "      fill: #D2E3FC;\n",
              "    }\n",
              "\n",
              "    [theme=dark] .colab-df-convert:hover {\n",
              "      background-color: #434B5C;\n",
              "      box-shadow: 0px 1px 3px 1px rgba(0, 0, 0, 0.15);\n",
              "      filter: drop-shadow(0px 1px 2px rgba(0, 0, 0, 0.3));\n",
              "      fill: #FFFFFF;\n",
              "    }\n",
              "  </style>\n",
              "\n",
              "      <script>\n",
              "        const buttonEl =\n",
              "          document.querySelector('#df-e70f34a1-b212-4330-9263-b3f31a219f98 button.colab-df-convert');\n",
              "        buttonEl.style.display =\n",
              "          google.colab.kernel.accessAllowed ? 'block' : 'none';\n",
              "\n",
              "        async function convertToInteractive(key) {\n",
              "          const element = document.querySelector('#df-e70f34a1-b212-4330-9263-b3f31a219f98');\n",
              "          const dataTable =\n",
              "            await google.colab.kernel.invokeFunction('convertToInteractive',\n",
              "                                                     [key], {});\n",
              "          if (!dataTable) return;\n",
              "\n",
              "          const docLinkHtml = 'Like what you see? Visit the ' +\n",
              "            '<a target=\"_blank\" href=https://colab.research.google.com/notebooks/data_table.ipynb>data table notebook</a>'\n",
              "            + ' to learn more about interactive tables.';\n",
              "          element.innerHTML = '';\n",
              "          dataTable['output_type'] = 'display_data';\n",
              "          await google.colab.output.renderOutput(dataTable, element);\n",
              "          const docLink = document.createElement('div');\n",
              "          docLink.innerHTML = docLinkHtml;\n",
              "          element.appendChild(docLink);\n",
              "        }\n",
              "      </script>\n",
              "    </div>\n",
              "  </div>\n",
              "  "
            ]
          },
          "metadata": {},
          "execution_count": 420
        }
      ]
    },
    {
      "cell_type": "code",
      "source": [
        "#previsões usando modelo e equação gerada  pH(meio aquoso) = 17.7256 - 0.0176*Valores_Analogicos_Sensor_pH\n",
        "regressao1.predict()"
      ],
      "metadata": {
        "colab": {
          "base_uri": "https://localhost:8080/"
        },
        "id": "0qHO982aApm5",
        "outputId": "75d86b8f-3293-4253-e06d-cdcbd9c7f027"
      },
      "execution_count": 421,
      "outputs": [
        {
          "output_type": "execute_result",
          "data": {
            "text/plain": [
              "array([5.20345012, 4.97449371, 7.14077358, 4.27881847, 6.36144119,\n",
              "       5.62613888, 5.76351272, 6.24255998, 5.43540058, 7.72901544,\n",
              "       4.67949218, 6.26897803, 5.16822606, 7.79946356, 7.09674351,\n",
              "       7.32217751, 4.98858334, 6.5313973 , 5.58739241, 5.36548081,\n",
              "       6.07524568, 5.96781229, 5.01676259, 5.2474802 , 5.42360052,\n",
              "       6.65292031, 6.74274167, 5.51342188, 5.02732981, 6.26897803,\n",
              "       6.40106826, 6.04354402, 5.37428683, 5.65079572, 7.69379137,\n",
              "       7.62070144, 6.45918797, 8.21510751, 6.40811308, 7.79594116,\n",
              "       6.21790314, 4.88643355, 4.65747715, 5.65079572, 6.18091787,\n",
              "       7.96149425, 4.80365701, 6.68638317, 6.96905628, 6.49617323,\n",
              "       7.51414865, 3.85612971, 6.75154769, 6.68286077, 7.23411735,\n",
              "       4.87938874, 4.82303024, 7.85229966, 7.70435859, 6.64059189,\n",
              "       7.04566861, 6.76211491, 6.92942921, 7.25525179, 7.63919408,\n",
              "       6.28042585, 4.48135683, 6.27531836, 4.73144768, 7.91570297,\n",
              "       7.02629538, 6.89420514, 6.38169503, 6.99283252, 7.53176068,\n",
              "       6.26897803, 6.57718858])"
            ]
          },
          "metadata": {},
          "execution_count": 421
        }
      ]
    },
    {
      "cell_type": "code",
      "source": [
        "plt.scatter(y= df.pH_Meio_Aquoso, x=df.Valores_Analogicos_Sensor_pH ,color='green', s=80, alpha=0.9)\n",
        "X_plot = np.linspace(400, 900)\n",
        "plt.plot(X_plot, X_plot*regressao1.params[1] + regressao1.params[0], color='orange')\n",
        "plt.title('Reta de Regressão')\n",
        "plt.ylabel('pH_Meio_Aquoso')\n",
        "plt.xlabel('Valores_Analogicos_Sensor_pH')\n",
        "plt.show()\n",
        "\n"
      ],
      "metadata": {
        "colab": {
          "base_uri": "https://localhost:8080/",
          "height": 528
        },
        "id": "xEh8sezpAzkZ",
        "outputId": "7091bb7f-3ee5-4944-ef4a-755064a722ea"
      },
      "execution_count": 422,
      "outputs": [
        {
          "output_type": "display_data",
          "data": {
            "text/plain": [
              "<Figure size 1058.4x595.44 with 1 Axes>"
            ],
            "image/png": "[encoded data removed]"
          },
          "metadata": {
            "needs_background": "light"
          }
        }
      ]
    },
    {
      "cell_type": "markdown",
      "source": [
        "#Analise de Multicolinearidade\n",
        "Somente para variáveis independentes\n",
        "Considerada Multicolinearidade quando r> 0.9.\n",
        "r= coeficiente de correlação. person> 0.9."
      ],
      "metadata": {
        "id": "sfaTJw68BgJY"
      }
    },
    {
      "cell_type": "code",
      "source": [
        "correlacoes = df.corr(method='pearson')\n",
        "correlacoes"
      ],
      "metadata": {
        "id": "M05UbmGt8eWz",
        "outputId": "a0313030-f288-4ff5-9e8f-138a9de91101",
        "colab": {
          "base_uri": "https://localhost:8080/",
          "height": 143
        }
      },
      "execution_count": 423,
      "outputs": [
        {
          "output_type": "execute_result",
          "data": {
            "text/plain": [
              "                              pH_Meio_Aquoso  pH_Medida_Direta_Akso  \\\n",
              "pH_Meio_Aquoso                      1.000000               0.935205   \n",
              "pH_Medida_Direta_Akso               0.935205               1.000000   \n",
              "Valores_Analogicos_Sensor_pH       -0.914935              -0.916535   \n",
              "\n",
              "                              Valores_Analogicos_Sensor_pH  \n",
              "pH_Meio_Aquoso                                   -0.914935  \n",
              "pH_Medida_Direta_Akso                            -0.916535  \n",
              "Valores_Analogicos_Sensor_pH                      1.000000  "
            ],
            "text/html": [
              "\n",
              "  <div id=\"df-1669f470-ce96-47fc-944f-4c1e0bad20f8\">\n",
              "    <div class=\"colab-df-container\">\n",
              "      <div>\n",
              "<style scoped>\n",
              "    .dataframe tbody tr th:only-of-type {\n",
              "        vertical-align: middle;\n",
              "    }\n",
              "\n",
              "    .dataframe tbody tr th {\n",
              "        vertical-align: top;\n",
              "    }\n",
              "\n",
              "    .dataframe thead th {\n",
              "        text-align: right;\n",
              "    }\n",
              "</style>\n",
              "<table border=\"1\" class=\"dataframe\">\n",
              "  <thead>\n",
              "    <tr style=\"text-align: right;\">\n",
              "      <th></th>\n",
              "      <th>pH_Meio_Aquoso</th>\n",
              "      <th>pH_Medida_Direta_Akso</th>\n",
              "      <th>Valores_Analogicos_Sensor_pH</th>\n",
              "    </tr>\n",
              "  </thead>\n",
              "  <tbody>\n",
              "    <tr>\n",
              "      <th>pH_Meio_Aquoso</th>\n",
              "      <td>1.000000</td>\n",
              "      <td>0.935205</td>\n",
              "      <td>-0.914935</td>\n",
              "    </tr>\n",
              "    <tr>\n",
              "      <th>pH_Medida_Direta_Akso</th>\n",
              "      <td>0.935205</td>\n",
              "      <td>1.000000</td>\n",
              "      <td>-0.916535</td>\n",
              "    </tr>\n",
              "    <tr>\n",
              "      <th>Valores_Analogicos_Sensor_pH</th>\n",
              "      <td>-0.914935</td>\n",
              "      <td>-0.916535</td>\n",
              "      <td>1.000000</td>\n",
              "    </tr>\n",
              "  </tbody>\n",
              "</table>\n",
              "</div>\n",
              "      <button class=\"colab-df-convert\" onclick=\"convertToInteractive('df-1669f470-ce96-47fc-944f-4c1e0bad20f8')\"\n",
              "              title=\"Convert this dataframe to an interactive table.\"\n",
              "              style=\"display:none;\">\n",
              "        \n",
              "  <svg xmlns=\"http://www.w3.org/2000/svg\" height=\"24px\"viewBox=\"0 0 24 24\"\n",
              "       width=\"24px\">\n",
              "    <path d=\"M0 0h24v24H0V0z\" fill=\"none\"/>\n",
              "    <path d=\"M18.56 5.44l.94 2.06.94-2.06 2.06-.94-2.06-.94-.94-2.06-.94 2.06-2.06.94zm-11 1L8.5 8.5l.94-2.06 2.06-.94-2.06-.94L8.5 2.5l-.94 2.06-2.06.94zm10 10l.94 2.06.94-2.06 2.06-.94-2.06-.94-.94-2.06-.94 2.06-2.06.94z\"/><path d=\"M17.41 7.96l-1.37-1.37c-.4-.4-.92-.59-1.43-.59-.52 0-1.04.2-1.43.59L10.3 9.45l-7.72 7.72c-.78.78-.78 2.05 0 2.83L4 21.41c.39.39.9.59 1.41.59.51 0 1.02-.2 1.41-.59l7.78-7.78 2.81-2.81c.8-.78.8-2.07 0-2.86zM5.41 20L4 18.59l7.72-7.72 1.47 1.35L5.41 20z\"/>\n",
              "  </svg>\n",
              "      </button>\n",
              "      \n",
              "  <style>\n",
              "    .colab-df-container {\n",
              "      display:flex;\n",
              "      flex-wrap:wrap;\n",
              "      gap: 12px;\n",
              "    }\n",
              "\n",
              "    .colab-df-convert {\n",
              "      background-color: #E8F0FE;\n",
              "      border: none;\n",
              "      border-radius: 50%;\n",
              "      cursor: pointer;\n",
              "      display: none;\n",
              "      fill: #1967D2;\n",
              "      height: 32px;\n",
              "      padding: 0 0 0 0;\n",
              "      width: 32px;\n",
              "    }\n",
              "\n",
              "    .colab-df-convert:hover {\n",
              "      background-color: #E2EBFA;\n",
              "      box-shadow: 0px 1px 2px rgba(60, 64, 67, 0.3), 0px 1px 3px 1px rgba(60, 64, 67, 0.15);\n",
              "      fill: #174EA6;\n",
              "    }\n",
              "\n",
              "    [theme=dark] .colab-df-convert {\n",
              "      background-color: #3B4455;\n",
              "      fill: #D2E3FC;\n",
              "    }\n",
              "\n",
              "    [theme=dark] .colab-df-convert:hover {\n",
              "      background-color: #434B5C;\n",
              "      box-shadow: 0px 1px 3px 1px rgba(0, 0, 0, 0.15);\n",
              "      filter: drop-shadow(0px 1px 2px rgba(0, 0, 0, 0.3));\n",
              "      fill: #FFFFFF;\n",
              "    }\n",
              "  </style>\n",
              "\n",
              "      <script>\n",
              "        const buttonEl =\n",
              "          document.querySelector('#df-1669f470-ce96-47fc-944f-4c1e0bad20f8 button.colab-df-convert');\n",
              "        buttonEl.style.display =\n",
              "          google.colab.kernel.accessAllowed ? 'block' : 'none';\n",
              "\n",
              "        async function convertToInteractive(key) {\n",
              "          const element = document.querySelector('#df-1669f470-ce96-47fc-944f-4c1e0bad20f8');\n",
              "          const dataTable =\n",
              "            await google.colab.kernel.invokeFunction('convertToInteractive',\n",
              "                                                     [key], {});\n",
              "          if (!dataTable) return;\n",
              "\n",
              "          const docLinkHtml = 'Like what you see? Visit the ' +\n",
              "            '<a target=\"_blank\" href=https://colab.research.google.com/notebooks/data_table.ipynb>data table notebook</a>'\n",
              "            + ' to learn more about interactive tables.';\n",
              "          element.innerHTML = '';\n",
              "          dataTable['output_type'] = 'display_data';\n",
              "          await google.colab.output.renderOutput(dataTable, element);\n",
              "          const docLink = document.createElement('div');\n",
              "          docLink.innerHTML = docLinkHtml;\n",
              "          element.appendChild(docLink);\n",
              "        }\n",
              "      </script>\n",
              "    </div>\n",
              "  </div>\n",
              "  "
            ]
          },
          "metadata": {},
          "execution_count": 423
        }
      ]
    },
    {
      "cell_type": "markdown",
      "source": [
        "Portante existe problema de multicolinearidade(r>0.9).\n",
        "portanto nao é recomendado usar regressão linear e sim ridge, lasso e elastic net.\n"
      ],
      "metadata": {
        "id": "KhNOQah4Ccae"
      }
    },
    {
      "cell_type": "markdown",
      "source": [
        "Usando metodo de inflação de variancia(VIF)\n",
        "\n",
        "VIF começa em 1 e não tem limite superior.\n",
        "\n",
        "VIF = 1, sem correlação entre a variável independente e as demais variáveis.\n",
        "\n",
        "VIF superior a 5 ou 10 indica alta multicolinearidade entre esta variável independente e as demais.\n",
        "\n",
        "\n"
      ],
      "metadata": {
        "id": "jFD01I77DQZe"
      }
    },
    {
      "cell_type": "code",
      "source": [
        "from statsmodels.stats.outliers_influence import variance_inflation_factor\n",
        "from statsmodels.tools.tools import add_constant"
      ],
      "metadata": {
        "id": "ahac-P8ECZOL"
      },
      "execution_count": 424,
      "outputs": []
    },
    {
      "cell_type": "code",
      "source": [
        "VIF = add_constant(df) #função espera a presença de matriz de variaveis explicativas\n",
        "pd.Series([variance_inflation_factor(VIF.values, i) for i in range(VIF.shape[1])], index=VIF.columns)"
      ],
      "metadata": {
        "id": "p91sAd6VEXIH",
        "outputId": "66ad303a-db65-4ea8-ae43-df6505b88572",
        "colab": {
          "base_uri": "https://localhost:8080/"
        }
      },
      "execution_count": 425,
      "outputs": [
        {
          "output_type": "execute_result",
          "data": {
            "text/plain": [
              "const                           2131.488459\n",
              "pH_Meio_Aquoso                     9.567864\n",
              "pH_Medida_Direta_Akso              9.743177\n",
              "Valores_Analogicos_Sensor_pH       7.500075\n",
              "dtype: float64"
            ]
          },
          "metadata": {},
          "execution_count": 425
        }
      ]
    },
    {
      "cell_type": "markdown",
      "source": [
        "Portanto os dados apresentam multicolinearidade"
      ],
      "metadata": {
        "id": "xfkgYoKzHTCH"
      }
    },
    {
      "cell_type": "markdown",
      "source": [
        "# Regressão de Ridge\n",
        "\n",
        "A regressão Ridge é uma variação da Regressão Linear.\n",
        "queremos minimizar a soma dos resíduos quadrados somada a lambda multiplicado pela soma dos coeficientes ao quadrado.\n",
        "aplicada em variaveis altamente correlacionadas(multicolinearidade).\n"
      ],
      "metadata": {
        "id": "nASMBf41DYVA"
      }
    },
    {
      "cell_type": "code",
      "source": [
        "df1=df.drop(columns=['pH_Medida_Direta_Akso'])#apaga a coluna pH medida direta"
      ],
      "metadata": {
        "id": "08J7Fws6Fweh"
      },
      "execution_count": 426,
      "outputs": []
    },
    {
      "cell_type": "code",
      "source": [
        "df1.head()"
      ],
      "metadata": {
        "id": "_4ztzUBwHOf4",
        "outputId": "f3780b13-51f8-4b76-ab2a-d5948e24d99d",
        "colab": {
          "base_uri": "https://localhost:8080/",
          "height": 206
        }
      },
      "execution_count": 427,
      "outputs": [
        {
          "output_type": "execute_result",
          "data": {
            "text/plain": [
              "   pH_Meio_Aquoso  Valores_Analogicos_Sensor_pH\n",
              "0             5.1                        711.00\n",
              "1             4.5                        724.00\n",
              "2             7.0                        601.00\n",
              "3             4.2                        763.50\n",
              "4             6.1                        645.25"
            ],
            "text/html": [
              "\n",
              "  <div id=\"df-0ed7162c-881f-459a-beb4-efd6b5d5b3b4\">\n",
              "    <div class=\"colab-df-container\">\n",
              "      <div>\n",
              "<style scoped>\n",
              "    .dataframe tbody tr th:only-of-type {\n",
              "        vertical-align: middle;\n",
              "    }\n",
              "\n",
              "    .dataframe tbody tr th {\n",
              "        vertical-align: top;\n",
              "    }\n",
              "\n",
              "    .dataframe thead th {\n",
              "        text-align: right;\n",
              "    }\n",
              "</style>\n",
              "<table border=\"1\" class=\"dataframe\">\n",
              "  <thead>\n",
              "    <tr style=\"text-align: right;\">\n",
              "      <th></th>\n",
              "      <th>pH_Meio_Aquoso</th>\n",
              "      <th>Valores_Analogicos_Sensor_pH</th>\n",
              "    </tr>\n",
              "  </thead>\n",
              "  <tbody>\n",
              "    <tr>\n",
              "      <th>0</th>\n",
              "      <td>5.1</td>\n",
              "      <td>711.00</td>\n",
              "    </tr>\n",
              "    <tr>\n",
              "      <th>1</th>\n",
              "      <td>4.5</td>\n",
              "      <td>724.00</td>\n",
              "    </tr>\n",
              "    <tr>\n",
              "      <th>2</th>\n",
              "      <td>7.0</td>\n",
              "      <td>601.00</td>\n",
              "    </tr>\n",
              "    <tr>\n",
              "      <th>3</th>\n",
              "      <td>4.2</td>\n",
              "      <td>763.50</td>\n",
              "    </tr>\n",
              "    <tr>\n",
              "      <th>4</th>\n",
              "      <td>6.1</td>\n",
              "      <td>645.25</td>\n",
              "    </tr>\n",
              "  </tbody>\n",
              "</table>\n",
              "</div>\n",
              "      <button class=\"colab-df-convert\" onclick=\"convertToInteractive('df-0ed7162c-881f-459a-beb4-efd6b5d5b3b4')\"\n",
              "              title=\"Convert this dataframe to an interactive table.\"\n",
              "              style=\"display:none;\">\n",
              "        \n",
              "  <svg xmlns=\"http://www.w3.org/2000/svg\" height=\"24px\"viewBox=\"0 0 24 24\"\n",
              "       width=\"24px\">\n",
              "    <path d=\"M0 0h24v24H0V0z\" fill=\"none\"/>\n",
              "    <path d=\"M18.56 5.44l.94 2.06.94-2.06 2.06-.94-2.06-.94-.94-2.06-.94 2.06-2.06.94zm-11 1L8.5 8.5l.94-2.06 2.06-.94-2.06-.94L8.5 2.5l-.94 2.06-2.06.94zm10 10l.94 2.06.94-2.06 2.06-.94-2.06-.94-.94-2.06-.94 2.06-2.06.94z\"/><path d=\"M17.41 7.96l-1.37-1.37c-.4-.4-.92-.59-1.43-.59-.52 0-1.04.2-1.43.59L10.3 9.45l-7.72 7.72c-.78.78-.78 2.05 0 2.83L4 21.41c.39.39.9.59 1.41.59.51 0 1.02-.2 1.41-.59l7.78-7.78 2.81-2.81c.8-.78.8-2.07 0-2.86zM5.41 20L4 18.59l7.72-7.72 1.47 1.35L5.41 20z\"/>\n",
              "  </svg>\n",
              "      </button>\n",
              "      \n",
              "  <style>\n",
              "    .colab-df-container {\n",
              "      display:flex;\n",
              "      flex-wrap:wrap;\n",
              "      gap: 12px;\n",
              "    }\n",
              "\n",
              "    .colab-df-convert {\n",
              "      background-color: #E8F0FE;\n",
              "      border: none;\n",
              "      border-radius: 50%;\n",
              "      cursor: pointer;\n",
              "      display: none;\n",
              "      fill: #1967D2;\n",
              "      height: 32px;\n",
              "      padding: 0 0 0 0;\n",
              "      width: 32px;\n",
              "    }\n",
              "\n",
              "    .colab-df-convert:hover {\n",
              "      background-color: #E2EBFA;\n",
              "      box-shadow: 0px 1px 2px rgba(60, 64, 67, 0.3), 0px 1px 3px 1px rgba(60, 64, 67, 0.15);\n",
              "      fill: #174EA6;\n",
              "    }\n",
              "\n",
              "    [theme=dark] .colab-df-convert {\n",
              "      background-color: #3B4455;\n",
              "      fill: #D2E3FC;\n",
              "    }\n",
              "\n",
              "    [theme=dark] .colab-df-convert:hover {\n",
              "      background-color: #434B5C;\n",
              "      box-shadow: 0px 1px 3px 1px rgba(0, 0, 0, 0.15);\n",
              "      filter: drop-shadow(0px 1px 2px rgba(0, 0, 0, 0.3));\n",
              "      fill: #FFFFFF;\n",
              "    }\n",
              "  </style>\n",
              "\n",
              "      <script>\n",
              "        const buttonEl =\n",
              "          document.querySelector('#df-0ed7162c-881f-459a-beb4-efd6b5d5b3b4 button.colab-df-convert');\n",
              "        buttonEl.style.display =\n",
              "          google.colab.kernel.accessAllowed ? 'block' : 'none';\n",
              "\n",
              "        async function convertToInteractive(key) {\n",
              "          const element = document.querySelector('#df-0ed7162c-881f-459a-beb4-efd6b5d5b3b4');\n",
              "          const dataTable =\n",
              "            await google.colab.kernel.invokeFunction('convertToInteractive',\n",
              "                                                     [key], {});\n",
              "          if (!dataTable) return;\n",
              "\n",
              "          const docLinkHtml = 'Like what you see? Visit the ' +\n",
              "            '<a target=\"_blank\" href=https://colab.research.google.com/notebooks/data_table.ipynb>data table notebook</a>'\n",
              "            + ' to learn more about interactive tables.';\n",
              "          element.innerHTML = '';\n",
              "          dataTable['output_type'] = 'display_data';\n",
              "          await google.colab.output.renderOutput(dataTable, element);\n",
              "          const docLink = document.createElement('div');\n",
              "          docLink.innerHTML = docLinkHtml;\n",
              "          element.appendChild(docLink);\n",
              "        }\n",
              "      </script>\n",
              "    </div>\n",
              "  </div>\n",
              "  "
            ]
          },
          "metadata": {},
          "execution_count": 427
        }
      ]
    },
    {
      "cell_type": "code",
      "source": [
        "x= df1.iloc[ : , 0:1].values\n",
        "y= df1.iloc[ : , 1].values"
      ],
      "metadata": {
        "id": "wWTVc6STHp7G"
      },
      "execution_count": 428,
      "outputs": []
    },
    {
      "cell_type": "code",
      "source": [
        "from sklearn.linear_model import Ridge"
      ],
      "metadata": {
        "id": "bGyWf7kiI-K_"
      },
      "execution_count": 429,
      "outputs": []
    },
    {
      "cell_type": "code",
      "source": [
        "#deve-se escolher o melhor parametro de regularização(Alpha)\n",
        "modelo_ridge = Ridge(alpha= 0.01)\n",
        "modelo_ridge.fit(x, y)\n",
        "modelo_ridge.score(x, y)"
      ],
      "metadata": {
        "id": "FnH_rnGMJRnU",
        "outputId": "0dc6bdc0-57e5-4855-93d9-5e3949058eab",
        "colab": {
          "base_uri": "https://localhost:8080/"
        }
      },
      "execution_count": 430,
      "outputs": [
        {
          "output_type": "execute_result",
          "data": {
            "text/plain": [
              "0.8371060207921978"
            ]
          },
          "metadata": {},
          "execution_count": 430
        }
      ]
    },
    {
      "cell_type": "code",
      "source": [
        "modelo_ridge.intercept_"
      ],
      "metadata": {
        "id": "1-87YLS4KxLK",
        "outputId": "0b6b17f5-f9a3-492b-ddc6-f25b84a04673",
        "colab": {
          "base_uri": "https://localhost:8080/"
        }
      },
      "execution_count": 431,
      "outputs": [
        {
          "output_type": "execute_result",
          "data": {
            "text/plain": [
              "948.4499713336861"
            ]
          },
          "metadata": {},
          "execution_count": 431
        }
      ]
    },
    {
      "cell_type": "code",
      "source": [
        "modelo_ridge.coef_"
      ],
      "metadata": {
        "id": "hZDZa9M8Lg8j",
        "outputId": "6e5d5af0-b5dc-4ddc-e9ad-08da8793aab0",
        "colab": {
          "base_uri": "https://localhost:8080/"
        }
      },
      "execution_count": 432,
      "outputs": [
        {
          "output_type": "execute_result",
          "data": {
            "text/plain": [
              "array([-47.52554454])"
            ]
          },
          "metadata": {},
          "execution_count": 432
        }
      ]
    },
    {
      "cell_type": "markdown",
      "source": [
        "pH aquoso =  948.1791 -47.4823*Valores_Analogicos_Sensor_pH"
      ],
      "metadata": {
        "id": "EeS16JllLwgX"
      }
    },
    {
      "cell_type": "code",
      "source": [
        "previsaoridge = modelo_ridge.predict(x)"
      ],
      "metadata": {
        "id": "69rzRhz-MPJH"
      },
      "execution_count": 433,
      "outputs": []
    },
    {
      "cell_type": "code",
      "source": [
        "df1['previsao'] = modelo_ridge.predict(x)\n"
      ],
      "metadata": {
        "id": "93PL8VTBMY9-"
      },
      "execution_count": 434,
      "outputs": []
    },
    {
      "cell_type": "code",
      "source": [
        "df1"
      ],
      "metadata": {
        "id": "A8gDslV0SSLp",
        "outputId": "e38181db-078a-46d1-df65-1a0e0dfeea56",
        "colab": {
          "base_uri": "https://localhost:8080/",
          "height": 424
        }
      },
      "execution_count": 435,
      "outputs": [
        {
          "output_type": "execute_result",
          "data": {
            "text/plain": [
              "    pH_Meio_Aquoso  Valores_Analogicos_Sensor_pH    previsao\n",
              "0              5.1                        711.00  706.069694\n",
              "1              4.5                        724.00  734.585021\n",
              "2              7.0                        601.00  615.771160\n",
              "3              4.2                        763.50  748.842684\n",
              "4              6.1                        645.25  658.544150\n",
              "..             ...                           ...         ...\n",
              "73             7.5                        644.10  592.008387\n",
              "74             7.0                        609.40  615.771160\n",
              "75             7.3                        578.80  601.513496\n",
              "76             6.1                        650.50  658.544150\n",
              "77             5.8                        633.00  672.801813\n",
              "\n",
              "[77 rows x 3 columns]"
            ],
            "text/html": [
              "\n",
              "  <div id=\"df-98eaff51-5233-4942-b02d-4bcf72ef324b\">\n",
              "    <div class=\"colab-df-container\">\n",
              "      <div>\n",
              "<style scoped>\n",
              "    .dataframe tbody tr th:only-of-type {\n",
              "        vertical-align: middle;\n",
              "    }\n",
              "\n",
              "    .dataframe tbody tr th {\n",
              "        vertical-align: top;\n",
              "    }\n",
              "\n",
              "    .dataframe thead th {\n",
              "        text-align: right;\n",
              "    }\n",
              "</style>\n",
              "<table border=\"1\" class=\"dataframe\">\n",
              "  <thead>\n",
              "    <tr style=\"text-align: right;\">\n",
              "      <th></th>\n",
              "      <th>pH_Meio_Aquoso</th>\n",
              "      <th>Valores_Analogicos_Sensor_pH</th>\n",
              "      <th>previsao</th>\n",
              "    </tr>\n",
              "  </thead>\n",
              "  <tbody>\n",
              "    <tr>\n",
              "      <th>0</th>\n",
              "      <td>5.1</td>\n",
              "      <td>711.00</td>\n",
              "      <td>706.069694</td>\n",
              "    </tr>\n",
              "    <tr>\n",
              "      <th>1</th>\n",
              "      <td>4.5</td>\n",
              "      <td>724.00</td>\n",
              "      <td>734.585021</td>\n",
              "    </tr>\n",
              "    <tr>\n",
              "      <th>2</th>\n",
              "      <td>7.0</td>\n",
              "      <td>601.00</td>\n",
              "      <td>615.771160</td>\n",
              "    </tr>\n",
              "    <tr>\n",
              "      <th>3</th>\n",
              "      <td>4.2</td>\n",
              "      <td>763.50</td>\n",
              "      <td>748.842684</td>\n",
              "    </tr>\n",
              "    <tr>\n",
              "      <th>4</th>\n",
              "      <td>6.1</td>\n",
              "      <td>645.25</td>\n",
              "      <td>658.544150</td>\n",
              "    </tr>\n",
              "    <tr>\n",
              "      <th>...</th>\n",
              "      <td>...</td>\n",
              "      <td>...</td>\n",
              "      <td>...</td>\n",
              "    </tr>\n",
              "    <tr>\n",
              "      <th>73</th>\n",
              "      <td>7.5</td>\n",
              "      <td>644.10</td>\n",
              "      <td>592.008387</td>\n",
              "    </tr>\n",
              "    <tr>\n",
              "      <th>74</th>\n",
              "      <td>7.0</td>\n",
              "      <td>609.40</td>\n",
              "      <td>615.771160</td>\n",
              "    </tr>\n",
              "    <tr>\n",
              "      <th>75</th>\n",
              "      <td>7.3</td>\n",
              "      <td>578.80</td>\n",
              "      <td>601.513496</td>\n",
              "    </tr>\n",
              "    <tr>\n",
              "      <th>76</th>\n",
              "      <td>6.1</td>\n",
              "      <td>650.50</td>\n",
              "      <td>658.544150</td>\n",
              "    </tr>\n",
              "    <tr>\n",
              "      <th>77</th>\n",
              "      <td>5.8</td>\n",
              "      <td>633.00</td>\n",
              "      <td>672.801813</td>\n",
              "    </tr>\n",
              "  </tbody>\n",
              "</table>\n",
              "<p>77 rows × 3 columns</p>\n",
              "</div>\n",
              "      <button class=\"colab-df-convert\" onclick=\"convertToInteractive('df-98eaff51-5233-4942-b02d-4bcf72ef324b')\"\n",
              "              title=\"Convert this dataframe to an interactive table.\"\n",
              "              style=\"display:none;\">\n",
              "        \n",
              "  <svg xmlns=\"http://www.w3.org/2000/svg\" height=\"24px\"viewBox=\"0 0 24 24\"\n",
              "       width=\"24px\">\n",
              "    <path d=\"M0 0h24v24H0V0z\" fill=\"none\"/>\n",
              "    <path d=\"M18.56 5.44l.94 2.06.94-2.06 2.06-.94-2.06-.94-.94-2.06-.94 2.06-2.06.94zm-11 1L8.5 8.5l.94-2.06 2.06-.94-2.06-.94L8.5 2.5l-.94 2.06-2.06.94zm10 10l.94 2.06.94-2.06 2.06-.94-2.06-.94-.94-2.06-.94 2.06-2.06.94z\"/><path d=\"M17.41 7.96l-1.37-1.37c-.4-.4-.92-.59-1.43-.59-.52 0-1.04.2-1.43.59L10.3 9.45l-7.72 7.72c-.78.78-.78 2.05 0 2.83L4 21.41c.39.39.9.59 1.41.59.51 0 1.02-.2 1.41-.59l7.78-7.78 2.81-2.81c.8-.78.8-2.07 0-2.86zM5.41 20L4 18.59l7.72-7.72 1.47 1.35L5.41 20z\"/>\n",
              "  </svg>\n",
              "      </button>\n",
              "      \n",
              "  <style>\n",
              "    .colab-df-container {\n",
              "      display:flex;\n",
              "      flex-wrap:wrap;\n",
              "      gap: 12px;\n",
              "    }\n",
              "\n",
              "    .colab-df-convert {\n",
              "      background-color: #E8F0FE;\n",
              "      border: none;\n",
              "      border-radius: 50%;\n",
              "      cursor: pointer;\n",
              "      display: none;\n",
              "      fill: #1967D2;\n",
              "      height: 32px;\n",
              "      padding: 0 0 0 0;\n",
              "      width: 32px;\n",
              "    }\n",
              "\n",
              "    .colab-df-convert:hover {\n",
              "      background-color: #E2EBFA;\n",
              "      box-shadow: 0px 1px 2px rgba(60, 64, 67, 0.3), 0px 1px 3px 1px rgba(60, 64, 67, 0.15);\n",
              "      fill: #174EA6;\n",
              "    }\n",
              "\n",
              "    [theme=dark] .colab-df-convert {\n",
              "      background-color: #3B4455;\n",
              "      fill: #D2E3FC;\n",
              "    }\n",
              "\n",
              "    [theme=dark] .colab-df-convert:hover {\n",
              "      background-color: #434B5C;\n",
              "      box-shadow: 0px 1px 3px 1px rgba(0, 0, 0, 0.15);\n",
              "      filter: drop-shadow(0px 1px 2px rgba(0, 0, 0, 0.3));\n",
              "      fill: #FFFFFF;\n",
              "    }\n",
              "  </style>\n",
              "\n",
              "      <script>\n",
              "        const buttonEl =\n",
              "          document.querySelector('#df-98eaff51-5233-4942-b02d-4bcf72ef324b button.colab-df-convert');\n",
              "        buttonEl.style.display =\n",
              "          google.colab.kernel.accessAllowed ? 'block' : 'none';\n",
              "\n",
              "        async function convertToInteractive(key) {\n",
              "          const element = document.querySelector('#df-98eaff51-5233-4942-b02d-4bcf72ef324b');\n",
              "          const dataTable =\n",
              "            await google.colab.kernel.invokeFunction('convertToInteractive',\n",
              "                                                     [key], {});\n",
              "          if (!dataTable) return;\n",
              "\n",
              "          const docLinkHtml = 'Like what you see? Visit the ' +\n",
              "            '<a target=\"_blank\" href=https://colab.research.google.com/notebooks/data_table.ipynb>data table notebook</a>'\n",
              "            + ' to learn more about interactive tables.';\n",
              "          element.innerHTML = '';\n",
              "          dataTable['output_type'] = 'display_data';\n",
              "          await google.colab.output.renderOutput(dataTable, element);\n",
              "          const docLink = document.createElement('div');\n",
              "          docLink.innerHTML = docLinkHtml;\n",
              "          element.appendChild(docLink);\n",
              "        }\n",
              "      </script>\n",
              "    </div>\n",
              "  </div>\n",
              "  "
            ]
          },
          "metadata": {},
          "execution_count": 435
        }
      ]
    },
    {
      "cell_type": "code",
      "source": [
        "df1['erro_abs'] = abs (df1.Valores_Analogicos_Sensor_pH - df1.previsao)"
      ],
      "metadata": {
        "id": "BGwMFSH5MqMp"
      },
      "execution_count": 436,
      "outputs": []
    },
    {
      "cell_type": "code",
      "source": [
        "df1.describe()"
      ],
      "metadata": {
        "id": "6yhw4DPNNzfd",
        "outputId": "a49490d8-3e2d-466a-cb32-cfba7362b91a",
        "colab": {
          "base_uri": "https://localhost:8080/",
          "height": 300
        }
      },
      "execution_count": 437,
      "outputs": [
        {
          "output_type": "execute_result",
          "data": {
            "text/plain": [
              "       pH_Meio_Aquoso  Valores_Analogicos_Sensor_pH    previsao   erro_abs\n",
              "count       77.000000                     77.000000   77.000000  77.000000\n",
              "mean         6.267532                    650.582078  650.582078  18.050102\n",
              "std          1.140688                     59.258084   54.211812  15.553535\n",
              "min          4.100000                    540.000000  530.225179   0.106939\n",
              "25%          5.200000                    607.500000  606.266051   6.025197\n",
              "50%          6.400000                    645.250000  644.286486  12.208387\n",
              "75%          7.200000                    698.500000  701.317140  27.704367\n",
              "max          8.800000                    787.500000  753.595239  67.596704"
            ],
            "text/html": [
              "\n",
              "  <div id=\"df-5781ac0a-5a06-4b2b-9280-ab08ef5f1f6b\">\n",
              "    <div class=\"colab-df-container\">\n",
              "      <div>\n",
              "<style scoped>\n",
              "    .dataframe tbody tr th:only-of-type {\n",
              "        vertical-align: middle;\n",
              "    }\n",
              "\n",
              "    .dataframe tbody tr th {\n",
              "        vertical-align: top;\n",
              "    }\n",
              "\n",
              "    .dataframe thead th {\n",
              "        text-align: right;\n",
              "    }\n",
              "</style>\n",
              "<table border=\"1\" class=\"dataframe\">\n",
              "  <thead>\n",
              "    <tr style=\"text-align: right;\">\n",
              "      <th></th>\n",
              "      <th>pH_Meio_Aquoso</th>\n",
              "      <th>Valores_Analogicos_Sensor_pH</th>\n",
              "      <th>previsao</th>\n",
              "      <th>erro_abs</th>\n",
              "    </tr>\n",
              "  </thead>\n",
              "  <tbody>\n",
              "    <tr>\n",
              "      <th>count</th>\n",
              "      <td>77.000000</td>\n",
              "      <td>77.000000</td>\n",
              "      <td>77.000000</td>\n",
              "      <td>77.000000</td>\n",
              "    </tr>\n",
              "    <tr>\n",
              "      <th>mean</th>\n",
              "      <td>6.267532</td>\n",
              "      <td>650.582078</td>\n",
              "      <td>650.582078</td>\n",
              "      <td>18.050102</td>\n",
              "    </tr>\n",
              "    <tr>\n",
              "      <th>std</th>\n",
              "      <td>1.140688</td>\n",
              "      <td>59.258084</td>\n",
              "      <td>54.211812</td>\n",
              "      <td>15.553535</td>\n",
              "    </tr>\n",
              "    <tr>\n",
              "      <th>min</th>\n",
              "      <td>4.100000</td>\n",
              "      <td>540.000000</td>\n",
              "      <td>530.225179</td>\n",
              "      <td>0.106939</td>\n",
              "    </tr>\n",
              "    <tr>\n",
              "      <th>25%</th>\n",
              "      <td>5.200000</td>\n",
              "      <td>607.500000</td>\n",
              "      <td>606.266051</td>\n",
              "      <td>6.025197</td>\n",
              "    </tr>\n",
              "    <tr>\n",
              "      <th>50%</th>\n",
              "      <td>6.400000</td>\n",
              "      <td>645.250000</td>\n",
              "      <td>644.286486</td>\n",
              "      <td>12.208387</td>\n",
              "    </tr>\n",
              "    <tr>\n",
              "      <th>75%</th>\n",
              "      <td>7.200000</td>\n",
              "      <td>698.500000</td>\n",
              "      <td>701.317140</td>\n",
              "      <td>27.704367</td>\n",
              "    </tr>\n",
              "    <tr>\n",
              "      <th>max</th>\n",
              "      <td>8.800000</td>\n",
              "      <td>787.500000</td>\n",
              "      <td>753.595239</td>\n",
              "      <td>67.596704</td>\n",
              "    </tr>\n",
              "  </tbody>\n",
              "</table>\n",
              "</div>\n",
              "      <button class=\"colab-df-convert\" onclick=\"convertToInteractive('df-5781ac0a-5a06-4b2b-9280-ab08ef5f1f6b')\"\n",
              "              title=\"Convert this dataframe to an interactive table.\"\n",
              "              style=\"display:none;\">\n",
              "        \n",
              "  <svg xmlns=\"http://www.w3.org/2000/svg\" height=\"24px\"viewBox=\"0 0 24 24\"\n",
              "       width=\"24px\">\n",
              "    <path d=\"M0 0h24v24H0V0z\" fill=\"none\"/>\n",
              "    <path d=\"M18.56 5.44l.94 2.06.94-2.06 2.06-.94-2.06-.94-.94-2.06-.94 2.06-2.06.94zm-11 1L8.5 8.5l.94-2.06 2.06-.94-2.06-.94L8.5 2.5l-.94 2.06-2.06.94zm10 10l.94 2.06.94-2.06 2.06-.94-2.06-.94-.94-2.06-.94 2.06-2.06.94z\"/><path d=\"M17.41 7.96l-1.37-1.37c-.4-.4-.92-.59-1.43-.59-.52 0-1.04.2-1.43.59L10.3 9.45l-7.72 7.72c-.78.78-.78 2.05 0 2.83L4 21.41c.39.39.9.59 1.41.59.51 0 1.02-.2 1.41-.59l7.78-7.78 2.81-2.81c.8-.78.8-2.07 0-2.86zM5.41 20L4 18.59l7.72-7.72 1.47 1.35L5.41 20z\"/>\n",
              "  </svg>\n",
              "      </button>\n",
              "      \n",
              "  <style>\n",
              "    .colab-df-container {\n",
              "      display:flex;\n",
              "      flex-wrap:wrap;\n",
              "      gap: 12px;\n",
              "    }\n",
              "\n",
              "    .colab-df-convert {\n",
              "      background-color: #E8F0FE;\n",
              "      border: none;\n",
              "      border-radius: 50%;\n",
              "      cursor: pointer;\n",
              "      display: none;\n",
              "      fill: #1967D2;\n",
              "      height: 32px;\n",
              "      padding: 0 0 0 0;\n",
              "      width: 32px;\n",
              "    }\n",
              "\n",
              "    .colab-df-convert:hover {\n",
              "      background-color: #E2EBFA;\n",
              "      box-shadow: 0px 1px 2px rgba(60, 64, 67, 0.3), 0px 1px 3px 1px rgba(60, 64, 67, 0.15);\n",
              "      fill: #174EA6;\n",
              "    }\n",
              "\n",
              "    [theme=dark] .colab-df-convert {\n",
              "      background-color: #3B4455;\n",
              "      fill: #D2E3FC;\n",
              "    }\n",
              "\n",
              "    [theme=dark] .colab-df-convert:hover {\n",
              "      background-color: #434B5C;\n",
              "      box-shadow: 0px 1px 3px 1px rgba(0, 0, 0, 0.15);\n",
              "      filter: drop-shadow(0px 1px 2px rgba(0, 0, 0, 0.3));\n",
              "      fill: #FFFFFF;\n",
              "    }\n",
              "  </style>\n",
              "\n",
              "      <script>\n",
              "        const buttonEl =\n",
              "          document.querySelector('#df-5781ac0a-5a06-4b2b-9280-ab08ef5f1f6b button.colab-df-convert');\n",
              "        buttonEl.style.display =\n",
              "          google.colab.kernel.accessAllowed ? 'block' : 'none';\n",
              "\n",
              "        async function convertToInteractive(key) {\n",
              "          const element = document.querySelector('#df-5781ac0a-5a06-4b2b-9280-ab08ef5f1f6b');\n",
              "          const dataTable =\n",
              "            await google.colab.kernel.invokeFunction('convertToInteractive',\n",
              "                                                     [key], {});\n",
              "          if (!dataTable) return;\n",
              "\n",
              "          const docLinkHtml = 'Like what you see? Visit the ' +\n",
              "            '<a target=\"_blank\" href=https://colab.research.google.com/notebooks/data_table.ipynb>data table notebook</a>'\n",
              "            + ' to learn more about interactive tables.';\n",
              "          element.innerHTML = '';\n",
              "          dataTable['output_type'] = 'display_data';\n",
              "          await google.colab.output.renderOutput(dataTable, element);\n",
              "          const docLink = document.createElement('div');\n",
              "          docLink.innerHTML = docLinkHtml;\n",
              "          element.appendChild(docLink);\n",
              "        }\n",
              "      </script>\n",
              "    </div>\n",
              "  </div>\n",
              "  "
            ]
          },
          "metadata": {},
          "execution_count": 437
        }
      ]
    },
    {
      "cell_type": "markdown",
      "source": [
        "Validação do modelo"
      ],
      "metadata": {
        "id": "Z42QW3CYOIXf"
      }
    },
    {
      "cell_type": "code",
      "source": [
        "#Erro Absoluto Médio(MAE)\n",
        "from sklearn.metrics import mean_absolute_error\n",
        "mean_absolute_error(df1.Valores_Analogicos_Sensor_pH, df1.previsao)\n"
      ],
      "metadata": {
        "id": "QT61DXZlOHPT",
        "outputId": "991cc496-0617-4be7-8ed7-337d3966251d",
        "colab": {
          "base_uri": "https://localhost:8080/"
        }
      },
      "execution_count": 438,
      "outputs": [
        {
          "output_type": "execute_result",
          "data": {
            "text/plain": [
              "18.05010175380894"
            ]
          },
          "metadata": {},
          "execution_count": 438
        }
      ]
    },
    {
      "cell_type": "code",
      "source": [
        "#Erro médio Quadrático(MSE)\n",
        "from sklearn.metrics import mean_squared_error\n",
        "mean_squared_error(df1.Valores_Analogicos_Sensor_pH, df1.previsao)"
      ],
      "metadata": {
        "id": "ovfhBockPBmF",
        "outputId": "2ec0831b-602d-4db5-c78f-d76ca3396909",
        "colab": {
          "base_uri": "https://localhost:8080/"
        }
      },
      "execution_count": 439,
      "outputs": [
        {
          "output_type": "execute_result",
          "data": {
            "text/plain": [
              "564.5769128711426"
            ]
          },
          "metadata": {},
          "execution_count": 439
        }
      ]
    },
    {
      "cell_type": "markdown",
      "source": [
        "#Regressão Lasso\n",
        "\n",
        "Regressão Lasso estamos tratando de uma regressão semelhante à linear, só que aqui o que ocorre é a minimização da soma dos resíduos quadrados somados a uma constante lambda multiplicada pela soma dos coeficientes em módulo.\n",
        "\n"
      ],
      "metadata": {
        "id": "QpMRxcmkPxFF"
      }
    },
    {
      "cell_type": "code",
      "source": [
        "from sklearn.linear_model import Lasso"
      ],
      "metadata": {
        "id": "Pcc2RRwcRAjl"
      },
      "execution_count": 440,
      "outputs": []
    },
    {
      "cell_type": "code",
      "source": [
        "df2=df.drop(columns=['pH_Medida_Direta_Akso'])#apaga a coluna pH medida direta"
      ],
      "metadata": {
        "id": "060uW9dpRbKU"
      },
      "execution_count": 441,
      "outputs": []
    },
    {
      "cell_type": "code",
      "source": [
        "df2"
      ],
      "metadata": {
        "id": "SJuEzxMLRmHR",
        "outputId": "943b9002-4fbe-48b9-9700-41f582f594d4",
        "colab": {
          "base_uri": "https://localhost:8080/",
          "height": 424
        }
      },
      "execution_count": 442,
      "outputs": [
        {
          "output_type": "execute_result",
          "data": {
            "text/plain": [
              "    pH_Meio_Aquoso  Valores_Analogicos_Sensor_pH\n",
              "0              5.1                        711.00\n",
              "1              4.5                        724.00\n",
              "2              7.0                        601.00\n",
              "3              4.2                        763.50\n",
              "4              6.1                        645.25\n",
              "..             ...                           ...\n",
              "73             7.5                        644.10\n",
              "74             7.0                        609.40\n",
              "75             7.3                        578.80\n",
              "76             6.1                        650.50\n",
              "77             5.8                        633.00\n",
              "\n",
              "[77 rows x 2 columns]"
            ],
            "text/html": [
              "\n",
              "  <div id=\"df-742f8111-1de2-4894-988a-3ee9c4df6721\">\n",
              "    <div class=\"colab-df-container\">\n",
              "      <div>\n",
              "<style scoped>\n",
              "    .dataframe tbody tr th:only-of-type {\n",
              "        vertical-align: middle;\n",
              "    }\n",
              "\n",
              "    .dataframe tbody tr th {\n",
              "        vertical-align: top;\n",
              "    }\n",
              "\n",
              "    .dataframe thead th {\n",
              "        text-align: right;\n",
              "    }\n",
              "</style>\n",
              "<table border=\"1\" class=\"dataframe\">\n",
              "  <thead>\n",
              "    <tr style=\"text-align: right;\">\n",
              "      <th></th>\n",
              "      <th>pH_Meio_Aquoso</th>\n",
              "      <th>Valores_Analogicos_Sensor_pH</th>\n",
              "    </tr>\n",
              "  </thead>\n",
              "  <tbody>\n",
              "    <tr>\n",
              "      <th>0</th>\n",
              "      <td>5.1</td>\n",
              "      <td>711.00</td>\n",
              "    </tr>\n",
              "    <tr>\n",
              "      <th>1</th>\n",
              "      <td>4.5</td>\n",
              "      <td>724.00</td>\n",
              "    </tr>\n",
              "    <tr>\n",
              "      <th>2</th>\n",
              "      <td>7.0</td>\n",
              "      <td>601.00</td>\n",
              "    </tr>\n",
              "    <tr>\n",
              "      <th>3</th>\n",
              "      <td>4.2</td>\n",
              "      <td>763.50</td>\n",
              "    </tr>\n",
              "    <tr>\n",
              "      <th>4</th>\n",
              "      <td>6.1</td>\n",
              "      <td>645.25</td>\n",
              "    </tr>\n",
              "    <tr>\n",
              "      <th>...</th>\n",
              "      <td>...</td>\n",
              "      <td>...</td>\n",
              "    </tr>\n",
              "    <tr>\n",
              "      <th>73</th>\n",
              "      <td>7.5</td>\n",
              "      <td>644.10</td>\n",
              "    </tr>\n",
              "    <tr>\n",
              "      <th>74</th>\n",
              "      <td>7.0</td>\n",
              "      <td>609.40</td>\n",
              "    </tr>\n",
              "    <tr>\n",
              "      <th>75</th>\n",
              "      <td>7.3</td>\n",
              "      <td>578.80</td>\n",
              "    </tr>\n",
              "    <tr>\n",
              "      <th>76</th>\n",
              "      <td>6.1</td>\n",
              "      <td>650.50</td>\n",
              "    </tr>\n",
              "    <tr>\n",
              "      <th>77</th>\n",
              "      <td>5.8</td>\n",
              "      <td>633.00</td>\n",
              "    </tr>\n",
              "  </tbody>\n",
              "</table>\n",
              "<p>77 rows × 2 columns</p>\n",
              "</div>\n",
              "      <button class=\"colab-df-convert\" onclick=\"convertToInteractive('df-742f8111-1de2-4894-988a-3ee9c4df6721')\"\n",
              "              title=\"Convert this dataframe to an interactive table.\"\n",
              "              style=\"display:none;\">\n",
              "        \n",
              "  <svg xmlns=\"http://www.w3.org/2000/svg\" height=\"24px\"viewBox=\"0 0 24 24\"\n",
              "       width=\"24px\">\n",
              "    <path d=\"M0 0h24v24H0V0z\" fill=\"none\"/>\n",
              "    <path d=\"M18.56 5.44l.94 2.06.94-2.06 2.06-.94-2.06-.94-.94-2.06-.94 2.06-2.06.94zm-11 1L8.5 8.5l.94-2.06 2.06-.94-2.06-.94L8.5 2.5l-.94 2.06-2.06.94zm10 10l.94 2.06.94-2.06 2.06-.94-2.06-.94-.94-2.06-.94 2.06-2.06.94z\"/><path d=\"M17.41 7.96l-1.37-1.37c-.4-.4-.92-.59-1.43-.59-.52 0-1.04.2-1.43.59L10.3 9.45l-7.72 7.72c-.78.78-.78 2.05 0 2.83L4 21.41c.39.39.9.59 1.41.59.51 0 1.02-.2 1.41-.59l7.78-7.78 2.81-2.81c.8-.78.8-2.07 0-2.86zM5.41 20L4 18.59l7.72-7.72 1.47 1.35L5.41 20z\"/>\n",
              "  </svg>\n",
              "      </button>\n",
              "      \n",
              "  <style>\n",
              "    .colab-df-container {\n",
              "      display:flex;\n",
              "      flex-wrap:wrap;\n",
              "      gap: 12px;\n",
              "    }\n",
              "\n",
              "    .colab-df-convert {\n",
              "      background-color: #E8F0FE;\n",
              "      border: none;\n",
              "      border-radius: 50%;\n",
              "      cursor: pointer;\n",
              "      display: none;\n",
              "      fill: #1967D2;\n",
              "      height: 32px;\n",
              "      padding: 0 0 0 0;\n",
              "      width: 32px;\n",
              "    }\n",
              "\n",
              "    .colab-df-convert:hover {\n",
              "      background-color: #E2EBFA;\n",
              "      box-shadow: 0px 1px 2px rgba(60, 64, 67, 0.3), 0px 1px 3px 1px rgba(60, 64, 67, 0.15);\n",
              "      fill: #174EA6;\n",
              "    }\n",
              "\n",
              "    [theme=dark] .colab-df-convert {\n",
              "      background-color: #3B4455;\n",
              "      fill: #D2E3FC;\n",
              "    }\n",
              "\n",
              "    [theme=dark] .colab-df-convert:hover {\n",
              "      background-color: #434B5C;\n",
              "      box-shadow: 0px 1px 3px 1px rgba(0, 0, 0, 0.15);\n",
              "      filter: drop-shadow(0px 1px 2px rgba(0, 0, 0, 0.3));\n",
              "      fill: #FFFFFF;\n",
              "    }\n",
              "  </style>\n",
              "\n",
              "      <script>\n",
              "        const buttonEl =\n",
              "          document.querySelector('#df-742f8111-1de2-4894-988a-3ee9c4df6721 button.colab-df-convert');\n",
              "        buttonEl.style.display =\n",
              "          google.colab.kernel.accessAllowed ? 'block' : 'none';\n",
              "\n",
              "        async function convertToInteractive(key) {\n",
              "          const element = document.querySelector('#df-742f8111-1de2-4894-988a-3ee9c4df6721');\n",
              "          const dataTable =\n",
              "            await google.colab.kernel.invokeFunction('convertToInteractive',\n",
              "                                                     [key], {});\n",
              "          if (!dataTable) return;\n",
              "\n",
              "          const docLinkHtml = 'Like what you see? Visit the ' +\n",
              "            '<a target=\"_blank\" href=https://colab.research.google.com/notebooks/data_table.ipynb>data table notebook</a>'\n",
              "            + ' to learn more about interactive tables.';\n",
              "          element.innerHTML = '';\n",
              "          dataTable['output_type'] = 'display_data';\n",
              "          await google.colab.output.renderOutput(dataTable, element);\n",
              "          const docLink = document.createElement('div');\n",
              "          docLink.innerHTML = docLinkHtml;\n",
              "          element.appendChild(docLink);\n",
              "        }\n",
              "      </script>\n",
              "    </div>\n",
              "  </div>\n",
              "  "
            ]
          },
          "metadata": {},
          "execution_count": 442
        }
      ]
    },
    {
      "cell_type": "code",
      "source": [
        "x1= df2.iloc[ : , 0:1].values\n",
        "y1= df2.iloc[ : , 1].values"
      ],
      "metadata": {
        "id": "G0Tl_vqKRJds"
      },
      "execution_count": 443,
      "outputs": []
    },
    {
      "cell_type": "code",
      "source": [
        "#deve-se escolher o melhor parametro de regularização(Alpha)\n",
        "modelo_lasso = Lasso(alpha= 0.01)\n",
        "modelo_lasso.fit(x1, y1)\n",
        "modelo_lasso.score(x1, y1)"
      ],
      "metadata": {
        "id": "EDOXfXU2Szc-",
        "outputId": "ca7a6fff-a123-4dfd-dea5-18026e828343",
        "colab": {
          "base_uri": "https://localhost:8080/"
        }
      },
      "execution_count": 444,
      "outputs": [
        {
          "output_type": "execute_result",
          "data": {
            "text/plain": [
              "0.8371060068847258"
            ]
          },
          "metadata": {},
          "execution_count": 444
        }
      ]
    },
    {
      "cell_type": "code",
      "source": [
        "modelo_lasso.intercept_"
      ],
      "metadata": {
        "id": "H7_Di3mXTbRZ",
        "outputId": "66dc0ea3-ce33-4928-b929-803acba35038",
        "colab": {
          "base_uri": "https://localhost:8080/"
        }
      },
      "execution_count": 445,
      "outputs": [
        {
          "output_type": "execute_result",
          "data": {
            "text/plain": [
              "948.4312905479588"
            ]
          },
          "metadata": {},
          "execution_count": 445
        }
      ]
    },
    {
      "cell_type": "code",
      "source": [
        "modelo_lasso.coef_"
      ],
      "metadata": {
        "id": "YjlQu5D_Tjwm",
        "outputId": "c58912ca-31cb-40b2-d069-ff9b169b986a",
        "colab": {
          "base_uri": "https://localhost:8080/"
        }
      },
      "execution_count": 446,
      "outputs": [
        {
          "output_type": "execute_result",
          "data": {
            "text/plain": [
              "array([-47.52256397])"
            ]
          },
          "metadata": {},
          "execution_count": 446
        }
      ]
    },
    {
      "cell_type": "markdown",
      "source": [
        "pH meio aquoso = 948.4312 --47.5225*Valores_Analogicos_Sensor_pH"
      ],
      "metadata": {
        "id": "j24FkF3iTqvD"
      }
    },
    {
      "cell_type": "code",
      "source": [
        "previsaolasso = modelo_lasso.predict(x1)\n"
      ],
      "metadata": {
        "id": "AE1HR1FEULuU"
      },
      "execution_count": 447,
      "outputs": []
    },
    {
      "cell_type": "code",
      "source": [
        "df2['previsaolasso'] = modelo_lasso.predict(x1)"
      ],
      "metadata": {
        "id": "J4IgBbeUU5co"
      },
      "execution_count": 448,
      "outputs": []
    },
    {
      "cell_type": "code",
      "source": [
        "df2['erro_abs'] = abs (df2.Valores_Analogicos_Sensor_pH - df2.previsaolasso)"
      ],
      "metadata": {
        "id": "WgdCtTs0VHoz"
      },
      "execution_count": 449,
      "outputs": []
    },
    {
      "cell_type": "code",
      "source": [
        "df2"
      ],
      "metadata": {
        "id": "5TYMpVDIVUWx",
        "outputId": "46b70298-df57-4cd0-d377-5ba21b002c0c",
        "colab": {
          "base_uri": "https://localhost:8080/",
          "height": 424
        }
      },
      "execution_count": 450,
      "outputs": [
        {
          "output_type": "execute_result",
          "data": {
            "text/plain": [
              "    pH_Meio_Aquoso  Valores_Analogicos_Sensor_pH  previsaolasso   erro_abs\n",
              "0              5.1                        711.00     706.066214   4.933786\n",
              "1              4.5                        724.00     734.579753  10.579753\n",
              "2              7.0                        601.00     615.773343  14.773343\n",
              "3              4.2                        763.50     748.836522  14.663478\n",
              "4              6.1                        645.25     658.543650  13.293650\n",
              "..             ...                           ...            ...        ...\n",
              "73             7.5                        644.10     592.012061  52.087939\n",
              "74             7.0                        609.40     615.773343   6.373343\n",
              "75             7.3                        578.80     601.516574  22.716574\n",
              "76             6.1                        650.50     658.543650   8.043650\n",
              "77             5.8                        633.00     672.800420  39.800420\n",
              "\n",
              "[77 rows x 4 columns]"
            ],
            "text/html": [
              "\n",
              "  <div id=\"df-97c662c9-e9ee-4f32-80d0-de94ef85a136\">\n",
              "    <div class=\"colab-df-container\">\n",
              "      <div>\n",
              "<style scoped>\n",
              "    .dataframe tbody tr th:only-of-type {\n",
              "        vertical-align: middle;\n",
              "    }\n",
              "\n",
              "    .dataframe tbody tr th {\n",
              "        vertical-align: top;\n",
              "    }\n",
              "\n",
              "    .dataframe thead th {\n",
              "        text-align: right;\n",
              "    }\n",
              "</style>\n",
              "<table border=\"1\" class=\"dataframe\">\n",
              "  <thead>\n",
              "    <tr style=\"text-align: right;\">\n",
              "      <th></th>\n",
              "      <th>pH_Meio_Aquoso</th>\n",
              "      <th>Valores_Analogicos_Sensor_pH</th>\n",
              "      <th>previsaolasso</th>\n",
              "      <th>erro_abs</th>\n",
              "    </tr>\n",
              "  </thead>\n",
              "  <tbody>\n",
              "    <tr>\n",
              "      <th>0</th>\n",
              "      <td>5.1</td>\n",
              "      <td>711.00</td>\n",
              "      <td>706.066214</td>\n",
              "      <td>4.933786</td>\n",
              "    </tr>\n",
              "    <tr>\n",
              "      <th>1</th>\n",
              "      <td>4.5</td>\n",
              "      <td>724.00</td>\n",
              "      <td>734.579753</td>\n",
              "      <td>10.579753</td>\n",
              "    </tr>\n",
              "    <tr>\n",
              "      <th>2</th>\n",
              "      <td>7.0</td>\n",
              "      <td>601.00</td>\n",
              "      <td>615.773343</td>\n",
              "      <td>14.773343</td>\n",
              "    </tr>\n",
              "    <tr>\n",
              "      <th>3</th>\n",
              "      <td>4.2</td>\n",
              "      <td>763.50</td>\n",
              "      <td>748.836522</td>\n",
              "      <td>14.663478</td>\n",
              "    </tr>\n",
              "    <tr>\n",
              "      <th>4</th>\n",
              "      <td>6.1</td>\n",
              "      <td>645.25</td>\n",
              "      <td>658.543650</td>\n",
              "      <td>13.293650</td>\n",
              "    </tr>\n",
              "    <tr>\n",
              "      <th>...</th>\n",
              "      <td>...</td>\n",
              "      <td>...</td>\n",
              "      <td>...</td>\n",
              "      <td>...</td>\n",
              "    </tr>\n",
              "    <tr>\n",
              "      <th>73</th>\n",
              "      <td>7.5</td>\n",
              "      <td>644.10</td>\n",
              "      <td>592.012061</td>\n",
              "      <td>52.087939</td>\n",
              "    </tr>\n",
              "    <tr>\n",
              "      <th>74</th>\n",
              "      <td>7.0</td>\n",
              "      <td>609.40</td>\n",
              "      <td>615.773343</td>\n",
              "      <td>6.373343</td>\n",
              "    </tr>\n",
              "    <tr>\n",
              "      <th>75</th>\n",
              "      <td>7.3</td>\n",
              "      <td>578.80</td>\n",
              "      <td>601.516574</td>\n",
              "      <td>22.716574</td>\n",
              "    </tr>\n",
              "    <tr>\n",
              "      <th>76</th>\n",
              "      <td>6.1</td>\n",
              "      <td>650.50</td>\n",
              "      <td>658.543650</td>\n",
              "      <td>8.043650</td>\n",
              "    </tr>\n",
              "    <tr>\n",
              "      <th>77</th>\n",
              "      <td>5.8</td>\n",
              "      <td>633.00</td>\n",
              "      <td>672.800420</td>\n",
              "      <td>39.800420</td>\n",
              "    </tr>\n",
              "  </tbody>\n",
              "</table>\n",
              "<p>77 rows × 4 columns</p>\n",
              "</div>\n",
              "      <button class=\"colab-df-convert\" onclick=\"convertToInteractive('df-97c662c9-e9ee-4f32-80d0-de94ef85a136')\"\n",
              "              title=\"Convert this dataframe to an interactive table.\"\n",
              "              style=\"display:none;\">\n",
              "        \n",
              "  <svg xmlns=\"http://www.w3.org/2000/svg\" height=\"24px\"viewBox=\"0 0 24 24\"\n",
              "       width=\"24px\">\n",
              "    <path d=\"M0 0h24v24H0V0z\" fill=\"none\"/>\n",
              "    <path d=\"M18.56 5.44l.94 2.06.94-2.06 2.06-.94-2.06-.94-.94-2.06-.94 2.06-2.06.94zm-11 1L8.5 8.5l.94-2.06 2.06-.94-2.06-.94L8.5 2.5l-.94 2.06-2.06.94zm10 10l.94 2.06.94-2.06 2.06-.94-2.06-.94-.94-2.06-.94 2.06-2.06.94z\"/><path d=\"M17.41 7.96l-1.37-1.37c-.4-.4-.92-.59-1.43-.59-.52 0-1.04.2-1.43.59L10.3 9.45l-7.72 7.72c-.78.78-.78 2.05 0 2.83L4 21.41c.39.39.9.59 1.41.59.51 0 1.02-.2 1.41-.59l7.78-7.78 2.81-2.81c.8-.78.8-2.07 0-2.86zM5.41 20L4 18.59l7.72-7.72 1.47 1.35L5.41 20z\"/>\n",
              "  </svg>\n",
              "      </button>\n",
              "      \n",
              "  <style>\n",
              "    .colab-df-container {\n",
              "      display:flex;\n",
              "      flex-wrap:wrap;\n",
              "      gap: 12px;\n",
              "    }\n",
              "\n",
              "    .colab-df-convert {\n",
              "      background-color: #E8F0FE;\n",
              "      border: none;\n",
              "      border-radius: 50%;\n",
              "      cursor: pointer;\n",
              "      display: none;\n",
              "      fill: #1967D2;\n",
              "      height: 32px;\n",
              "      padding: 0 0 0 0;\n",
              "      width: 32px;\n",
              "    }\n",
              "\n",
              "    .colab-df-convert:hover {\n",
              "      background-color: #E2EBFA;\n",
              "      box-shadow: 0px 1px 2px rgba(60, 64, 67, 0.3), 0px 1px 3px 1px rgba(60, 64, 67, 0.15);\n",
              "      fill: #174EA6;\n",
              "    }\n",
              "\n",
              "    [theme=dark] .colab-df-convert {\n",
              "      background-color: #3B4455;\n",
              "      fill: #D2E3FC;\n",
              "    }\n",
              "\n",
              "    [theme=dark] .colab-df-convert:hover {\n",
              "      background-color: #434B5C;\n",
              "      box-shadow: 0px 1px 3px 1px rgba(0, 0, 0, 0.15);\n",
              "      filter: drop-shadow(0px 1px 2px rgba(0, 0, 0, 0.3));\n",
              "      fill: #FFFFFF;\n",
              "    }\n",
              "  </style>\n",
              "\n",
              "      <script>\n",
              "        const buttonEl =\n",
              "          document.querySelector('#df-97c662c9-e9ee-4f32-80d0-de94ef85a136 button.colab-df-convert');\n",
              "        buttonEl.style.display =\n",
              "          google.colab.kernel.accessAllowed ? 'block' : 'none';\n",
              "\n",
              "        async function convertToInteractive(key) {\n",
              "          const element = document.querySelector('#df-97c662c9-e9ee-4f32-80d0-de94ef85a136');\n",
              "          const dataTable =\n",
              "            await google.colab.kernel.invokeFunction('convertToInteractive',\n",
              "                                                     [key], {});\n",
              "          if (!dataTable) return;\n",
              "\n",
              "          const docLinkHtml = 'Like what you see? Visit the ' +\n",
              "            '<a target=\"_blank\" href=https://colab.research.google.com/notebooks/data_table.ipynb>data table notebook</a>'\n",
              "            + ' to learn more about interactive tables.';\n",
              "          element.innerHTML = '';\n",
              "          dataTable['output_type'] = 'display_data';\n",
              "          await google.colab.output.renderOutput(dataTable, element);\n",
              "          const docLink = document.createElement('div');\n",
              "          docLink.innerHTML = docLinkHtml;\n",
              "          element.appendChild(docLink);\n",
              "        }\n",
              "      </script>\n",
              "    </div>\n",
              "  </div>\n",
              "  "
            ]
          },
          "metadata": {},
          "execution_count": 450
        }
      ]
    },
    {
      "cell_type": "markdown",
      "source": [
        "validar modelo"
      ],
      "metadata": {
        "id": "mB1Bh8gVVfWN"
      }
    },
    {
      "cell_type": "code",
      "source": [
        "#Erro Absoluto Médio(MAE)\n",
        "from sklearn.metrics import mean_absolute_error\n",
        "mean_absolute_error(df2.Valores_Analogicos_Sensor_pH, df2.previsaolasso)"
      ],
      "metadata": {
        "id": "gv1XoLmMVWxU",
        "outputId": "308b5c18-f62e-41f7-f877-2f436ccd58fd",
        "colab": {
          "base_uri": "https://localhost:8080/"
        }
      },
      "execution_count": 451,
      "outputs": [
        {
          "output_type": "execute_result",
          "data": {
            "text/plain": [
              "18.049877143202348"
            ]
          },
          "metadata": {},
          "execution_count": 451
        }
      ]
    },
    {
      "cell_type": "code",
      "source": [
        "#Erro médio Quadrático(MSE)\n",
        "from sklearn.metrics import mean_squared_error\n",
        "mean_squared_error(df2.Valores_Analogicos_Sensor_pH, df2.previsaolasso)"
      ],
      "metadata": {
        "id": "RuwRNHyAVk7O",
        "outputId": "057469d9-6c0b-4455-b9b2-97675f12f22d",
        "colab": {
          "base_uri": "https://localhost:8080/"
        }
      },
      "execution_count": 452,
      "outputs": [
        {
          "output_type": "execute_result",
          "data": {
            "text/plain": [
              "564.5769610732774"
            ]
          },
          "metadata": {},
          "execution_count": 452
        }
      ]
    },
    {
      "cell_type": "markdown",
      "source": [
        "#Regressão Elastic Net"
      ],
      "metadata": {
        "id": "hqLM1p5VVvVE"
      }
    },
    {
      "cell_type": "code",
      "source": [
        "from sklearn.linear_model import ElasticNet"
      ],
      "metadata": {
        "id": "wlsJmwoRWI2T"
      },
      "execution_count": 453,
      "outputs": []
    },
    {
      "cell_type": "code",
      "source": [
        "df3=df.drop(columns=['pH_Medida_Direta_Akso'])#apaga a coluna pH medida direta"
      ],
      "metadata": {
        "id": "FOOHy5z_W7gC"
      },
      "execution_count": 454,
      "outputs": []
    },
    {
      "cell_type": "code",
      "source": [
        "df3"
      ],
      "metadata": {
        "id": "23VqCD4XXC0u",
        "outputId": "ae70aa37-3b82-49fa-e8be-a6b9830e3394",
        "colab": {
          "base_uri": "https://localhost:8080/",
          "height": 424
        }
      },
      "execution_count": 455,
      "outputs": [
        {
          "output_type": "execute_result",
          "data": {
            "text/plain": [
              "    pH_Meio_Aquoso  Valores_Analogicos_Sensor_pH\n",
              "0              5.1                        711.00\n",
              "1              4.5                        724.00\n",
              "2              7.0                        601.00\n",
              "3              4.2                        763.50\n",
              "4              6.1                        645.25\n",
              "..             ...                           ...\n",
              "73             7.5                        644.10\n",
              "74             7.0                        609.40\n",
              "75             7.3                        578.80\n",
              "76             6.1                        650.50\n",
              "77             5.8                        633.00\n",
              "\n",
              "[77 rows x 2 columns]"
            ],
            "text/html": [
              "\n",
              "  <div id=\"df-b2335edc-8786-4b52-99ac-af3cfabbf9cb\">\n",
              "    <div class=\"colab-df-container\">\n",
              "      <div>\n",
              "<style scoped>\n",
              "    .dataframe tbody tr th:only-of-type {\n",
              "        vertical-align: middle;\n",
              "    }\n",
              "\n",
              "    .dataframe tbody tr th {\n",
              "        vertical-align: top;\n",
              "    }\n",
              "\n",
              "    .dataframe thead th {\n",
              "        text-align: right;\n",
              "    }\n",
              "</style>\n",
              "<table border=\"1\" class=\"dataframe\">\n",
              "  <thead>\n",
              "    <tr style=\"text-align: right;\">\n",
              "      <th></th>\n",
              "      <th>pH_Meio_Aquoso</th>\n",
              "      <th>Valores_Analogicos_Sensor_pH</th>\n",
              "    </tr>\n",
              "  </thead>\n",
              "  <tbody>\n",
              "    <tr>\n",
              "      <th>0</th>\n",
              "      <td>5.1</td>\n",
              "      <td>711.00</td>\n",
              "    </tr>\n",
              "    <tr>\n",
              "      <th>1</th>\n",
              "      <td>4.5</td>\n",
              "      <td>724.00</td>\n",
              "    </tr>\n",
              "    <tr>\n",
              "      <th>2</th>\n",
              "      <td>7.0</td>\n",
              "      <td>601.00</td>\n",
              "    </tr>\n",
              "    <tr>\n",
              "      <th>3</th>\n",
              "      <td>4.2</td>\n",
              "      <td>763.50</td>\n",
              "    </tr>\n",
              "    <tr>\n",
              "      <th>4</th>\n",
              "      <td>6.1</td>\n",
              "      <td>645.25</td>\n",
              "    </tr>\n",
              "    <tr>\n",
              "      <th>...</th>\n",
              "      <td>...</td>\n",
              "      <td>...</td>\n",
              "    </tr>\n",
              "    <tr>\n",
              "      <th>73</th>\n",
              "      <td>7.5</td>\n",
              "      <td>644.10</td>\n",
              "    </tr>\n",
              "    <tr>\n",
              "      <th>74</th>\n",
              "      <td>7.0</td>\n",
              "      <td>609.40</td>\n",
              "    </tr>\n",
              "    <tr>\n",
              "      <th>75</th>\n",
              "      <td>7.3</td>\n",
              "      <td>578.80</td>\n",
              "    </tr>\n",
              "    <tr>\n",
              "      <th>76</th>\n",
              "      <td>6.1</td>\n",
              "      <td>650.50</td>\n",
              "    </tr>\n",
              "    <tr>\n",
              "      <th>77</th>\n",
              "      <td>5.8</td>\n",
              "      <td>633.00</td>\n",
              "    </tr>\n",
              "  </tbody>\n",
              "</table>\n",
              "<p>77 rows × 2 columns</p>\n",
              "</div>\n",
              "      <button class=\"colab-df-convert\" onclick=\"convertToInteractive('df-b2335edc-8786-4b52-99ac-af3cfabbf9cb')\"\n",
              "              title=\"Convert this dataframe to an interactive table.\"\n",
              "              style=\"display:none;\">\n",
              "        \n",
              "  <svg xmlns=\"http://www.w3.org/2000/svg\" height=\"24px\"viewBox=\"0 0 24 24\"\n",
              "       width=\"24px\">\n",
              "    <path d=\"M0 0h24v24H0V0z\" fill=\"none\"/>\n",
              "    <path d=\"M18.56 5.44l.94 2.06.94-2.06 2.06-.94-2.06-.94-.94-2.06-.94 2.06-2.06.94zm-11 1L8.5 8.5l.94-2.06 2.06-.94-2.06-.94L8.5 2.5l-.94 2.06-2.06.94zm10 10l.94 2.06.94-2.06 2.06-.94-2.06-.94-.94-2.06-.94 2.06-2.06.94z\"/><path d=\"M17.41 7.96l-1.37-1.37c-.4-.4-.92-.59-1.43-.59-.52 0-1.04.2-1.43.59L10.3 9.45l-7.72 7.72c-.78.78-.78 2.05 0 2.83L4 21.41c.39.39.9.59 1.41.59.51 0 1.02-.2 1.41-.59l7.78-7.78 2.81-2.81c.8-.78.8-2.07 0-2.86zM5.41 20L4 18.59l7.72-7.72 1.47 1.35L5.41 20z\"/>\n",
              "  </svg>\n",
              "      </button>\n",
              "      \n",
              "  <style>\n",
              "    .colab-df-container {\n",
              "      display:flex;\n",
              "      flex-wrap:wrap;\n",
              "      gap: 12px;\n",
              "    }\n",
              "\n",
              "    .colab-df-convert {\n",
              "      background-color: #E8F0FE;\n",
              "      border: none;\n",
              "      border-radius: 50%;\n",
              "      cursor: pointer;\n",
              "      display: none;\n",
              "      fill: #1967D2;\n",
              "      height: 32px;\n",
              "      padding: 0 0 0 0;\n",
              "      width: 32px;\n",
              "    }\n",
              "\n",
              "    .colab-df-convert:hover {\n",
              "      background-color: #E2EBFA;\n",
              "      box-shadow: 0px 1px 2px rgba(60, 64, 67, 0.3), 0px 1px 3px 1px rgba(60, 64, 67, 0.15);\n",
              "      fill: #174EA6;\n",
              "    }\n",
              "\n",
              "    [theme=dark] .colab-df-convert {\n",
              "      background-color: #3B4455;\n",
              "      fill: #D2E3FC;\n",
              "    }\n",
              "\n",
              "    [theme=dark] .colab-df-convert:hover {\n",
              "      background-color: #434B5C;\n",
              "      box-shadow: 0px 1px 3px 1px rgba(0, 0, 0, 0.15);\n",
              "      filter: drop-shadow(0px 1px 2px rgba(0, 0, 0, 0.3));\n",
              "      fill: #FFFFFF;\n",
              "    }\n",
              "  </style>\n",
              "\n",
              "      <script>\n",
              "        const buttonEl =\n",
              "          document.querySelector('#df-b2335edc-8786-4b52-99ac-af3cfabbf9cb button.colab-df-convert');\n",
              "        buttonEl.style.display =\n",
              "          google.colab.kernel.accessAllowed ? 'block' : 'none';\n",
              "\n",
              "        async function convertToInteractive(key) {\n",
              "          const element = document.querySelector('#df-b2335edc-8786-4b52-99ac-af3cfabbf9cb');\n",
              "          const dataTable =\n",
              "            await google.colab.kernel.invokeFunction('convertToInteractive',\n",
              "                                                     [key], {});\n",
              "          if (!dataTable) return;\n",
              "\n",
              "          const docLinkHtml = 'Like what you see? Visit the ' +\n",
              "            '<a target=\"_blank\" href=https://colab.research.google.com/notebooks/data_table.ipynb>data table notebook</a>'\n",
              "            + ' to learn more about interactive tables.';\n",
              "          element.innerHTML = '';\n",
              "          dataTable['output_type'] = 'display_data';\n",
              "          await google.colab.output.renderOutput(dataTable, element);\n",
              "          const docLink = document.createElement('div');\n",
              "          docLink.innerHTML = docLinkHtml;\n",
              "          element.appendChild(docLink);\n",
              "        }\n",
              "      </script>\n",
              "    </div>\n",
              "  </div>\n",
              "  "
            ]
          },
          "metadata": {},
          "execution_count": 455
        }
      ]
    },
    {
      "cell_type": "code",
      "source": [
        "x2= df3.iloc[ : , 0:1].values\n",
        "y2= df3.iloc[ : , 1].values"
      ],
      "metadata": {
        "id": "9YUbp0_tXFGk"
      },
      "execution_count": 456,
      "outputs": []
    },
    {
      "cell_type": "code",
      "source": [
        "#deve-se escolher o melhor parametro de regularização(Alpha)\n",
        "modelo_elastic = ElasticNet(alpha= 0.001, l1_ratio=0.9999)\n",
        "modelo_elastic.fit(x2, y2)\n",
        "modelo_elastic.score(x2, y2)"
      ],
      "metadata": {
        "id": "4jGJ0DHRXKRl",
        "outputId": "58641598-7446-4850-b7a7-8b298255441a",
        "colab": {
          "base_uri": "https://localhost:8080/"
        }
      },
      "execution_count": 457,
      "outputs": [
        {
          "output_type": "execute_result",
          "data": {
            "text/plain": [
              "0.8371060291239523"
            ]
          },
          "metadata": {},
          "execution_count": 457
        }
      ]
    },
    {
      "cell_type": "code",
      "source": [
        "modelo_elastic.intercept_"
      ],
      "metadata": {
        "id": "8q2fO35OX-lM",
        "outputId": "e41b8ed6-ab9e-4836-b166-ee4c39e58626",
        "colab": {
          "base_uri": "https://localhost:8080/"
        }
      },
      "execution_count": 458,
      "outputs": [
        {
          "output_type": "execute_result",
          "data": {
            "text/plain": [
              "948.4751898885793"
            ]
          },
          "metadata": {},
          "execution_count": 458
        }
      ]
    },
    {
      "cell_type": "code",
      "source": [
        "modelo_elastic.coef_"
      ],
      "metadata": {
        "id": "h6h3UYfmYLbC",
        "outputId": "a41071c7-c29f-41b8-ac4c-bcd7f2ceeb77",
        "colab": {
          "base_uri": "https://localhost:8080/"
        }
      },
      "execution_count": 459,
      "outputs": [
        {
          "output_type": "execute_result",
          "data": {
            "text/plain": [
              "array([-47.52956822])"
            ]
          },
          "metadata": {},
          "execution_count": 459
        }
      ]
    },
    {
      "cell_type": "markdown",
      "source": [
        "pH meio aquoso = 948.45227 - 47.52591*Valores_Analogicos_Sensor_pH"
      ],
      "metadata": {
        "id": "3Y07_uvLYRNd"
      }
    },
    {
      "cell_type": "code",
      "source": [
        "previsaoelastic = modelo_elastic.predict(x2)"
      ],
      "metadata": {
        "id": "1GcF_IeVYpMm"
      },
      "execution_count": 460,
      "outputs": []
    },
    {
      "cell_type": "code",
      "source": [
        "df3['previsaoelastic'] = modelo_elastic.predict(x2)"
      ],
      "metadata": {
        "id": "Yk8ta4phZGvS"
      },
      "execution_count": 461,
      "outputs": []
    },
    {
      "cell_type": "code",
      "source": [
        "df3['erro_abs'] = abs (df3.Valores_Analogicos_Sensor_pH - df3.previsaoelastic)"
      ],
      "metadata": {
        "id": "LZfyrnxFZRwM"
      },
      "execution_count": 462,
      "outputs": []
    },
    {
      "cell_type": "code",
      "source": [
        "df3"
      ],
      "metadata": {
        "id": "O_FO11T8ZxaE",
        "outputId": "0c04f467-14bc-438f-f33d-dbcc0197b57b",
        "colab": {
          "base_uri": "https://localhost:8080/",
          "height": 424
        }
      },
      "execution_count": 463,
      "outputs": [
        {
          "output_type": "execute_result",
          "data": {
            "text/plain": [
              "    pH_Meio_Aquoso  Valores_Analogicos_Sensor_pH  previsaoelastic   erro_abs\n",
              "0              5.1                        711.00       706.074392   4.925608\n",
              "1              4.5                        724.00       734.592133  10.592133\n",
              "2              7.0                        601.00       615.768212  14.768212\n",
              "3              4.2                        763.50       748.851003  14.648997\n",
              "4              6.1                        645.25       658.544824  13.294824\n",
              "..             ...                           ...              ...        ...\n",
              "73             7.5                        644.10       592.003428  52.096572\n",
              "74             7.0                        609.40       615.768212   6.368212\n",
              "75             7.3                        578.80       601.509342  22.709342\n",
              "76             6.1                        650.50       658.544824   8.044824\n",
              "77             5.8                        633.00       672.803694  39.803694\n",
              "\n",
              "[77 rows x 4 columns]"
            ],
            "text/html": [
              "\n",
              "  <div id=\"df-f3023492-2f2c-4c3a-ac1f-090e10815b8e\">\n",
              "    <div class=\"colab-df-container\">\n",
              "      <div>\n",
              "<style scoped>\n",
              "    .dataframe tbody tr th:only-of-type {\n",
              "        vertical-align: middle;\n",
              "    }\n",
              "\n",
              "    .dataframe tbody tr th {\n",
              "        vertical-align: top;\n",
              "    }\n",
              "\n",
              "    .dataframe thead th {\n",
              "        text-align: right;\n",
              "    }\n",
              "</style>\n",
              "<table border=\"1\" class=\"dataframe\">\n",
              "  <thead>\n",
              "    <tr style=\"text-align: right;\">\n",
              "      <th></th>\n",
              "      <th>pH_Meio_Aquoso</th>\n",
              "      <th>Valores_Analogicos_Sensor_pH</th>\n",
              "      <th>previsaoelastic</th>\n",
              "      <th>erro_abs</th>\n",
              "    </tr>\n",
              "  </thead>\n",
              "  <tbody>\n",
              "    <tr>\n",
              "      <th>0</th>\n",
              "      <td>5.1</td>\n",
              "      <td>711.00</td>\n",
              "      <td>706.074392</td>\n",
              "      <td>4.925608</td>\n",
              "    </tr>\n",
              "    <tr>\n",
              "      <th>1</th>\n",
              "      <td>4.5</td>\n",
              "      <td>724.00</td>\n",
              "      <td>734.592133</td>\n",
              "      <td>10.592133</td>\n",
              "    </tr>\n",
              "    <tr>\n",
              "      <th>2</th>\n",
              "      <td>7.0</td>\n",
              "      <td>601.00</td>\n",
              "      <td>615.768212</td>\n",
              "      <td>14.768212</td>\n",
              "    </tr>\n",
              "    <tr>\n",
              "      <th>3</th>\n",
              "      <td>4.2</td>\n",
              "      <td>763.50</td>\n",
              "      <td>748.851003</td>\n",
              "      <td>14.648997</td>\n",
              "    </tr>\n",
              "    <tr>\n",
              "      <th>4</th>\n",
              "      <td>6.1</td>\n",
              "      <td>645.25</td>\n",
              "      <td>658.544824</td>\n",
              "      <td>13.294824</td>\n",
              "    </tr>\n",
              "    <tr>\n",
              "      <th>...</th>\n",
              "      <td>...</td>\n",
              "      <td>...</td>\n",
              "      <td>...</td>\n",
              "      <td>...</td>\n",
              "    </tr>\n",
              "    <tr>\n",
              "      <th>73</th>\n",
              "      <td>7.5</td>\n",
              "      <td>644.10</td>\n",
              "      <td>592.003428</td>\n",
              "      <td>52.096572</td>\n",
              "    </tr>\n",
              "    <tr>\n",
              "      <th>74</th>\n",
              "      <td>7.0</td>\n",
              "      <td>609.40</td>\n",
              "      <td>615.768212</td>\n",
              "      <td>6.368212</td>\n",
              "    </tr>\n",
              "    <tr>\n",
              "      <th>75</th>\n",
              "      <td>7.3</td>\n",
              "      <td>578.80</td>\n",
              "      <td>601.509342</td>\n",
              "      <td>22.709342</td>\n",
              "    </tr>\n",
              "    <tr>\n",
              "      <th>76</th>\n",
              "      <td>6.1</td>\n",
              "      <td>650.50</td>\n",
              "      <td>658.544824</td>\n",
              "      <td>8.044824</td>\n",
              "    </tr>\n",
              "    <tr>\n",
              "      <th>77</th>\n",
              "      <td>5.8</td>\n",
              "      <td>633.00</td>\n",
              "      <td>672.803694</td>\n",
              "      <td>39.803694</td>\n",
              "    </tr>\n",
              "  </tbody>\n",
              "</table>\n",
              "<p>77 rows × 4 columns</p>\n",
              "</div>\n",
              "      <button class=\"colab-df-convert\" onclick=\"convertToInteractive('df-f3023492-2f2c-4c3a-ac1f-090e10815b8e')\"\n",
              "              title=\"Convert this dataframe to an interactive table.\"\n",
              "              style=\"display:none;\">\n",
              "        \n",
              "  <svg xmlns=\"http://www.w3.org/2000/svg\" height=\"24px\"viewBox=\"0 0 24 24\"\n",
              "       width=\"24px\">\n",
              "    <path d=\"M0 0h24v24H0V0z\" fill=\"none\"/>\n",
              "    <path d=\"M18.56 5.44l.94 2.06.94-2.06 2.06-.94-2.06-.94-.94-2.06-.94 2.06-2.06.94zm-11 1L8.5 8.5l.94-2.06 2.06-.94-2.06-.94L8.5 2.5l-.94 2.06-2.06.94zm10 10l.94 2.06.94-2.06 2.06-.94-2.06-.94-.94-2.06-.94 2.06-2.06.94z\"/><path d=\"M17.41 7.96l-1.37-1.37c-.4-.4-.92-.59-1.43-.59-.52 0-1.04.2-1.43.59L10.3 9.45l-7.72 7.72c-.78.78-.78 2.05 0 2.83L4 21.41c.39.39.9.59 1.41.59.51 0 1.02-.2 1.41-.59l7.78-7.78 2.81-2.81c.8-.78.8-2.07 0-2.86zM5.41 20L4 18.59l7.72-7.72 1.47 1.35L5.41 20z\"/>\n",
              "  </svg>\n",
              "      </button>\n",
              "      \n",
              "  <style>\n",
              "    .colab-df-container {\n",
              "      display:flex;\n",
              "      flex-wrap:wrap;\n",
              "      gap: 12px;\n",
              "    }\n",
              "\n",
              "    .colab-df-convert {\n",
              "      background-color: #E8F0FE;\n",
              "      border: none;\n",
              "      border-radius: 50%;\n",
              "      cursor: pointer;\n",
              "      display: none;\n",
              "      fill: #1967D2;\n",
              "      height: 32px;\n",
              "      padding: 0 0 0 0;\n",
              "      width: 32px;\n",
              "    }\n",
              "\n",
              "    .colab-df-convert:hover {\n",
              "      background-color: #E2EBFA;\n",
              "      box-shadow: 0px 1px 2px rgba(60, 64, 67, 0.3), 0px 1px 3px 1px rgba(60, 64, 67, 0.15);\n",
              "      fill: #174EA6;\n",
              "    }\n",
              "\n",
              "    [theme=dark] .colab-df-convert {\n",
              "      background-color: #3B4455;\n",
              "      fill: #D2E3FC;\n",
              "    }\n",
              "\n",
              "    [theme=dark] .colab-df-convert:hover {\n",
              "      background-color: #434B5C;\n",
              "      box-shadow: 0px 1px 3px 1px rgba(0, 0, 0, 0.15);\n",
              "      filter: drop-shadow(0px 1px 2px rgba(0, 0, 0, 0.3));\n",
              "      fill: #FFFFFF;\n",
              "    }\n",
              "  </style>\n",
              "\n",
              "      <script>\n",
              "        const buttonEl =\n",
              "          document.querySelector('#df-f3023492-2f2c-4c3a-ac1f-090e10815b8e button.colab-df-convert');\n",
              "        buttonEl.style.display =\n",
              "          google.colab.kernel.accessAllowed ? 'block' : 'none';\n",
              "\n",
              "        async function convertToInteractive(key) {\n",
              "          const element = document.querySelector('#df-f3023492-2f2c-4c3a-ac1f-090e10815b8e');\n",
              "          const dataTable =\n",
              "            await google.colab.kernel.invokeFunction('convertToInteractive',\n",
              "                                                     [key], {});\n",
              "          if (!dataTable) return;\n",
              "\n",
              "          const docLinkHtml = 'Like what you see? Visit the ' +\n",
              "            '<a target=\"_blank\" href=https://colab.research.google.com/notebooks/data_table.ipynb>data table notebook</a>'\n",
              "            + ' to learn more about interactive tables.';\n",
              "          element.innerHTML = '';\n",
              "          dataTable['output_type'] = 'display_data';\n",
              "          await google.colab.output.renderOutput(dataTable, element);\n",
              "          const docLink = document.createElement('div');\n",
              "          docLink.innerHTML = docLinkHtml;\n",
              "          element.appendChild(docLink);\n",
              "        }\n",
              "      </script>\n",
              "    </div>\n",
              "  </div>\n",
              "  "
            ]
          },
          "metadata": {},
          "execution_count": 463
        }
      ]
    },
    {
      "cell_type": "code",
      "source": [
        "#Erro Absoluto Médio(MAE)\n",
        "from sklearn.metrics import mean_absolute_error\n",
        "mean_absolute_error(df3.Valores_Analogicos_Sensor_pH, df3.previsaoelastic)"
      ],
      "metadata": {
        "id": "D0ZgVwAEZ0N6",
        "outputId": "b85948c5-a445-4015-a20a-42524a631bd9",
        "colab": {
          "base_uri": "https://localhost:8080/"
        }
      },
      "execution_count": 464,
      "outputs": [
        {
          "output_type": "execute_result",
          "data": {
            "text/plain": [
              "18.050404972045815"
            ]
          },
          "metadata": {},
          "execution_count": 464
        }
      ]
    },
    {
      "cell_type": "code",
      "source": [
        "#Erro médio Quadrático(MSE)\n",
        "from sklearn.metrics import mean_squared_error\n",
        "mean_squared_error(df3.Valores_Analogicos_Sensor_pH, df3.previsaoelastic)"
      ],
      "metadata": {
        "id": "-U0fLHeTZ88P",
        "outputId": "1650ce6c-3890-430e-a0ae-5ed18a6e267d",
        "colab": {
          "base_uri": "https://localhost:8080/"
        }
      },
      "execution_count": 465,
      "outputs": [
        {
          "output_type": "execute_result",
          "data": {
            "text/plain": [
              "564.5768839939781"
            ]
          },
          "metadata": {},
          "execution_count": 465
        }
      ]
    },
    {
      "cell_type": "markdown",
      "source": [
        "##pH medição direta x valores analogicos sensor pH\n",
        "**Regressão Linear com Anova**\n",
        "\n",
        "teste entre pH medição direta  e Valores analogicos sensor de pH\n",
        "\n",
        "H0 -> Não há nenhuma associação entre o termo e a resposta (pH_Meio_Aquoso).\n",
        "\n",
        "H1 -> Há uma associação entre o termo e a resposta (pH_Meio_Aquoso).\n",
        "\n",
        "Valor-p ≤ α: a associação é estatisticamente significativa Se o valor-p for menor ou igual ao nível de significância, é possível concluir que há uma associação estatisticamente significativa entre a variável de resposta e o termo.\n",
        "\n",
        "Valor-p > α: a associação não é estatisticamente significativa Se o valor-p for maior ou igual ao nível de significância, não é possível concluir que há uma associação estatisticamente significativa entre a variável de resposta e o termo. Talvez seja necessário reajustar o modelo sem o termo."
      ],
      "metadata": {
        "id": "MxnOnsAtBIHg"
      }
    },
    {
      "cell_type": "code",
      "source": [
        "#Regressão Linear com Anova\n",
        "import statsmodels.api as sm\n",
        "from statsmodels.formula.api import ols\n",
        "regressao2 = ols('pH_Medida_Direta_Akso~Valores_Analogicos_Sensor_pH', data=df).fit() #relação da variável de entrada e verificar sua influência sobre a variável de destino. \n",
        "anova_table = sm.stats.anova_lm(regressao2, typ=2)#aplicou anova no modelo\n",
        "print(anova_table)"
      ],
      "metadata": {
        "colab": {
          "base_uri": "https://localhost:8080/"
        },
        "id": "8mWR38djHu0g",
        "outputId": "3991353b-9893-4ed7-acff-2334d8b1abc7"
      },
      "execution_count": 466,
      "outputs": [
        {
          "output_type": "stream",
          "name": "stdout",
          "text": [
            "                                sum_sq    df           F        PR(>F)\n",
            "Valores_Analogicos_Sensor_pH  66.31202   1.0  393.858555  1.414077e-31\n",
            "Residual                      12.62738  75.0         NaN           NaN\n"
          ]
        }
      ]
    },
    {
      "cell_type": "code",
      "source": [
        "print(f\"Overall model F({regressao2.df_model: .0f},{regressao2.df_resid: .0f}) = {regressao2.fvalue: .3f}, p = {regressao2.f_pvalue: .4f}\")\n",
        "print(regressao2.summary())"
      ],
      "metadata": {
        "colab": {
          "base_uri": "https://localhost:8080/"
        },
        "id": "wkK1EiWRH5Pe",
        "outputId": "f90c9aad-87d7-4928-cd62-cec7cf960b46"
      },
      "execution_count": 467,
      "outputs": [
        {
          "output_type": "stream",
          "name": "stdout",
          "text": [
            "Overall model F( 1, 75) =  393.859, p =  0.0000\n",
            "                              OLS Regression Results                             \n",
            "=================================================================================\n",
            "Dep. Variable:     pH_Medida_Direta_Akso   R-squared:                       0.840\n",
            "Model:                               OLS   Adj. R-squared:                  0.838\n",
            "Method:                    Least Squares   F-statistic:                     393.9\n",
            "Date:                   Fri, 15 Apr 2022   Prob (F-statistic):           1.41e-31\n",
            "Time:                           04:12:28   Log-Likelihood:                -39.653\n",
            "No. Observations:                     77   AIC:                             83.31\n",
            "Df Residuals:                         75   BIC:                             87.99\n",
            "Df Model:                              1                                         \n",
            "Covariance Type:               nonrobust                                         \n",
            "================================================================================================\n",
            "                                   coef    std err          t      P>|t|      [0.025      0.975]\n",
            "------------------------------------------------------------------------------------------------\n",
            "Intercept                       16.6952      0.519     32.177      0.000      15.662      17.729\n",
            "Valores_Analogicos_Sensor_pH    -0.0158      0.001    -19.846      0.000      -0.017      -0.014\n",
            "==============================================================================\n",
            "Omnibus:                        1.812   Durbin-Watson:                   1.663\n",
            "Prob(Omnibus):                  0.404   Jarque-Bera (JB):                1.687\n",
            "Skew:                           0.257   Prob(JB):                        0.430\n",
            "Kurtosis:                       2.489   Cond. No.                     7.25e+03\n",
            "==============================================================================\n",
            "\n",
            "Warnings:\n",
            "[1] Standard Errors assume that the covariance matrix of the errors is correctly specified.\n",
            "[2] The condition number is large, 7.25e+03. This might indicate that there are\n",
            "strong multicollinearity or other numerical problems.\n"
          ]
        }
      ]
    },
    {
      "cell_type": "markdown",
      "source": [
        "**Validação do Modelo de Regressão Linear com Anova**\n",
        "\n",
        "**Analise dos Residuos**"
      ],
      "metadata": {
        "id": "wdzN7I2kIQez"
      }
    },
    {
      "cell_type": "code",
      "source": [
        "# listagem de residuos(distancia que o ponto está da reta)\n",
        "residuos2 = regressao2.resid\n",
        "residuos2"
      ],
      "metadata": {
        "colab": {
          "base_uri": "https://localhost:8080/"
        },
        "id": "HobcuTvNIR7f",
        "outputId": "cdfb7b6c-eb9b-44ec-d8db-eb922a067129"
      },
      "execution_count": 468,
      "outputs": [
        {
          "output_type": "execute_result",
          "data": {
            "text/plain": [
              "0     0.942374\n",
              "1     0.557294\n",
              "2     0.578433\n",
              "3    -0.250063\n",
              "4    -0.094050\n",
              "        ...   \n",
              "73    0.187822\n",
              "74   -0.119157\n",
              "75   -0.061508\n",
              "76    0.268706\n",
              "77    0.242852\n",
              "Length: 77, dtype: float64"
            ]
          },
          "metadata": {},
          "execution_count": 468
        }
      ]
    },
    {
      "cell_type": "markdown",
      "source": [
        "**Teste de normalidade dos resíduos** \n",
        "\n",
        "H0 = distribuição normal: p>0.05\n",
        "\n",
        "Ha = distribuição não normal: p<=0.05"
      ],
      "metadata": {
        "id": "HTPzZCYGIenu"
      }
    },
    {
      "cell_type": "code",
      "source": [
        "estatistica, p= stats.shapiro(residuos2)\n",
        "print('Estatística de Teste: {}' .format(estatistica))\n",
        "print('p-valor: {}'.format(p))"
      ],
      "metadata": {
        "colab": {
          "base_uri": "https://localhost:8080/"
        },
        "id": "4gLlXi1wIZPc",
        "outputId": "d072bdea-5ab1-4366-b101-98efcfbec335"
      },
      "execution_count": 469,
      "outputs": [
        {
          "output_type": "stream",
          "name": "stdout",
          "text": [
            "Estatística de Teste: 0.9846802353858948\n",
            "p-valor: 0.48347944021224976\n"
          ]
        }
      ]
    },
    {
      "cell_type": "code",
      "source": [
        "#Q-Q plot\n",
        "stats.probplot(residuos2, dist='norm', plot=plt)\n",
        "plt.title('Normal Q-Q Plot - Resíduos')\n",
        "plt.show()"
      ],
      "metadata": {
        "colab": {
          "base_uri": "https://localhost:8080/",
          "height": 527
        },
        "id": "F9gLadzjIoFp",
        "outputId": "1e049579-0cfd-4626-8553-8602fa377923"
      },
      "execution_count": 470,
      "outputs": [
        {
          "output_type": "display_data",
          "data": {
            "text/plain": [
              "<Figure size 1058.4x595.44 with 1 Axes>"
            ],
            "image/png": "[encoded data removed]"
          },
          "metadata": {
            "needs_background": "light"
          }
        }
      ]
    },
    {
      "cell_type": "markdown",
      "source": [
        "**Analise de Homocedasticidade dos resíduos** \n",
        "\n",
        "Saber se os resíduos são homogeneos"
      ],
      "metadata": {
        "id": "CQ5QPRhjI63z"
      }
    },
    {
      "cell_type": "code",
      "source": [
        "plt.scatter(y=residuos2 ,x=regressao2.predict(), color='red')\n",
        "plt.hlines(y=0, xmin=3, xmax=9, color='orange')\n",
        "plt.ylabel('Resíduos')\n",
        "plt.xlabel('Valores Preditos')\n",
        "plt.show()"
      ],
      "metadata": {
        "colab": {
          "base_uri": "https://localhost:8080/",
          "height": 511
        },
        "id": "Q85QkFT8JCnD",
        "outputId": "7d40575b-76de-491b-e6b6-9bed4bd3a9f1"
      },
      "execution_count": 471,
      "outputs": [
        {
          "output_type": "display_data",
          "data": {
            "text/plain": [
              "<Figure size 1058.4x595.44 with 1 Axes>"
            ],
            "image/png": "[encoded data removed]"
          },
          "metadata": {
            "needs_background": "light"
          }
        }
      ]
    },
    {
      "cell_type": "markdown",
      "source": [
        "Teste Breusch-Pagan(Homocedastiscidade ou Heterocedastiscidade)\n",
        "\n",
        "Ho = Existe Homocedastiscidade: p> 0.05 Ha = Não existe Homocedastiscidade: p<= 0.05"
      ],
      "metadata": {
        "id": "XgDUEEW5JGsY"
      }
    },
    {
      "cell_type": "code",
      "source": [
        "estatistica, p, f, fp=sms.het_breuschpagan(regressao2.resid, regressao2.model.exog)\n",
        "print('Estatistica do teste: {}' .format(estatistica))\n",
        "print('p-valor: {}' .format(p))\n",
        "print('f-valor: {}' .format(f))\n",
        "print('f_p-valor: {}' .format(fp))"
      ],
      "metadata": {
        "colab": {
          "base_uri": "https://localhost:8080/"
        },
        "id": "IC0eZqAQJZ1o",
        "outputId": "9c58e56c-7ab1-498f-fc61-01e8a221cd05"
      },
      "execution_count": 472,
      "outputs": [
        {
          "output_type": "stream",
          "name": "stdout",
          "text": [
            "Estatistica do teste: 1.0493224382547832\n",
            "p-valor: 0.3056631870189509\n",
            "f-valor: 1.0361880288049996\n",
            "f_p-valor: 0.3119822033799199\n"
          ]
        }
      ]
    },
    {
      "cell_type": "markdown",
      "source": [
        "p-valor = 0.45. então p>0.05. significa que tem Homocedastiscidade"
      ],
      "metadata": {
        "id": "7lWpoQjzJomi"
      }
    },
    {
      "cell_type": "markdown",
      "source": [
        "**Outleires nos resíduos** \n",
        "\n",
        "(Entre -3 e 3)"
      ],
      "metadata": {
        "id": "o60KIQ7EJvH2"
      }
    },
    {
      "cell_type": "code",
      "source": [
        "outliers2= regressao2.outlier_test()"
      ],
      "metadata": {
        "id": "MK-hO19kJ01Q"
      },
      "execution_count": 473,
      "outputs": []
    },
    {
      "cell_type": "code",
      "source": [
        "outliers2.max()"
      ],
      "metadata": {
        "colab": {
          "base_uri": "https://localhost:8080/"
        },
        "id": "2WOwp5zuJ24w",
        "outputId": "3b86ad87-f77e-4242-9a89-697e4c5800c6"
      },
      "execution_count": 474,
      "outputs": [
        {
          "output_type": "execute_result",
          "data": {
            "text/plain": [
              "student_resid    2.400696\n",
              "unadj_p          0.996484\n",
              "bonf(p)          1.000000\n",
              "dtype: float64"
            ]
          },
          "metadata": {},
          "execution_count": 474
        }
      ]
    },
    {
      "cell_type": "code",
      "source": [
        "outliers.min()"
      ],
      "metadata": {
        "colab": {
          "base_uri": "https://localhost:8080/"
        },
        "id": "2hoBmq2_J8Hq",
        "outputId": "974055ac-ce30-4832-ace3-1820c5ca0b20"
      },
      "execution_count": 475,
      "outputs": [
        {
          "output_type": "execute_result",
          "data": {
            "text/plain": [
              "student_resid   -2.817829\n",
              "unadj_p          0.006197\n",
              "bonf(p)          0.477189\n",
              "dtype: float64"
            ]
          },
          "metadata": {},
          "execution_count": 475
        }
      ]
    },
    {
      "cell_type": "markdown",
      "source": [
        "Portanto o modelo passou no teste de Normalidade, Homocedasticidade e Outleires de Resíduos, portanto o modelo é aprovado"
      ],
      "metadata": {
        "id": "R83U9L-KKEwk"
      }
    },
    {
      "cell_type": "code",
      "source": [
        "print(regressao2.summary())"
      ],
      "metadata": {
        "colab": {
          "base_uri": "https://localhost:8080/"
        },
        "id": "oyt3UP8AKT5P",
        "outputId": "59b81290-8d78-471b-9673-ea8777699c82"
      },
      "execution_count": 476,
      "outputs": [
        {
          "output_type": "stream",
          "name": "stdout",
          "text": [
            "                              OLS Regression Results                             \n",
            "=================================================================================\n",
            "Dep. Variable:     pH_Medida_Direta_Akso   R-squared:                       0.840\n",
            "Model:                               OLS   Adj. R-squared:                  0.838\n",
            "Method:                    Least Squares   F-statistic:                     393.9\n",
            "Date:                   Fri, 15 Apr 2022   Prob (F-statistic):           1.41e-31\n",
            "Time:                           04:12:29   Log-Likelihood:                -39.653\n",
            "No. Observations:                     77   AIC:                             83.31\n",
            "Df Residuals:                         75   BIC:                             87.99\n",
            "Df Model:                              1                                         \n",
            "Covariance Type:               nonrobust                                         \n",
            "================================================================================================\n",
            "                                   coef    std err          t      P>|t|      [0.025      0.975]\n",
            "------------------------------------------------------------------------------------------------\n",
            "Intercept                       16.6952      0.519     32.177      0.000      15.662      17.729\n",
            "Valores_Analogicos_Sensor_pH    -0.0158      0.001    -19.846      0.000      -0.017      -0.014\n",
            "==============================================================================\n",
            "Omnibus:                        1.812   Durbin-Watson:                   1.663\n",
            "Prob(Omnibus):                  0.404   Jarque-Bera (JB):                1.687\n",
            "Skew:                           0.257   Prob(JB):                        0.430\n",
            "Kurtosis:                       2.489   Cond. No.                     7.25e+03\n",
            "==============================================================================\n",
            "\n",
            "Warnings:\n",
            "[1] Standard Errors assume that the covariance matrix of the errors is correctly specified.\n",
            "[2] The condition number is large, 7.25e+03. This might indicate that there are\n",
            "strong multicollinearity or other numerical problems.\n"
          ]
        }
      ]
    },
    {
      "cell_type": "code",
      "source": [
        "#coeficientes\n",
        "import pandas as pd\n",
        "coefs = pd.DataFrame(regressao2.params)\n",
        "coefs.columns = ['Coeficientes']\n",
        "print(coefs)"
      ],
      "metadata": {
        "colab": {
          "base_uri": "https://localhost:8080/"
        },
        "id": "z7Ca5yvvKcmv",
        "outputId": "b2562f2c-fc3a-457c-9745-e4619e7c9fa3"
      },
      "execution_count": 477,
      "outputs": [
        {
          "output_type": "stream",
          "name": "stdout",
          "text": [
            "                              Coeficientes\n",
            "Intercept                        16.695193\n",
            "Valores_Analogicos_Sensor_pH     -0.015763\n"
          ]
        }
      ]
    },
    {
      "cell_type": "markdown",
      "source": [
        "Equação(Regressão Linear com Anova): pH_Medida_Direta_Akso = 16.695 -0.015763*Valores_Analogicos_Sensor_pH"
      ],
      "metadata": {
        "id": "yEFdvSVoKd6t"
      }
    },
    {
      "cell_type": "code",
      "source": [
        "#previsões usando modelo e equação gerada  pH(meio aquoso) = 17.7256 - 0.0176*Valores_Analogicos_Sensor_pH\n",
        "regressao2.predict()"
      ],
      "metadata": {
        "colab": {
          "base_uri": "https://localhost:8080/"
        },
        "id": "DUXWmfcZLAqn",
        "outputId": "21d3bc8d-377f-4a79-aaa2-0e7fa4d6a2dd"
      },
      "execution_count": 478,
      "outputs": [
        {
          "output_type": "execute_result",
          "data": {
            "text/plain": [
              "array([5.48762604, 5.2827057 , 7.22156742, 4.66006311, 6.5240501 ,\n",
              "       5.86594053, 5.98889273, 6.41764915, 5.69522612, 7.74805508,\n",
              "       5.01867372, 6.4412938 , 5.45609984, 7.81110749, 7.18215967,\n",
              "       7.38392739, 5.29531618, 6.67616404, 5.8312617 , 5.6326466 ,\n",
              "       6.26789966, 6.17174473, 5.32053715, 5.5270338 , 5.68466484,\n",
              "       6.78492946, 6.86532129, 5.76505666, 5.32999501, 6.4412938 ,\n",
              "       6.55951708, 6.23952608, 5.64052815, 5.88800887, 7.71652887,\n",
              "       7.65111199, 6.61153532, 8.18311674, 6.56582232, 7.80795487,\n",
              "       6.3955808 , 5.20389018, 4.99896984, 5.88800887, 6.36247829,\n",
              "       7.95612805, 5.12980359, 6.81487935, 7.06787717, 6.64463784,\n",
              "       7.55574522, 4.28174863, 6.87320284, 6.81172673, 7.30511187,\n",
              "       5.19758494, 5.14714301, 7.8583968 , 7.72598674, 6.77389529,\n",
              "       7.13644667, 6.8826607 , 7.03241018, 7.3240276 , 7.66766325,\n",
              "       6.45153982, 4.8413388 , 6.44696852, 5.06517487, 7.91514398,\n",
              "       7.11910725, 7.00088398, 6.54217766, 7.08915736, 7.57150832,\n",
              "       6.4412938 , 6.71714811])"
            ]
          },
          "metadata": {},
          "execution_count": 478
        }
      ]
    },
    {
      "cell_type": "code",
      "source": [
        "plt.scatter(y= df.pH_Meio_Aquoso, x=df.Valores_Analogicos_Sensor_pH ,color='green', s=80, alpha=0.9)\n",
        "X_plot = np.linspace(400, 900)\n",
        "plt.plot(X_plot, X_plot*regressao2.params[1] + regressao2.params[0], color='orange')\n",
        "plt.title('Reta de Regressão')\n",
        "plt.ylabel('pH_Meio_Aquoso')\n",
        "plt.xlabel('Valores_Analogicos_Sensor_pH')\n",
        "plt.show()"
      ],
      "metadata": {
        "colab": {
          "base_uri": "https://localhost:8080/",
          "height": 528
        },
        "id": "SjMKgS6nLIBR",
        "outputId": "6c325d22-9cf0-43b3-b853-295b2aabe4a7"
      },
      "execution_count": 479,
      "outputs": [
        {
          "output_type": "display_data",
          "data": {
            "text/plain": [
              "<Figure size 1058.4x595.44 with 1 Axes>"
            ],
            "image/png": "[encoded data removed]"
          },
          "metadata": {
            "needs_background": "light"
          }
        }
      ]
    }
  ]
}