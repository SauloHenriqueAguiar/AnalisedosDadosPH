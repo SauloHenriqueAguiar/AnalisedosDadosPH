{
  "nbformat": 4,
  "nbformat_minor": 0,
  "metadata": {
    "colab": {
      "name": "AnalisedosDadosSensorPH.ipynb",
      "provenance": [],
      "collapsed_sections": [],
      "authorship_tag": "ABX9TyM6q1mwMTmvqa3Aw1KkndHc",
      "include_colab_link": true
    },
    "kernelspec": {
      "name": "python3",
      "display_name": "Python 3"
    },
    "language_info": {
      "name": "python"
    },
    "accelerator": "GPU"
  },
  "cells": [
    {
      "cell_type": "markdown",
      "metadata": {
        "id": "view-in-github",
        "colab_type": "text"
      },
      "source": [
        "<a href=\"https://colab.research.google.com/github/SauloHenriqueAguiar/AnalisedosDadosPH/blob/main/AnalisedosDadosSensorPH.ipynb\" target=\"_parent\"><img src=\"https://colab.research.google.com/assets/colab-badge.svg\" alt=\"Open In Colab\"/></a>"
      ]
    },
    {
      "cell_type": "markdown",
      "source": [
        "#Analise  dos Dados "
      ],
      "metadata": {
        "id": "WMW4OfEpytGl"
      }
    },
    {
      "cell_type": "code",
      "execution_count": null,
      "metadata": {
        "id": "61SfkPfXw5NC"
      },
      "outputs": [],
      "source": [
        "import pandas as pd \n",
        "read_file = pd.read_excel (\"/content/dados calibração esp32 PH solo.xlsx\")"
      ]
    },
    {
      "cell_type": "code",
      "source": [
        "read_file.to_csv (\"/content/dados calibração esp32 PH solo.csv\",  \n",
        "                  index = None, \n",
        "                  header=True)"
      ],
      "metadata": {
        "id": "HruS5Ys_x-Op"
      },
      "execution_count": null,
      "outputs": []
    },
    {
      "cell_type": "code",
      "source": [
        "df = pd.DataFrame(pd.read_csv(\"/content/dados calibração esp32 PH solo.csv\"))\n"
      ],
      "metadata": {
        "id": "_N0sWniLyNyn"
      },
      "execution_count": null,
      "outputs": []
    },
    {
      "cell_type": "code",
      "source": [
        "df"
      ],
      "metadata": {
        "colab": {
          "base_uri": "https://localhost:8080/",
          "height": 424
        },
        "id": "5MBTGjopyXWx",
        "outputId": "3b31b97d-b9c4-43dc-e147-540c8d5b75e2"
      },
      "execution_count": null,
      "outputs": [
        {
          "output_type": "execute_result",
          "data": {
            "text/plain": [
              "    nº  pH_Meio_Aquoso  pH_Medida_Direta_Akso  Valores_Analogicos_Sensor_pH\n",
              "0    1             5.1                   6.43                        711.00\n",
              "1    2             4.5                   5.84                        724.00\n",
              "2    3             7.0                   7.80                        601.00\n",
              "3    4             4.2                   4.41                        763.50\n",
              "4    5             6.1                   6.43                        645.25\n",
              "..  ..             ...                    ...                           ...\n",
              "73  74             7.5                   6.73                        644.10\n",
              "74  75             7.0                   6.97                        609.40\n",
              "75  76             7.3                   7.51                        578.80\n",
              "76  77             6.1                   6.71                        650.50\n",
              "77  78             5.8                   6.96                        633.00\n",
              "\n",
              "[78 rows x 4 columns]"
            ],
            "text/html": [
              "\n",
              "  <div id=\"df-a0b91501-0b19-476c-a532-f42660271b5d\">\n",
              "    <div class=\"colab-df-container\">\n",
              "      <div>\n",
              "<style scoped>\n",
              "    .dataframe tbody tr th:only-of-type {\n",
              "        vertical-align: middle;\n",
              "    }\n",
              "\n",
              "    .dataframe tbody tr th {\n",
              "        vertical-align: top;\n",
              "    }\n",
              "\n",
              "    .dataframe thead th {\n",
              "        text-align: right;\n",
              "    }\n",
              "</style>\n",
              "<table border=\"1\" class=\"dataframe\">\n",
              "  <thead>\n",
              "    <tr style=\"text-align: right;\">\n",
              "      <th></th>\n",
              "      <th>nº</th>\n",
              "      <th>pH_Meio_Aquoso</th>\n",
              "      <th>pH_Medida_Direta_Akso</th>\n",
              "      <th>Valores_Analogicos_Sensor_pH</th>\n",
              "    </tr>\n",
              "  </thead>\n",
              "  <tbody>\n",
              "    <tr>\n",
              "      <th>0</th>\n",
              "      <td>1</td>\n",
              "      <td>5.1</td>\n",
              "      <td>6.43</td>\n",
              "      <td>711.00</td>\n",
              "    </tr>\n",
              "    <tr>\n",
              "      <th>1</th>\n",
              "      <td>2</td>\n",
              "      <td>4.5</td>\n",
              "      <td>5.84</td>\n",
              "      <td>724.00</td>\n",
              "    </tr>\n",
              "    <tr>\n",
              "      <th>2</th>\n",
              "      <td>3</td>\n",
              "      <td>7.0</td>\n",
              "      <td>7.80</td>\n",
              "      <td>601.00</td>\n",
              "    </tr>\n",
              "    <tr>\n",
              "      <th>3</th>\n",
              "      <td>4</td>\n",
              "      <td>4.2</td>\n",
              "      <td>4.41</td>\n",
              "      <td>763.50</td>\n",
              "    </tr>\n",
              "    <tr>\n",
              "      <th>4</th>\n",
              "      <td>5</td>\n",
              "      <td>6.1</td>\n",
              "      <td>6.43</td>\n",
              "      <td>645.25</td>\n",
              "    </tr>\n",
              "    <tr>\n",
              "      <th>...</th>\n",
              "      <td>...</td>\n",
              "      <td>...</td>\n",
              "      <td>...</td>\n",
              "      <td>...</td>\n",
              "    </tr>\n",
              "    <tr>\n",
              "      <th>73</th>\n",
              "      <td>74</td>\n",
              "      <td>7.5</td>\n",
              "      <td>6.73</td>\n",
              "      <td>644.10</td>\n",
              "    </tr>\n",
              "    <tr>\n",
              "      <th>74</th>\n",
              "      <td>75</td>\n",
              "      <td>7.0</td>\n",
              "      <td>6.97</td>\n",
              "      <td>609.40</td>\n",
              "    </tr>\n",
              "    <tr>\n",
              "      <th>75</th>\n",
              "      <td>76</td>\n",
              "      <td>7.3</td>\n",
              "      <td>7.51</td>\n",
              "      <td>578.80</td>\n",
              "    </tr>\n",
              "    <tr>\n",
              "      <th>76</th>\n",
              "      <td>77</td>\n",
              "      <td>6.1</td>\n",
              "      <td>6.71</td>\n",
              "      <td>650.50</td>\n",
              "    </tr>\n",
              "    <tr>\n",
              "      <th>77</th>\n",
              "      <td>78</td>\n",
              "      <td>5.8</td>\n",
              "      <td>6.96</td>\n",
              "      <td>633.00</td>\n",
              "    </tr>\n",
              "  </tbody>\n",
              "</table>\n",
              "<p>78 rows × 4 columns</p>\n",
              "</div>\n",
              "      <button class=\"colab-df-convert\" onclick=\"convertToInteractive('df-a0b91501-0b19-476c-a532-f42660271b5d')\"\n",
              "              title=\"Convert this dataframe to an interactive table.\"\n",
              "              style=\"display:none;\">\n",
              "        \n",
              "  <svg xmlns=\"http://www.w3.org/2000/svg\" height=\"24px\"viewBox=\"0 0 24 24\"\n",
              "       width=\"24px\">\n",
              "    <path d=\"M0 0h24v24H0V0z\" fill=\"none\"/>\n",
              "    <path d=\"M18.56 5.44l.94 2.06.94-2.06 2.06-.94-2.06-.94-.94-2.06-.94 2.06-2.06.94zm-11 1L8.5 8.5l.94-2.06 2.06-.94-2.06-.94L8.5 2.5l-.94 2.06-2.06.94zm10 10l.94 2.06.94-2.06 2.06-.94-2.06-.94-.94-2.06-.94 2.06-2.06.94z\"/><path d=\"M17.41 7.96l-1.37-1.37c-.4-.4-.92-.59-1.43-.59-.52 0-1.04.2-1.43.59L10.3 9.45l-7.72 7.72c-.78.78-.78 2.05 0 2.83L4 21.41c.39.39.9.59 1.41.59.51 0 1.02-.2 1.41-.59l7.78-7.78 2.81-2.81c.8-.78.8-2.07 0-2.86zM5.41 20L4 18.59l7.72-7.72 1.47 1.35L5.41 20z\"/>\n",
              "  </svg>\n",
              "      </button>\n",
              "      \n",
              "  <style>\n",
              "    .colab-df-container {\n",
              "      display:flex;\n",
              "      flex-wrap:wrap;\n",
              "      gap: 12px;\n",
              "    }\n",
              "\n",
              "    .colab-df-convert {\n",
              "      background-color: #E8F0FE;\n",
              "      border: none;\n",
              "      border-radius: 50%;\n",
              "      cursor: pointer;\n",
              "      display: none;\n",
              "      fill: #1967D2;\n",
              "      height: 32px;\n",
              "      padding: 0 0 0 0;\n",
              "      width: 32px;\n",
              "    }\n",
              "\n",
              "    .colab-df-convert:hover {\n",
              "      background-color: #E2EBFA;\n",
              "      box-shadow: 0px 1px 2px rgba(60, 64, 67, 0.3), 0px 1px 3px 1px rgba(60, 64, 67, 0.15);\n",
              "      fill: #174EA6;\n",
              "    }\n",
              "\n",
              "    [theme=dark] .colab-df-convert {\n",
              "      background-color: #3B4455;\n",
              "      fill: #D2E3FC;\n",
              "    }\n",
              "\n",
              "    [theme=dark] .colab-df-convert:hover {\n",
              "      background-color: #434B5C;\n",
              "      box-shadow: 0px 1px 3px 1px rgba(0, 0, 0, 0.15);\n",
              "      filter: drop-shadow(0px 1px 2px rgba(0, 0, 0, 0.3));\n",
              "      fill: #FFFFFF;\n",
              "    }\n",
              "  </style>\n",
              "\n",
              "      <script>\n",
              "        const buttonEl =\n",
              "          document.querySelector('#df-a0b91501-0b19-476c-a532-f42660271b5d button.colab-df-convert');\n",
              "        buttonEl.style.display =\n",
              "          google.colab.kernel.accessAllowed ? 'block' : 'none';\n",
              "\n",
              "        async function convertToInteractive(key) {\n",
              "          const element = document.querySelector('#df-a0b91501-0b19-476c-a532-f42660271b5d');\n",
              "          const dataTable =\n",
              "            await google.colab.kernel.invokeFunction('convertToInteractive',\n",
              "                                                     [key], {});\n",
              "          if (!dataTable) return;\n",
              "\n",
              "          const docLinkHtml = 'Like what you see? Visit the ' +\n",
              "            '<a target=\"_blank\" href=https://colab.research.google.com/notebooks/data_table.ipynb>data table notebook</a>'\n",
              "            + ' to learn more about interactive tables.';\n",
              "          element.innerHTML = '';\n",
              "          dataTable['output_type'] = 'display_data';\n",
              "          await google.colab.output.renderOutput(dataTable, element);\n",
              "          const docLink = document.createElement('div');\n",
              "          docLink.innerHTML = docLinkHtml;\n",
              "          element.appendChild(docLink);\n",
              "        }\n",
              "      </script>\n",
              "    </div>\n",
              "  </div>\n",
              "  "
            ]
          },
          "metadata": {},
          "execution_count": 551
        }
      ]
    },
    {
      "cell_type": "code",
      "source": [
        "#excuindo coluna de indice\n",
        "del df['nº']"
      ],
      "metadata": {
        "id": "h-JFs4Vs6AEi"
      },
      "execution_count": null,
      "outputs": []
    },
    {
      "cell_type": "code",
      "source": [
        "#dataset\n",
        "df"
      ],
      "metadata": {
        "colab": {
          "base_uri": "https://localhost:8080/",
          "height": 424
        },
        "id": "E0GmzIPO6GQb",
        "outputId": "d3397a60-2777-4cb7-980f-57493f5406e9"
      },
      "execution_count": null,
      "outputs": [
        {
          "output_type": "execute_result",
          "data": {
            "text/plain": [
              "    pH_Meio_Aquoso  pH_Medida_Direta_Akso  Valores_Analogicos_Sensor_pH\n",
              "0              5.1                   6.43                        711.00\n",
              "1              4.5                   5.84                        724.00\n",
              "2              7.0                   7.80                        601.00\n",
              "3              4.2                   4.41                        763.50\n",
              "4              6.1                   6.43                        645.25\n",
              "..             ...                    ...                           ...\n",
              "73             7.5                   6.73                        644.10\n",
              "74             7.0                   6.97                        609.40\n",
              "75             7.3                   7.51                        578.80\n",
              "76             6.1                   6.71                        650.50\n",
              "77             5.8                   6.96                        633.00\n",
              "\n",
              "[78 rows x 3 columns]"
            ],
            "text/html": [
              "\n",
              "  <div id=\"df-bd21cfba-cb68-41d9-af5e-3fbdad7dbb48\">\n",
              "    <div class=\"colab-df-container\">\n",
              "      <div>\n",
              "<style scoped>\n",
              "    .dataframe tbody tr th:only-of-type {\n",
              "        vertical-align: middle;\n",
              "    }\n",
              "\n",
              "    .dataframe tbody tr th {\n",
              "        vertical-align: top;\n",
              "    }\n",
              "\n",
              "    .dataframe thead th {\n",
              "        text-align: right;\n",
              "    }\n",
              "</style>\n",
              "<table border=\"1\" class=\"dataframe\">\n",
              "  <thead>\n",
              "    <tr style=\"text-align: right;\">\n",
              "      <th></th>\n",
              "      <th>pH_Meio_Aquoso</th>\n",
              "      <th>pH_Medida_Direta_Akso</th>\n",
              "      <th>Valores_Analogicos_Sensor_pH</th>\n",
              "    </tr>\n",
              "  </thead>\n",
              "  <tbody>\n",
              "    <tr>\n",
              "      <th>0</th>\n",
              "      <td>5.1</td>\n",
              "      <td>6.43</td>\n",
              "      <td>711.00</td>\n",
              "    </tr>\n",
              "    <tr>\n",
              "      <th>1</th>\n",
              "      <td>4.5</td>\n",
              "      <td>5.84</td>\n",
              "      <td>724.00</td>\n",
              "    </tr>\n",
              "    <tr>\n",
              "      <th>2</th>\n",
              "      <td>7.0</td>\n",
              "      <td>7.80</td>\n",
              "      <td>601.00</td>\n",
              "    </tr>\n",
              "    <tr>\n",
              "      <th>3</th>\n",
              "      <td>4.2</td>\n",
              "      <td>4.41</td>\n",
              "      <td>763.50</td>\n",
              "    </tr>\n",
              "    <tr>\n",
              "      <th>4</th>\n",
              "      <td>6.1</td>\n",
              "      <td>6.43</td>\n",
              "      <td>645.25</td>\n",
              "    </tr>\n",
              "    <tr>\n",
              "      <th>...</th>\n",
              "      <td>...</td>\n",
              "      <td>...</td>\n",
              "      <td>...</td>\n",
              "    </tr>\n",
              "    <tr>\n",
              "      <th>73</th>\n",
              "      <td>7.5</td>\n",
              "      <td>6.73</td>\n",
              "      <td>644.10</td>\n",
              "    </tr>\n",
              "    <tr>\n",
              "      <th>74</th>\n",
              "      <td>7.0</td>\n",
              "      <td>6.97</td>\n",
              "      <td>609.40</td>\n",
              "    </tr>\n",
              "    <tr>\n",
              "      <th>75</th>\n",
              "      <td>7.3</td>\n",
              "      <td>7.51</td>\n",
              "      <td>578.80</td>\n",
              "    </tr>\n",
              "    <tr>\n",
              "      <th>76</th>\n",
              "      <td>6.1</td>\n",
              "      <td>6.71</td>\n",
              "      <td>650.50</td>\n",
              "    </tr>\n",
              "    <tr>\n",
              "      <th>77</th>\n",
              "      <td>5.8</td>\n",
              "      <td>6.96</td>\n",
              "      <td>633.00</td>\n",
              "    </tr>\n",
              "  </tbody>\n",
              "</table>\n",
              "<p>78 rows × 3 columns</p>\n",
              "</div>\n",
              "      <button class=\"colab-df-convert\" onclick=\"convertToInteractive('df-bd21cfba-cb68-41d9-af5e-3fbdad7dbb48')\"\n",
              "              title=\"Convert this dataframe to an interactive table.\"\n",
              "              style=\"display:none;\">\n",
              "        \n",
              "  <svg xmlns=\"http://www.w3.org/2000/svg\" height=\"24px\"viewBox=\"0 0 24 24\"\n",
              "       width=\"24px\">\n",
              "    <path d=\"M0 0h24v24H0V0z\" fill=\"none\"/>\n",
              "    <path d=\"M18.56 5.44l.94 2.06.94-2.06 2.06-.94-2.06-.94-.94-2.06-.94 2.06-2.06.94zm-11 1L8.5 8.5l.94-2.06 2.06-.94-2.06-.94L8.5 2.5l-.94 2.06-2.06.94zm10 10l.94 2.06.94-2.06 2.06-.94-2.06-.94-.94-2.06-.94 2.06-2.06.94z\"/><path d=\"M17.41 7.96l-1.37-1.37c-.4-.4-.92-.59-1.43-.59-.52 0-1.04.2-1.43.59L10.3 9.45l-7.72 7.72c-.78.78-.78 2.05 0 2.83L4 21.41c.39.39.9.59 1.41.59.51 0 1.02-.2 1.41-.59l7.78-7.78 2.81-2.81c.8-.78.8-2.07 0-2.86zM5.41 20L4 18.59l7.72-7.72 1.47 1.35L5.41 20z\"/>\n",
              "  </svg>\n",
              "      </button>\n",
              "      \n",
              "  <style>\n",
              "    .colab-df-container {\n",
              "      display:flex;\n",
              "      flex-wrap:wrap;\n",
              "      gap: 12px;\n",
              "    }\n",
              "\n",
              "    .colab-df-convert {\n",
              "      background-color: #E8F0FE;\n",
              "      border: none;\n",
              "      border-radius: 50%;\n",
              "      cursor: pointer;\n",
              "      display: none;\n",
              "      fill: #1967D2;\n",
              "      height: 32px;\n",
              "      padding: 0 0 0 0;\n",
              "      width: 32px;\n",
              "    }\n",
              "\n",
              "    .colab-df-convert:hover {\n",
              "      background-color: #E2EBFA;\n",
              "      box-shadow: 0px 1px 2px rgba(60, 64, 67, 0.3), 0px 1px 3px 1px rgba(60, 64, 67, 0.15);\n",
              "      fill: #174EA6;\n",
              "    }\n",
              "\n",
              "    [theme=dark] .colab-df-convert {\n",
              "      background-color: #3B4455;\n",
              "      fill: #D2E3FC;\n",
              "    }\n",
              "\n",
              "    [theme=dark] .colab-df-convert:hover {\n",
              "      background-color: #434B5C;\n",
              "      box-shadow: 0px 1px 3px 1px rgba(0, 0, 0, 0.15);\n",
              "      filter: drop-shadow(0px 1px 2px rgba(0, 0, 0, 0.3));\n",
              "      fill: #FFFFFF;\n",
              "    }\n",
              "  </style>\n",
              "\n",
              "      <script>\n",
              "        const buttonEl =\n",
              "          document.querySelector('#df-bd21cfba-cb68-41d9-af5e-3fbdad7dbb48 button.colab-df-convert');\n",
              "        buttonEl.style.display =\n",
              "          google.colab.kernel.accessAllowed ? 'block' : 'none';\n",
              "\n",
              "        async function convertToInteractive(key) {\n",
              "          const element = document.querySelector('#df-bd21cfba-cb68-41d9-af5e-3fbdad7dbb48');\n",
              "          const dataTable =\n",
              "            await google.colab.kernel.invokeFunction('convertToInteractive',\n",
              "                                                     [key], {});\n",
              "          if (!dataTable) return;\n",
              "\n",
              "          const docLinkHtml = 'Like what you see? Visit the ' +\n",
              "            '<a target=\"_blank\" href=https://colab.research.google.com/notebooks/data_table.ipynb>data table notebook</a>'\n",
              "            + ' to learn more about interactive tables.';\n",
              "          element.innerHTML = '';\n",
              "          dataTable['output_type'] = 'display_data';\n",
              "          await google.colab.output.renderOutput(dataTable, element);\n",
              "          const docLink = document.createElement('div');\n",
              "          docLink.innerHTML = docLinkHtml;\n",
              "          element.appendChild(docLink);\n",
              "        }\n",
              "      </script>\n",
              "    </div>\n",
              "  </div>\n",
              "  "
            ]
          },
          "metadata": {},
          "execution_count": 553
        }
      ]
    },
    {
      "cell_type": "code",
      "source": [
        "# Verificar tipos de dados, quantidades e valores null:\n",
        "df.info()"
      ],
      "metadata": {
        "colab": {
          "base_uri": "https://localhost:8080/"
        },
        "id": "uPwWkQ-yUc6U",
        "outputId": "40840a5b-e38a-421a-f394-fceedab464ce"
      },
      "execution_count": null,
      "outputs": [
        {
          "output_type": "stream",
          "name": "stdout",
          "text": [
            "<class 'pandas.core.frame.DataFrame'>\n",
            "RangeIndex: 78 entries, 0 to 77\n",
            "Data columns (total 3 columns):\n",
            " #   Column                        Non-Null Count  Dtype  \n",
            "---  ------                        --------------  -----  \n",
            " 0   pH_Meio_Aquoso                78 non-null     float64\n",
            " 1   pH_Medida_Direta_Akso         78 non-null     float64\n",
            " 2   Valores_Analogicos_Sensor_pH  78 non-null     float64\n",
            "dtypes: float64(3)\n",
            "memory usage: 2.0 KB\n"
          ]
        }
      ]
    },
    {
      "cell_type": "code",
      "source": [
        "# Verificar valores faltosos:\n",
        "pd.options.mode.use_inf_as_na = True\n",
        "df.isnull().sum()"
      ],
      "metadata": {
        "colab": {
          "base_uri": "https://localhost:8080/"
        },
        "id": "O7Ehq9dPUjad",
        "outputId": "b5156b77-13eb-4e7c-c55a-4a7d8dcf617f"
      },
      "execution_count": null,
      "outputs": [
        {
          "output_type": "execute_result",
          "data": {
            "text/plain": [
              "pH_Meio_Aquoso                  0\n",
              "pH_Medida_Direta_Akso           0\n",
              "Valores_Analogicos_Sensor_pH    0\n",
              "dtype: int64"
            ]
          },
          "metadata": {},
          "execution_count": 555
        }
      ]
    },
    {
      "cell_type": "code",
      "source": [
        "#verificar Missing Values\n",
        "import missingno as msno\n",
        "msno.matrix(df)"
      ],
      "metadata": {
        "colab": {
          "base_uri": "https://localhost:8080/",
          "height": 686
        },
        "id": "gxUybStxUmcJ",
        "outputId": "28c0c2a3-8ca4-4414-c3c7-6f83cf2b62aa"
      },
      "execution_count": null,
      "outputs": [
        {
          "output_type": "execute_result",
          "data": {
            "text/plain": [
              "<matplotlib.axes._subplots.AxesSubplot at 0x7f225f102c10>"
            ]
          },
          "metadata": {},
          "execution_count": 556
        },
        {
          "output_type": "display_data",
          "data": {
            "text/plain": [
              "<Figure size 1800x720 with 2 Axes>"
            ],
            "image/png": "[encoded data removed]"
          },
          "metadata": {
            "needs_background": "light"
          }
        }
      ]
    },
    {
      "cell_type": "code",
      "source": [
        "#descrição estatistica\n",
        "df.describe(include='all')"
      ],
      "metadata": {
        "colab": {
          "base_uri": "https://localhost:8080/",
          "height": 300
        },
        "id": "VKKSRyw7dQES",
        "outputId": "9394fc75-b954-4f06-faad-fc9a42bdac69"
      },
      "execution_count": null,
      "outputs": [
        {
          "output_type": "execute_result",
          "data": {
            "text/plain": [
              "       pH_Meio_Aquoso  pH_Medida_Direta_Akso  Valores_Analogicos_Sensor_pH\n",
              "count        78.00000              78.000000                     78.000000\n",
              "mean          6.29500               6.461795                    648.244487\n",
              "std           1.15893               1.030649                     62.386971\n",
              "min           4.10000               4.280000                    468.250000\n",
              "25%           5.25000               5.740000                    606.675000\n",
              "50%           6.45000               6.675000                    644.675000\n",
              "75%           7.20000               7.245000                    698.332500\n",
              "max           8.80000               8.190000                    787.500000"
            ],
            "text/html": [
              "\n",
              "  <div id=\"df-814c6967-66df-42c7-8426-8426da7e6731\">\n",
              "    <div class=\"colab-df-container\">\n",
              "      <div>\n",
              "<style scoped>\n",
              "    .dataframe tbody tr th:only-of-type {\n",
              "        vertical-align: middle;\n",
              "    }\n",
              "\n",
              "    .dataframe tbody tr th {\n",
              "        vertical-align: top;\n",
              "    }\n",
              "\n",
              "    .dataframe thead th {\n",
              "        text-align: right;\n",
              "    }\n",
              "</style>\n",
              "<table border=\"1\" class=\"dataframe\">\n",
              "  <thead>\n",
              "    <tr style=\"text-align: right;\">\n",
              "      <th></th>\n",
              "      <th>pH_Meio_Aquoso</th>\n",
              "      <th>pH_Medida_Direta_Akso</th>\n",
              "      <th>Valores_Analogicos_Sensor_pH</th>\n",
              "    </tr>\n",
              "  </thead>\n",
              "  <tbody>\n",
              "    <tr>\n",
              "      <th>count</th>\n",
              "      <td>78.00000</td>\n",
              "      <td>78.000000</td>\n",
              "      <td>78.000000</td>\n",
              "    </tr>\n",
              "    <tr>\n",
              "      <th>mean</th>\n",
              "      <td>6.29500</td>\n",
              "      <td>6.461795</td>\n",
              "      <td>648.244487</td>\n",
              "    </tr>\n",
              "    <tr>\n",
              "      <th>std</th>\n",
              "      <td>1.15893</td>\n",
              "      <td>1.030649</td>\n",
              "      <td>62.386971</td>\n",
              "    </tr>\n",
              "    <tr>\n",
              "      <th>min</th>\n",
              "      <td>4.10000</td>\n",
              "      <td>4.280000</td>\n",
              "      <td>468.250000</td>\n",
              "    </tr>\n",
              "    <tr>\n",
              "      <th>25%</th>\n",
              "      <td>5.25000</td>\n",
              "      <td>5.740000</td>\n",
              "      <td>606.675000</td>\n",
              "    </tr>\n",
              "    <tr>\n",
              "      <th>50%</th>\n",
              "      <td>6.45000</td>\n",
              "      <td>6.675000</td>\n",
              "      <td>644.675000</td>\n",
              "    </tr>\n",
              "    <tr>\n",
              "      <th>75%</th>\n",
              "      <td>7.20000</td>\n",
              "      <td>7.245000</td>\n",
              "      <td>698.332500</td>\n",
              "    </tr>\n",
              "    <tr>\n",
              "      <th>max</th>\n",
              "      <td>8.80000</td>\n",
              "      <td>8.190000</td>\n",
              "      <td>787.500000</td>\n",
              "    </tr>\n",
              "  </tbody>\n",
              "</table>\n",
              "</div>\n",
              "      <button class=\"colab-df-convert\" onclick=\"convertToInteractive('df-814c6967-66df-42c7-8426-8426da7e6731')\"\n",
              "              title=\"Convert this dataframe to an interactive table.\"\n",
              "              style=\"display:none;\">\n",
              "        \n",
              "  <svg xmlns=\"http://www.w3.org/2000/svg\" height=\"24px\"viewBox=\"0 0 24 24\"\n",
              "       width=\"24px\">\n",
              "    <path d=\"M0 0h24v24H0V0z\" fill=\"none\"/>\n",
              "    <path d=\"M18.56 5.44l.94 2.06.94-2.06 2.06-.94-2.06-.94-.94-2.06-.94 2.06-2.06.94zm-11 1L8.5 8.5l.94-2.06 2.06-.94-2.06-.94L8.5 2.5l-.94 2.06-2.06.94zm10 10l.94 2.06.94-2.06 2.06-.94-2.06-.94-.94-2.06-.94 2.06-2.06.94z\"/><path d=\"M17.41 7.96l-1.37-1.37c-.4-.4-.92-.59-1.43-.59-.52 0-1.04.2-1.43.59L10.3 9.45l-7.72 7.72c-.78.78-.78 2.05 0 2.83L4 21.41c.39.39.9.59 1.41.59.51 0 1.02-.2 1.41-.59l7.78-7.78 2.81-2.81c.8-.78.8-2.07 0-2.86zM5.41 20L4 18.59l7.72-7.72 1.47 1.35L5.41 20z\"/>\n",
              "  </svg>\n",
              "      </button>\n",
              "      \n",
              "  <style>\n",
              "    .colab-df-container {\n",
              "      display:flex;\n",
              "      flex-wrap:wrap;\n",
              "      gap: 12px;\n",
              "    }\n",
              "\n",
              "    .colab-df-convert {\n",
              "      background-color: #E8F0FE;\n",
              "      border: none;\n",
              "      border-radius: 50%;\n",
              "      cursor: pointer;\n",
              "      display: none;\n",
              "      fill: #1967D2;\n",
              "      height: 32px;\n",
              "      padding: 0 0 0 0;\n",
              "      width: 32px;\n",
              "    }\n",
              "\n",
              "    .colab-df-convert:hover {\n",
              "      background-color: #E2EBFA;\n",
              "      box-shadow: 0px 1px 2px rgba(60, 64, 67, 0.3), 0px 1px 3px 1px rgba(60, 64, 67, 0.15);\n",
              "      fill: #174EA6;\n",
              "    }\n",
              "\n",
              "    [theme=dark] .colab-df-convert {\n",
              "      background-color: #3B4455;\n",
              "      fill: #D2E3FC;\n",
              "    }\n",
              "\n",
              "    [theme=dark] .colab-df-convert:hover {\n",
              "      background-color: #434B5C;\n",
              "      box-shadow: 0px 1px 3px 1px rgba(0, 0, 0, 0.15);\n",
              "      filter: drop-shadow(0px 1px 2px rgba(0, 0, 0, 0.3));\n",
              "      fill: #FFFFFF;\n",
              "    }\n",
              "  </style>\n",
              "\n",
              "      <script>\n",
              "        const buttonEl =\n",
              "          document.querySelector('#df-814c6967-66df-42c7-8426-8426da7e6731 button.colab-df-convert');\n",
              "        buttonEl.style.display =\n",
              "          google.colab.kernel.accessAllowed ? 'block' : 'none';\n",
              "\n",
              "        async function convertToInteractive(key) {\n",
              "          const element = document.querySelector('#df-814c6967-66df-42c7-8426-8426da7e6731');\n",
              "          const dataTable =\n",
              "            await google.colab.kernel.invokeFunction('convertToInteractive',\n",
              "                                                     [key], {});\n",
              "          if (!dataTable) return;\n",
              "\n",
              "          const docLinkHtml = 'Like what you see? Visit the ' +\n",
              "            '<a target=\"_blank\" href=https://colab.research.google.com/notebooks/data_table.ipynb>data table notebook</a>'\n",
              "            + ' to learn more about interactive tables.';\n",
              "          element.innerHTML = '';\n",
              "          dataTable['output_type'] = 'display_data';\n",
              "          await google.colab.output.renderOutput(dataTable, element);\n",
              "          const docLink = document.createElement('div');\n",
              "          docLink.innerHTML = docLinkHtml;\n",
              "          element.appendChild(docLink);\n",
              "        }\n",
              "      </script>\n",
              "    </div>\n",
              "  </div>\n",
              "  "
            ]
          },
          "metadata": {},
          "execution_count": 557
        }
      ]
    },
    {
      "cell_type": "markdown",
      "source": [
        "#Outleires "
      ],
      "metadata": {
        "id": "BCGqKfe2K1aa"
      }
    },
    {
      "cell_type": "code",
      "source": [
        "#Verificar Outliers\n",
        "import warnings\n",
        "import matplotlib.pyplot as plt\n",
        "warnings.filterwarnings(\"ignore\")\n",
        "import seaborn as sns\n",
        "for feature in ['pH_Meio_Aquoso', 'pH_Medida_Direta_Akso', 'Valores_Analogicos_Sensor_pH']:\n",
        "    fig, ax = plt.subplots(figsize=(6, 4))\n",
        "    sns.boxplot(df[feature])"
      ],
      "metadata": {
        "colab": {
          "base_uri": "https://localhost:8080/",
          "height": 806
        },
        "id": "hefOXxG3cVSS",
        "outputId": "276e46c7-0462-47cf-ef48-792c9406b7eb"
      },
      "execution_count": null,
      "outputs": [
        {
          "output_type": "display_data",
          "data": {
            "text/plain": [
              "<Figure size 432x288 with 1 Axes>"
            ],
            "image/png": "[encoded data removed]"
          },
          "metadata": {
            "needs_background": "light"
          }
        },
        {
          "output_type": "display_data",
          "data": {
            "text/plain": [
              "<Figure size 432x288 with 1 Axes>"
            ],
            "image/png": "[encoded data removed]"
          },
          "metadata": {
            "needs_background": "light"
          }
        },
        {
          "output_type": "display_data",
          "data": {
            "text/plain": [
              "<Figure size 432x288 with 1 Axes>"
            ],
            "image/png": "[encoded data removed]"
          },
          "metadata": {
            "needs_background": "light"
          }
        }
      ]
    },
    {
      "cell_type": "code",
      "source": [
        "#violinplot valores de pH medição direta\n",
        "from matplotlib import pyplot \n",
        "fig, ax = pyplot.subplots(figsize =(9, 7)) \n",
        "sns.violinplot( ax = ax, y = df[\"pH_Medida_Direta_Akso\"] ) \n",
        "\n"
      ],
      "metadata": {
        "colab": {
          "base_uri": "https://localhost:8080/",
          "height": 432
        },
        "id": "1q7Pq8UtjV1J",
        "outputId": "2d3ba9ac-7acc-44a0-93f9-df9e394a3103"
      },
      "execution_count": null,
      "outputs": [
        {
          "output_type": "execute_result",
          "data": {
            "text/plain": [
              "<matplotlib.axes._subplots.AxesSubplot at 0x7f225f1c0150>"
            ]
          },
          "metadata": {},
          "execution_count": 559
        },
        {
          "output_type": "display_data",
          "data": {
            "text/plain": [
              "<Figure size 648x504 with 1 Axes>"
            ],
            "image/png": "[encoded data removed]"
          },
          "metadata": {
            "needs_background": "light"
          }
        }
      ]
    },
    {
      "cell_type": "code",
      "source": [
        "#violinplot valores de pH medição em meio aquoso \n",
        "from matplotlib import pyplot \n",
        "fig, ax = pyplot.subplots(figsize =(9, 7)) \n",
        "sns.violinplot( ax = ax, y = df[\"pH_Meio_Aquoso\"] ) \n"
      ],
      "metadata": {
        "colab": {
          "base_uri": "https://localhost:8080/",
          "height": 432
        },
        "id": "TIBQB-y-m7tb",
        "outputId": "fdc8684a-8388-47a6-da1c-6d326a3f1361"
      },
      "execution_count": null,
      "outputs": [
        {
          "output_type": "execute_result",
          "data": {
            "text/plain": [
              "<matplotlib.axes._subplots.AxesSubplot at 0x7f225ef43190>"
            ]
          },
          "metadata": {},
          "execution_count": 560
        },
        {
          "output_type": "display_data",
          "data": {
            "text/plain": [
              "<Figure size 648x504 with 1 Axes>"
            ],
            "image/png": "[encoded data removed]"
          },
          "metadata": {
            "needs_background": "light"
          }
        }
      ]
    },
    {
      "cell_type": "code",
      "source": [
        "#violinplot valores analogicos medidos com sensor na ESP32 \n",
        "from matplotlib import pyplot \n",
        "fig, ax = pyplot.subplots(figsize =(9, 7)) \n",
        "sns.violinplot( ax = ax, y = df[\"Valores_Analogicos_Sensor_pH\"] ) \n"
      ],
      "metadata": {
        "colab": {
          "base_uri": "https://localhost:8080/",
          "height": 432
        },
        "id": "h18_tE_XnAKE",
        "outputId": "b71179a2-6d7f-4f1e-a7fc-3942a7240b12"
      },
      "execution_count": null,
      "outputs": [
        {
          "output_type": "execute_result",
          "data": {
            "text/plain": [
              "<matplotlib.axes._subplots.AxesSubplot at 0x7f225eeaf210>"
            ]
          },
          "metadata": {},
          "execution_count": 561
        },
        {
          "output_type": "display_data",
          "data": {
            "text/plain": [
              "<Figure size 648x504 with 1 Axes>"
            ],
            "image/png": "[encoded data removed]"
          },
          "metadata": {
            "needs_background": "light"
          }
        }
      ]
    },
    {
      "cell_type": "code",
      "source": [
        "plt.figure(figsize=(15,10))\n",
        "sns.boxplot(data=df,x='pH_Meio_Aquoso',y='Valores_Analogicos_Sensor_pH')\n",
        "plt.title('Relação Valores medição sensor pH desenvolvido x pH meio aquoso')"
      ],
      "metadata": {
        "colab": {
          "base_uri": "https://localhost:8080/",
          "height": 639
        },
        "id": "oKhOb0Tvfbhs",
        "outputId": "d0aa0c03-5849-411f-adf6-c46da624fece"
      },
      "execution_count": null,
      "outputs": [
        {
          "output_type": "execute_result",
          "data": {
            "text/plain": [
              "Text(0.5, 1.0, 'Relação Valores medição sensor pH desenvolvido x pH meio aquoso')"
            ]
          },
          "metadata": {},
          "execution_count": 562
        },
        {
          "output_type": "display_data",
          "data": {
            "text/plain": [
              "<Figure size 1080x720 with 1 Axes>"
            ],
            "image/png": "[encoded data removed]"
          },
          "metadata": {
            "needs_background": "light"
          }
        }
      ]
    },
    {
      "cell_type": "code",
      "source": [
        "plt.figure(figsize=(15,10))\n",
        "sns.boxplot(data=df,x='pH_Medida_Direta_Akso',y='Valores_Analogicos_Sensor_pH')\n",
        "plt.title('Relação Valores medição sensor desenvolvido x pH medição direta(akso)')"
      ],
      "metadata": {
        "colab": {
          "base_uri": "https://localhost:8080/",
          "height": 639
        },
        "id": "dqweujpmf-5m",
        "outputId": "ecd31241-4907-4095-8847-4c94370d9f15"
      },
      "execution_count": null,
      "outputs": [
        {
          "output_type": "execute_result",
          "data": {
            "text/plain": [
              "Text(0.5, 1.0, 'Relação Valores medição sensor desenvolvido x pH medição direta(akso)')"
            ]
          },
          "metadata": {},
          "execution_count": 563
        },
        {
          "output_type": "display_data",
          "data": {
            "text/plain": [
              "<Figure size 1080x720 with 1 Axes>"
            ],
            "image/png": "[encoded data removed]"
          },
          "metadata": {
            "needs_background": "light"
          }
        }
      ]
    },
    {
      "cell_type": "code",
      "source": [
        "from seaborn import jointplot\n",
        "for feature in ['pH_Meio_Aquoso', 'pH_Medida_Direta_Akso', 'Valores_Analogicos_Sensor_pH']:\n",
        "  p = jointplot(feature, \"Valores_Analogicos_Sensor_pH\", data=df, kind=\"reg\")"
      ],
      "metadata": {
        "id": "i-tCFmcmr1t6",
        "outputId": "3d54a7ce-89c8-454a-caa0-8405401b4b51",
        "colab": {
          "base_uri": "https://localhost:8080/",
          "height": 1000
        }
      },
      "execution_count": null,
      "outputs": [
        {
          "output_type": "display_data",
          "data": {
            "text/plain": [
              "<Figure size 432x432 with 3 Axes>"
            ],
            "image/png": "[encoded data removed]"
          },
          "metadata": {
            "needs_background": "light"
          }
        },
        {
          "output_type": "display_data",
          "data": {
            "text/plain": [
              "<Figure size 432x432 with 3 Axes>"
            ],
            "image/png": "[encoded data removed]"
          },
          "metadata": {
            "needs_background": "light"
          }
        },
        {
          "output_type": "display_data",
          "data": {
            "text/plain": [
              "<Figure size 432x432 with 3 Axes>"
            ],
            "image/png": "[encoded data removed]"
          },
          "metadata": {
            "needs_background": "light"
          }
        }
      ]
    },
    {
      "cell_type": "markdown",
      "source": [
        "#Analise da Normalidade\n",
        "Teste de Normalidade dos Dados\n",
        "\n",
        "Aplicou-se o teste Shapiro-Wilk:\n",
        "\n",
        "Ho= distribuição normal: p-value> 0.05.\n",
        "\n",
        "Ha = distribuição não normal : p-value <= 0,05"
      ],
      "metadata": {
        "id": "ZM74-dQkpO97"
      }
    },
    {
      "cell_type": "code",
      "source": [
        "import scipy.stats as stats\n",
        "import pylab\n",
        "def teste_shapiro(data):\n",
        "  shapiro_stat, shapiro_p_valor=stats.shapiro(data)\n",
        "  print('O valor da estatistica de Shapiro-Wilk =%.3f, O valor de p de Shapiro-Wilk=%.3f' % (shapiro_stat, shapiro_p_valor))\n",
        "  alpha = 0.05\n",
        "  return shapiro_p_valor > alpha\n",
        "\n",
        "for columns in list(df.keys()):\n",
        "   print(f'\\n** {columns} **')\n",
        "   nenhum_rejeita = True\n",
        "   for feature in ['pH_Meio_Aquoso', 'pH_Medida_Direta_Akso', 'Valores_Analogicos_Sensor_pH']:\n",
        "    print(f'- Métrica: {feature}')\n",
        "    if teste_shapiro(df[feature]):\n",
        "      print(f'Segue uma distribuição Normal(não rejeita H0)')\n",
        "      nenhum_rejeita = False\n",
        "    if nenhum_rejeita: print('Não segue uma distribuição Normal (rejeita H0)')\n"
      ],
      "metadata": {
        "colab": {
          "base_uri": "https://localhost:8080/"
        },
        "id": "Pvc0L0V1pUNZ",
        "outputId": "e6bd2e1d-ac5c-4dcd-fed8-abeb75d29c01"
      },
      "execution_count": null,
      "outputs": [
        {
          "output_type": "stream",
          "name": "stdout",
          "text": [
            "\n",
            "** pH_Meio_Aquoso **\n",
            "- Métrica: pH_Meio_Aquoso\n",
            "O valor da estatistica de Shapiro-Wilk =0.960, O valor de p de Shapiro-Wilk=0.014\n",
            "Não segue uma distribuição Normal (rejeita H0)\n",
            "- Métrica: pH_Medida_Direta_Akso\n",
            "O valor da estatistica de Shapiro-Wilk =0.959, O valor de p de Shapiro-Wilk=0.014\n",
            "Não segue uma distribuição Normal (rejeita H0)\n",
            "- Métrica: Valores_Analogicos_Sensor_pH\n",
            "O valor da estatistica de Shapiro-Wilk =0.983, O valor de p de Shapiro-Wilk=0.410\n",
            "Segue uma distribuição Normal(não rejeita H0)\n",
            "\n",
            "** pH_Medida_Direta_Akso **\n",
            "- Métrica: pH_Meio_Aquoso\n",
            "O valor da estatistica de Shapiro-Wilk =0.960, O valor de p de Shapiro-Wilk=0.014\n",
            "Não segue uma distribuição Normal (rejeita H0)\n",
            "- Métrica: pH_Medida_Direta_Akso\n",
            "O valor da estatistica de Shapiro-Wilk =0.959, O valor de p de Shapiro-Wilk=0.014\n",
            "Não segue uma distribuição Normal (rejeita H0)\n",
            "- Métrica: Valores_Analogicos_Sensor_pH\n",
            "O valor da estatistica de Shapiro-Wilk =0.983, O valor de p de Shapiro-Wilk=0.410\n",
            "Segue uma distribuição Normal(não rejeita H0)\n",
            "\n",
            "** Valores_Analogicos_Sensor_pH **\n",
            "- Métrica: pH_Meio_Aquoso\n",
            "O valor da estatistica de Shapiro-Wilk =0.960, O valor de p de Shapiro-Wilk=0.014\n",
            "Não segue uma distribuição Normal (rejeita H0)\n",
            "- Métrica: pH_Medida_Direta_Akso\n",
            "O valor da estatistica de Shapiro-Wilk =0.959, O valor de p de Shapiro-Wilk=0.014\n",
            "Não segue uma distribuição Normal (rejeita H0)\n",
            "- Métrica: Valores_Analogicos_Sensor_pH\n",
            "O valor da estatistica de Shapiro-Wilk =0.983, O valor de p de Shapiro-Wilk=0.410\n",
            "Segue uma distribuição Normal(não rejeita H0)\n"
          ]
        }
      ]
    },
    {
      "cell_type": "code",
      "source": [
        "valoresphmedidos =df[['pH_Meio_Aquoso', 'pH_Medida_Direta_Akso', 'Valores_Analogicos_Sensor_pH']]"
      ],
      "metadata": {
        "id": "5zNocQSg5JZX"
      },
      "execution_count": null,
      "outputs": []
    },
    {
      "cell_type": "code",
      "source": [
        "valoresphmedidos"
      ],
      "metadata": {
        "colab": {
          "base_uri": "https://localhost:8080/",
          "height": 424
        },
        "id": "ayOfXzdp5jPY",
        "outputId": "84694ce5-e74f-465c-cd54-32ec431ca68d"
      },
      "execution_count": null,
      "outputs": [
        {
          "output_type": "execute_result",
          "data": {
            "text/plain": [
              "    pH_Meio_Aquoso  pH_Medida_Direta_Akso  Valores_Analogicos_Sensor_pH\n",
              "0              5.1                   6.43                        711.00\n",
              "1              4.5                   5.84                        724.00\n",
              "2              7.0                   7.80                        601.00\n",
              "3              4.2                   4.41                        763.50\n",
              "4              6.1                   6.43                        645.25\n",
              "..             ...                    ...                           ...\n",
              "73             7.5                   6.73                        644.10\n",
              "74             7.0                   6.97                        609.40\n",
              "75             7.3                   7.51                        578.80\n",
              "76             6.1                   6.71                        650.50\n",
              "77             5.8                   6.96                        633.00\n",
              "\n",
              "[78 rows x 3 columns]"
            ],
            "text/html": [
              "\n",
              "  <div id=\"df-5745ae0f-626a-4913-8e25-8213551736b6\">\n",
              "    <div class=\"colab-df-container\">\n",
              "      <div>\n",
              "<style scoped>\n",
              "    .dataframe tbody tr th:only-of-type {\n",
              "        vertical-align: middle;\n",
              "    }\n",
              "\n",
              "    .dataframe tbody tr th {\n",
              "        vertical-align: top;\n",
              "    }\n",
              "\n",
              "    .dataframe thead th {\n",
              "        text-align: right;\n",
              "    }\n",
              "</style>\n",
              "<table border=\"1\" class=\"dataframe\">\n",
              "  <thead>\n",
              "    <tr style=\"text-align: right;\">\n",
              "      <th></th>\n",
              "      <th>pH_Meio_Aquoso</th>\n",
              "      <th>pH_Medida_Direta_Akso</th>\n",
              "      <th>Valores_Analogicos_Sensor_pH</th>\n",
              "    </tr>\n",
              "  </thead>\n",
              "  <tbody>\n",
              "    <tr>\n",
              "      <th>0</th>\n",
              "      <td>5.1</td>\n",
              "      <td>6.43</td>\n",
              "      <td>711.00</td>\n",
              "    </tr>\n",
              "    <tr>\n",
              "      <th>1</th>\n",
              "      <td>4.5</td>\n",
              "      <td>5.84</td>\n",
              "      <td>724.00</td>\n",
              "    </tr>\n",
              "    <tr>\n",
              "      <th>2</th>\n",
              "      <td>7.0</td>\n",
              "      <td>7.80</td>\n",
              "      <td>601.00</td>\n",
              "    </tr>\n",
              "    <tr>\n",
              "      <th>3</th>\n",
              "      <td>4.2</td>\n",
              "      <td>4.41</td>\n",
              "      <td>763.50</td>\n",
              "    </tr>\n",
              "    <tr>\n",
              "      <th>4</th>\n",
              "      <td>6.1</td>\n",
              "      <td>6.43</td>\n",
              "      <td>645.25</td>\n",
              "    </tr>\n",
              "    <tr>\n",
              "      <th>...</th>\n",
              "      <td>...</td>\n",
              "      <td>...</td>\n",
              "      <td>...</td>\n",
              "    </tr>\n",
              "    <tr>\n",
              "      <th>73</th>\n",
              "      <td>7.5</td>\n",
              "      <td>6.73</td>\n",
              "      <td>644.10</td>\n",
              "    </tr>\n",
              "    <tr>\n",
              "      <th>74</th>\n",
              "      <td>7.0</td>\n",
              "      <td>6.97</td>\n",
              "      <td>609.40</td>\n",
              "    </tr>\n",
              "    <tr>\n",
              "      <th>75</th>\n",
              "      <td>7.3</td>\n",
              "      <td>7.51</td>\n",
              "      <td>578.80</td>\n",
              "    </tr>\n",
              "    <tr>\n",
              "      <th>76</th>\n",
              "      <td>6.1</td>\n",
              "      <td>6.71</td>\n",
              "      <td>650.50</td>\n",
              "    </tr>\n",
              "    <tr>\n",
              "      <th>77</th>\n",
              "      <td>5.8</td>\n",
              "      <td>6.96</td>\n",
              "      <td>633.00</td>\n",
              "    </tr>\n",
              "  </tbody>\n",
              "</table>\n",
              "<p>78 rows × 3 columns</p>\n",
              "</div>\n",
              "      <button class=\"colab-df-convert\" onclick=\"convertToInteractive('df-5745ae0f-626a-4913-8e25-8213551736b6')\"\n",
              "              title=\"Convert this dataframe to an interactive table.\"\n",
              "              style=\"display:none;\">\n",
              "        \n",
              "  <svg xmlns=\"http://www.w3.org/2000/svg\" height=\"24px\"viewBox=\"0 0 24 24\"\n",
              "       width=\"24px\">\n",
              "    <path d=\"M0 0h24v24H0V0z\" fill=\"none\"/>\n",
              "    <path d=\"M18.56 5.44l.94 2.06.94-2.06 2.06-.94-2.06-.94-.94-2.06-.94 2.06-2.06.94zm-11 1L8.5 8.5l.94-2.06 2.06-.94-2.06-.94L8.5 2.5l-.94 2.06-2.06.94zm10 10l.94 2.06.94-2.06 2.06-.94-2.06-.94-.94-2.06-.94 2.06-2.06.94z\"/><path d=\"M17.41 7.96l-1.37-1.37c-.4-.4-.92-.59-1.43-.59-.52 0-1.04.2-1.43.59L10.3 9.45l-7.72 7.72c-.78.78-.78 2.05 0 2.83L4 21.41c.39.39.9.59 1.41.59.51 0 1.02-.2 1.41-.59l7.78-7.78 2.81-2.81c.8-.78.8-2.07 0-2.86zM5.41 20L4 18.59l7.72-7.72 1.47 1.35L5.41 20z\"/>\n",
              "  </svg>\n",
              "      </button>\n",
              "      \n",
              "  <style>\n",
              "    .colab-df-container {\n",
              "      display:flex;\n",
              "      flex-wrap:wrap;\n",
              "      gap: 12px;\n",
              "    }\n",
              "\n",
              "    .colab-df-convert {\n",
              "      background-color: #E8F0FE;\n",
              "      border: none;\n",
              "      border-radius: 50%;\n",
              "      cursor: pointer;\n",
              "      display: none;\n",
              "      fill: #1967D2;\n",
              "      height: 32px;\n",
              "      padding: 0 0 0 0;\n",
              "      width: 32px;\n",
              "    }\n",
              "\n",
              "    .colab-df-convert:hover {\n",
              "      background-color: #E2EBFA;\n",
              "      box-shadow: 0px 1px 2px rgba(60, 64, 67, 0.3), 0px 1px 3px 1px rgba(60, 64, 67, 0.15);\n",
              "      fill: #174EA6;\n",
              "    }\n",
              "\n",
              "    [theme=dark] .colab-df-convert {\n",
              "      background-color: #3B4455;\n",
              "      fill: #D2E3FC;\n",
              "    }\n",
              "\n",
              "    [theme=dark] .colab-df-convert:hover {\n",
              "      background-color: #434B5C;\n",
              "      box-shadow: 0px 1px 3px 1px rgba(0, 0, 0, 0.15);\n",
              "      filter: drop-shadow(0px 1px 2px rgba(0, 0, 0, 0.3));\n",
              "      fill: #FFFFFF;\n",
              "    }\n",
              "  </style>\n",
              "\n",
              "      <script>\n",
              "        const buttonEl =\n",
              "          document.querySelector('#df-5745ae0f-626a-4913-8e25-8213551736b6 button.colab-df-convert');\n",
              "        buttonEl.style.display =\n",
              "          google.colab.kernel.accessAllowed ? 'block' : 'none';\n",
              "\n",
              "        async function convertToInteractive(key) {\n",
              "          const element = document.querySelector('#df-5745ae0f-626a-4913-8e25-8213551736b6');\n",
              "          const dataTable =\n",
              "            await google.colab.kernel.invokeFunction('convertToInteractive',\n",
              "                                                     [key], {});\n",
              "          if (!dataTable) return;\n",
              "\n",
              "          const docLinkHtml = 'Like what you see? Visit the ' +\n",
              "            '<a target=\"_blank\" href=https://colab.research.google.com/notebooks/data_table.ipynb>data table notebook</a>'\n",
              "            + ' to learn more about interactive tables.';\n",
              "          element.innerHTML = '';\n",
              "          dataTable['output_type'] = 'display_data';\n",
              "          await google.colab.output.renderOutput(dataTable, element);\n",
              "          const docLink = document.createElement('div');\n",
              "          docLink.innerHTML = docLinkHtml;\n",
              "          element.appendChild(docLink);\n",
              "        }\n",
              "      </script>\n",
              "    </div>\n",
              "  </div>\n",
              "  "
            ]
          },
          "metadata": {},
          "execution_count": 567
        }
      ]
    },
    {
      "cell_type": "code",
      "source": [
        "#pH medição meio aquoso\n",
        "stats.shapiro(valoresphmedidos.pH_Meio_Aquoso)"
      ],
      "metadata": {
        "colab": {
          "base_uri": "https://localhost:8080/"
        },
        "id": "XSAGf3Y532DQ",
        "outputId": "6c5cdfd6-8b73-4a20-d759-4d337de49372"
      },
      "execution_count": null,
      "outputs": [
        {
          "output_type": "execute_result",
          "data": {
            "text/plain": [
              "(0.9595735669136047, 0.014347684569656849)"
            ]
          },
          "metadata": {},
          "execution_count": 568
        }
      ]
    },
    {
      "cell_type": "markdown",
      "source": [
        "p < 0.05 então nao segue distribuição normal"
      ],
      "metadata": {
        "id": "DvAJS_b89eff"
      }
    },
    {
      "cell_type": "code",
      "source": [
        "#pH medição direta no solo(akso)\n",
        "stats.shapiro(valoresphmedidos.pH_Medida_Direta_Akso)"
      ],
      "metadata": {
        "colab": {
          "base_uri": "https://localhost:8080/"
        },
        "id": "PP_cwXx18zcd",
        "outputId": "d810f606-cbe9-47e2-8e1a-a01ed18a3eb7"
      },
      "execution_count": null,
      "outputs": [
        {
          "output_type": "execute_result",
          "data": {
            "text/plain": [
              "(0.9591991901397705, 0.013628555461764336)"
            ]
          },
          "metadata": {},
          "execution_count": 569
        }
      ]
    },
    {
      "cell_type": "markdown",
      "source": [
        "p < 0.05 então nao segue distribuição normal"
      ],
      "metadata": {
        "id": "-byEI3zI9zIQ"
      }
    },
    {
      "cell_type": "code",
      "source": [
        "#valores analogicos sensor de pH\n",
        "stats.shapiro(valoresphmedidos.Valores_Analogicos_Sensor_pH)"
      ],
      "metadata": {
        "colab": {
          "base_uri": "https://localhost:8080/"
        },
        "id": "vwobA9YL86t4",
        "outputId": "187504cc-bac5-4d34-d6d1-1cf65b0619a2"
      },
      "execution_count": null,
      "outputs": [
        {
          "output_type": "execute_result",
          "data": {
            "text/plain": [
              "(0.9834951162338257, 0.4099825322628021)"
            ]
          },
          "metadata": {},
          "execution_count": 570
        }
      ]
    },
    {
      "cell_type": "markdown",
      "source": [
        "p > 0.05 então segue distribuição normal"
      ],
      "metadata": {
        "id": "0T25aQ8W900Z"
      }
    },
    {
      "cell_type": "code",
      "source": [
        "for feature in ['pH_Meio_Aquoso', 'pH_Medida_Direta_Akso', 'Valores_Analogicos_Sensor_pH']:\n",
        "    stats.probplot(df[feature], dist=\"norm\", plot=pylab)\n",
        "    print(f'- Variável Correspondente: {feature}')\n",
        "    pylab.title(\"Normal Q-Q Plot\")\n",
        "    pylab.legend(['Dados','Dist.Normal'],loc='upper left')\n",
        "    pylab.show()"
      ],
      "metadata": {
        "colab": {
          "base_uri": "https://localhost:8080/",
          "height": 1000
        },
        "id": "slM7VQcQqLqa",
        "outputId": "461dc9ac-ade2-4e77-f980-d6a801869515"
      },
      "execution_count": null,
      "outputs": [
        {
          "output_type": "stream",
          "name": "stdout",
          "text": [
            "- Variável Correspondente: pH_Meio_Aquoso\n"
          ]
        },
        {
          "output_type": "display_data",
          "data": {
            "text/plain": [
              "<Figure size 1058.4x595.44 with 1 Axes>"
            ],
            "image/png": "[encoded data removed]"
          },
          "metadata": {
            "needs_background": "light"
          }
        },
        {
          "output_type": "stream",
          "name": "stdout",
          "text": [
            "- Variável Correspondente: pH_Medida_Direta_Akso\n"
          ]
        },
        {
          "output_type": "display_data",
          "data": {
            "text/plain": [
              "<Figure size 1058.4x595.44 with 1 Axes>"
            ],
            "image/png": "[encoded data removed]"
          },
          "metadata": {
            "needs_background": "light"
          }
        },
        {
          "output_type": "stream",
          "name": "stdout",
          "text": [
            "- Variável Correspondente: Valores_Analogicos_Sensor_pH\n"
          ]
        },
        {
          "output_type": "display_data",
          "data": {
            "text/plain": [
              "<Figure size 1058.4x595.44 with 1 Axes>"
            ],
            "image/png": "[encoded data removed]"
          },
          "metadata": {
            "needs_background": "light"
          }
        }
      ]
    },
    {
      "cell_type": "markdown",
      "source": [
        "#Correlação de Pearson\n",
        "coeficiente de Pearson é a medida estatística mais usada para obter a associação entre duas variáveis linearmente relacionadas"
      ],
      "metadata": {
        "id": "JNLi7wm9DAMD"
      }
    },
    {
      "cell_type": "code",
      "source": [
        "correlation = df.corr()\n"
      ],
      "metadata": {
        "id": "tIXQbvNt11MH"
      },
      "execution_count": null,
      "outputs": []
    },
    {
      "cell_type": "code",
      "source": [
        "# plot da matriz de correlação\n",
        "import seaborn as sn\n",
        "plot = sn.heatmap(correlation, annot = True, fmt=\".1f\", linewidths=.6)\n",
        "plot"
      ],
      "metadata": {
        "colab": {
          "base_uri": "https://localhost:8080/",
          "height": 519
        },
        "id": "z3r_JjVv4rJ1",
        "outputId": "22401c8b-01c5-436e-8313-197b14e748a3"
      },
      "execution_count": null,
      "outputs": [
        {
          "output_type": "execute_result",
          "data": {
            "text/plain": [
              "<matplotlib.axes._subplots.AxesSubplot at 0x7f225de4a510>"
            ]
          },
          "metadata": {},
          "execution_count": 573
        },
        {
          "output_type": "display_data",
          "data": {
            "text/plain": [
              "<Figure size 1058.4x595.44 with 2 Axes>"
            ],
            "image/png": "[encoded data removed]"
          },
          "metadata": {
            "needs_background": "light"
          }
        }
      ]
    },
    {
      "cell_type": "markdown",
      "source": [
        "**Correlação entre pH(medição meio aquoso) x Valores analogicos do sensor**"
      ],
      "metadata": {
        "id": "4_2gijY68icR"
      }
    },
    {
      "cell_type": "code",
      "source": [
        "df.plot.scatter(x='pH_Meio_Aquoso',y='Valores_Analogicos_Sensor_pH');\n",
        "\n"
      ],
      "metadata": {
        "colab": {
          "base_uri": "https://localhost:8080/",
          "height": 512
        },
        "id": "nJ5D80m28CqC",
        "outputId": "590610f2-7620-4d7b-cce7-59521d58a561"
      },
      "execution_count": null,
      "outputs": [
        {
          "output_type": "display_data",
          "data": {
            "text/plain": [
              "<Figure size 1058.4x595.44 with 1 Axes>"
            ],
            "image/png": "[encoded data removed]"
          },
          "metadata": {
            "needs_background": "light"
          }
        }
      ]
    },
    {
      "cell_type": "code",
      "source": [
        "import pandas as pd\n",
        "from scipy.stats import pearsonr\n",
        "import numpy as np\n"
      ],
      "metadata": {
        "id": "EmbSeFin9SPt"
      },
      "execution_count": null,
      "outputs": []
    },
    {
      "cell_type": "code",
      "source": [
        "#Calculando o teste de correlação de Pearson entre pH meio aquoso x Valores analogicos do sensor \n",
        "corr = np.corrcoef(df['pH_Meio_Aquoso'], df['Valores_Analogicos_Sensor_pH'])\n",
        "print(corr)\n"
      ],
      "metadata": {
        "colab": {
          "base_uri": "https://localhost:8080/"
        },
        "id": "eY2U0s4S6St2",
        "outputId": "36bcd2df-4aba-4ab3-e3e5-f000d3745a04"
      },
      "execution_count": null,
      "outputs": [
        {
          "output_type": "stream",
          "name": "stdout",
          "text": [
            "[[ 1.         -0.91352823]\n",
            " [-0.91352823  1.        ]]\n"
          ]
        }
      ]
    },
    {
      "cell_type": "markdown",
      "source": [
        "#correlação pH medição direta no solo x valores analogicos do sensor desenvolvido"
      ],
      "metadata": {
        "id": "59dP0dImE17J"
      }
    },
    {
      "cell_type": "code",
      "source": [
        "df.plot.scatter(x='pH_Medida_Direta_Akso',y='Valores_Analogicos_Sensor_pH');\n"
      ],
      "metadata": {
        "colab": {
          "base_uri": "https://localhost:8080/",
          "height": 512
        },
        "id": "U9CiMYEdBeeZ",
        "outputId": "d39db5e9-2bc0-40e0-90b1-28e54b0abf3e"
      },
      "execution_count": null,
      "outputs": [
        {
          "output_type": "display_data",
          "data": {
            "text/plain": [
              "<Figure size 1058.4x595.44 with 1 Axes>"
            ],
            "image/png": "[encoded data removed]"
          },
          "metadata": {
            "needs_background": "light"
          }
        }
      ]
    },
    {
      "cell_type": "code",
      "source": [
        "#Calculando o teste de correlação de Pearson entre pH medição direta x Valores analogicos do sensor \n",
        "corr = np.corrcoef(df['pH_Medida_Direta_Akso'], df['Valores_Analogicos_Sensor_pH'])\n",
        "print(corr)\n"
      ],
      "metadata": {
        "colab": {
          "base_uri": "https://localhost:8080/"
        },
        "id": "H4bsK-rjBCFJ",
        "outputId": "4ecd750d-2db3-48e2-f909-e8b589520227"
      },
      "execution_count": null,
      "outputs": [
        {
          "output_type": "stream",
          "name": "stdout",
          "text": [
            "[[ 1.         -0.91148251]\n",
            " [-0.91148251  1.        ]]\n"
          ]
        }
      ]
    },
    {
      "cell_type": "markdown",
      "source": [
        "#correlação pH medição direta no solo x pH meio aquoso"
      ],
      "metadata": {
        "id": "fJwA0UcyFWy-"
      }
    },
    {
      "cell_type": "code",
      "source": [
        "df.plot.scatter(x='pH_Medida_Direta_Akso',y='pH_Meio_Aquoso');\n"
      ],
      "metadata": {
        "colab": {
          "base_uri": "https://localhost:8080/",
          "height": 513
        },
        "id": "q6dD7dGYBtCh",
        "outputId": "cf884bac-12d9-4c76-845d-6ab9a5c83ea6"
      },
      "execution_count": null,
      "outputs": [
        {
          "output_type": "display_data",
          "data": {
            "text/plain": [
              "<Figure size 1058.4x595.44 with 1 Axes>"
            ],
            "image/png": "[encoded data removed]"
          },
          "metadata": {
            "needs_background": "light"
          }
        }
      ]
    },
    {
      "cell_type": "code",
      "source": [
        "#Calculando o teste de correlação de Pearson entre pH medição direta x pH medição em meio aquoso \n",
        "corr = np.corrcoef(df['pH_Medida_Direta_Akso'], df['pH_Meio_Aquoso'])\n",
        "print(corr)"
      ],
      "metadata": {
        "colab": {
          "base_uri": "https://localhost:8080/"
        },
        "id": "VbaIUFMKB3pw",
        "outputId": "18df616d-ca62-43ce-e4fb-7ea28738c620"
      },
      "execution_count": null,
      "outputs": [
        {
          "output_type": "stream",
          "name": "stdout",
          "text": [
            "[[1.         0.93749018]\n",
            " [0.93749018 1.        ]]\n"
          ]
        }
      ]
    },
    {
      "cell_type": "markdown",
      "source": [
        "#Correlação Spearman \n",
        "correlação de Spearman avalia a relação monótona (linear e não linear) entre duas variáveis.\n",
        "Teste não paramétrico.\n",
        "mede relação de força entre duas variáveis.\n"
      ],
      "metadata": {
        "id": "eOAXf0wIC2Mv"
      }
    },
    {
      "cell_type": "code",
      "source": [
        "my_r = df.corr(method=\"spearman\")\n",
        "print(my_r)"
      ],
      "metadata": {
        "colab": {
          "base_uri": "https://localhost:8080/"
        },
        "id": "N8sMOZJCCG0f",
        "outputId": "b1b2d1df-47e5-4623-e49b-3f80e24ade1e"
      },
      "execution_count": null,
      "outputs": [
        {
          "output_type": "stream",
          "name": "stdout",
          "text": [
            "                              pH_Meio_Aquoso  pH_Medida_Direta_Akso  \\\n",
            "pH_Meio_Aquoso                      1.000000               0.929007   \n",
            "pH_Medida_Direta_Akso               0.929007               1.000000   \n",
            "Valores_Analogicos_Sensor_pH       -0.910509              -0.925010   \n",
            "\n",
            "                              Valores_Analogicos_Sensor_pH  \n",
            "pH_Meio_Aquoso                                   -0.910509  \n",
            "pH_Medida_Direta_Akso                            -0.925010  \n",
            "Valores_Analogicos_Sensor_pH                      1.000000  \n"
          ]
        }
      ]
    },
    {
      "cell_type": "code",
      "source": [
        "def display_correlation(discorr):\n",
        "    r = discorr.corr(method=\"spearman\")\n",
        "    plt.figure(figsize=(10,6))\n",
        "    heatmap = sns.heatmap(discorr.corr(), vmin=-1, \n",
        "                      vmax=1, annot=True)\n",
        "    plt.title(\"Spearman Correlation\")\n",
        "    return(r)"
      ],
      "metadata": {
        "id": "pHbQsZ6QGUuO"
      },
      "execution_count": null,
      "outputs": []
    },
    {
      "cell_type": "code",
      "source": [
        "import numpy as np\n",
        "import pandas as pd\n",
        "import seaborn as sns # For pairplots and heatmaps\n",
        "import matplotlib.pyplot as plt\n"
      ],
      "metadata": {
        "id": "HdK3THejHXL4"
      },
      "execution_count": null,
      "outputs": []
    },
    {
      "cell_type": "code",
      "source": [
        "r_simple=display_correlation(df)"
      ],
      "metadata": {
        "colab": {
          "base_uri": "https://localhost:8080/",
          "height": 391
        },
        "id": "yq2dT2TEGzPe",
        "outputId": "fe97d8b7-087b-441a-d63e-89815a473245"
      },
      "execution_count": null,
      "outputs": [
        {
          "output_type": "display_data",
          "data": {
            "text/plain": [
              "<Figure size 720x432 with 2 Axes>"
            ],
            "image/png": "[encoded data removed]"
          },
          "metadata": {
            "needs_background": "light"
          }
        }
      ]
    },
    {
      "cell_type": "markdown",
      "source": [
        "#Correlação de Kendall\n",
        "mede a associação ordinal entre duas variáveis(não paramétrica)\n",
        "Teste não paramétrico usado para numero pequeno de amostras ou populações grandes com grandes quantidades de empates(valores repetidos).\n"
      ],
      "metadata": {
        "id": "23L5rUWyH9og"
      }
    },
    {
      "cell_type": "code",
      "source": [
        "import pandas as pd\n",
        "from pylab import rcParams\n",
        "import seaborn as sb\n",
        "from scipy.stats.stats import kendalltau\n"
      ],
      "metadata": {
        "id": "UWDKJuhtHjZU"
      },
      "execution_count": null,
      "outputs": []
    },
    {
      "cell_type": "code",
      "source": [
        "corr = df.corr(method='kendall')"
      ],
      "metadata": {
        "id": "34_KVvB0JJWQ"
      },
      "execution_count": null,
      "outputs": []
    },
    {
      "cell_type": "code",
      "source": [
        "rcParams['figure.figsize'] = 14.7,8.27\n",
        "sb.heatmap(corr, \n",
        "           xticklabels=corr.columns.values, \n",
        "           yticklabels=corr.columns.values, \n",
        "           cmap=\"YlGnBu\",\n",
        "          annot=True)"
      ],
      "metadata": {
        "colab": {
          "base_uri": "https://localhost:8080/",
          "height": 519
        },
        "id": "t2tcIwoKJMuY",
        "outputId": "9867d3c0-a80b-4248-cd9b-3b4910b06c02"
      },
      "execution_count": null,
      "outputs": [
        {
          "output_type": "execute_result",
          "data": {
            "text/plain": [
              "<matplotlib.axes._subplots.AxesSubplot at 0x7f225db8a150>"
            ]
          },
          "metadata": {},
          "execution_count": 587
        },
        {
          "output_type": "display_data",
          "data": {
            "text/plain": [
              "<Figure size 1058.4x595.44 with 2 Axes>"
            ],
            "image/png": "[encoded data removed]"
          },
          "metadata": {
            "needs_background": "light"
          }
        }
      ]
    },
    {
      "cell_type": "markdown",
      "source": [
        "#Remoção de valores atípicos\n",
        "trata os outliers que detectamos usando o Boxplot\n",
        "Usando IQR, podemos seguir a abordagem abaixo para substituir os valores discrepantes por um valor NULL:\n",
        "\n",
        "Calcule o primeiro e o terceiro quartil (Q1 e Q3).\n",
        "\n",
        "Além disso, avalie o intervalo interquartil, IQR = Q3-Q1.\n",
        "\n",
        "Estime o limite inferior, o limite inferior = Q1*1,5.\n",
        "Estime o limite superior, limite superior = Q3*1,5.\n",
        "\n",
        "Substitua os pontos de dados que estão fora do limite inferior e superior por um valor NULL."
      ],
      "metadata": {
        "id": "i6B2gzMCMjMY"
      }
    },
    {
      "cell_type": "code",
      "source": [
        "for x in ['Valores_Analogicos_Sensor_pH']:\n",
        "    q75,q25 = np.percentile(df.loc[:,x],[75,25])\n",
        "    intr_qr = q75-q25\n",
        " \n",
        "    max = q75+(1.5*intr_qr)\n",
        "    min = q25-(1.5*intr_qr)\n",
        " \n",
        "    df.loc[df[x] < min,x] = np.nan\n",
        "    df.loc[df[x] > max,x] = np.nan\n",
        "    \n",
        "\n",
        "    "
      ],
      "metadata": {
        "id": "ntdSCTCpoXR2"
      },
      "execution_count": null,
      "outputs": []
    },
    {
      "cell_type": "markdown",
      "source": [
        "Assim, usamos numpy.percentile() methodpara calcular os valores de Q1 e Q3. Além disso, substituímos os valores discrepantes por numpy.nanvalores NULL.\n",
        "\n",
        "Tendo substituído os outliers por nan, vamos agora verificar a soma dos valores nulos ou valores ausentes usando o código abaixo:"
      ],
      "metadata": {
        "id": "dr7A4YdYofoq"
      }
    },
    {
      "cell_type": "code",
      "source": [
        "df.isnull().sum()"
      ],
      "metadata": {
        "id": "W-BCYiKTogpM",
        "colab": {
          "base_uri": "https://localhost:8080/"
        },
        "outputId": "62e6d57a-b8f6-45bd-c9da-ee802409fab0"
      },
      "execution_count": null,
      "outputs": [
        {
          "output_type": "execute_result",
          "data": {
            "text/plain": [
              "pH_Meio_Aquoso                  0\n",
              "pH_Medida_Direta_Akso           0\n",
              "Valores_Analogicos_Sensor_pH    1\n",
              "dtype: int64"
            ]
          },
          "metadata": {},
          "execution_count": 589
        }
      ]
    },
    {
      "cell_type": "code",
      "source": [
        "#descarte de outleires\n",
        "df = df.dropna(axis = 0)"
      ],
      "metadata": {
        "id": "rJWV_l4wowfH"
      },
      "execution_count": null,
      "outputs": []
    },
    {
      "cell_type": "code",
      "source": [
        "df.isnull().sum()"
      ],
      "metadata": {
        "id": "mi9H6Yhdo1wS",
        "colab": {
          "base_uri": "https://localhost:8080/"
        },
        "outputId": "32888960-f52d-4ae4-c5d7-32cdaac2e023"
      },
      "execution_count": null,
      "outputs": [
        {
          "output_type": "execute_result",
          "data": {
            "text/plain": [
              "pH_Meio_Aquoso                  0\n",
              "pH_Medida_Direta_Akso           0\n",
              "Valores_Analogicos_Sensor_pH    0\n",
              "dtype: int64"
            ]
          },
          "metadata": {},
          "execution_count": 591
        }
      ]
    },
    {
      "cell_type": "markdown",
      "source": [
        "#Regressão Linear"
      ],
      "metadata": {
        "id": "0ccFORpXFXnl"
      }
    },
    {
      "cell_type": "markdown",
      "source": [
        "##pH meio aquoso x valores analogicos sensor pH"
      ],
      "metadata": {
        "id": "QOfD5VP24H7e"
      }
    },
    {
      "cell_type": "markdown",
      "source": [
        "\n",
        "**Regressão Linear com Anova**\n",
        "\n",
        " teste entre pH meio aquoso e Valores analogicos sensor de pH\n",
        "\n",
        "H0 -> Não há nenhuma associação entre o termo e a resposta (pH_Meio_Aquoso).\n",
        "\n",
        "H1 -> Há uma associação entre o termo e a resposta (pH_Meio_Aquoso).\n",
        "\n",
        "Valor-p ≤ α: a associação é estatisticamente significativa Se o valor-p for menor ou igual ao nível de significância, é possível concluir que há uma associação estatisticamente significativa entre a variável de resposta e o termo.\n",
        "\n",
        "Valor-p > α: a associação não é estatisticamente significativa Se o valor-p for maior ou igual ao nível de significância, não é possível concluir que há uma associação estatisticamente significativa entre a variável de resposta e o termo. Talvez seja necessário reajustar o modelo sem o termo."
      ],
      "metadata": {
        "id": "QY3C1ZD4QQJF"
      }
    },
    {
      "cell_type": "code",
      "source": [
        "#Regressão Linear com Anova\n",
        "import statsmodels.api as sm\n",
        "from statsmodels.formula.api import ols\n",
        "regressao1 = ols('pH_Meio_Aquoso~Valores_Analogicos_Sensor_pH', data=df).fit() #relação da variável de entrada e verificar sua influência sobre a variável de destino. \n",
        "anova_table = sm.stats.anova_lm(regressao1, typ=2)#aplicou anova no modelo\n",
        "print(anova_table)"
      ],
      "metadata": {
        "colab": {
          "base_uri": "https://localhost:8080/"
        },
        "id": "8xmfW-XdAlwl",
        "outputId": "4cece57a-e685-4bad-8a91-6526b741a4c0"
      },
      "execution_count": null,
      "outputs": [
        {
          "output_type": "stream",
          "name": "stdout",
          "text": [
            "                                 sum_sq    df           F        PR(>F)\n",
            "Valores_Analogicos_Sensor_pH  82.780437   1.0  385.422198  2.798457e-31\n",
            "Residual                      16.108394  75.0         NaN           NaN\n"
          ]
        }
      ]
    },
    {
      "cell_type": "code",
      "source": [
        "print(f\"Overall model F({regressao1.df_model: .0f},{regressao1.df_resid: .0f}) = {regressao1.fvalue: .3f}, p = {regressao1.f_pvalue: .4f}\")\n",
        "print(regressao1.summary())"
      ],
      "metadata": {
        "colab": {
          "base_uri": "https://localhost:8080/"
        },
        "id": "eUwnVW3lA2tx",
        "outputId": "2867f3c5-df58-4597-c96d-fc214c563c88"
      },
      "execution_count": null,
      "outputs": [
        {
          "output_type": "stream",
          "name": "stdout",
          "text": [
            "Overall model F( 1, 75) =  385.422, p =  0.0000\n",
            "                            OLS Regression Results                            \n",
            "==============================================================================\n",
            "Dep. Variable:         pH_Meio_Aquoso   R-squared:                       0.837\n",
            "Model:                            OLS   Adj. R-squared:                  0.835\n",
            "Method:                 Least Squares   F-statistic:                     385.4\n",
            "Date:                Fri, 15 Apr 2022   Prob (F-statistic):           2.80e-31\n",
            "Time:                        04:34:37   Log-Likelihood:                -49.026\n",
            "No. Observations:                  77   AIC:                             102.1\n",
            "Df Residuals:                      75   BIC:                             106.7\n",
            "Df Model:                           1                                         \n",
            "Covariance Type:            nonrobust                                         \n",
            "================================================================================================\n",
            "                                   coef    std err          t      P>|t|      [0.025      0.975]\n",
            "------------------------------------------------------------------------------------------------\n",
            "Intercept                       17.7256      0.586     30.247      0.000      16.558      18.893\n",
            "Valores_Analogicos_Sensor_pH    -0.0176      0.001    -19.632      0.000      -0.019      -0.016\n",
            "==============================================================================\n",
            "Omnibus:                        2.650   Durbin-Watson:                   1.881\n",
            "Prob(Omnibus):                  0.266   Jarque-Bera (JB):                2.041\n",
            "Skew:                           0.385   Prob(JB):                        0.360\n",
            "Kurtosis:                       3.211   Cond. No.                     7.25e+03\n",
            "==============================================================================\n",
            "\n",
            "Warnings:\n",
            "[1] Standard Errors assume that the covariance matrix of the errors is correctly specified.\n",
            "[2] The condition number is large, 7.25e+03. This might indicate that there are\n",
            "strong multicollinearity or other numerical problems.\n"
          ]
        }
      ]
    },
    {
      "cell_type": "markdown",
      "source": [
        "**Validação do Modelo de Regressão Linear com Anova**\n",
        "\n",
        "**Analise dos Residuos**"
      ],
      "metadata": {
        "id": "V_TYA3LwTVC4"
      }
    },
    {
      "cell_type": "code",
      "source": [
        "# listagem de residuos(distancia que o ponto está da reta)\n",
        "residuos = regressao1.resid\n",
        "residuos"
      ],
      "metadata": {
        "colab": {
          "base_uri": "https://localhost:8080/"
        },
        "id": "LXS1ygeXTQ3F",
        "outputId": "79987bca-2472-4363-8e95-01495329ca48"
      },
      "execution_count": null,
      "outputs": [
        {
          "output_type": "execute_result",
          "data": {
            "text/plain": [
              "0    -0.103450\n",
              "1    -0.474494\n",
              "2    -0.140774\n",
              "3    -0.078818\n",
              "4    -0.261441\n",
              "        ...   \n",
              "73    1.118305\n",
              "74    0.007167\n",
              "75   -0.231761\n",
              "76   -0.168978\n",
              "77   -0.777189\n",
              "Length: 77, dtype: float64"
            ]
          },
          "metadata": {},
          "execution_count": 594
        }
      ]
    },
    {
      "cell_type": "markdown",
      "source": [
        "**Teste de normalidade dos resíduos** \n",
        "\n",
        "H0 = distribuição normal: p>0.05\n",
        "\n",
        "Ha = distribuição não normal: p<=0.05"
      ],
      "metadata": {
        "id": "KSCF2sPO1Owh"
      }
    },
    {
      "cell_type": "code",
      "source": [
        "estatistica, p= stats.shapiro(residuos)\n",
        "print('Estatística de Teste: {}' .format(estatistica))\n",
        "print('p-valor: {}'.format(p))\n"
      ],
      "metadata": {
        "colab": {
          "base_uri": "https://localhost:8080/"
        },
        "id": "mmPg5EiVxZGU",
        "outputId": "0e746d6d-7fe2-4d10-abec-c75e299f6370"
      },
      "execution_count": null,
      "outputs": [
        {
          "output_type": "stream",
          "name": "stdout",
          "text": [
            "Estatística de Teste: 0.9745129346847534\n",
            "p-valor: 0.12417738884687424\n"
          ]
        }
      ]
    },
    {
      "cell_type": "code",
      "source": [
        "#Q-Q plot\n",
        "stats.probplot(residuos, dist='norm', plot=plt)\n",
        "plt.title('Normal Q-Q Plot - Resíduos')\n",
        "plt.show()"
      ],
      "metadata": {
        "colab": {
          "base_uri": "https://localhost:8080/",
          "height": 527
        },
        "id": "uYXfvVPm2jFu",
        "outputId": "e070a835-dec6-4041-ef75-a0432e76ff13"
      },
      "execution_count": null,
      "outputs": [
        {
          "output_type": "display_data",
          "data": {
            "text/plain": [
              "<Figure size 1058.4x595.44 with 1 Axes>"
            ],
            "image/png": "[encoded data removed]"
          },
          "metadata": {
            "needs_background": "light"
          }
        }
      ]
    },
    {
      "cell_type": "markdown",
      "source": [
        "**Analise de Homocedasticidade dos resíduos** \n",
        "\n",
        "Saber se os resíduos são homogeneos"
      ],
      "metadata": {
        "id": "L_dhD6Vi4Tn5"
      }
    },
    {
      "cell_type": "code",
      "source": [
        "plt.scatter(y=residuos ,x=regressao1.predict(), color='red')\n",
        "plt.hlines(y=0, xmin=3, xmax=9, color='orange')\n",
        "plt.ylabel('Resíduos')\n",
        "plt.xlabel('Valores Preditos')\n",
        "plt.show()"
      ],
      "metadata": {
        "colab": {
          "base_uri": "https://localhost:8080/",
          "height": 511
        },
        "id": "2eR2EpKd4RWI",
        "outputId": "290cd393-94fb-4e5a-983d-d2f870e3d22b"
      },
      "execution_count": null,
      "outputs": [
        {
          "output_type": "display_data",
          "data": {
            "text/plain": [
              "<Figure size 1058.4x595.44 with 1 Axes>"
            ],
            "image/png": "[encoded data removed]"
          },
          "metadata": {
            "needs_background": "light"
          }
        }
      ]
    },
    {
      "cell_type": "markdown",
      "source": [
        "Teste Breusch-Pagan(Homocedastiscidade ou Heterocedastiscidade)\n",
        "\n",
        "Ho = Existe Homocedastiscidade: p> 0.05\n",
        "Ha = Não existe Homocedastiscidade: p<= 0.05"
      ],
      "metadata": {
        "id": "U1BNZH8q7AXW"
      }
    },
    {
      "cell_type": "code",
      "source": [
        "from statsmodels.compat import lzip\n",
        "import statsmodels.stats.api as sms"
      ],
      "metadata": {
        "id": "Wb4Mrx_n63_p"
      },
      "execution_count": null,
      "outputs": []
    },
    {
      "cell_type": "code",
      "source": [
        "estatistica, p, f, fp=sms.het_breuschpagan(regressao1.resid, regressao1.model.exog)\n",
        "print('Estatistica do teste: {}' .format(estatistica))\n",
        "print('p-valor: {}' .format(p))\n",
        "print('f-valor: {}' .format(f))\n",
        "print('f_p-valor: {}' .format(fp))"
      ],
      "metadata": {
        "colab": {
          "base_uri": "https://localhost:8080/"
        },
        "id": "PnXjhqH-8Axf",
        "outputId": "0ee8db52-7c2e-46dc-a808-43d9a525fb67"
      },
      "execution_count": null,
      "outputs": [
        {
          "output_type": "stream",
          "name": "stdout",
          "text": [
            "Estatistica do teste: 0.5654350955185468\n",
            "p-valor: 0.4520786113997123\n",
            "f-valor: 0.5548227064141307\n",
            "f_p-valor: 0.4586815726112079\n"
          ]
        }
      ]
    },
    {
      "cell_type": "markdown",
      "source": [
        "p-valor = 0.45. então p>0.05. significa que tem Homocedastiscidade."
      ],
      "metadata": {
        "id": "P_on3wPE9Wtr"
      }
    },
    {
      "cell_type": "markdown",
      "source": [
        "**Outleires nos resíduos** \n",
        "\n",
        "(Entre -3 e 3)\n",
        "\n"
      ],
      "metadata": {
        "id": "NiHnMCGn9qLM"
      }
    },
    {
      "cell_type": "code",
      "source": [
        "outliers= regressao1.outlier_test()"
      ],
      "metadata": {
        "id": "xYgBszIL-NB5"
      },
      "execution_count": null,
      "outputs": []
    },
    {
      "cell_type": "code",
      "source": [
        "outliers.max()"
      ],
      "metadata": {
        "colab": {
          "base_uri": "https://localhost:8080/"
        },
        "id": "BAtJDOz4-fSY",
        "outputId": "704def75-2246-43d6-82ad-c942a5e5328d"
      },
      "execution_count": null,
      "outputs": [
        {
          "output_type": "execute_result",
          "data": {
            "text/plain": [
              "student_resid    2.513714\n",
              "unadj_p          0.987665\n",
              "bonf(p)          1.000000\n",
              "dtype: float64"
            ]
          },
          "metadata": {},
          "execution_count": 601
        }
      ]
    },
    {
      "cell_type": "code",
      "source": [
        "outliers.min()"
      ],
      "metadata": {
        "colab": {
          "base_uri": "https://localhost:8080/"
        },
        "id": "k75eGDWO-mVM",
        "outputId": "4a024567-2ece-428f-d8d8-370da57fabd8"
      },
      "execution_count": null,
      "outputs": [
        {
          "output_type": "execute_result",
          "data": {
            "text/plain": [
              "student_resid   -2.817829\n",
              "unadj_p          0.006197\n",
              "bonf(p)          0.477189\n",
              "dtype: float64"
            ]
          },
          "metadata": {},
          "execution_count": 602
        }
      ]
    },
    {
      "cell_type": "markdown",
      "source": [
        "Portanto o modelo passou no teste de Normalidade, Homocedasticidade e Outleires de Resíduos, portanto o modelo é aprovado."
      ],
      "metadata": {
        "id": "lIxeG89g-0vp"
      }
    },
    {
      "cell_type": "code",
      "source": [
        "print(regressao1.summary())"
      ],
      "metadata": {
        "colab": {
          "base_uri": "https://localhost:8080/"
        },
        "id": "w6KsQCFi_Mwp",
        "outputId": "82c19f58-e097-4074-8fa8-520694a9f76d"
      },
      "execution_count": null,
      "outputs": [
        {
          "output_type": "stream",
          "name": "stdout",
          "text": [
            "                            OLS Regression Results                            \n",
            "==============================================================================\n",
            "Dep. Variable:         pH_Meio_Aquoso   R-squared:                       0.837\n",
            "Model:                            OLS   Adj. R-squared:                  0.835\n",
            "Method:                 Least Squares   F-statistic:                     385.4\n",
            "Date:                Fri, 15 Apr 2022   Prob (F-statistic):           2.80e-31\n",
            "Time:                        04:34:38   Log-Likelihood:                -49.026\n",
            "No. Observations:                  77   AIC:                             102.1\n",
            "Df Residuals:                      75   BIC:                             106.7\n",
            "Df Model:                           1                                         \n",
            "Covariance Type:            nonrobust                                         \n",
            "================================================================================================\n",
            "                                   coef    std err          t      P>|t|      [0.025      0.975]\n",
            "------------------------------------------------------------------------------------------------\n",
            "Intercept                       17.7256      0.586     30.247      0.000      16.558      18.893\n",
            "Valores_Analogicos_Sensor_pH    -0.0176      0.001    -19.632      0.000      -0.019      -0.016\n",
            "==============================================================================\n",
            "Omnibus:                        2.650   Durbin-Watson:                   1.881\n",
            "Prob(Omnibus):                  0.266   Jarque-Bera (JB):                2.041\n",
            "Skew:                           0.385   Prob(JB):                        0.360\n",
            "Kurtosis:                       3.211   Cond. No.                     7.25e+03\n",
            "==============================================================================\n",
            "\n",
            "Warnings:\n",
            "[1] Standard Errors assume that the covariance matrix of the errors is correctly specified.\n",
            "[2] The condition number is large, 7.25e+03. This might indicate that there are\n",
            "strong multicollinearity or other numerical problems.\n"
          ]
        }
      ]
    },
    {
      "cell_type": "code",
      "source": [
        "#coeficientes\n",
        "import pandas as pd\n",
        "coefs = pd.DataFrame(regressao1.params)\n",
        "coefs.columns = ['Coeficientes']\n",
        "print(coefs)"
      ],
      "metadata": {
        "colab": {
          "base_uri": "https://localhost:8080/"
        },
        "id": "6fPfMziUATbD",
        "outputId": "22026632-4b35-4dd7-af17-d2941810865f"
      },
      "execution_count": null,
      "outputs": [
        {
          "output_type": "stream",
          "name": "stdout",
          "text": [
            "                              Coeficientes\n",
            "Intercept                        17.725605\n",
            "Valores_Analogicos_Sensor_pH     -0.017612\n"
          ]
        }
      ]
    },
    {
      "cell_type": "markdown",
      "source": [
        "Equação(Regressão Linear com Anova): pH(meio aquoso) = 17.7256 - 0.0176*Valores_Analogicos_Sensor_pH"
      ],
      "metadata": {
        "id": "J5jsoVoYAUHV"
      }
    },
    {
      "cell_type": "code",
      "source": [
        "df.head()"
      ],
      "metadata": {
        "colab": {
          "base_uri": "https://localhost:8080/",
          "height": 206
        },
        "id": "TOdeY6WIAj7E",
        "outputId": "13500129-0bdb-4339-9113-d14edcf3e2e9"
      },
      "execution_count": null,
      "outputs": [
        {
          "output_type": "execute_result",
          "data": {
            "text/plain": [
              "   pH_Meio_Aquoso  pH_Medida_Direta_Akso  Valores_Analogicos_Sensor_pH\n",
              "0             5.1                   6.43                        711.00\n",
              "1             4.5                   5.84                        724.00\n",
              "2             7.0                   7.80                        601.00\n",
              "3             4.2                   4.41                        763.50\n",
              "4             6.1                   6.43                        645.25"
            ],
            "text/html": [
              "\n",
              "  <div id=\"df-6280876c-0fec-4fd6-af72-02e653ee6f7f\">\n",
              "    <div class=\"colab-df-container\">\n",
              "      <div>\n",
              "<style scoped>\n",
              "    .dataframe tbody tr th:only-of-type {\n",
              "        vertical-align: middle;\n",
              "    }\n",
              "\n",
              "    .dataframe tbody tr th {\n",
              "        vertical-align: top;\n",
              "    }\n",
              "\n",
              "    .dataframe thead th {\n",
              "        text-align: right;\n",
              "    }\n",
              "</style>\n",
              "<table border=\"1\" class=\"dataframe\">\n",
              "  <thead>\n",
              "    <tr style=\"text-align: right;\">\n",
              "      <th></th>\n",
              "      <th>pH_Meio_Aquoso</th>\n",
              "      <th>pH_Medida_Direta_Akso</th>\n",
              "      <th>Valores_Analogicos_Sensor_pH</th>\n",
              "    </tr>\n",
              "  </thead>\n",
              "  <tbody>\n",
              "    <tr>\n",
              "      <th>0</th>\n",
              "      <td>5.1</td>\n",
              "      <td>6.43</td>\n",
              "      <td>711.00</td>\n",
              "    </tr>\n",
              "    <tr>\n",
              "      <th>1</th>\n",
              "      <td>4.5</td>\n",
              "      <td>5.84</td>\n",
              "      <td>724.00</td>\n",
              "    </tr>\n",
              "    <tr>\n",
              "      <th>2</th>\n",
              "      <td>7.0</td>\n",
              "      <td>7.80</td>\n",
              "      <td>601.00</td>\n",
              "    </tr>\n",
              "    <tr>\n",
              "      <th>3</th>\n",
              "      <td>4.2</td>\n",
              "      <td>4.41</td>\n",
              "      <td>763.50</td>\n",
              "    </tr>\n",
              "    <tr>\n",
              "      <th>4</th>\n",
              "      <td>6.1</td>\n",
              "      <td>6.43</td>\n",
              "      <td>645.25</td>\n",
              "    </tr>\n",
              "  </tbody>\n",
              "</table>\n",
              "</div>\n",
              "      <button class=\"colab-df-convert\" onclick=\"convertToInteractive('df-6280876c-0fec-4fd6-af72-02e653ee6f7f')\"\n",
              "              title=\"Convert this dataframe to an interactive table.\"\n",
              "              style=\"display:none;\">\n",
              "        \n",
              "  <svg xmlns=\"http://www.w3.org/2000/svg\" height=\"24px\"viewBox=\"0 0 24 24\"\n",
              "       width=\"24px\">\n",
              "    <path d=\"M0 0h24v24H0V0z\" fill=\"none\"/>\n",
              "    <path d=\"M18.56 5.44l.94 2.06.94-2.06 2.06-.94-2.06-.94-.94-2.06-.94 2.06-2.06.94zm-11 1L8.5 8.5l.94-2.06 2.06-.94-2.06-.94L8.5 2.5l-.94 2.06-2.06.94zm10 10l.94 2.06.94-2.06 2.06-.94-2.06-.94-.94-2.06-.94 2.06-2.06.94z\"/><path d=\"M17.41 7.96l-1.37-1.37c-.4-.4-.92-.59-1.43-.59-.52 0-1.04.2-1.43.59L10.3 9.45l-7.72 7.72c-.78.78-.78 2.05 0 2.83L4 21.41c.39.39.9.59 1.41.59.51 0 1.02-.2 1.41-.59l7.78-7.78 2.81-2.81c.8-.78.8-2.07 0-2.86zM5.41 20L4 18.59l7.72-7.72 1.47 1.35L5.41 20z\"/>\n",
              "  </svg>\n",
              "      </button>\n",
              "      \n",
              "  <style>\n",
              "    .colab-df-container {\n",
              "      display:flex;\n",
              "      flex-wrap:wrap;\n",
              "      gap: 12px;\n",
              "    }\n",
              "\n",
              "    .colab-df-convert {\n",
              "      background-color: #E8F0FE;\n",
              "      border: none;\n",
              "      border-radius: 50%;\n",
              "      cursor: pointer;\n",
              "      display: none;\n",
              "      fill: #1967D2;\n",
              "      height: 32px;\n",
              "      padding: 0 0 0 0;\n",
              "      width: 32px;\n",
              "    }\n",
              "\n",
              "    .colab-df-convert:hover {\n",
              "      background-color: #E2EBFA;\n",
              "      box-shadow: 0px 1px 2px rgba(60, 64, 67, 0.3), 0px 1px 3px 1px rgba(60, 64, 67, 0.15);\n",
              "      fill: #174EA6;\n",
              "    }\n",
              "\n",
              "    [theme=dark] .colab-df-convert {\n",
              "      background-color: #3B4455;\n",
              "      fill: #D2E3FC;\n",
              "    }\n",
              "\n",
              "    [theme=dark] .colab-df-convert:hover {\n",
              "      background-color: #434B5C;\n",
              "      box-shadow: 0px 1px 3px 1px rgba(0, 0, 0, 0.15);\n",
              "      filter: drop-shadow(0px 1px 2px rgba(0, 0, 0, 0.3));\n",
              "      fill: #FFFFFF;\n",
              "    }\n",
              "  </style>\n",
              "\n",
              "      <script>\n",
              "        const buttonEl =\n",
              "          document.querySelector('#df-6280876c-0fec-4fd6-af72-02e653ee6f7f button.colab-df-convert');\n",
              "        buttonEl.style.display =\n",
              "          google.colab.kernel.accessAllowed ? 'block' : 'none';\n",
              "\n",
              "        async function convertToInteractive(key) {\n",
              "          const element = document.querySelector('#df-6280876c-0fec-4fd6-af72-02e653ee6f7f');\n",
              "          const dataTable =\n",
              "            await google.colab.kernel.invokeFunction('convertToInteractive',\n",
              "                                                     [key], {});\n",
              "          if (!dataTable) return;\n",
              "\n",
              "          const docLinkHtml = 'Like what you see? Visit the ' +\n",
              "            '<a target=\"_blank\" href=https://colab.research.google.com/notebooks/data_table.ipynb>data table notebook</a>'\n",
              "            + ' to learn more about interactive tables.';\n",
              "          element.innerHTML = '';\n",
              "          dataTable['output_type'] = 'display_data';\n",
              "          await google.colab.output.renderOutput(dataTable, element);\n",
              "          const docLink = document.createElement('div');\n",
              "          docLink.innerHTML = docLinkHtml;\n",
              "          element.appendChild(docLink);\n",
              "        }\n",
              "      </script>\n",
              "    </div>\n",
              "  </div>\n",
              "  "
            ]
          },
          "metadata": {},
          "execution_count": 605
        }
      ]
    },
    {
      "cell_type": "code",
      "source": [
        "#previsões usando modelo e equação gerada  pH(meio aquoso) = 17.7256 - 0.0176*Valores_Analogicos_Sensor_pH\n",
        "regressao1.predict()"
      ],
      "metadata": {
        "colab": {
          "base_uri": "https://localhost:8080/"
        },
        "id": "0qHO982aApm5",
        "outputId": "b4b2ee3e-195a-49fa-d45c-d788275a8ca2"
      },
      "execution_count": null,
      "outputs": [
        {
          "output_type": "execute_result",
          "data": {
            "text/plain": [
              "array([5.20345012, 4.97449371, 7.14077358, 4.27881847, 6.36144119,\n",
              "       5.62613888, 5.76351272, 6.24255998, 5.43540058, 7.72901544,\n",
              "       4.67949218, 6.26897803, 5.16822606, 7.79946356, 7.09674351,\n",
              "       7.32217751, 4.98858334, 6.5313973 , 5.58739241, 5.36548081,\n",
              "       6.07524568, 5.96781229, 5.01676259, 5.2474802 , 5.42360052,\n",
              "       6.65292031, 6.74274167, 5.51342188, 5.02732981, 6.26897803,\n",
              "       6.40106826, 6.04354402, 5.37428683, 5.65079572, 7.69379137,\n",
              "       7.62070144, 6.45918797, 8.21510751, 6.40811308, 7.79594116,\n",
              "       6.21790314, 4.88643355, 4.65747715, 5.65079572, 6.18091787,\n",
              "       7.96149425, 4.80365701, 6.68638317, 6.96905628, 6.49617323,\n",
              "       7.51414865, 3.85612971, 6.75154769, 6.68286077, 7.23411735,\n",
              "       4.87938874, 4.82303024, 7.85229966, 7.70435859, 6.64059189,\n",
              "       7.04566861, 6.76211491, 6.92942921, 7.25525179, 7.63919408,\n",
              "       6.28042585, 4.48135683, 6.27531836, 4.73144768, 7.91570297,\n",
              "       7.02629538, 6.89420514, 6.38169503, 6.99283252, 7.53176068,\n",
              "       6.26897803, 6.57718858])"
            ]
          },
          "metadata": {},
          "execution_count": 606
        }
      ]
    },
    {
      "cell_type": "code",
      "source": [
        "plt.scatter(y= df.pH_Meio_Aquoso, x=df.Valores_Analogicos_Sensor_pH ,color='green', s=80, alpha=0.9)\n",
        "X_plot = np.linspace(400, 900)\n",
        "plt.plot(X_plot, X_plot*regressao1.params[1] + regressao1.params[0], color='orange')\n",
        "plt.title('Reta de Regressão')\n",
        "plt.ylabel('pH_Meio_Aquoso')\n",
        "plt.xlabel('Valores_Analogicos_Sensor_pH')\n",
        "plt.show()\n",
        "\n"
      ],
      "metadata": {
        "colab": {
          "base_uri": "https://localhost:8080/",
          "height": 528
        },
        "id": "xEh8sezpAzkZ",
        "outputId": "7402bd44-4f1e-42b8-882f-827d158d1d5d"
      },
      "execution_count": null,
      "outputs": [
        {
          "output_type": "display_data",
          "data": {
            "text/plain": [
              "<Figure size 1058.4x595.44 with 1 Axes>"
            ],
            "image/png": "[encoded data removed]"
          },
          "metadata": {
            "needs_background": "light"
          }
        }
      ]
    },
    {
      "cell_type": "markdown",
      "source": [
        "#Analise de Multicolinearidade\n",
        "Somente para variáveis independentes\n",
        "Considerada Multicolinearidade quando r> 0.9.\n",
        "r= coeficiente de correlação. person> 0.9."
      ],
      "metadata": {
        "id": "sfaTJw68BgJY"
      }
    },
    {
      "cell_type": "code",
      "source": [
        "correlacoes = df.corr(method='pearson')\n",
        "correlacoes"
      ],
      "metadata": {
        "colab": {
          "base_uri": "https://localhost:8080/",
          "height": 143
        },
        "id": "M05UbmGt8eWz",
        "outputId": "1f180d9c-390d-4897-bb92-4702e4d94bc9"
      },
      "execution_count": null,
      "outputs": [
        {
          "output_type": "execute_result",
          "data": {
            "text/plain": [
              "                              pH_Meio_Aquoso  pH_Medida_Direta_Akso  \\\n",
              "pH_Meio_Aquoso                      1.000000               0.935205   \n",
              "pH_Medida_Direta_Akso               0.935205               1.000000   \n",
              "Valores_Analogicos_Sensor_pH       -0.914935              -0.916535   \n",
              "\n",
              "                              Valores_Analogicos_Sensor_pH  \n",
              "pH_Meio_Aquoso                                   -0.914935  \n",
              "pH_Medida_Direta_Akso                            -0.916535  \n",
              "Valores_Analogicos_Sensor_pH                      1.000000  "
            ],
            "text/html": [
              "\n",
              "  <div id=\"df-39057f28-3983-4228-b283-d18acd9b5099\">\n",
              "    <div class=\"colab-df-container\">\n",
              "      <div>\n",
              "<style scoped>\n",
              "    .dataframe tbody tr th:only-of-type {\n",
              "        vertical-align: middle;\n",
              "    }\n",
              "\n",
              "    .dataframe tbody tr th {\n",
              "        vertical-align: top;\n",
              "    }\n",
              "\n",
              "    .dataframe thead th {\n",
              "        text-align: right;\n",
              "    }\n",
              "</style>\n",
              "<table border=\"1\" class=\"dataframe\">\n",
              "  <thead>\n",
              "    <tr style=\"text-align: right;\">\n",
              "      <th></th>\n",
              "      <th>pH_Meio_Aquoso</th>\n",
              "      <th>pH_Medida_Direta_Akso</th>\n",
              "      <th>Valores_Analogicos_Sensor_pH</th>\n",
              "    </tr>\n",
              "  </thead>\n",
              "  <tbody>\n",
              "    <tr>\n",
              "      <th>pH_Meio_Aquoso</th>\n",
              "      <td>1.000000</td>\n",
              "      <td>0.935205</td>\n",
              "      <td>-0.914935</td>\n",
              "    </tr>\n",
              "    <tr>\n",
              "      <th>pH_Medida_Direta_Akso</th>\n",
              "      <td>0.935205</td>\n",
              "      <td>1.000000</td>\n",
              "      <td>-0.916535</td>\n",
              "    </tr>\n",
              "    <tr>\n",
              "      <th>Valores_Analogicos_Sensor_pH</th>\n",
              "      <td>-0.914935</td>\n",
              "      <td>-0.916535</td>\n",
              "      <td>1.000000</td>\n",
              "    </tr>\n",
              "  </tbody>\n",
              "</table>\n",
              "</div>\n",
              "      <button class=\"colab-df-convert\" onclick=\"convertToInteractive('df-39057f28-3983-4228-b283-d18acd9b5099')\"\n",
              "              title=\"Convert this dataframe to an interactive table.\"\n",
              "              style=\"display:none;\">\n",
              "        \n",
              "  <svg xmlns=\"http://www.w3.org/2000/svg\" height=\"24px\"viewBox=\"0 0 24 24\"\n",
              "       width=\"24px\">\n",
              "    <path d=\"M0 0h24v24H0V0z\" fill=\"none\"/>\n",
              "    <path d=\"M18.56 5.44l.94 2.06.94-2.06 2.06-.94-2.06-.94-.94-2.06-.94 2.06-2.06.94zm-11 1L8.5 8.5l.94-2.06 2.06-.94-2.06-.94L8.5 2.5l-.94 2.06-2.06.94zm10 10l.94 2.06.94-2.06 2.06-.94-2.06-.94-.94-2.06-.94 2.06-2.06.94z\"/><path d=\"M17.41 7.96l-1.37-1.37c-.4-.4-.92-.59-1.43-.59-.52 0-1.04.2-1.43.59L10.3 9.45l-7.72 7.72c-.78.78-.78 2.05 0 2.83L4 21.41c.39.39.9.59 1.41.59.51 0 1.02-.2 1.41-.59l7.78-7.78 2.81-2.81c.8-.78.8-2.07 0-2.86zM5.41 20L4 18.59l7.72-7.72 1.47 1.35L5.41 20z\"/>\n",
              "  </svg>\n",
              "      </button>\n",
              "      \n",
              "  <style>\n",
              "    .colab-df-container {\n",
              "      display:flex;\n",
              "      flex-wrap:wrap;\n",
              "      gap: 12px;\n",
              "    }\n",
              "\n",
              "    .colab-df-convert {\n",
              "      background-color: #E8F0FE;\n",
              "      border: none;\n",
              "      border-radius: 50%;\n",
              "      cursor: pointer;\n",
              "      display: none;\n",
              "      fill: #1967D2;\n",
              "      height: 32px;\n",
              "      padding: 0 0 0 0;\n",
              "      width: 32px;\n",
              "    }\n",
              "\n",
              "    .colab-df-convert:hover {\n",
              "      background-color: #E2EBFA;\n",
              "      box-shadow: 0px 1px 2px rgba(60, 64, 67, 0.3), 0px 1px 3px 1px rgba(60, 64, 67, 0.15);\n",
              "      fill: #174EA6;\n",
              "    }\n",
              "\n",
              "    [theme=dark] .colab-df-convert {\n",
              "      background-color: #3B4455;\n",
              "      fill: #D2E3FC;\n",
              "    }\n",
              "\n",
              "    [theme=dark] .colab-df-convert:hover {\n",
              "      background-color: #434B5C;\n",
              "      box-shadow: 0px 1px 3px 1px rgba(0, 0, 0, 0.15);\n",
              "      filter: drop-shadow(0px 1px 2px rgba(0, 0, 0, 0.3));\n",
              "      fill: #FFFFFF;\n",
              "    }\n",
              "  </style>\n",
              "\n",
              "      <script>\n",
              "        const buttonEl =\n",
              "          document.querySelector('#df-39057f28-3983-4228-b283-d18acd9b5099 button.colab-df-convert');\n",
              "        buttonEl.style.display =\n",
              "          google.colab.kernel.accessAllowed ? 'block' : 'none';\n",
              "\n",
              "        async function convertToInteractive(key) {\n",
              "          const element = document.querySelector('#df-39057f28-3983-4228-b283-d18acd9b5099');\n",
              "          const dataTable =\n",
              "            await google.colab.kernel.invokeFunction('convertToInteractive',\n",
              "                                                     [key], {});\n",
              "          if (!dataTable) return;\n",
              "\n",
              "          const docLinkHtml = 'Like what you see? Visit the ' +\n",
              "            '<a target=\"_blank\" href=https://colab.research.google.com/notebooks/data_table.ipynb>data table notebook</a>'\n",
              "            + ' to learn more about interactive tables.';\n",
              "          element.innerHTML = '';\n",
              "          dataTable['output_type'] = 'display_data';\n",
              "          await google.colab.output.renderOutput(dataTable, element);\n",
              "          const docLink = document.createElement('div');\n",
              "          docLink.innerHTML = docLinkHtml;\n",
              "          element.appendChild(docLink);\n",
              "        }\n",
              "      </script>\n",
              "    </div>\n",
              "  </div>\n",
              "  "
            ]
          },
          "metadata": {},
          "execution_count": 608
        }
      ]
    },
    {
      "cell_type": "markdown",
      "source": [
        "Portante existe problema de multicolinearidade(r>0.9).\n",
        "portanto nao é recomendado usar regressão linear e sim ridge, lasso e elastic net.\n"
      ],
      "metadata": {
        "id": "KhNOQah4Ccae"
      }
    },
    {
      "cell_type": "markdown",
      "source": [
        "Usando metodo de inflação de variancia(VIF)\n",
        "\n",
        "VIF começa em 1 e não tem limite superior.\n",
        "\n",
        "VIF = 1, sem correlação entre a variável independente e as demais variáveis.\n",
        "\n",
        "VIF superior a 5 ou 10 indica alta multicolinearidade entre esta variável independente e as demais.\n",
        "\n",
        "\n"
      ],
      "metadata": {
        "id": "jFD01I77DQZe"
      }
    },
    {
      "cell_type": "code",
      "source": [
        "from statsmodels.stats.outliers_influence import variance_inflation_factor\n",
        "from statsmodels.tools.tools import add_constant"
      ],
      "metadata": {
        "id": "ahac-P8ECZOL"
      },
      "execution_count": null,
      "outputs": []
    },
    {
      "cell_type": "code",
      "source": [
        "VIF = add_constant(df) #função espera a presença de matriz de variaveis explicativas\n",
        "pd.Series([variance_inflation_factor(VIF.values, i) for i in range(VIF.shape[1])], index=VIF.columns)"
      ],
      "metadata": {
        "colab": {
          "base_uri": "https://localhost:8080/"
        },
        "id": "p91sAd6VEXIH",
        "outputId": "1d530602-b964-417f-ccdf-1ecc6ac11138"
      },
      "execution_count": null,
      "outputs": [
        {
          "output_type": "execute_result",
          "data": {
            "text/plain": [
              "const                           2131.488459\n",
              "pH_Meio_Aquoso                     9.567864\n",
              "pH_Medida_Direta_Akso              9.743177\n",
              "Valores_Analogicos_Sensor_pH       7.500075\n",
              "dtype: float64"
            ]
          },
          "metadata": {},
          "execution_count": 610
        }
      ]
    },
    {
      "cell_type": "markdown",
      "source": [
        "Portanto os dados apresentam multicolinearidade"
      ],
      "metadata": {
        "id": "xfkgYoKzHTCH"
      }
    },
    {
      "cell_type": "markdown",
      "source": [
        "# Regressão de Ridge\n",
        "\n",
        "A regressão Ridge é uma variação da Regressão Linear.\n",
        "queremos minimizar a soma dos resíduos quadrados somada a lambda multiplicado pela soma dos coeficientes ao quadrado.\n",
        "aplicada em variaveis altamente correlacionadas(multicolinearidade).\n"
      ],
      "metadata": {
        "id": "nASMBf41DYVA"
      }
    },
    {
      "cell_type": "code",
      "source": [
        "df1=df.drop(columns=['pH_Medida_Direta_Akso'])#apaga a coluna pH medida direta"
      ],
      "metadata": {
        "id": "08J7Fws6Fweh"
      },
      "execution_count": null,
      "outputs": []
    },
    {
      "cell_type": "code",
      "source": [
        "df1.head()"
      ],
      "metadata": {
        "colab": {
          "base_uri": "https://localhost:8080/",
          "height": 206
        },
        "id": "_4ztzUBwHOf4",
        "outputId": "c0cad910-9581-47c7-e266-55b553ee669d"
      },
      "execution_count": null,
      "outputs": [
        {
          "output_type": "execute_result",
          "data": {
            "text/plain": [
              "   pH_Meio_Aquoso  Valores_Analogicos_Sensor_pH\n",
              "0             5.1                        711.00\n",
              "1             4.5                        724.00\n",
              "2             7.0                        601.00\n",
              "3             4.2                        763.50\n",
              "4             6.1                        645.25"
            ],
            "text/html": [
              "\n",
              "  <div id=\"df-60c53c9f-b358-4cbd-b31e-3d480ec7f70b\">\n",
              "    <div class=\"colab-df-container\">\n",
              "      <div>\n",
              "<style scoped>\n",
              "    .dataframe tbody tr th:only-of-type {\n",
              "        vertical-align: middle;\n",
              "    }\n",
              "\n",
              "    .dataframe tbody tr th {\n",
              "        vertical-align: top;\n",
              "    }\n",
              "\n",
              "    .dataframe thead th {\n",
              "        text-align: right;\n",
              "    }\n",
              "</style>\n",
              "<table border=\"1\" class=\"dataframe\">\n",
              "  <thead>\n",
              "    <tr style=\"text-align: right;\">\n",
              "      <th></th>\n",
              "      <th>pH_Meio_Aquoso</th>\n",
              "      <th>Valores_Analogicos_Sensor_pH</th>\n",
              "    </tr>\n",
              "  </thead>\n",
              "  <tbody>\n",
              "    <tr>\n",
              "      <th>0</th>\n",
              "      <td>5.1</td>\n",
              "      <td>711.00</td>\n",
              "    </tr>\n",
              "    <tr>\n",
              "      <th>1</th>\n",
              "      <td>4.5</td>\n",
              "      <td>724.00</td>\n",
              "    </tr>\n",
              "    <tr>\n",
              "      <th>2</th>\n",
              "      <td>7.0</td>\n",
              "      <td>601.00</td>\n",
              "    </tr>\n",
              "    <tr>\n",
              "      <th>3</th>\n",
              "      <td>4.2</td>\n",
              "      <td>763.50</td>\n",
              "    </tr>\n",
              "    <tr>\n",
              "      <th>4</th>\n",
              "      <td>6.1</td>\n",
              "      <td>645.25</td>\n",
              "    </tr>\n",
              "  </tbody>\n",
              "</table>\n",
              "</div>\n",
              "      <button class=\"colab-df-convert\" onclick=\"convertToInteractive('df-60c53c9f-b358-4cbd-b31e-3d480ec7f70b')\"\n",
              "              title=\"Convert this dataframe to an interactive table.\"\n",
              "              style=\"display:none;\">\n",
              "        \n",
              "  <svg xmlns=\"http://www.w3.org/2000/svg\" height=\"24px\"viewBox=\"0 0 24 24\"\n",
              "       width=\"24px\">\n",
              "    <path d=\"M0 0h24v24H0V0z\" fill=\"none\"/>\n",
              "    <path d=\"M18.56 5.44l.94 2.06.94-2.06 2.06-.94-2.06-.94-.94-2.06-.94 2.06-2.06.94zm-11 1L8.5 8.5l.94-2.06 2.06-.94-2.06-.94L8.5 2.5l-.94 2.06-2.06.94zm10 10l.94 2.06.94-2.06 2.06-.94-2.06-.94-.94-2.06-.94 2.06-2.06.94z\"/><path d=\"M17.41 7.96l-1.37-1.37c-.4-.4-.92-.59-1.43-.59-.52 0-1.04.2-1.43.59L10.3 9.45l-7.72 7.72c-.78.78-.78 2.05 0 2.83L4 21.41c.39.39.9.59 1.41.59.51 0 1.02-.2 1.41-.59l7.78-7.78 2.81-2.81c.8-.78.8-2.07 0-2.86zM5.41 20L4 18.59l7.72-7.72 1.47 1.35L5.41 20z\"/>\n",
              "  </svg>\n",
              "      </button>\n",
              "      \n",
              "  <style>\n",
              "    .colab-df-container {\n",
              "      display:flex;\n",
              "      flex-wrap:wrap;\n",
              "      gap: 12px;\n",
              "    }\n",
              "\n",
              "    .colab-df-convert {\n",
              "      background-color: #E8F0FE;\n",
              "      border: none;\n",
              "      border-radius: 50%;\n",
              "      cursor: pointer;\n",
              "      display: none;\n",
              "      fill: #1967D2;\n",
              "      height: 32px;\n",
              "      padding: 0 0 0 0;\n",
              "      width: 32px;\n",
              "    }\n",
              "\n",
              "    .colab-df-convert:hover {\n",
              "      background-color: #E2EBFA;\n",
              "      box-shadow: 0px 1px 2px rgba(60, 64, 67, 0.3), 0px 1px 3px 1px rgba(60, 64, 67, 0.15);\n",
              "      fill: #174EA6;\n",
              "    }\n",
              "\n",
              "    [theme=dark] .colab-df-convert {\n",
              "      background-color: #3B4455;\n",
              "      fill: #D2E3FC;\n",
              "    }\n",
              "\n",
              "    [theme=dark] .colab-df-convert:hover {\n",
              "      background-color: #434B5C;\n",
              "      box-shadow: 0px 1px 3px 1px rgba(0, 0, 0, 0.15);\n",
              "      filter: drop-shadow(0px 1px 2px rgba(0, 0, 0, 0.3));\n",
              "      fill: #FFFFFF;\n",
              "    }\n",
              "  </style>\n",
              "\n",
              "      <script>\n",
              "        const buttonEl =\n",
              "          document.querySelector('#df-60c53c9f-b358-4cbd-b31e-3d480ec7f70b button.colab-df-convert');\n",
              "        buttonEl.style.display =\n",
              "          google.colab.kernel.accessAllowed ? 'block' : 'none';\n",
              "\n",
              "        async function convertToInteractive(key) {\n",
              "          const element = document.querySelector('#df-60c53c9f-b358-4cbd-b31e-3d480ec7f70b');\n",
              "          const dataTable =\n",
              "            await google.colab.kernel.invokeFunction('convertToInteractive',\n",
              "                                                     [key], {});\n",
              "          if (!dataTable) return;\n",
              "\n",
              "          const docLinkHtml = 'Like what you see? Visit the ' +\n",
              "            '<a target=\"_blank\" href=https://colab.research.google.com/notebooks/data_table.ipynb>data table notebook</a>'\n",
              "            + ' to learn more about interactive tables.';\n",
              "          element.innerHTML = '';\n",
              "          dataTable['output_type'] = 'display_data';\n",
              "          await google.colab.output.renderOutput(dataTable, element);\n",
              "          const docLink = document.createElement('div');\n",
              "          docLink.innerHTML = docLinkHtml;\n",
              "          element.appendChild(docLink);\n",
              "        }\n",
              "      </script>\n",
              "    </div>\n",
              "  </div>\n",
              "  "
            ]
          },
          "metadata": {},
          "execution_count": 612
        }
      ]
    },
    {
      "cell_type": "code",
      "source": [
        "x= df1.iloc[ : , 0:1].values\n",
        "y= df1.iloc[ : , 1].values"
      ],
      "metadata": {
        "id": "wWTVc6STHp7G"
      },
      "execution_count": null,
      "outputs": []
    },
    {
      "cell_type": "code",
      "source": [
        "from sklearn.linear_model import Ridge"
      ],
      "metadata": {
        "id": "bGyWf7kiI-K_"
      },
      "execution_count": null,
      "outputs": []
    },
    {
      "cell_type": "code",
      "source": [
        "#deve-se escolher o melhor parametro de regularização(Alpha)\n",
        "modelo_ridge = Ridge(alpha= 0.01)\n",
        "modelo_ridge.fit(x, y)\n",
        "modelo_ridge.score(x, y)"
      ],
      "metadata": {
        "colab": {
          "base_uri": "https://localhost:8080/"
        },
        "id": "FnH_rnGMJRnU",
        "outputId": "f9d03185-5cd8-4ca8-9f8e-674a6562338e"
      },
      "execution_count": null,
      "outputs": [
        {
          "output_type": "execute_result",
          "data": {
            "text/plain": [
              "0.8371060207921978"
            ]
          },
          "metadata": {},
          "execution_count": 615
        }
      ]
    },
    {
      "cell_type": "code",
      "source": [
        "modelo_ridge.intercept_"
      ],
      "metadata": {
        "colab": {
          "base_uri": "https://localhost:8080/"
        },
        "id": "1-87YLS4KxLK",
        "outputId": "f805037a-1911-4cd3-aef4-90377be03999"
      },
      "execution_count": null,
      "outputs": [
        {
          "output_type": "execute_result",
          "data": {
            "text/plain": [
              "948.4499713336861"
            ]
          },
          "metadata": {},
          "execution_count": 616
        }
      ]
    },
    {
      "cell_type": "code",
      "source": [
        "modelo_ridge.coef_"
      ],
      "metadata": {
        "colab": {
          "base_uri": "https://localhost:8080/"
        },
        "id": "hZDZa9M8Lg8j",
        "outputId": "0a06bc54-56d7-40ab-fdf0-f5cf94ddca7e"
      },
      "execution_count": null,
      "outputs": [
        {
          "output_type": "execute_result",
          "data": {
            "text/plain": [
              "array([-47.52554454])"
            ]
          },
          "metadata": {},
          "execution_count": 617
        }
      ]
    },
    {
      "cell_type": "markdown",
      "source": [
        "pH aquoso =  948.1791 -47.4823*Valores_Analogicos_Sensor_pH"
      ],
      "metadata": {
        "id": "EeS16JllLwgX"
      }
    },
    {
      "cell_type": "code",
      "source": [
        "previsaoridge = modelo_ridge.predict(x)"
      ],
      "metadata": {
        "id": "69rzRhz-MPJH"
      },
      "execution_count": null,
      "outputs": []
    },
    {
      "cell_type": "code",
      "source": [
        "df1['previsao'] = modelo_ridge.predict(x)\n"
      ],
      "metadata": {
        "id": "93PL8VTBMY9-"
      },
      "execution_count": null,
      "outputs": []
    },
    {
      "cell_type": "code",
      "source": [
        "df1"
      ],
      "metadata": {
        "colab": {
          "base_uri": "https://localhost:8080/",
          "height": 424
        },
        "id": "A8gDslV0SSLp",
        "outputId": "f48deddf-3a7f-4951-b729-067960854048"
      },
      "execution_count": null,
      "outputs": [
        {
          "output_type": "execute_result",
          "data": {
            "text/plain": [
              "    pH_Meio_Aquoso  Valores_Analogicos_Sensor_pH    previsao\n",
              "0              5.1                        711.00  706.069694\n",
              "1              4.5                        724.00  734.585021\n",
              "2              7.0                        601.00  615.771160\n",
              "3              4.2                        763.50  748.842684\n",
              "4              6.1                        645.25  658.544150\n",
              "..             ...                           ...         ...\n",
              "73             7.5                        644.10  592.008387\n",
              "74             7.0                        609.40  615.771160\n",
              "75             7.3                        578.80  601.513496\n",
              "76             6.1                        650.50  658.544150\n",
              "77             5.8                        633.00  672.801813\n",
              "\n",
              "[77 rows x 3 columns]"
            ],
            "text/html": [
              "\n",
              "  <div id=\"df-c1fc776d-2913-44a4-92e7-d94df2386990\">\n",
              "    <div class=\"colab-df-container\">\n",
              "      <div>\n",
              "<style scoped>\n",
              "    .dataframe tbody tr th:only-of-type {\n",
              "        vertical-align: middle;\n",
              "    }\n",
              "\n",
              "    .dataframe tbody tr th {\n",
              "        vertical-align: top;\n",
              "    }\n",
              "\n",
              "    .dataframe thead th {\n",
              "        text-align: right;\n",
              "    }\n",
              "</style>\n",
              "<table border=\"1\" class=\"dataframe\">\n",
              "  <thead>\n",
              "    <tr style=\"text-align: right;\">\n",
              "      <th></th>\n",
              "      <th>pH_Meio_Aquoso</th>\n",
              "      <th>Valores_Analogicos_Sensor_pH</th>\n",
              "      <th>previsao</th>\n",
              "    </tr>\n",
              "  </thead>\n",
              "  <tbody>\n",
              "    <tr>\n",
              "      <th>0</th>\n",
              "      <td>5.1</td>\n",
              "      <td>711.00</td>\n",
              "      <td>706.069694</td>\n",
              "    </tr>\n",
              "    <tr>\n",
              "      <th>1</th>\n",
              "      <td>4.5</td>\n",
              "      <td>724.00</td>\n",
              "      <td>734.585021</td>\n",
              "    </tr>\n",
              "    <tr>\n",
              "      <th>2</th>\n",
              "      <td>7.0</td>\n",
              "      <td>601.00</td>\n",
              "      <td>615.771160</td>\n",
              "    </tr>\n",
              "    <tr>\n",
              "      <th>3</th>\n",
              "      <td>4.2</td>\n",
              "      <td>763.50</td>\n",
              "      <td>748.842684</td>\n",
              "    </tr>\n",
              "    <tr>\n",
              "      <th>4</th>\n",
              "      <td>6.1</td>\n",
              "      <td>645.25</td>\n",
              "      <td>658.544150</td>\n",
              "    </tr>\n",
              "    <tr>\n",
              "      <th>...</th>\n",
              "      <td>...</td>\n",
              "      <td>...</td>\n",
              "      <td>...</td>\n",
              "    </tr>\n",
              "    <tr>\n",
              "      <th>73</th>\n",
              "      <td>7.5</td>\n",
              "      <td>644.10</td>\n",
              "      <td>592.008387</td>\n",
              "    </tr>\n",
              "    <tr>\n",
              "      <th>74</th>\n",
              "      <td>7.0</td>\n",
              "      <td>609.40</td>\n",
              "      <td>615.771160</td>\n",
              "    </tr>\n",
              "    <tr>\n",
              "      <th>75</th>\n",
              "      <td>7.3</td>\n",
              "      <td>578.80</td>\n",
              "      <td>601.513496</td>\n",
              "    </tr>\n",
              "    <tr>\n",
              "      <th>76</th>\n",
              "      <td>6.1</td>\n",
              "      <td>650.50</td>\n",
              "      <td>658.544150</td>\n",
              "    </tr>\n",
              "    <tr>\n",
              "      <th>77</th>\n",
              "      <td>5.8</td>\n",
              "      <td>633.00</td>\n",
              "      <td>672.801813</td>\n",
              "    </tr>\n",
              "  </tbody>\n",
              "</table>\n",
              "<p>77 rows × 3 columns</p>\n",
              "</div>\n",
              "      <button class=\"colab-df-convert\" onclick=\"convertToInteractive('df-c1fc776d-2913-44a4-92e7-d94df2386990')\"\n",
              "              title=\"Convert this dataframe to an interactive table.\"\n",
              "              style=\"display:none;\">\n",
              "        \n",
              "  <svg xmlns=\"http://www.w3.org/2000/svg\" height=\"24px\"viewBox=\"0 0 24 24\"\n",
              "       width=\"24px\">\n",
              "    <path d=\"M0 0h24v24H0V0z\" fill=\"none\"/>\n",
              "    <path d=\"M18.56 5.44l.94 2.06.94-2.06 2.06-.94-2.06-.94-.94-2.06-.94 2.06-2.06.94zm-11 1L8.5 8.5l.94-2.06 2.06-.94-2.06-.94L8.5 2.5l-.94 2.06-2.06.94zm10 10l.94 2.06.94-2.06 2.06-.94-2.06-.94-.94-2.06-.94 2.06-2.06.94z\"/><path d=\"M17.41 7.96l-1.37-1.37c-.4-.4-.92-.59-1.43-.59-.52 0-1.04.2-1.43.59L10.3 9.45l-7.72 7.72c-.78.78-.78 2.05 0 2.83L4 21.41c.39.39.9.59 1.41.59.51 0 1.02-.2 1.41-.59l7.78-7.78 2.81-2.81c.8-.78.8-2.07 0-2.86zM5.41 20L4 18.59l7.72-7.72 1.47 1.35L5.41 20z\"/>\n",
              "  </svg>\n",
              "      </button>\n",
              "      \n",
              "  <style>\n",
              "    .colab-df-container {\n",
              "      display:flex;\n",
              "      flex-wrap:wrap;\n",
              "      gap: 12px;\n",
              "    }\n",
              "\n",
              "    .colab-df-convert {\n",
              "      background-color: #E8F0FE;\n",
              "      border: none;\n",
              "      border-radius: 50%;\n",
              "      cursor: pointer;\n",
              "      display: none;\n",
              "      fill: #1967D2;\n",
              "      height: 32px;\n",
              "      padding: 0 0 0 0;\n",
              "      width: 32px;\n",
              "    }\n",
              "\n",
              "    .colab-df-convert:hover {\n",
              "      background-color: #E2EBFA;\n",
              "      box-shadow: 0px 1px 2px rgba(60, 64, 67, 0.3), 0px 1px 3px 1px rgba(60, 64, 67, 0.15);\n",
              "      fill: #174EA6;\n",
              "    }\n",
              "\n",
              "    [theme=dark] .colab-df-convert {\n",
              "      background-color: #3B4455;\n",
              "      fill: #D2E3FC;\n",
              "    }\n",
              "\n",
              "    [theme=dark] .colab-df-convert:hover {\n",
              "      background-color: #434B5C;\n",
              "      box-shadow: 0px 1px 3px 1px rgba(0, 0, 0, 0.15);\n",
              "      filter: drop-shadow(0px 1px 2px rgba(0, 0, 0, 0.3));\n",
              "      fill: #FFFFFF;\n",
              "    }\n",
              "  </style>\n",
              "\n",
              "      <script>\n",
              "        const buttonEl =\n",
              "          document.querySelector('#df-c1fc776d-2913-44a4-92e7-d94df2386990 button.colab-df-convert');\n",
              "        buttonEl.style.display =\n",
              "          google.colab.kernel.accessAllowed ? 'block' : 'none';\n",
              "\n",
              "        async function convertToInteractive(key) {\n",
              "          const element = document.querySelector('#df-c1fc776d-2913-44a4-92e7-d94df2386990');\n",
              "          const dataTable =\n",
              "            await google.colab.kernel.invokeFunction('convertToInteractive',\n",
              "                                                     [key], {});\n",
              "          if (!dataTable) return;\n",
              "\n",
              "          const docLinkHtml = 'Like what you see? Visit the ' +\n",
              "            '<a target=\"_blank\" href=https://colab.research.google.com/notebooks/data_table.ipynb>data table notebook</a>'\n",
              "            + ' to learn more about interactive tables.';\n",
              "          element.innerHTML = '';\n",
              "          dataTable['output_type'] = 'display_data';\n",
              "          await google.colab.output.renderOutput(dataTable, element);\n",
              "          const docLink = document.createElement('div');\n",
              "          docLink.innerHTML = docLinkHtml;\n",
              "          element.appendChild(docLink);\n",
              "        }\n",
              "      </script>\n",
              "    </div>\n",
              "  </div>\n",
              "  "
            ]
          },
          "metadata": {},
          "execution_count": 620
        }
      ]
    },
    {
      "cell_type": "code",
      "source": [
        "df1['erro_abs'] = abs (df1.Valores_Analogicos_Sensor_pH - df1.previsao)"
      ],
      "metadata": {
        "id": "BGwMFSH5MqMp"
      },
      "execution_count": null,
      "outputs": []
    },
    {
      "cell_type": "code",
      "source": [
        "df1.describe()"
      ],
      "metadata": {
        "colab": {
          "base_uri": "https://localhost:8080/",
          "height": 300
        },
        "id": "6yhw4DPNNzfd",
        "outputId": "0e6c6daa-ca03-43a6-aa85-23c2857cc35e"
      },
      "execution_count": null,
      "outputs": [
        {
          "output_type": "execute_result",
          "data": {
            "text/plain": [
              "       pH_Meio_Aquoso  Valores_Analogicos_Sensor_pH    previsao   erro_abs\n",
              "count       77.000000                     77.000000   77.000000  77.000000\n",
              "mean         6.267532                    650.582078  650.582078  18.050102\n",
              "std          1.140688                     59.258084   54.211812  15.553535\n",
              "min          4.100000                    540.000000  530.225179   0.106939\n",
              "25%          5.200000                    607.500000  606.266051   6.025197\n",
              "50%          6.400000                    645.250000  644.286486  12.208387\n",
              "75%          7.200000                    698.500000  701.317140  27.704367\n",
              "max          8.800000                    787.500000  753.595239  67.596704"
            ],
            "text/html": [
              "\n",
              "  <div id=\"df-51bdb4a9-0774-4455-9b4b-98ecbc8e706d\">\n",
              "    <div class=\"colab-df-container\">\n",
              "      <div>\n",
              "<style scoped>\n",
              "    .dataframe tbody tr th:only-of-type {\n",
              "        vertical-align: middle;\n",
              "    }\n",
              "\n",
              "    .dataframe tbody tr th {\n",
              "        vertical-align: top;\n",
              "    }\n",
              "\n",
              "    .dataframe thead th {\n",
              "        text-align: right;\n",
              "    }\n",
              "</style>\n",
              "<table border=\"1\" class=\"dataframe\">\n",
              "  <thead>\n",
              "    <tr style=\"text-align: right;\">\n",
              "      <th></th>\n",
              "      <th>pH_Meio_Aquoso</th>\n",
              "      <th>Valores_Analogicos_Sensor_pH</th>\n",
              "      <th>previsao</th>\n",
              "      <th>erro_abs</th>\n",
              "    </tr>\n",
              "  </thead>\n",
              "  <tbody>\n",
              "    <tr>\n",
              "      <th>count</th>\n",
              "      <td>77.000000</td>\n",
              "      <td>77.000000</td>\n",
              "      <td>77.000000</td>\n",
              "      <td>77.000000</td>\n",
              "    </tr>\n",
              "    <tr>\n",
              "      <th>mean</th>\n",
              "      <td>6.267532</td>\n",
              "      <td>650.582078</td>\n",
              "      <td>650.582078</td>\n",
              "      <td>18.050102</td>\n",
              "    </tr>\n",
              "    <tr>\n",
              "      <th>std</th>\n",
              "      <td>1.140688</td>\n",
              "      <td>59.258084</td>\n",
              "      <td>54.211812</td>\n",
              "      <td>15.553535</td>\n",
              "    </tr>\n",
              "    <tr>\n",
              "      <th>min</th>\n",
              "      <td>4.100000</td>\n",
              "      <td>540.000000</td>\n",
              "      <td>530.225179</td>\n",
              "      <td>0.106939</td>\n",
              "    </tr>\n",
              "    <tr>\n",
              "      <th>25%</th>\n",
              "      <td>5.200000</td>\n",
              "      <td>607.500000</td>\n",
              "      <td>606.266051</td>\n",
              "      <td>6.025197</td>\n",
              "    </tr>\n",
              "    <tr>\n",
              "      <th>50%</th>\n",
              "      <td>6.400000</td>\n",
              "      <td>645.250000</td>\n",
              "      <td>644.286486</td>\n",
              "      <td>12.208387</td>\n",
              "    </tr>\n",
              "    <tr>\n",
              "      <th>75%</th>\n",
              "      <td>7.200000</td>\n",
              "      <td>698.500000</td>\n",
              "      <td>701.317140</td>\n",
              "      <td>27.704367</td>\n",
              "    </tr>\n",
              "    <tr>\n",
              "      <th>max</th>\n",
              "      <td>8.800000</td>\n",
              "      <td>787.500000</td>\n",
              "      <td>753.595239</td>\n",
              "      <td>67.596704</td>\n",
              "    </tr>\n",
              "  </tbody>\n",
              "</table>\n",
              "</div>\n",
              "      <button class=\"colab-df-convert\" onclick=\"convertToInteractive('df-51bdb4a9-0774-4455-9b4b-98ecbc8e706d')\"\n",
              "              title=\"Convert this dataframe to an interactive table.\"\n",
              "              style=\"display:none;\">\n",
              "        \n",
              "  <svg xmlns=\"http://www.w3.org/2000/svg\" height=\"24px\"viewBox=\"0 0 24 24\"\n",
              "       width=\"24px\">\n",
              "    <path d=\"M0 0h24v24H0V0z\" fill=\"none\"/>\n",
              "    <path d=\"M18.56 5.44l.94 2.06.94-2.06 2.06-.94-2.06-.94-.94-2.06-.94 2.06-2.06.94zm-11 1L8.5 8.5l.94-2.06 2.06-.94-2.06-.94L8.5 2.5l-.94 2.06-2.06.94zm10 10l.94 2.06.94-2.06 2.06-.94-2.06-.94-.94-2.06-.94 2.06-2.06.94z\"/><path d=\"M17.41 7.96l-1.37-1.37c-.4-.4-.92-.59-1.43-.59-.52 0-1.04.2-1.43.59L10.3 9.45l-7.72 7.72c-.78.78-.78 2.05 0 2.83L4 21.41c.39.39.9.59 1.41.59.51 0 1.02-.2 1.41-.59l7.78-7.78 2.81-2.81c.8-.78.8-2.07 0-2.86zM5.41 20L4 18.59l7.72-7.72 1.47 1.35L5.41 20z\"/>\n",
              "  </svg>\n",
              "      </button>\n",
              "      \n",
              "  <style>\n",
              "    .colab-df-container {\n",
              "      display:flex;\n",
              "      flex-wrap:wrap;\n",
              "      gap: 12px;\n",
              "    }\n",
              "\n",
              "    .colab-df-convert {\n",
              "      background-color: #E8F0FE;\n",
              "      border: none;\n",
              "      border-radius: 50%;\n",
              "      cursor: pointer;\n",
              "      display: none;\n",
              "      fill: #1967D2;\n",
              "      height: 32px;\n",
              "      padding: 0 0 0 0;\n",
              "      width: 32px;\n",
              "    }\n",
              "\n",
              "    .colab-df-convert:hover {\n",
              "      background-color: #E2EBFA;\n",
              "      box-shadow: 0px 1px 2px rgba(60, 64, 67, 0.3), 0px 1px 3px 1px rgba(60, 64, 67, 0.15);\n",
              "      fill: #174EA6;\n",
              "    }\n",
              "\n",
              "    [theme=dark] .colab-df-convert {\n",
              "      background-color: #3B4455;\n",
              "      fill: #D2E3FC;\n",
              "    }\n",
              "\n",
              "    [theme=dark] .colab-df-convert:hover {\n",
              "      background-color: #434B5C;\n",
              "      box-shadow: 0px 1px 3px 1px rgba(0, 0, 0, 0.15);\n",
              "      filter: drop-shadow(0px 1px 2px rgba(0, 0, 0, 0.3));\n",
              "      fill: #FFFFFF;\n",
              "    }\n",
              "  </style>\n",
              "\n",
              "      <script>\n",
              "        const buttonEl =\n",
              "          document.querySelector('#df-51bdb4a9-0774-4455-9b4b-98ecbc8e706d button.colab-df-convert');\n",
              "        buttonEl.style.display =\n",
              "          google.colab.kernel.accessAllowed ? 'block' : 'none';\n",
              "\n",
              "        async function convertToInteractive(key) {\n",
              "          const element = document.querySelector('#df-51bdb4a9-0774-4455-9b4b-98ecbc8e706d');\n",
              "          const dataTable =\n",
              "            await google.colab.kernel.invokeFunction('convertToInteractive',\n",
              "                                                     [key], {});\n",
              "          if (!dataTable) return;\n",
              "\n",
              "          const docLinkHtml = 'Like what you see? Visit the ' +\n",
              "            '<a target=\"_blank\" href=https://colab.research.google.com/notebooks/data_table.ipynb>data table notebook</a>'\n",
              "            + ' to learn more about interactive tables.';\n",
              "          element.innerHTML = '';\n",
              "          dataTable['output_type'] = 'display_data';\n",
              "          await google.colab.output.renderOutput(dataTable, element);\n",
              "          const docLink = document.createElement('div');\n",
              "          docLink.innerHTML = docLinkHtml;\n",
              "          element.appendChild(docLink);\n",
              "        }\n",
              "      </script>\n",
              "    </div>\n",
              "  </div>\n",
              "  "
            ]
          },
          "metadata": {},
          "execution_count": 622
        }
      ]
    },
    {
      "cell_type": "markdown",
      "source": [
        "Validação do modelo"
      ],
      "metadata": {
        "id": "Z42QW3CYOIXf"
      }
    },
    {
      "cell_type": "code",
      "source": [
        "#Erro Absoluto Médio(MAE)\n",
        "from sklearn.metrics import mean_absolute_error\n",
        "mean_absolute_error(df1.Valores_Analogicos_Sensor_pH, df1.previsao)\n"
      ],
      "metadata": {
        "colab": {
          "base_uri": "https://localhost:8080/"
        },
        "id": "QT61DXZlOHPT",
        "outputId": "f7f5bdb0-26fc-47c5-b646-15a58861603d"
      },
      "execution_count": null,
      "outputs": [
        {
          "output_type": "execute_result",
          "data": {
            "text/plain": [
              "18.05010175380894"
            ]
          },
          "metadata": {},
          "execution_count": 623
        }
      ]
    },
    {
      "cell_type": "code",
      "source": [
        "#Erro médio Quadrático(MSE)\n",
        "from sklearn.metrics import mean_squared_error\n",
        "mean_squared_error(df1.Valores_Analogicos_Sensor_pH, df1.previsao)"
      ],
      "metadata": {
        "colab": {
          "base_uri": "https://localhost:8080/"
        },
        "id": "ovfhBockPBmF",
        "outputId": "8fa67174-9aa7-4f8c-df68-2a829398ff30"
      },
      "execution_count": null,
      "outputs": [
        {
          "output_type": "execute_result",
          "data": {
            "text/plain": [
              "564.5769128711426"
            ]
          },
          "metadata": {},
          "execution_count": 624
        }
      ]
    },
    {
      "cell_type": "markdown",
      "source": [
        "#Regressão Lasso\n",
        "\n",
        "Regressão Lasso estamos tratando de uma regressão semelhante à linear, só que aqui o que ocorre é a minimização da soma dos resíduos quadrados somados a uma constante lambda multiplicada pela soma dos coeficientes em módulo.\n",
        "\n"
      ],
      "metadata": {
        "id": "QpMRxcmkPxFF"
      }
    },
    {
      "cell_type": "code",
      "source": [
        "from sklearn.linear_model import Lasso"
      ],
      "metadata": {
        "id": "Pcc2RRwcRAjl"
      },
      "execution_count": null,
      "outputs": []
    },
    {
      "cell_type": "code",
      "source": [
        "df2=df.drop(columns=['pH_Medida_Direta_Akso'])#apaga a coluna pH medida direta"
      ],
      "metadata": {
        "id": "060uW9dpRbKU"
      },
      "execution_count": null,
      "outputs": []
    },
    {
      "cell_type": "code",
      "source": [
        "df2"
      ],
      "metadata": {
        "colab": {
          "base_uri": "https://localhost:8080/",
          "height": 424
        },
        "id": "SJuEzxMLRmHR",
        "outputId": "9933308a-0661-4cdc-cc54-a23b4e3bb000"
      },
      "execution_count": null,
      "outputs": [
        {
          "output_type": "execute_result",
          "data": {
            "text/plain": [
              "    pH_Meio_Aquoso  Valores_Analogicos_Sensor_pH\n",
              "0              5.1                        711.00\n",
              "1              4.5                        724.00\n",
              "2              7.0                        601.00\n",
              "3              4.2                        763.50\n",
              "4              6.1                        645.25\n",
              "..             ...                           ...\n",
              "73             7.5                        644.10\n",
              "74             7.0                        609.40\n",
              "75             7.3                        578.80\n",
              "76             6.1                        650.50\n",
              "77             5.8                        633.00\n",
              "\n",
              "[77 rows x 2 columns]"
            ],
            "text/html": [
              "\n",
              "  <div id=\"df-65099859-894e-4a2a-a1f1-9713c71dc0b7\">\n",
              "    <div class=\"colab-df-container\">\n",
              "      <div>\n",
              "<style scoped>\n",
              "    .dataframe tbody tr th:only-of-type {\n",
              "        vertical-align: middle;\n",
              "    }\n",
              "\n",
              "    .dataframe tbody tr th {\n",
              "        vertical-align: top;\n",
              "    }\n",
              "\n",
              "    .dataframe thead th {\n",
              "        text-align: right;\n",
              "    }\n",
              "</style>\n",
              "<table border=\"1\" class=\"dataframe\">\n",
              "  <thead>\n",
              "    <tr style=\"text-align: right;\">\n",
              "      <th></th>\n",
              "      <th>pH_Meio_Aquoso</th>\n",
              "      <th>Valores_Analogicos_Sensor_pH</th>\n",
              "    </tr>\n",
              "  </thead>\n",
              "  <tbody>\n",
              "    <tr>\n",
              "      <th>0</th>\n",
              "      <td>5.1</td>\n",
              "      <td>711.00</td>\n",
              "    </tr>\n",
              "    <tr>\n",
              "      <th>1</th>\n",
              "      <td>4.5</td>\n",
              "      <td>724.00</td>\n",
              "    </tr>\n",
              "    <tr>\n",
              "      <th>2</th>\n",
              "      <td>7.0</td>\n",
              "      <td>601.00</td>\n",
              "    </tr>\n",
              "    <tr>\n",
              "      <th>3</th>\n",
              "      <td>4.2</td>\n",
              "      <td>763.50</td>\n",
              "    </tr>\n",
              "    <tr>\n",
              "      <th>4</th>\n",
              "      <td>6.1</td>\n",
              "      <td>645.25</td>\n",
              "    </tr>\n",
              "    <tr>\n",
              "      <th>...</th>\n",
              "      <td>...</td>\n",
              "      <td>...</td>\n",
              "    </tr>\n",
              "    <tr>\n",
              "      <th>73</th>\n",
              "      <td>7.5</td>\n",
              "      <td>644.10</td>\n",
              "    </tr>\n",
              "    <tr>\n",
              "      <th>74</th>\n",
              "      <td>7.0</td>\n",
              "      <td>609.40</td>\n",
              "    </tr>\n",
              "    <tr>\n",
              "      <th>75</th>\n",
              "      <td>7.3</td>\n",
              "      <td>578.80</td>\n",
              "    </tr>\n",
              "    <tr>\n",
              "      <th>76</th>\n",
              "      <td>6.1</td>\n",
              "      <td>650.50</td>\n",
              "    </tr>\n",
              "    <tr>\n",
              "      <th>77</th>\n",
              "      <td>5.8</td>\n",
              "      <td>633.00</td>\n",
              "    </tr>\n",
              "  </tbody>\n",
              "</table>\n",
              "<p>77 rows × 2 columns</p>\n",
              "</div>\n",
              "      <button class=\"colab-df-convert\" onclick=\"convertToInteractive('df-65099859-894e-4a2a-a1f1-9713c71dc0b7')\"\n",
              "              title=\"Convert this dataframe to an interactive table.\"\n",
              "              style=\"display:none;\">\n",
              "        \n",
              "  <svg xmlns=\"http://www.w3.org/2000/svg\" height=\"24px\"viewBox=\"0 0 24 24\"\n",
              "       width=\"24px\">\n",
              "    <path d=\"M0 0h24v24H0V0z\" fill=\"none\"/>\n",
              "    <path d=\"M18.56 5.44l.94 2.06.94-2.06 2.06-.94-2.06-.94-.94-2.06-.94 2.06-2.06.94zm-11 1L8.5 8.5l.94-2.06 2.06-.94-2.06-.94L8.5 2.5l-.94 2.06-2.06.94zm10 10l.94 2.06.94-2.06 2.06-.94-2.06-.94-.94-2.06-.94 2.06-2.06.94z\"/><path d=\"M17.41 7.96l-1.37-1.37c-.4-.4-.92-.59-1.43-.59-.52 0-1.04.2-1.43.59L10.3 9.45l-7.72 7.72c-.78.78-.78 2.05 0 2.83L4 21.41c.39.39.9.59 1.41.59.51 0 1.02-.2 1.41-.59l7.78-7.78 2.81-2.81c.8-.78.8-2.07 0-2.86zM5.41 20L4 18.59l7.72-7.72 1.47 1.35L5.41 20z\"/>\n",
              "  </svg>\n",
              "      </button>\n",
              "      \n",
              "  <style>\n",
              "    .colab-df-container {\n",
              "      display:flex;\n",
              "      flex-wrap:wrap;\n",
              "      gap: 12px;\n",
              "    }\n",
              "\n",
              "    .colab-df-convert {\n",
              "      background-color: #E8F0FE;\n",
              "      border: none;\n",
              "      border-radius: 50%;\n",
              "      cursor: pointer;\n",
              "      display: none;\n",
              "      fill: #1967D2;\n",
              "      height: 32px;\n",
              "      padding: 0 0 0 0;\n",
              "      width: 32px;\n",
              "    }\n",
              "\n",
              "    .colab-df-convert:hover {\n",
              "      background-color: #E2EBFA;\n",
              "      box-shadow: 0px 1px 2px rgba(60, 64, 67, 0.3), 0px 1px 3px 1px rgba(60, 64, 67, 0.15);\n",
              "      fill: #174EA6;\n",
              "    }\n",
              "\n",
              "    [theme=dark] .colab-df-convert {\n",
              "      background-color: #3B4455;\n",
              "      fill: #D2E3FC;\n",
              "    }\n",
              "\n",
              "    [theme=dark] .colab-df-convert:hover {\n",
              "      background-color: #434B5C;\n",
              "      box-shadow: 0px 1px 3px 1px rgba(0, 0, 0, 0.15);\n",
              "      filter: drop-shadow(0px 1px 2px rgba(0, 0, 0, 0.3));\n",
              "      fill: #FFFFFF;\n",
              "    }\n",
              "  </style>\n",
              "\n",
              "      <script>\n",
              "        const buttonEl =\n",
              "          document.querySelector('#df-65099859-894e-4a2a-a1f1-9713c71dc0b7 button.colab-df-convert');\n",
              "        buttonEl.style.display =\n",
              "          google.colab.kernel.accessAllowed ? 'block' : 'none';\n",
              "\n",
              "        async function convertToInteractive(key) {\n",
              "          const element = document.querySelector('#df-65099859-894e-4a2a-a1f1-9713c71dc0b7');\n",
              "          const dataTable =\n",
              "            await google.colab.kernel.invokeFunction('convertToInteractive',\n",
              "                                                     [key], {});\n",
              "          if (!dataTable) return;\n",
              "\n",
              "          const docLinkHtml = 'Like what you see? Visit the ' +\n",
              "            '<a target=\"_blank\" href=https://colab.research.google.com/notebooks/data_table.ipynb>data table notebook</a>'\n",
              "            + ' to learn more about interactive tables.';\n",
              "          element.innerHTML = '';\n",
              "          dataTable['output_type'] = 'display_data';\n",
              "          await google.colab.output.renderOutput(dataTable, element);\n",
              "          const docLink = document.createElement('div');\n",
              "          docLink.innerHTML = docLinkHtml;\n",
              "          element.appendChild(docLink);\n",
              "        }\n",
              "      </script>\n",
              "    </div>\n",
              "  </div>\n",
              "  "
            ]
          },
          "metadata": {},
          "execution_count": 627
        }
      ]
    },
    {
      "cell_type": "code",
      "source": [
        "x1= df2.iloc[ : , 0:1].values\n",
        "y1= df2.iloc[ : , 1].values"
      ],
      "metadata": {
        "id": "G0Tl_vqKRJds"
      },
      "execution_count": null,
      "outputs": []
    },
    {
      "cell_type": "code",
      "source": [
        "#deve-se escolher o melhor parametro de regularização(Alpha)\n",
        "modelo_lasso = Lasso(alpha= 0.01)\n",
        "modelo_lasso.fit(x1, y1)\n",
        "modelo_lasso.score(x1, y1)"
      ],
      "metadata": {
        "colab": {
          "base_uri": "https://localhost:8080/"
        },
        "id": "EDOXfXU2Szc-",
        "outputId": "33024111-0ae5-4836-8d2a-560999cbd08a"
      },
      "execution_count": null,
      "outputs": [
        {
          "output_type": "execute_result",
          "data": {
            "text/plain": [
              "0.8371060068847258"
            ]
          },
          "metadata": {},
          "execution_count": 629
        }
      ]
    },
    {
      "cell_type": "code",
      "source": [
        "modelo_lasso.intercept_"
      ],
      "metadata": {
        "colab": {
          "base_uri": "https://localhost:8080/"
        },
        "id": "H7_Di3mXTbRZ",
        "outputId": "7d57e894-438c-4974-a5bf-1a271ac74876"
      },
      "execution_count": null,
      "outputs": [
        {
          "output_type": "execute_result",
          "data": {
            "text/plain": [
              "948.4312905479588"
            ]
          },
          "metadata": {},
          "execution_count": 630
        }
      ]
    },
    {
      "cell_type": "code",
      "source": [
        "modelo_lasso.coef_"
      ],
      "metadata": {
        "colab": {
          "base_uri": "https://localhost:8080/"
        },
        "id": "YjlQu5D_Tjwm",
        "outputId": "93199c66-6f10-492c-deb2-698346da36d8"
      },
      "execution_count": null,
      "outputs": [
        {
          "output_type": "execute_result",
          "data": {
            "text/plain": [
              "array([-47.52256397])"
            ]
          },
          "metadata": {},
          "execution_count": 631
        }
      ]
    },
    {
      "cell_type": "markdown",
      "source": [
        "pH meio aquoso = 948.4312 --47.5225*Valores_Analogicos_Sensor_pH"
      ],
      "metadata": {
        "id": "j24FkF3iTqvD"
      }
    },
    {
      "cell_type": "code",
      "source": [
        "previsaolasso = modelo_lasso.predict(x1)\n"
      ],
      "metadata": {
        "id": "AE1HR1FEULuU"
      },
      "execution_count": null,
      "outputs": []
    },
    {
      "cell_type": "code",
      "source": [
        "df2['previsaolasso'] = modelo_lasso.predict(x1)"
      ],
      "metadata": {
        "id": "J4IgBbeUU5co"
      },
      "execution_count": null,
      "outputs": []
    },
    {
      "cell_type": "code",
      "source": [
        "df2['erro_abs'] = abs (df2.Valores_Analogicos_Sensor_pH - df2.previsaolasso)"
      ],
      "metadata": {
        "id": "WgdCtTs0VHoz"
      },
      "execution_count": null,
      "outputs": []
    },
    {
      "cell_type": "code",
      "source": [
        "df2"
      ],
      "metadata": {
        "colab": {
          "base_uri": "https://localhost:8080/",
          "height": 424
        },
        "id": "5TYMpVDIVUWx",
        "outputId": "5269f5bf-d47d-4840-bfeb-52d0fb61b09d"
      },
      "execution_count": null,
      "outputs": [
        {
          "output_type": "execute_result",
          "data": {
            "text/plain": [
              "    pH_Meio_Aquoso  Valores_Analogicos_Sensor_pH  previsaolasso   erro_abs\n",
              "0              5.1                        711.00     706.066214   4.933786\n",
              "1              4.5                        724.00     734.579753  10.579753\n",
              "2              7.0                        601.00     615.773343  14.773343\n",
              "3              4.2                        763.50     748.836522  14.663478\n",
              "4              6.1                        645.25     658.543650  13.293650\n",
              "..             ...                           ...            ...        ...\n",
              "73             7.5                        644.10     592.012061  52.087939\n",
              "74             7.0                        609.40     615.773343   6.373343\n",
              "75             7.3                        578.80     601.516574  22.716574\n",
              "76             6.1                        650.50     658.543650   8.043650\n",
              "77             5.8                        633.00     672.800420  39.800420\n",
              "\n",
              "[77 rows x 4 columns]"
            ],
            "text/html": [
              "\n",
              "  <div id=\"df-090d8ead-3e91-4095-b539-98b1fb7e8106\">\n",
              "    <div class=\"colab-df-container\">\n",
              "      <div>\n",
              "<style scoped>\n",
              "    .dataframe tbody tr th:only-of-type {\n",
              "        vertical-align: middle;\n",
              "    }\n",
              "\n",
              "    .dataframe tbody tr th {\n",
              "        vertical-align: top;\n",
              "    }\n",
              "\n",
              "    .dataframe thead th {\n",
              "        text-align: right;\n",
              "    }\n",
              "</style>\n",
              "<table border=\"1\" class=\"dataframe\">\n",
              "  <thead>\n",
              "    <tr style=\"text-align: right;\">\n",
              "      <th></th>\n",
              "      <th>pH_Meio_Aquoso</th>\n",
              "      <th>Valores_Analogicos_Sensor_pH</th>\n",
              "      <th>previsaolasso</th>\n",
              "      <th>erro_abs</th>\n",
              "    </tr>\n",
              "  </thead>\n",
              "  <tbody>\n",
              "    <tr>\n",
              "      <th>0</th>\n",
              "      <td>5.1</td>\n",
              "      <td>711.00</td>\n",
              "      <td>706.066214</td>\n",
              "      <td>4.933786</td>\n",
              "    </tr>\n",
              "    <tr>\n",
              "      <th>1</th>\n",
              "      <td>4.5</td>\n",
              "      <td>724.00</td>\n",
              "      <td>734.579753</td>\n",
              "      <td>10.579753</td>\n",
              "    </tr>\n",
              "    <tr>\n",
              "      <th>2</th>\n",
              "      <td>7.0</td>\n",
              "      <td>601.00</td>\n",
              "      <td>615.773343</td>\n",
              "      <td>14.773343</td>\n",
              "    </tr>\n",
              "    <tr>\n",
              "      <th>3</th>\n",
              "      <td>4.2</td>\n",
              "      <td>763.50</td>\n",
              "      <td>748.836522</td>\n",
              "      <td>14.663478</td>\n",
              "    </tr>\n",
              "    <tr>\n",
              "      <th>4</th>\n",
              "      <td>6.1</td>\n",
              "      <td>645.25</td>\n",
              "      <td>658.543650</td>\n",
              "      <td>13.293650</td>\n",
              "    </tr>\n",
              "    <tr>\n",
              "      <th>...</th>\n",
              "      <td>...</td>\n",
              "      <td>...</td>\n",
              "      <td>...</td>\n",
              "      <td>...</td>\n",
              "    </tr>\n",
              "    <tr>\n",
              "      <th>73</th>\n",
              "      <td>7.5</td>\n",
              "      <td>644.10</td>\n",
              "      <td>592.012061</td>\n",
              "      <td>52.087939</td>\n",
              "    </tr>\n",
              "    <tr>\n",
              "      <th>74</th>\n",
              "      <td>7.0</td>\n",
              "      <td>609.40</td>\n",
              "      <td>615.773343</td>\n",
              "      <td>6.373343</td>\n",
              "    </tr>\n",
              "    <tr>\n",
              "      <th>75</th>\n",
              "      <td>7.3</td>\n",
              "      <td>578.80</td>\n",
              "      <td>601.516574</td>\n",
              "      <td>22.716574</td>\n",
              "    </tr>\n",
              "    <tr>\n",
              "      <th>76</th>\n",
              "      <td>6.1</td>\n",
              "      <td>650.50</td>\n",
              "      <td>658.543650</td>\n",
              "      <td>8.043650</td>\n",
              "    </tr>\n",
              "    <tr>\n",
              "      <th>77</th>\n",
              "      <td>5.8</td>\n",
              "      <td>633.00</td>\n",
              "      <td>672.800420</td>\n",
              "      <td>39.800420</td>\n",
              "    </tr>\n",
              "  </tbody>\n",
              "</table>\n",
              "<p>77 rows × 4 columns</p>\n",
              "</div>\n",
              "      <button class=\"colab-df-convert\" onclick=\"convertToInteractive('df-090d8ead-3e91-4095-b539-98b1fb7e8106')\"\n",
              "              title=\"Convert this dataframe to an interactive table.\"\n",
              "              style=\"display:none;\">\n",
              "        \n",
              "  <svg xmlns=\"http://www.w3.org/2000/svg\" height=\"24px\"viewBox=\"0 0 24 24\"\n",
              "       width=\"24px\">\n",
              "    <path d=\"M0 0h24v24H0V0z\" fill=\"none\"/>\n",
              "    <path d=\"M18.56 5.44l.94 2.06.94-2.06 2.06-.94-2.06-.94-.94-2.06-.94 2.06-2.06.94zm-11 1L8.5 8.5l.94-2.06 2.06-.94-2.06-.94L8.5 2.5l-.94 2.06-2.06.94zm10 10l.94 2.06.94-2.06 2.06-.94-2.06-.94-.94-2.06-.94 2.06-2.06.94z\"/><path d=\"M17.41 7.96l-1.37-1.37c-.4-.4-.92-.59-1.43-.59-.52 0-1.04.2-1.43.59L10.3 9.45l-7.72 7.72c-.78.78-.78 2.05 0 2.83L4 21.41c.39.39.9.59 1.41.59.51 0 1.02-.2 1.41-.59l7.78-7.78 2.81-2.81c.8-.78.8-2.07 0-2.86zM5.41 20L4 18.59l7.72-7.72 1.47 1.35L5.41 20z\"/>\n",
              "  </svg>\n",
              "      </button>\n",
              "      \n",
              "  <style>\n",
              "    .colab-df-container {\n",
              "      display:flex;\n",
              "      flex-wrap:wrap;\n",
              "      gap: 12px;\n",
              "    }\n",
              "\n",
              "    .colab-df-convert {\n",
              "      background-color: #E8F0FE;\n",
              "      border: none;\n",
              "      border-radius: 50%;\n",
              "      cursor: pointer;\n",
              "      display: none;\n",
              "      fill: #1967D2;\n",
              "      height: 32px;\n",
              "      padding: 0 0 0 0;\n",
              "      width: 32px;\n",
              "    }\n",
              "\n",
              "    .colab-df-convert:hover {\n",
              "      background-color: #E2EBFA;\n",
              "      box-shadow: 0px 1px 2px rgba(60, 64, 67, 0.3), 0px 1px 3px 1px rgba(60, 64, 67, 0.15);\n",
              "      fill: #174EA6;\n",
              "    }\n",
              "\n",
              "    [theme=dark] .colab-df-convert {\n",
              "      background-color: #3B4455;\n",
              "      fill: #D2E3FC;\n",
              "    }\n",
              "\n",
              "    [theme=dark] .colab-df-convert:hover {\n",
              "      background-color: #434B5C;\n",
              "      box-shadow: 0px 1px 3px 1px rgba(0, 0, 0, 0.15);\n",
              "      filter: drop-shadow(0px 1px 2px rgba(0, 0, 0, 0.3));\n",
              "      fill: #FFFFFF;\n",
              "    }\n",
              "  </style>\n",
              "\n",
              "      <script>\n",
              "        const buttonEl =\n",
              "          document.querySelector('#df-090d8ead-3e91-4095-b539-98b1fb7e8106 button.colab-df-convert');\n",
              "        buttonEl.style.display =\n",
              "          google.colab.kernel.accessAllowed ? 'block' : 'none';\n",
              "\n",
              "        async function convertToInteractive(key) {\n",
              "          const element = document.querySelector('#df-090d8ead-3e91-4095-b539-98b1fb7e8106');\n",
              "          const dataTable =\n",
              "            await google.colab.kernel.invokeFunction('convertToInteractive',\n",
              "                                                     [key], {});\n",
              "          if (!dataTable) return;\n",
              "\n",
              "          const docLinkHtml = 'Like what you see? Visit the ' +\n",
              "            '<a target=\"_blank\" href=https://colab.research.google.com/notebooks/data_table.ipynb>data table notebook</a>'\n",
              "            + ' to learn more about interactive tables.';\n",
              "          element.innerHTML = '';\n",
              "          dataTable['output_type'] = 'display_data';\n",
              "          await google.colab.output.renderOutput(dataTable, element);\n",
              "          const docLink = document.createElement('div');\n",
              "          docLink.innerHTML = docLinkHtml;\n",
              "          element.appendChild(docLink);\n",
              "        }\n",
              "      </script>\n",
              "    </div>\n",
              "  </div>\n",
              "  "
            ]
          },
          "metadata": {},
          "execution_count": 635
        }
      ]
    },
    {
      "cell_type": "markdown",
      "source": [
        "validar modelo"
      ],
      "metadata": {
        "id": "mB1Bh8gVVfWN"
      }
    },
    {
      "cell_type": "code",
      "source": [
        "#Erro Absoluto Médio(MAE)\n",
        "from sklearn.metrics import mean_absolute_error\n",
        "mean_absolute_error(df2.Valores_Analogicos_Sensor_pH, df2.previsaolasso)"
      ],
      "metadata": {
        "colab": {
          "base_uri": "https://localhost:8080/"
        },
        "id": "gv1XoLmMVWxU",
        "outputId": "3cd28608-36c8-449e-ba18-c6e5e71081dd"
      },
      "execution_count": null,
      "outputs": [
        {
          "output_type": "execute_result",
          "data": {
            "text/plain": [
              "18.049877143202348"
            ]
          },
          "metadata": {},
          "execution_count": 636
        }
      ]
    },
    {
      "cell_type": "code",
      "source": [
        "#Erro médio Quadrático(MSE)\n",
        "from sklearn.metrics import mean_squared_error\n",
        "mean_squared_error(df2.Valores_Analogicos_Sensor_pH, df2.previsaolasso)"
      ],
      "metadata": {
        "colab": {
          "base_uri": "https://localhost:8080/"
        },
        "id": "RuwRNHyAVk7O",
        "outputId": "529edc8a-3b07-41ee-ec95-a37504444387"
      },
      "execution_count": null,
      "outputs": [
        {
          "output_type": "execute_result",
          "data": {
            "text/plain": [
              "564.5769610732774"
            ]
          },
          "metadata": {},
          "execution_count": 637
        }
      ]
    },
    {
      "cell_type": "markdown",
      "source": [
        "#Regressão Elastic Net"
      ],
      "metadata": {
        "id": "hqLM1p5VVvVE"
      }
    },
    {
      "cell_type": "code",
      "source": [
        "from sklearn.linear_model import ElasticNet"
      ],
      "metadata": {
        "id": "wlsJmwoRWI2T"
      },
      "execution_count": null,
      "outputs": []
    },
    {
      "cell_type": "code",
      "source": [
        "df3=df.drop(columns=['pH_Medida_Direta_Akso'])#apaga a coluna pH medida direta"
      ],
      "metadata": {
        "id": "FOOHy5z_W7gC"
      },
      "execution_count": null,
      "outputs": []
    },
    {
      "cell_type": "code",
      "source": [
        "df3"
      ],
      "metadata": {
        "colab": {
          "base_uri": "https://localhost:8080/",
          "height": 424
        },
        "id": "23VqCD4XXC0u",
        "outputId": "ea413d17-083c-4981-c699-f41c1d5b0a52"
      },
      "execution_count": null,
      "outputs": [
        {
          "output_type": "execute_result",
          "data": {
            "text/plain": [
              "    pH_Meio_Aquoso  Valores_Analogicos_Sensor_pH\n",
              "0              5.1                        711.00\n",
              "1              4.5                        724.00\n",
              "2              7.0                        601.00\n",
              "3              4.2                        763.50\n",
              "4              6.1                        645.25\n",
              "..             ...                           ...\n",
              "73             7.5                        644.10\n",
              "74             7.0                        609.40\n",
              "75             7.3                        578.80\n",
              "76             6.1                        650.50\n",
              "77             5.8                        633.00\n",
              "\n",
              "[77 rows x 2 columns]"
            ],
            "text/html": [
              "\n",
              "  <div id=\"df-b334f5da-2075-4cf5-ab13-9663ff01ca80\">\n",
              "    <div class=\"colab-df-container\">\n",
              "      <div>\n",
              "<style scoped>\n",
              "    .dataframe tbody tr th:only-of-type {\n",
              "        vertical-align: middle;\n",
              "    }\n",
              "\n",
              "    .dataframe tbody tr th {\n",
              "        vertical-align: top;\n",
              "    }\n",
              "\n",
              "    .dataframe thead th {\n",
              "        text-align: right;\n",
              "    }\n",
              "</style>\n",
              "<table border=\"1\" class=\"dataframe\">\n",
              "  <thead>\n",
              "    <tr style=\"text-align: right;\">\n",
              "      <th></th>\n",
              "      <th>pH_Meio_Aquoso</th>\n",
              "      <th>Valores_Analogicos_Sensor_pH</th>\n",
              "    </tr>\n",
              "  </thead>\n",
              "  <tbody>\n",
              "    <tr>\n",
              "      <th>0</th>\n",
              "      <td>5.1</td>\n",
              "      <td>711.00</td>\n",
              "    </tr>\n",
              "    <tr>\n",
              "      <th>1</th>\n",
              "      <td>4.5</td>\n",
              "      <td>724.00</td>\n",
              "    </tr>\n",
              "    <tr>\n",
              "      <th>2</th>\n",
              "      <td>7.0</td>\n",
              "      <td>601.00</td>\n",
              "    </tr>\n",
              "    <tr>\n",
              "      <th>3</th>\n",
              "      <td>4.2</td>\n",
              "      <td>763.50</td>\n",
              "    </tr>\n",
              "    <tr>\n",
              "      <th>4</th>\n",
              "      <td>6.1</td>\n",
              "      <td>645.25</td>\n",
              "    </tr>\n",
              "    <tr>\n",
              "      <th>...</th>\n",
              "      <td>...</td>\n",
              "      <td>...</td>\n",
              "    </tr>\n",
              "    <tr>\n",
              "      <th>73</th>\n",
              "      <td>7.5</td>\n",
              "      <td>644.10</td>\n",
              "    </tr>\n",
              "    <tr>\n",
              "      <th>74</th>\n",
              "      <td>7.0</td>\n",
              "      <td>609.40</td>\n",
              "    </tr>\n",
              "    <tr>\n",
              "      <th>75</th>\n",
              "      <td>7.3</td>\n",
              "      <td>578.80</td>\n",
              "    </tr>\n",
              "    <tr>\n",
              "      <th>76</th>\n",
              "      <td>6.1</td>\n",
              "      <td>650.50</td>\n",
              "    </tr>\n",
              "    <tr>\n",
              "      <th>77</th>\n",
              "      <td>5.8</td>\n",
              "      <td>633.00</td>\n",
              "    </tr>\n",
              "  </tbody>\n",
              "</table>\n",
              "<p>77 rows × 2 columns</p>\n",
              "</div>\n",
              "      <button class=\"colab-df-convert\" onclick=\"convertToInteractive('df-b334f5da-2075-4cf5-ab13-9663ff01ca80')\"\n",
              "              title=\"Convert this dataframe to an interactive table.\"\n",
              "              style=\"display:none;\">\n",
              "        \n",
              "  <svg xmlns=\"http://www.w3.org/2000/svg\" height=\"24px\"viewBox=\"0 0 24 24\"\n",
              "       width=\"24px\">\n",
              "    <path d=\"M0 0h24v24H0V0z\" fill=\"none\"/>\n",
              "    <path d=\"M18.56 5.44l.94 2.06.94-2.06 2.06-.94-2.06-.94-.94-2.06-.94 2.06-2.06.94zm-11 1L8.5 8.5l.94-2.06 2.06-.94-2.06-.94L8.5 2.5l-.94 2.06-2.06.94zm10 10l.94 2.06.94-2.06 2.06-.94-2.06-.94-.94-2.06-.94 2.06-2.06.94z\"/><path d=\"M17.41 7.96l-1.37-1.37c-.4-.4-.92-.59-1.43-.59-.52 0-1.04.2-1.43.59L10.3 9.45l-7.72 7.72c-.78.78-.78 2.05 0 2.83L4 21.41c.39.39.9.59 1.41.59.51 0 1.02-.2 1.41-.59l7.78-7.78 2.81-2.81c.8-.78.8-2.07 0-2.86zM5.41 20L4 18.59l7.72-7.72 1.47 1.35L5.41 20z\"/>\n",
              "  </svg>\n",
              "      </button>\n",
              "      \n",
              "  <style>\n",
              "    .colab-df-container {\n",
              "      display:flex;\n",
              "      flex-wrap:wrap;\n",
              "      gap: 12px;\n",
              "    }\n",
              "\n",
              "    .colab-df-convert {\n",
              "      background-color: #E8F0FE;\n",
              "      border: none;\n",
              "      border-radius: 50%;\n",
              "      cursor: pointer;\n",
              "      display: none;\n",
              "      fill: #1967D2;\n",
              "      height: 32px;\n",
              "      padding: 0 0 0 0;\n",
              "      width: 32px;\n",
              "    }\n",
              "\n",
              "    .colab-df-convert:hover {\n",
              "      background-color: #E2EBFA;\n",
              "      box-shadow: 0px 1px 2px rgba(60, 64, 67, 0.3), 0px 1px 3px 1px rgba(60, 64, 67, 0.15);\n",
              "      fill: #174EA6;\n",
              "    }\n",
              "\n",
              "    [theme=dark] .colab-df-convert {\n",
              "      background-color: #3B4455;\n",
              "      fill: #D2E3FC;\n",
              "    }\n",
              "\n",
              "    [theme=dark] .colab-df-convert:hover {\n",
              "      background-color: #434B5C;\n",
              "      box-shadow: 0px 1px 3px 1px rgba(0, 0, 0, 0.15);\n",
              "      filter: drop-shadow(0px 1px 2px rgba(0, 0, 0, 0.3));\n",
              "      fill: #FFFFFF;\n",
              "    }\n",
              "  </style>\n",
              "\n",
              "      <script>\n",
              "        const buttonEl =\n",
              "          document.querySelector('#df-b334f5da-2075-4cf5-ab13-9663ff01ca80 button.colab-df-convert');\n",
              "        buttonEl.style.display =\n",
              "          google.colab.kernel.accessAllowed ? 'block' : 'none';\n",
              "\n",
              "        async function convertToInteractive(key) {\n",
              "          const element = document.querySelector('#df-b334f5da-2075-4cf5-ab13-9663ff01ca80');\n",
              "          const dataTable =\n",
              "            await google.colab.kernel.invokeFunction('convertToInteractive',\n",
              "                                                     [key], {});\n",
              "          if (!dataTable) return;\n",
              "\n",
              "          const docLinkHtml = 'Like what you see? Visit the ' +\n",
              "            '<a target=\"_blank\" href=https://colab.research.google.com/notebooks/data_table.ipynb>data table notebook</a>'\n",
              "            + ' to learn more about interactive tables.';\n",
              "          element.innerHTML = '';\n",
              "          dataTable['output_type'] = 'display_data';\n",
              "          await google.colab.output.renderOutput(dataTable, element);\n",
              "          const docLink = document.createElement('div');\n",
              "          docLink.innerHTML = docLinkHtml;\n",
              "          element.appendChild(docLink);\n",
              "        }\n",
              "      </script>\n",
              "    </div>\n",
              "  </div>\n",
              "  "
            ]
          },
          "metadata": {},
          "execution_count": 640
        }
      ]
    },
    {
      "cell_type": "code",
      "source": [
        "x2= df3.iloc[ : , 0:1].values\n",
        "y2= df3.iloc[ : , 1].values"
      ],
      "metadata": {
        "id": "9YUbp0_tXFGk"
      },
      "execution_count": null,
      "outputs": []
    },
    {
      "cell_type": "code",
      "source": [
        "#deve-se escolher o melhor parametro de regularização(Alpha)\n",
        "modelo_elastic = ElasticNet(alpha= 0.001, l1_ratio=0.9999)\n",
        "modelo_elastic.fit(x2, y2)\n",
        "modelo_elastic.score(x2, y2)"
      ],
      "metadata": {
        "colab": {
          "base_uri": "https://localhost:8080/"
        },
        "id": "4jGJ0DHRXKRl",
        "outputId": "7a96066a-3b69-4b15-9196-2d4a94ac1aac"
      },
      "execution_count": null,
      "outputs": [
        {
          "output_type": "execute_result",
          "data": {
            "text/plain": [
              "0.8371060291239523"
            ]
          },
          "metadata": {},
          "execution_count": 642
        }
      ]
    },
    {
      "cell_type": "code",
      "source": [
        "modelo_elastic.intercept_"
      ],
      "metadata": {
        "colab": {
          "base_uri": "https://localhost:8080/"
        },
        "id": "8q2fO35OX-lM",
        "outputId": "a8753ce3-1de3-42ce-ab92-53616988ff5c"
      },
      "execution_count": null,
      "outputs": [
        {
          "output_type": "execute_result",
          "data": {
            "text/plain": [
              "948.4751898885793"
            ]
          },
          "metadata": {},
          "execution_count": 643
        }
      ]
    },
    {
      "cell_type": "code",
      "source": [
        "modelo_elastic.coef_"
      ],
      "metadata": {
        "colab": {
          "base_uri": "https://localhost:8080/"
        },
        "id": "h6h3UYfmYLbC",
        "outputId": "62566276-8261-459c-f48c-cb86b85e85bc"
      },
      "execution_count": null,
      "outputs": [
        {
          "output_type": "execute_result",
          "data": {
            "text/plain": [
              "array([-47.52956822])"
            ]
          },
          "metadata": {},
          "execution_count": 644
        }
      ]
    },
    {
      "cell_type": "markdown",
      "source": [
        "pH meio aquoso = 948.45227 - 47.52591*Valores_Analogicos_Sensor_pH"
      ],
      "metadata": {
        "id": "3Y07_uvLYRNd"
      }
    },
    {
      "cell_type": "code",
      "source": [
        "previsaoelastic = modelo_elastic.predict(x2)"
      ],
      "metadata": {
        "id": "1GcF_IeVYpMm"
      },
      "execution_count": null,
      "outputs": []
    },
    {
      "cell_type": "code",
      "source": [
        "df3['previsaoelastic'] = modelo_elastic.predict(x2)"
      ],
      "metadata": {
        "id": "Yk8ta4phZGvS"
      },
      "execution_count": null,
      "outputs": []
    },
    {
      "cell_type": "code",
      "source": [
        "df3['erro_abs'] = abs (df3.Valores_Analogicos_Sensor_pH - df3.previsaoelastic)"
      ],
      "metadata": {
        "id": "LZfyrnxFZRwM"
      },
      "execution_count": null,
      "outputs": []
    },
    {
      "cell_type": "code",
      "source": [
        "df3"
      ],
      "metadata": {
        "colab": {
          "base_uri": "https://localhost:8080/",
          "height": 424
        },
        "id": "O_FO11T8ZxaE",
        "outputId": "abc97607-ebd3-4123-dcdd-5850b79c29bf"
      },
      "execution_count": null,
      "outputs": [
        {
          "output_type": "execute_result",
          "data": {
            "text/plain": [
              "    pH_Meio_Aquoso  Valores_Analogicos_Sensor_pH  previsaoelastic   erro_abs\n",
              "0              5.1                        711.00       706.074392   4.925608\n",
              "1              4.5                        724.00       734.592133  10.592133\n",
              "2              7.0                        601.00       615.768212  14.768212\n",
              "3              4.2                        763.50       748.851003  14.648997\n",
              "4              6.1                        645.25       658.544824  13.294824\n",
              "..             ...                           ...              ...        ...\n",
              "73             7.5                        644.10       592.003428  52.096572\n",
              "74             7.0                        609.40       615.768212   6.368212\n",
              "75             7.3                        578.80       601.509342  22.709342\n",
              "76             6.1                        650.50       658.544824   8.044824\n",
              "77             5.8                        633.00       672.803694  39.803694\n",
              "\n",
              "[77 rows x 4 columns]"
            ],
            "text/html": [
              "\n",
              "  <div id=\"df-cbfff0bd-e64f-4529-93c2-91aee277046a\">\n",
              "    <div class=\"colab-df-container\">\n",
              "      <div>\n",
              "<style scoped>\n",
              "    .dataframe tbody tr th:only-of-type {\n",
              "        vertical-align: middle;\n",
              "    }\n",
              "\n",
              "    .dataframe tbody tr th {\n",
              "        vertical-align: top;\n",
              "    }\n",
              "\n",
              "    .dataframe thead th {\n",
              "        text-align: right;\n",
              "    }\n",
              "</style>\n",
              "<table border=\"1\" class=\"dataframe\">\n",
              "  <thead>\n",
              "    <tr style=\"text-align: right;\">\n",
              "      <th></th>\n",
              "      <th>pH_Meio_Aquoso</th>\n",
              "      <th>Valores_Analogicos_Sensor_pH</th>\n",
              "      <th>previsaoelastic</th>\n",
              "      <th>erro_abs</th>\n",
              "    </tr>\n",
              "  </thead>\n",
              "  <tbody>\n",
              "    <tr>\n",
              "      <th>0</th>\n",
              "      <td>5.1</td>\n",
              "      <td>711.00</td>\n",
              "      <td>706.074392</td>\n",
              "      <td>4.925608</td>\n",
              "    </tr>\n",
              "    <tr>\n",
              "      <th>1</th>\n",
              "      <td>4.5</td>\n",
              "      <td>724.00</td>\n",
              "      <td>734.592133</td>\n",
              "      <td>10.592133</td>\n",
              "    </tr>\n",
              "    <tr>\n",
              "      <th>2</th>\n",
              "      <td>7.0</td>\n",
              "      <td>601.00</td>\n",
              "      <td>615.768212</td>\n",
              "      <td>14.768212</td>\n",
              "    </tr>\n",
              "    <tr>\n",
              "      <th>3</th>\n",
              "      <td>4.2</td>\n",
              "      <td>763.50</td>\n",
              "      <td>748.851003</td>\n",
              "      <td>14.648997</td>\n",
              "    </tr>\n",
              "    <tr>\n",
              "      <th>4</th>\n",
              "      <td>6.1</td>\n",
              "      <td>645.25</td>\n",
              "      <td>658.544824</td>\n",
              "      <td>13.294824</td>\n",
              "    </tr>\n",
              "    <tr>\n",
              "      <th>...</th>\n",
              "      <td>...</td>\n",
              "      <td>...</td>\n",
              "      <td>...</td>\n",
              "      <td>...</td>\n",
              "    </tr>\n",
              "    <tr>\n",
              "      <th>73</th>\n",
              "      <td>7.5</td>\n",
              "      <td>644.10</td>\n",
              "      <td>592.003428</td>\n",
              "      <td>52.096572</td>\n",
              "    </tr>\n",
              "    <tr>\n",
              "      <th>74</th>\n",
              "      <td>7.0</td>\n",
              "      <td>609.40</td>\n",
              "      <td>615.768212</td>\n",
              "      <td>6.368212</td>\n",
              "    </tr>\n",
              "    <tr>\n",
              "      <th>75</th>\n",
              "      <td>7.3</td>\n",
              "      <td>578.80</td>\n",
              "      <td>601.509342</td>\n",
              "      <td>22.709342</td>\n",
              "    </tr>\n",
              "    <tr>\n",
              "      <th>76</th>\n",
              "      <td>6.1</td>\n",
              "      <td>650.50</td>\n",
              "      <td>658.544824</td>\n",
              "      <td>8.044824</td>\n",
              "    </tr>\n",
              "    <tr>\n",
              "      <th>77</th>\n",
              "      <td>5.8</td>\n",
              "      <td>633.00</td>\n",
              "      <td>672.803694</td>\n",
              "      <td>39.803694</td>\n",
              "    </tr>\n",
              "  </tbody>\n",
              "</table>\n",
              "<p>77 rows × 4 columns</p>\n",
              "</div>\n",
              "      <button class=\"colab-df-convert\" onclick=\"convertToInteractive('df-cbfff0bd-e64f-4529-93c2-91aee277046a')\"\n",
              "              title=\"Convert this dataframe to an interactive table.\"\n",
              "              style=\"display:none;\">\n",
              "        \n",
              "  <svg xmlns=\"http://www.w3.org/2000/svg\" height=\"24px\"viewBox=\"0 0 24 24\"\n",
              "       width=\"24px\">\n",
              "    <path d=\"M0 0h24v24H0V0z\" fill=\"none\"/>\n",
              "    <path d=\"M18.56 5.44l.94 2.06.94-2.06 2.06-.94-2.06-.94-.94-2.06-.94 2.06-2.06.94zm-11 1L8.5 8.5l.94-2.06 2.06-.94-2.06-.94L8.5 2.5l-.94 2.06-2.06.94zm10 10l.94 2.06.94-2.06 2.06-.94-2.06-.94-.94-2.06-.94 2.06-2.06.94z\"/><path d=\"M17.41 7.96l-1.37-1.37c-.4-.4-.92-.59-1.43-.59-.52 0-1.04.2-1.43.59L10.3 9.45l-7.72 7.72c-.78.78-.78 2.05 0 2.83L4 21.41c.39.39.9.59 1.41.59.51 0 1.02-.2 1.41-.59l7.78-7.78 2.81-2.81c.8-.78.8-2.07 0-2.86zM5.41 20L4 18.59l7.72-7.72 1.47 1.35L5.41 20z\"/>\n",
              "  </svg>\n",
              "      </button>\n",
              "      \n",
              "  <style>\n",
              "    .colab-df-container {\n",
              "      display:flex;\n",
              "      flex-wrap:wrap;\n",
              "      gap: 12px;\n",
              "    }\n",
              "\n",
              "    .colab-df-convert {\n",
              "      background-color: #E8F0FE;\n",
              "      border: none;\n",
              "      border-radius: 50%;\n",
              "      cursor: pointer;\n",
              "      display: none;\n",
              "      fill: #1967D2;\n",
              "      height: 32px;\n",
              "      padding: 0 0 0 0;\n",
              "      width: 32px;\n",
              "    }\n",
              "\n",
              "    .colab-df-convert:hover {\n",
              "      background-color: #E2EBFA;\n",
              "      box-shadow: 0px 1px 2px rgba(60, 64, 67, 0.3), 0px 1px 3px 1px rgba(60, 64, 67, 0.15);\n",
              "      fill: #174EA6;\n",
              "    }\n",
              "\n",
              "    [theme=dark] .colab-df-convert {\n",
              "      background-color: #3B4455;\n",
              "      fill: #D2E3FC;\n",
              "    }\n",
              "\n",
              "    [theme=dark] .colab-df-convert:hover {\n",
              "      background-color: #434B5C;\n",
              "      box-shadow: 0px 1px 3px 1px rgba(0, 0, 0, 0.15);\n",
              "      filter: drop-shadow(0px 1px 2px rgba(0, 0, 0, 0.3));\n",
              "      fill: #FFFFFF;\n",
              "    }\n",
              "  </style>\n",
              "\n",
              "      <script>\n",
              "        const buttonEl =\n",
              "          document.querySelector('#df-cbfff0bd-e64f-4529-93c2-91aee277046a button.colab-df-convert');\n",
              "        buttonEl.style.display =\n",
              "          google.colab.kernel.accessAllowed ? 'block' : 'none';\n",
              "\n",
              "        async function convertToInteractive(key) {\n",
              "          const element = document.querySelector('#df-cbfff0bd-e64f-4529-93c2-91aee277046a');\n",
              "          const dataTable =\n",
              "            await google.colab.kernel.invokeFunction('convertToInteractive',\n",
              "                                                     [key], {});\n",
              "          if (!dataTable) return;\n",
              "\n",
              "          const docLinkHtml = 'Like what you see? Visit the ' +\n",
              "            '<a target=\"_blank\" href=https://colab.research.google.com/notebooks/data_table.ipynb>data table notebook</a>'\n",
              "            + ' to learn more about interactive tables.';\n",
              "          element.innerHTML = '';\n",
              "          dataTable['output_type'] = 'display_data';\n",
              "          await google.colab.output.renderOutput(dataTable, element);\n",
              "          const docLink = document.createElement('div');\n",
              "          docLink.innerHTML = docLinkHtml;\n",
              "          element.appendChild(docLink);\n",
              "        }\n",
              "      </script>\n",
              "    </div>\n",
              "  </div>\n",
              "  "
            ]
          },
          "metadata": {},
          "execution_count": 648
        }
      ]
    },
    {
      "cell_type": "code",
      "source": [
        "#Erro Absoluto Médio(MAE)\n",
        "from sklearn.metrics import mean_absolute_error\n",
        "mean_absolute_error(df3.Valores_Analogicos_Sensor_pH, df3.previsaoelastic)"
      ],
      "metadata": {
        "colab": {
          "base_uri": "https://localhost:8080/"
        },
        "id": "D0ZgVwAEZ0N6",
        "outputId": "d46dc607-1449-4263-dad2-302c360d6665"
      },
      "execution_count": null,
      "outputs": [
        {
          "output_type": "execute_result",
          "data": {
            "text/plain": [
              "18.050404972045815"
            ]
          },
          "metadata": {},
          "execution_count": 649
        }
      ]
    },
    {
      "cell_type": "code",
      "source": [
        "#Erro médio Quadrático(MSE)\n",
        "from sklearn.metrics import mean_squared_error\n",
        "mean_squared_error(df3.Valores_Analogicos_Sensor_pH, df3.previsaoelastic)"
      ],
      "metadata": {
        "colab": {
          "base_uri": "https://localhost:8080/"
        },
        "id": "-U0fLHeTZ88P",
        "outputId": "e4853935-b284-49c3-9d0d-a17e8a8d8dc7"
      },
      "execution_count": null,
      "outputs": [
        {
          "output_type": "execute_result",
          "data": {
            "text/plain": [
              "564.5768839939781"
            ]
          },
          "metadata": {},
          "execution_count": 650
        }
      ]
    },
    {
      "cell_type": "markdown",
      "source": [
        "##pH medição direta x valores analogicos sensor pH\n",
        "**Regressão Linear com Anova**\n",
        "\n",
        "teste entre pH medição direta  e Valores analogicos sensor de pH\n",
        "\n",
        "H0 -> Não há nenhuma associação entre o termo e a resposta (pH_Meio_Aquoso).\n",
        "\n",
        "H1 -> Há uma associação entre o termo e a resposta (pH_Meio_Aquoso).\n",
        "\n",
        "Valor-p ≤ α: a associação é estatisticamente significativa Se o valor-p for menor ou igual ao nível de significância, é possível concluir que há uma associação estatisticamente significativa entre a variável de resposta e o termo.\n",
        "\n",
        "Valor-p > α: a associação não é estatisticamente significativa Se o valor-p for maior ou igual ao nível de significância, não é possível concluir que há uma associação estatisticamente significativa entre a variável de resposta e o termo. Talvez seja necessário reajustar o modelo sem o termo."
      ],
      "metadata": {
        "id": "MxnOnsAtBIHg"
      }
    },
    {
      "cell_type": "code",
      "source": [
        "#Regressão Linear com Anova\n",
        "import statsmodels.api as sm\n",
        "from statsmodels.formula.api import ols\n",
        "regressao2 = ols('pH_Medida_Direta_Akso~Valores_Analogicos_Sensor_pH', data=df).fit() #relação da variável de entrada e verificar sua influência sobre a variável de destino. \n",
        "anova_table = sm.stats.anova_lm(regressao2, typ=2)#aplicou anova no modelo\n",
        "print(anova_table)"
      ],
      "metadata": {
        "colab": {
          "base_uri": "https://localhost:8080/"
        },
        "id": "8mWR38djHu0g",
        "outputId": "fcefb6be-7a77-4500-b56d-f04ffb893d05"
      },
      "execution_count": null,
      "outputs": [
        {
          "output_type": "stream",
          "name": "stdout",
          "text": [
            "                                sum_sq    df           F        PR(>F)\n",
            "Valores_Analogicos_Sensor_pH  66.31202   1.0  393.858555  1.414077e-31\n",
            "Residual                      12.62738  75.0         NaN           NaN\n"
          ]
        }
      ]
    },
    {
      "cell_type": "code",
      "source": [
        "print(f\"Overall model F({regressao2.df_model: .0f},{regressao2.df_resid: .0f}) = {regressao2.fvalue: .3f}, p = {regressao2.f_pvalue: .4f}\")\n",
        "print(regressao2.summary())"
      ],
      "metadata": {
        "colab": {
          "base_uri": "https://localhost:8080/"
        },
        "id": "wkK1EiWRH5Pe",
        "outputId": "2d491f17-f262-49cf-b267-169d90de2d19"
      },
      "execution_count": null,
      "outputs": [
        {
          "output_type": "stream",
          "name": "stdout",
          "text": [
            "Overall model F( 1, 75) =  393.859, p =  0.0000\n",
            "                              OLS Regression Results                             \n",
            "=================================================================================\n",
            "Dep. Variable:     pH_Medida_Direta_Akso   R-squared:                       0.840\n",
            "Model:                               OLS   Adj. R-squared:                  0.838\n",
            "Method:                    Least Squares   F-statistic:                     393.9\n",
            "Date:                   Fri, 15 Apr 2022   Prob (F-statistic):           1.41e-31\n",
            "Time:                           04:34:39   Log-Likelihood:                -39.653\n",
            "No. Observations:                     77   AIC:                             83.31\n",
            "Df Residuals:                         75   BIC:                             87.99\n",
            "Df Model:                              1                                         \n",
            "Covariance Type:               nonrobust                                         \n",
            "================================================================================================\n",
            "                                   coef    std err          t      P>|t|      [0.025      0.975]\n",
            "------------------------------------------------------------------------------------------------\n",
            "Intercept                       16.6952      0.519     32.177      0.000      15.662      17.729\n",
            "Valores_Analogicos_Sensor_pH    -0.0158      0.001    -19.846      0.000      -0.017      -0.014\n",
            "==============================================================================\n",
            "Omnibus:                        1.812   Durbin-Watson:                   1.663\n",
            "Prob(Omnibus):                  0.404   Jarque-Bera (JB):                1.687\n",
            "Skew:                           0.257   Prob(JB):                        0.430\n",
            "Kurtosis:                       2.489   Cond. No.                     7.25e+03\n",
            "==============================================================================\n",
            "\n",
            "Warnings:\n",
            "[1] Standard Errors assume that the covariance matrix of the errors is correctly specified.\n",
            "[2] The condition number is large, 7.25e+03. This might indicate that there are\n",
            "strong multicollinearity or other numerical problems.\n"
          ]
        }
      ]
    },
    {
      "cell_type": "markdown",
      "source": [
        "**Validação do Modelo de Regressão Linear com Anova**\n",
        "\n",
        "**Analise dos Residuos**"
      ],
      "metadata": {
        "id": "wdzN7I2kIQez"
      }
    },
    {
      "cell_type": "code",
      "source": [
        "# listagem de residuos(distancia que o ponto está da reta)\n",
        "residuos2 = regressao2.resid\n",
        "residuos2"
      ],
      "metadata": {
        "colab": {
          "base_uri": "https://localhost:8080/"
        },
        "id": "HobcuTvNIR7f",
        "outputId": "aba305c9-d91d-4ee0-8275-cdb9037a666e"
      },
      "execution_count": null,
      "outputs": [
        {
          "output_type": "execute_result",
          "data": {
            "text/plain": [
              "0     0.942374\n",
              "1     0.557294\n",
              "2     0.578433\n",
              "3    -0.250063\n",
              "4    -0.094050\n",
              "        ...   \n",
              "73    0.187822\n",
              "74   -0.119157\n",
              "75   -0.061508\n",
              "76    0.268706\n",
              "77    0.242852\n",
              "Length: 77, dtype: float64"
            ]
          },
          "metadata": {},
          "execution_count": 653
        }
      ]
    },
    {
      "cell_type": "markdown",
      "source": [
        "**Teste de normalidade dos resíduos** \n",
        "\n",
        "H0 = distribuição normal: p>0.05\n",
        "\n",
        "Ha = distribuição não normal: p<=0.05"
      ],
      "metadata": {
        "id": "HTPzZCYGIenu"
      }
    },
    {
      "cell_type": "code",
      "source": [
        "estatistica, p= stats.shapiro(residuos2)\n",
        "print('Estatística de Teste: {}' .format(estatistica))\n",
        "print('p-valor: {}'.format(p))"
      ],
      "metadata": {
        "colab": {
          "base_uri": "https://localhost:8080/"
        },
        "id": "4gLlXi1wIZPc",
        "outputId": "4e4b2916-4b25-4bd9-bbe5-46b6adf7edce"
      },
      "execution_count": null,
      "outputs": [
        {
          "output_type": "stream",
          "name": "stdout",
          "text": [
            "Estatística de Teste: 0.9846802353858948\n",
            "p-valor: 0.48347944021224976\n"
          ]
        }
      ]
    },
    {
      "cell_type": "code",
      "source": [
        "#Q-Q plot\n",
        "stats.probplot(residuos2, dist='norm', plot=plt)\n",
        "plt.title('Normal Q-Q Plot - Resíduos')\n",
        "plt.show()"
      ],
      "metadata": {
        "colab": {
          "base_uri": "https://localhost:8080/",
          "height": 527
        },
        "id": "F9gLadzjIoFp",
        "outputId": "f0dea812-e395-44c5-9520-0a2497745885"
      },
      "execution_count": null,
      "outputs": [
        {
          "output_type": "display_data",
          "data": {
            "text/plain": [
              "<Figure size 1058.4x595.44 with 1 Axes>"
            ],
            "image/png": "[encoded data removed]"
          },
          "metadata": {
            "needs_background": "light"
          }
        }
      ]
    },
    {
      "cell_type": "markdown",
      "source": [
        "**Analise de Homocedasticidade dos resíduos** \n",
        "\n",
        "Saber se os resíduos são homogeneos"
      ],
      "metadata": {
        "id": "CQ5QPRhjI63z"
      }
    },
    {
      "cell_type": "code",
      "source": [
        "plt.scatter(y=residuos2 ,x=regressao2.predict(), color='red')\n",
        "plt.hlines(y=0, xmin=3, xmax=9, color='orange')\n",
        "plt.ylabel('Resíduos')\n",
        "plt.xlabel('Valores Preditos')\n",
        "plt.show()"
      ],
      "metadata": {
        "colab": {
          "base_uri": "https://localhost:8080/",
          "height": 511
        },
        "id": "Q85QkFT8JCnD",
        "outputId": "09f0bcf5-1dba-4b01-c375-adf5a0801745"
      },
      "execution_count": null,
      "outputs": [
        {
          "output_type": "display_data",
          "data": {
            "text/plain": [
              "<Figure size 1058.4x595.44 with 1 Axes>"
            ],
            "image/png": "[encoded data removed]"
          },
          "metadata": {
            "needs_background": "light"
          }
        }
      ]
    },
    {
      "cell_type": "markdown",
      "source": [
        "Teste Breusch-Pagan(Homocedastiscidade ou Heterocedastiscidade)\n",
        "\n",
        "Ho = Existe Homocedastiscidade: p> 0.05 Ha = Não existe Homocedastiscidade: p<= 0.05"
      ],
      "metadata": {
        "id": "XgDUEEW5JGsY"
      }
    },
    {
      "cell_type": "code",
      "source": [
        "estatistica, p, f, fp=sms.het_breuschpagan(regressao2.resid, regressao2.model.exog)\n",
        "print('Estatistica do teste: {}' .format(estatistica))\n",
        "print('p-valor: {}' .format(p))\n",
        "print('f-valor: {}' .format(f))\n",
        "print('f_p-valor: {}' .format(fp))"
      ],
      "metadata": {
        "colab": {
          "base_uri": "https://localhost:8080/"
        },
        "id": "IC0eZqAQJZ1o",
        "outputId": "25246bc2-36ae-4b65-8845-5e34a449e25f"
      },
      "execution_count": null,
      "outputs": [
        {
          "output_type": "stream",
          "name": "stdout",
          "text": [
            "Estatistica do teste: 1.0493224382547832\n",
            "p-valor: 0.3056631870189509\n",
            "f-valor: 1.0361880288049996\n",
            "f_p-valor: 0.3119822033799199\n"
          ]
        }
      ]
    },
    {
      "cell_type": "markdown",
      "source": [
        "p-valor = 0.45. então p>0.05. significa que tem Homocedastiscidade"
      ],
      "metadata": {
        "id": "7lWpoQjzJomi"
      }
    },
    {
      "cell_type": "markdown",
      "source": [
        "**Outleires nos resíduos** \n",
        "\n",
        "(Entre -3 e 3)"
      ],
      "metadata": {
        "id": "o60KIQ7EJvH2"
      }
    },
    {
      "cell_type": "code",
      "source": [
        "outliers2= regressao2.outlier_test()"
      ],
      "metadata": {
        "id": "MK-hO19kJ01Q"
      },
      "execution_count": null,
      "outputs": []
    },
    {
      "cell_type": "code",
      "source": [
        "outliers2.max()"
      ],
      "metadata": {
        "colab": {
          "base_uri": "https://localhost:8080/"
        },
        "id": "2WOwp5zuJ24w",
        "outputId": "2c1cd010-34df-4913-fa95-d37d78247dc6"
      },
      "execution_count": null,
      "outputs": [
        {
          "output_type": "execute_result",
          "data": {
            "text/plain": [
              "student_resid    2.400696\n",
              "unadj_p          0.996484\n",
              "bonf(p)          1.000000\n",
              "dtype: float64"
            ]
          },
          "metadata": {},
          "execution_count": 659
        }
      ]
    },
    {
      "cell_type": "code",
      "source": [
        "outliers.min()"
      ],
      "metadata": {
        "colab": {
          "base_uri": "https://localhost:8080/"
        },
        "id": "2hoBmq2_J8Hq",
        "outputId": "e2999a86-6e52-4886-97d0-8aa641028b6e"
      },
      "execution_count": null,
      "outputs": [
        {
          "output_type": "execute_result",
          "data": {
            "text/plain": [
              "student_resid   -2.817829\n",
              "unadj_p          0.006197\n",
              "bonf(p)          0.477189\n",
              "dtype: float64"
            ]
          },
          "metadata": {},
          "execution_count": 660
        }
      ]
    },
    {
      "cell_type": "markdown",
      "source": [
        "Portanto o modelo passou no teste de Normalidade, Homocedasticidade e Outleires de Resíduos, portanto o modelo é aprovado"
      ],
      "metadata": {
        "id": "R83U9L-KKEwk"
      }
    },
    {
      "cell_type": "code",
      "source": [
        "print(regressao2.summary())"
      ],
      "metadata": {
        "colab": {
          "base_uri": "https://localhost:8080/"
        },
        "id": "oyt3UP8AKT5P",
        "outputId": "e0da989d-fdd5-4ae6-c5f2-c1258d3da3f2"
      },
      "execution_count": null,
      "outputs": [
        {
          "output_type": "stream",
          "name": "stdout",
          "text": [
            "                              OLS Regression Results                             \n",
            "=================================================================================\n",
            "Dep. Variable:     pH_Medida_Direta_Akso   R-squared:                       0.840\n",
            "Model:                               OLS   Adj. R-squared:                  0.838\n",
            "Method:                    Least Squares   F-statistic:                     393.9\n",
            "Date:                   Fri, 15 Apr 2022   Prob (F-statistic):           1.41e-31\n",
            "Time:                           04:34:39   Log-Likelihood:                -39.653\n",
            "No. Observations:                     77   AIC:                             83.31\n",
            "Df Residuals:                         75   BIC:                             87.99\n",
            "Df Model:                              1                                         \n",
            "Covariance Type:               nonrobust                                         \n",
            "================================================================================================\n",
            "                                   coef    std err          t      P>|t|      [0.025      0.975]\n",
            "------------------------------------------------------------------------------------------------\n",
            "Intercept                       16.6952      0.519     32.177      0.000      15.662      17.729\n",
            "Valores_Analogicos_Sensor_pH    -0.0158      0.001    -19.846      0.000      -0.017      -0.014\n",
            "==============================================================================\n",
            "Omnibus:                        1.812   Durbin-Watson:                   1.663\n",
            "Prob(Omnibus):                  0.404   Jarque-Bera (JB):                1.687\n",
            "Skew:                           0.257   Prob(JB):                        0.430\n",
            "Kurtosis:                       2.489   Cond. No.                     7.25e+03\n",
            "==============================================================================\n",
            "\n",
            "Warnings:\n",
            "[1] Standard Errors assume that the covariance matrix of the errors is correctly specified.\n",
            "[2] The condition number is large, 7.25e+03. This might indicate that there are\n",
            "strong multicollinearity or other numerical problems.\n"
          ]
        }
      ]
    },
    {
      "cell_type": "code",
      "source": [
        "#coeficientes\n",
        "import pandas as pd\n",
        "coefs = pd.DataFrame(regressao2.params)\n",
        "coefs.columns = ['Coeficientes']\n",
        "print(coefs)"
      ],
      "metadata": {
        "colab": {
          "base_uri": "https://localhost:8080/"
        },
        "id": "z7Ca5yvvKcmv",
        "outputId": "5df683eb-8be5-49fb-b1ca-76198b1f0120"
      },
      "execution_count": null,
      "outputs": [
        {
          "output_type": "stream",
          "name": "stdout",
          "text": [
            "                              Coeficientes\n",
            "Intercept                        16.695193\n",
            "Valores_Analogicos_Sensor_pH     -0.015763\n"
          ]
        }
      ]
    },
    {
      "cell_type": "markdown",
      "source": [
        "Equação(Regressão Linear com Anova): pH_Medida_Direta_Akso = 16.695 -0.015763*Valores_Analogicos_Sensor_pH"
      ],
      "metadata": {
        "id": "yEFdvSVoKd6t"
      }
    },
    {
      "cell_type": "code",
      "source": [
        "#previsões usando modelo e equação gerada  pH(meio aquoso) = 17.7256 - 0.0176*Valores_Analogicos_Sensor_pH\n",
        "regressao2.predict()"
      ],
      "metadata": {
        "colab": {
          "base_uri": "https://localhost:8080/"
        },
        "id": "DUXWmfcZLAqn",
        "outputId": "93cff0fa-0783-49ec-e282-839809b67ce5"
      },
      "execution_count": null,
      "outputs": [
        {
          "output_type": "execute_result",
          "data": {
            "text/plain": [
              "array([5.48762604, 5.2827057 , 7.22156742, 4.66006311, 6.5240501 ,\n",
              "       5.86594053, 5.98889273, 6.41764915, 5.69522612, 7.74805508,\n",
              "       5.01867372, 6.4412938 , 5.45609984, 7.81110749, 7.18215967,\n",
              "       7.38392739, 5.29531618, 6.67616404, 5.8312617 , 5.6326466 ,\n",
              "       6.26789966, 6.17174473, 5.32053715, 5.5270338 , 5.68466484,\n",
              "       6.78492946, 6.86532129, 5.76505666, 5.32999501, 6.4412938 ,\n",
              "       6.55951708, 6.23952608, 5.64052815, 5.88800887, 7.71652887,\n",
              "       7.65111199, 6.61153532, 8.18311674, 6.56582232, 7.80795487,\n",
              "       6.3955808 , 5.20389018, 4.99896984, 5.88800887, 6.36247829,\n",
              "       7.95612805, 5.12980359, 6.81487935, 7.06787717, 6.64463784,\n",
              "       7.55574522, 4.28174863, 6.87320284, 6.81172673, 7.30511187,\n",
              "       5.19758494, 5.14714301, 7.8583968 , 7.72598674, 6.77389529,\n",
              "       7.13644667, 6.8826607 , 7.03241018, 7.3240276 , 7.66766325,\n",
              "       6.45153982, 4.8413388 , 6.44696852, 5.06517487, 7.91514398,\n",
              "       7.11910725, 7.00088398, 6.54217766, 7.08915736, 7.57150832,\n",
              "       6.4412938 , 6.71714811])"
            ]
          },
          "metadata": {},
          "execution_count": 663
        }
      ]
    },
    {
      "cell_type": "code",
      "source": [
        "plt.scatter(y= df.pH_Meio_Aquoso, x=df.Valores_Analogicos_Sensor_pH ,color='green', s=80, alpha=0.9)\n",
        "X_plot = np.linspace(400, 900)\n",
        "plt.plot(X_plot, X_plot*regressao2.params[1] + regressao2.params[0], color='orange')\n",
        "plt.title('Reta de Regressão')\n",
        "plt.ylabel('pH_Meio_Aquoso')\n",
        "plt.xlabel('Valores_Analogicos_Sensor_pH')\n",
        "plt.show()"
      ],
      "metadata": {
        "colab": {
          "base_uri": "https://localhost:8080/",
          "height": 528
        },
        "id": "SjMKgS6nLIBR",
        "outputId": "d0548ec2-0c4f-40ac-9b85-84bd9374c850"
      },
      "execution_count": null,
      "outputs": [
        {
          "output_type": "display_data",
          "data": {
            "text/plain": [
              "<Figure size 1058.4x595.44 with 1 Axes>"
            ],
            "image/png": "[encoded data removed]"
          },
          "metadata": {
            "needs_background": "light"
          }
        }
      ]
    },
    {
      "cell_type": "markdown",
      "source": [
        "#Avaliação do modelo de regressão linear"
      ],
      "metadata": {
        "id": "R9k1f06i-NTc"
      }
    },
    {
      "cell_type": "code",
      "source": [
        "import pandas as pd #para ler e manipular nossos dados\n",
        "from sklearn.linear_model import LinearRegression  #modelo de regressão linear simples\n",
        "from sklearn.model_selection import train_test_split #ferramenta para separar nossos dados\n"
      ],
      "metadata": {
        "id": "kGnA8P8G8-VA"
      },
      "execution_count": 157,
      "outputs": []
    },
    {
      "cell_type": "code",
      "source": [
        "colunas = ['pH_Meio_Aquoso', 'Valores_Analogicos_Sensor_pH']"
      ],
      "metadata": {
        "id": "f-CfvFn-9CuN"
      },
      "execution_count": 158,
      "outputs": []
    },
    {
      "cell_type": "code",
      "source": [
        "X =  df.drop([\"pH_Meio_Aquoso\"],axis = 1) #separando os inputs de nosso target (MEDV->preco da casa)\n",
        "y = df[\"pH_Meio_Aquoso\"] "
      ],
      "metadata": {
        "id": "v-oBhECn9Yx8"
      },
      "execution_count": 159,
      "outputs": []
    },
    {
      "cell_type": "code",
      "source": [
        "#separando em base de treino e teste com 30% dos dados reservados para avaliar \n",
        "X_train, X_test, y_train, y_test = train_test_split(X, y,test_size=0.3, random_state=0) \n"
      ],
      "metadata": {
        "id": "CwriToR09jPf"
      },
      "execution_count": 160,
      "outputs": []
    },
    {
      "cell_type": "code",
      "source": [
        "#definindo o algoritmo utilizado\n",
        "LinearRegressionModel = LinearRegression()"
      ],
      "metadata": {
        "id": "Bx3TfWcp9qRP"
      },
      "execution_count": 161,
      "outputs": []
    },
    {
      "cell_type": "code",
      "source": [
        "#treinando o algoritmo com a base de treino\n",
        "LinearRegressionModel.fit(X_train,y_train)"
      ],
      "metadata": {
        "id": "fj9tjisj9wzs",
        "outputId": "7265a8c7-668a-4d78-e349-38c6b43ffb10",
        "colab": {
          "base_uri": "https://localhost:8080/"
        }
      },
      "execution_count": 162,
      "outputs": [
        {
          "output_type": "execute_result",
          "data": {
            "text/plain": [
              "LinearRegression()"
            ]
          },
          "metadata": {},
          "execution_count": 162
        }
      ]
    },
    {
      "cell_type": "code",
      "source": [
        "#criando a predição que será usada na avalização\n",
        "y_pred = LinearRegressionModel.predict(X_test)"
      ],
      "metadata": {
        "id": "i2551lx59yfT"
      },
      "execution_count": 163,
      "outputs": []
    },
    {
      "cell_type": "code",
      "source": [
        "#R²\n",
        "from sklearn.metrics import r2_score \n",
        "# em metrics, temos quase todas as metricas geralmete utilizadas\n",
        "\n",
        "R2 = r2_score(y_test,y_pred)\n",
        "print(R2)"
      ],
      "metadata": {
        "id": "qeyeZR9S91x3",
        "outputId": "ea00697a-2316-40cb-8a98-4a6c5ffd1fc6",
        "colab": {
          "base_uri": "https://localhost:8080/"
        }
      },
      "execution_count": 164,
      "outputs": [
        {
          "output_type": "stream",
          "name": "stdout",
          "text": [
            "0.8455295992330317\n"
          ]
        }
      ]
    },
    {
      "cell_type": "code",
      "source": [
        "#R² ajustado\n",
        "def adjusted_r2(y_test, y_pred,X_train):\n",
        "    \n",
        "  from sklearn.metrics import r2_score\n",
        "\n",
        "  adj_r2 = (1 - ((1 - r2_score(y_test, y_pred)) * (len(y_test) - 1)) / \n",
        "          (len(y_test) - X_train.shape[1] - 1))\n",
        "    \n",
        "  return adj_r2\n",
        "\n",
        "adjusted_r2(y_test,y_pred,X_train)\n"
      ],
      "metadata": {
        "id": "nmAHFxjx99Ze",
        "outputId": "3a335446-7735-47bb-d8a5-a62d2a3d8643",
        "colab": {
          "base_uri": "https://localhost:8080/"
        }
      },
      "execution_count": 165,
      "outputs": [
        {
          "output_type": "execute_result",
          "data": {
            "text/plain": [
              "0.8308181324933205"
            ]
          },
          "metadata": {},
          "execution_count": 165
        }
      ]
    },
    {
      "cell_type": "code",
      "source": [
        "#MSE\n",
        "\n",
        "from sklearn.metrics import mean_squared_error\n",
        "\n",
        "MSE = mean_squared_error(y_test,y_pred)\n",
        "print(MSE)"
      ],
      "metadata": {
        "id": "gPE3BGRo96Zs",
        "outputId": "33507931-a1ef-4d85-e605-25643e99389b",
        "colab": {
          "base_uri": "https://localhost:8080/"
        }
      },
      "execution_count": 166,
      "outputs": [
        {
          "output_type": "stream",
          "name": "stdout",
          "text": [
            "0.1738837901966919\n"
          ]
        }
      ]
    },
    {
      "cell_type": "code",
      "source": [
        "#MAE\n",
        "from sklearn.metrics import mean_absolute_error\n",
        "\n",
        "MAE = mean_absolute_error(y_test,y_pred)\n",
        "print(MAE)"
      ],
      "metadata": {
        "id": "1z1gU-_P-WXG",
        "outputId": "510e29bf-26ba-4201-a509-c2126f704fd7",
        "colab": {
          "base_uri": "https://localhost:8080/"
        }
      },
      "execution_count": 167,
      "outputs": [
        {
          "output_type": "stream",
          "name": "stdout",
          "text": [
            "0.2745432528626814\n"
          ]
        }
      ]
    },
    {
      "cell_type": "code",
      "source": [
        "# MAPE(exprime uma porcentagem, obtida através da divisão da diferença entre predito (ŷ) e real pelo valor real (y))\n",
        "#significa que, em média, nosso modelo faz previsões que erram por x% do valor real.\n",
        "\n",
        "MAPE = np.mean(np.abs((y_test - y_pred) / y_test)) * 100\n",
        "\n",
        "print(f\"Valor do MAPE dado em percentual: {MAPE}\")"
      ],
      "metadata": {
        "id": "3WBbT263-fgF",
        "outputId": "e81d81ce-2fdc-4575-a670-3b27fd53446f",
        "colab": {
          "base_uri": "https://localhost:8080/"
        }
      },
      "execution_count": 168,
      "outputs": [
        {
          "output_type": "stream",
          "name": "stdout",
          "text": [
            "Valor do MAPE dado em percentual: 4.441066054905214\n"
          ]
        }
      ]
    },
    {
      "cell_type": "markdown",
      "source": [
        "#Regressão de Ridge\n",
        "A regressão Ridge é uma variação da Regressão Linear. queremos minimizar a soma dos resíduos quadrados somada a lambda multiplicado pela soma dos coeficientes ao quadrado. aplicada em variaveis altamente correlacionadas(multicolinearidade."
      ],
      "metadata": {
        "id": "BGnJ3pvablUT"
      }
    },
    {
      "cell_type": "code",
      "source": [
        "df4=df.drop(columns=['pH_Meio_Aquoso'])#apaga a coluna pH medicao aquoso"
      ],
      "metadata": {
        "id": "7VCvCBFRbk37"
      },
      "execution_count": null,
      "outputs": []
    },
    {
      "cell_type": "code",
      "source": [
        "df4.head()"
      ],
      "metadata": {
        "id": "QOVe-V8rb3X3",
        "outputId": "e77c13a2-c2a4-4461-d6dd-189b7d67a5d4",
        "colab": {
          "base_uri": "https://localhost:8080/",
          "height": 206
        }
      },
      "execution_count": null,
      "outputs": [
        {
          "output_type": "execute_result",
          "data": {
            "text/plain": [
              "   pH_Medida_Direta_Akso  Valores_Analogicos_Sensor_pH\n",
              "0                   6.43                        711.00\n",
              "1                   5.84                        724.00\n",
              "2                   7.80                        601.00\n",
              "3                   4.41                        763.50\n",
              "4                   6.43                        645.25"
            ],
            "text/html": [
              "\n",
              "  <div id=\"df-32ce802d-1287-4f40-9fff-f35607f5329c\">\n",
              "    <div class=\"colab-df-container\">\n",
              "      <div>\n",
              "<style scoped>\n",
              "    .dataframe tbody tr th:only-of-type {\n",
              "        vertical-align: middle;\n",
              "    }\n",
              "\n",
              "    .dataframe tbody tr th {\n",
              "        vertical-align: top;\n",
              "    }\n",
              "\n",
              "    .dataframe thead th {\n",
              "        text-align: right;\n",
              "    }\n",
              "</style>\n",
              "<table border=\"1\" class=\"dataframe\">\n",
              "  <thead>\n",
              "    <tr style=\"text-align: right;\">\n",
              "      <th></th>\n",
              "      <th>pH_Medida_Direta_Akso</th>\n",
              "      <th>Valores_Analogicos_Sensor_pH</th>\n",
              "    </tr>\n",
              "  </thead>\n",
              "  <tbody>\n",
              "    <tr>\n",
              "      <th>0</th>\n",
              "      <td>6.43</td>\n",
              "      <td>711.00</td>\n",
              "    </tr>\n",
              "    <tr>\n",
              "      <th>1</th>\n",
              "      <td>5.84</td>\n",
              "      <td>724.00</td>\n",
              "    </tr>\n",
              "    <tr>\n",
              "      <th>2</th>\n",
              "      <td>7.80</td>\n",
              "      <td>601.00</td>\n",
              "    </tr>\n",
              "    <tr>\n",
              "      <th>3</th>\n",
              "      <td>4.41</td>\n",
              "      <td>763.50</td>\n",
              "    </tr>\n",
              "    <tr>\n",
              "      <th>4</th>\n",
              "      <td>6.43</td>\n",
              "      <td>645.25</td>\n",
              "    </tr>\n",
              "  </tbody>\n",
              "</table>\n",
              "</div>\n",
              "      <button class=\"colab-df-convert\" onclick=\"convertToInteractive('df-32ce802d-1287-4f40-9fff-f35607f5329c')\"\n",
              "              title=\"Convert this dataframe to an interactive table.\"\n",
              "              style=\"display:none;\">\n",
              "        \n",
              "  <svg xmlns=\"http://www.w3.org/2000/svg\" height=\"24px\"viewBox=\"0 0 24 24\"\n",
              "       width=\"24px\">\n",
              "    <path d=\"M0 0h24v24H0V0z\" fill=\"none\"/>\n",
              "    <path d=\"M18.56 5.44l.94 2.06.94-2.06 2.06-.94-2.06-.94-.94-2.06-.94 2.06-2.06.94zm-11 1L8.5 8.5l.94-2.06 2.06-.94-2.06-.94L8.5 2.5l-.94 2.06-2.06.94zm10 10l.94 2.06.94-2.06 2.06-.94-2.06-.94-.94-2.06-.94 2.06-2.06.94z\"/><path d=\"M17.41 7.96l-1.37-1.37c-.4-.4-.92-.59-1.43-.59-.52 0-1.04.2-1.43.59L10.3 9.45l-7.72 7.72c-.78.78-.78 2.05 0 2.83L4 21.41c.39.39.9.59 1.41.59.51 0 1.02-.2 1.41-.59l7.78-7.78 2.81-2.81c.8-.78.8-2.07 0-2.86zM5.41 20L4 18.59l7.72-7.72 1.47 1.35L5.41 20z\"/>\n",
              "  </svg>\n",
              "      </button>\n",
              "      \n",
              "  <style>\n",
              "    .colab-df-container {\n",
              "      display:flex;\n",
              "      flex-wrap:wrap;\n",
              "      gap: 12px;\n",
              "    }\n",
              "\n",
              "    .colab-df-convert {\n",
              "      background-color: #E8F0FE;\n",
              "      border: none;\n",
              "      border-radius: 50%;\n",
              "      cursor: pointer;\n",
              "      display: none;\n",
              "      fill: #1967D2;\n",
              "      height: 32px;\n",
              "      padding: 0 0 0 0;\n",
              "      width: 32px;\n",
              "    }\n",
              "\n",
              "    .colab-df-convert:hover {\n",
              "      background-color: #E2EBFA;\n",
              "      box-shadow: 0px 1px 2px rgba(60, 64, 67, 0.3), 0px 1px 3px 1px rgba(60, 64, 67, 0.15);\n",
              "      fill: #174EA6;\n",
              "    }\n",
              "\n",
              "    [theme=dark] .colab-df-convert {\n",
              "      background-color: #3B4455;\n",
              "      fill: #D2E3FC;\n",
              "    }\n",
              "\n",
              "    [theme=dark] .colab-df-convert:hover {\n",
              "      background-color: #434B5C;\n",
              "      box-shadow: 0px 1px 3px 1px rgba(0, 0, 0, 0.15);\n",
              "      filter: drop-shadow(0px 1px 2px rgba(0, 0, 0, 0.3));\n",
              "      fill: #FFFFFF;\n",
              "    }\n",
              "  </style>\n",
              "\n",
              "      <script>\n",
              "        const buttonEl =\n",
              "          document.querySelector('#df-32ce802d-1287-4f40-9fff-f35607f5329c button.colab-df-convert');\n",
              "        buttonEl.style.display =\n",
              "          google.colab.kernel.accessAllowed ? 'block' : 'none';\n",
              "\n",
              "        async function convertToInteractive(key) {\n",
              "          const element = document.querySelector('#df-32ce802d-1287-4f40-9fff-f35607f5329c');\n",
              "          const dataTable =\n",
              "            await google.colab.kernel.invokeFunction('convertToInteractive',\n",
              "                                                     [key], {});\n",
              "          if (!dataTable) return;\n",
              "\n",
              "          const docLinkHtml = 'Like what you see? Visit the ' +\n",
              "            '<a target=\"_blank\" href=https://colab.research.google.com/notebooks/data_table.ipynb>data table notebook</a>'\n",
              "            + ' to learn more about interactive tables.';\n",
              "          element.innerHTML = '';\n",
              "          dataTable['output_type'] = 'display_data';\n",
              "          await google.colab.output.renderOutput(dataTable, element);\n",
              "          const docLink = document.createElement('div');\n",
              "          docLink.innerHTML = docLinkHtml;\n",
              "          element.appendChild(docLink);\n",
              "        }\n",
              "      </script>\n",
              "    </div>\n",
              "  </div>\n",
              "  "
            ]
          },
          "metadata": {},
          "execution_count": 666
        }
      ]
    },
    {
      "cell_type": "code",
      "source": [
        "x4= df4.iloc[ : , 0:1].values\n",
        "y4= df4.iloc[ : , 1].values"
      ],
      "metadata": {
        "id": "MqACHPgeb7HC"
      },
      "execution_count": null,
      "outputs": []
    },
    {
      "cell_type": "code",
      "source": [
        "from sklearn.linear_model import Ridge"
      ],
      "metadata": {
        "id": "Aslee3Y3cHpH"
      },
      "execution_count": null,
      "outputs": []
    },
    {
      "cell_type": "code",
      "source": [
        "#deve-se escolher o melhor parametro de regularização(Alpha)\n",
        "modelo_ridge = Ridge(alpha= 0.01)\n",
        "modelo_ridge.fit(x4, y4)\n",
        "modelo_ridge.score(x4, y4)"
      ],
      "metadata": {
        "id": "1QF7KAbRcLDg",
        "outputId": "e3c17e47-3fbd-469e-f705-fc84bf264ff4",
        "colab": {
          "base_uri": "https://localhost:8080/"
        }
      },
      "execution_count": null,
      "outputs": [
        {
          "output_type": "execute_result",
          "data": {
            "text/plain": [
              "0.8400370314933192"
            ]
          },
          "metadata": {},
          "execution_count": 669
        }
      ]
    },
    {
      "cell_type": "code",
      "source": [
        "modelo_ridge.intercept_"
      ],
      "metadata": {
        "id": "XgiTtn5zcON4",
        "outputId": "f0ddf03d-b5d8-4af3-a777-915b8d22daec",
        "colab": {
          "base_uri": "https://localhost:8080/"
        }
      },
      "execution_count": null,
      "outputs": [
        {
          "output_type": "execute_result",
          "data": {
            "text/plain": [
              "993.7348938269488"
            ]
          },
          "metadata": {},
          "execution_count": 670
        }
      ]
    },
    {
      "cell_type": "code",
      "source": [
        "modelo_ridge.coef_"
      ],
      "metadata": {
        "id": "atA8yiCFcVUP",
        "outputId": "34e1f66b-0262-4ffc-8bc8-8bb5b2dee7a8",
        "colab": {
          "base_uri": "https://localhost:8080/"
        }
      },
      "execution_count": null,
      "outputs": [
        {
          "output_type": "execute_result",
          "data": {
            "text/plain": [
              "array([-53.28459874])"
            ]
          },
          "metadata": {},
          "execution_count": 671
        }
      ]
    },
    {
      "cell_type": "markdown",
      "source": [
        "pH direta = 993.7348 -53.2845*Valores_Analogicos_Sensor_pH"
      ],
      "metadata": {
        "id": "PFoQFRwScYb6"
      }
    },
    {
      "cell_type": "code",
      "source": [
        "previsaoridge = modelo_ridge.predict(x4)"
      ],
      "metadata": {
        "id": "Wh-QLHH5cWj4"
      },
      "execution_count": null,
      "outputs": []
    },
    {
      "cell_type": "code",
      "source": [
        "df4['previsaoridge'] = modelo_ridge.predict(x4)"
      ],
      "metadata": {
        "id": "nUuQpThFcjuJ"
      },
      "execution_count": null,
      "outputs": []
    },
    {
      "cell_type": "code",
      "source": [
        "df4['erro_abs'] = abs (df4.Valores_Analogicos_Sensor_pH - df4.previsaoridge)"
      ],
      "metadata": {
        "id": "0MH14qdkc1Fz"
      },
      "execution_count": null,
      "outputs": []
    },
    {
      "cell_type": "code",
      "source": [
        "df4.describe()"
      ],
      "metadata": {
        "id": "mHYSY20tc5an",
        "outputId": "64602d29-e41f-43c9-d4c3-91139cb08d4e",
        "colab": {
          "base_uri": "https://localhost:8080/",
          "height": 300
        }
      },
      "execution_count": null,
      "outputs": [
        {
          "output_type": "execute_result",
          "data": {
            "text/plain": [
              "       pH_Medida_Direta_Akso  Valores_Analogicos_Sensor_pH  previsaoridge  \\\n",
              "count              77.000000                     77.000000      77.000000   \n",
              "mean                6.440000                    650.582078     650.582078   \n",
              "std                 1.019155                     59.258084      54.305250   \n",
              "min                 4.280000                    540.000000     557.334030   \n",
              "25%                 5.740000                    607.500000     610.085783   \n",
              "50%                 6.640000                    645.250000     639.925158   \n",
              "75%                 7.200000                    698.500000     687.881297   \n",
              "max                 8.190000                    787.500000     765.676811   \n",
              "\n",
              "        erro_abs  \n",
              "count  77.000000  \n",
              "mean   18.573580  \n",
              "std    14.566956  \n",
              "min     0.457904  \n",
              "25%     8.333905  \n",
              "50%    13.458004  \n",
              "75%    28.098941  \n",
              "max    59.885076  "
            ],
            "text/html": [
              "\n",
              "  <div id=\"df-6bf3fcda-bc3a-4b7a-9699-365c00525793\">\n",
              "    <div class=\"colab-df-container\">\n",
              "      <div>\n",
              "<style scoped>\n",
              "    .dataframe tbody tr th:only-of-type {\n",
              "        vertical-align: middle;\n",
              "    }\n",
              "\n",
              "    .dataframe tbody tr th {\n",
              "        vertical-align: top;\n",
              "    }\n",
              "\n",
              "    .dataframe thead th {\n",
              "        text-align: right;\n",
              "    }\n",
              "</style>\n",
              "<table border=\"1\" class=\"dataframe\">\n",
              "  <thead>\n",
              "    <tr style=\"text-align: right;\">\n",
              "      <th></th>\n",
              "      <th>pH_Medida_Direta_Akso</th>\n",
              "      <th>Valores_Analogicos_Sensor_pH</th>\n",
              "      <th>previsaoridge</th>\n",
              "      <th>erro_abs</th>\n",
              "    </tr>\n",
              "  </thead>\n",
              "  <tbody>\n",
              "    <tr>\n",
              "      <th>count</th>\n",
              "      <td>77.000000</td>\n",
              "      <td>77.000000</td>\n",
              "      <td>77.000000</td>\n",
              "      <td>77.000000</td>\n",
              "    </tr>\n",
              "    <tr>\n",
              "      <th>mean</th>\n",
              "      <td>6.440000</td>\n",
              "      <td>650.582078</td>\n",
              "      <td>650.582078</td>\n",
              "      <td>18.573580</td>\n",
              "    </tr>\n",
              "    <tr>\n",
              "      <th>std</th>\n",
              "      <td>1.019155</td>\n",
              "      <td>59.258084</td>\n",
              "      <td>54.305250</td>\n",
              "      <td>14.566956</td>\n",
              "    </tr>\n",
              "    <tr>\n",
              "      <th>min</th>\n",
              "      <td>4.280000</td>\n",
              "      <td>540.000000</td>\n",
              "      <td>557.334030</td>\n",
              "      <td>0.457904</td>\n",
              "    </tr>\n",
              "    <tr>\n",
              "      <th>25%</th>\n",
              "      <td>5.740000</td>\n",
              "      <td>607.500000</td>\n",
              "      <td>610.085783</td>\n",
              "      <td>8.333905</td>\n",
              "    </tr>\n",
              "    <tr>\n",
              "      <th>50%</th>\n",
              "      <td>6.640000</td>\n",
              "      <td>645.250000</td>\n",
              "      <td>639.925158</td>\n",
              "      <td>13.458004</td>\n",
              "    </tr>\n",
              "    <tr>\n",
              "      <th>75%</th>\n",
              "      <td>7.200000</td>\n",
              "      <td>698.500000</td>\n",
              "      <td>687.881297</td>\n",
              "      <td>28.098941</td>\n",
              "    </tr>\n",
              "    <tr>\n",
              "      <th>max</th>\n",
              "      <td>8.190000</td>\n",
              "      <td>787.500000</td>\n",
              "      <td>765.676811</td>\n",
              "      <td>59.885076</td>\n",
              "    </tr>\n",
              "  </tbody>\n",
              "</table>\n",
              "</div>\n",
              "      <button class=\"colab-df-convert\" onclick=\"convertToInteractive('df-6bf3fcda-bc3a-4b7a-9699-365c00525793')\"\n",
              "              title=\"Convert this dataframe to an interactive table.\"\n",
              "              style=\"display:none;\">\n",
              "        \n",
              "  <svg xmlns=\"http://www.w3.org/2000/svg\" height=\"24px\"viewBox=\"0 0 24 24\"\n",
              "       width=\"24px\">\n",
              "    <path d=\"M0 0h24v24H0V0z\" fill=\"none\"/>\n",
              "    <path d=\"M18.56 5.44l.94 2.06.94-2.06 2.06-.94-2.06-.94-.94-2.06-.94 2.06-2.06.94zm-11 1L8.5 8.5l.94-2.06 2.06-.94-2.06-.94L8.5 2.5l-.94 2.06-2.06.94zm10 10l.94 2.06.94-2.06 2.06-.94-2.06-.94-.94-2.06-.94 2.06-2.06.94z\"/><path d=\"M17.41 7.96l-1.37-1.37c-.4-.4-.92-.59-1.43-.59-.52 0-1.04.2-1.43.59L10.3 9.45l-7.72 7.72c-.78.78-.78 2.05 0 2.83L4 21.41c.39.39.9.59 1.41.59.51 0 1.02-.2 1.41-.59l7.78-7.78 2.81-2.81c.8-.78.8-2.07 0-2.86zM5.41 20L4 18.59l7.72-7.72 1.47 1.35L5.41 20z\"/>\n",
              "  </svg>\n",
              "      </button>\n",
              "      \n",
              "  <style>\n",
              "    .colab-df-container {\n",
              "      display:flex;\n",
              "      flex-wrap:wrap;\n",
              "      gap: 12px;\n",
              "    }\n",
              "\n",
              "    .colab-df-convert {\n",
              "      background-color: #E8F0FE;\n",
              "      border: none;\n",
              "      border-radius: 50%;\n",
              "      cursor: pointer;\n",
              "      display: none;\n",
              "      fill: #1967D2;\n",
              "      height: 32px;\n",
              "      padding: 0 0 0 0;\n",
              "      width: 32px;\n",
              "    }\n",
              "\n",
              "    .colab-df-convert:hover {\n",
              "      background-color: #E2EBFA;\n",
              "      box-shadow: 0px 1px 2px rgba(60, 64, 67, 0.3), 0px 1px 3px 1px rgba(60, 64, 67, 0.15);\n",
              "      fill: #174EA6;\n",
              "    }\n",
              "\n",
              "    [theme=dark] .colab-df-convert {\n",
              "      background-color: #3B4455;\n",
              "      fill: #D2E3FC;\n",
              "    }\n",
              "\n",
              "    [theme=dark] .colab-df-convert:hover {\n",
              "      background-color: #434B5C;\n",
              "      box-shadow: 0px 1px 3px 1px rgba(0, 0, 0, 0.15);\n",
              "      filter: drop-shadow(0px 1px 2px rgba(0, 0, 0, 0.3));\n",
              "      fill: #FFFFFF;\n",
              "    }\n",
              "  </style>\n",
              "\n",
              "      <script>\n",
              "        const buttonEl =\n",
              "          document.querySelector('#df-6bf3fcda-bc3a-4b7a-9699-365c00525793 button.colab-df-convert');\n",
              "        buttonEl.style.display =\n",
              "          google.colab.kernel.accessAllowed ? 'block' : 'none';\n",
              "\n",
              "        async function convertToInteractive(key) {\n",
              "          const element = document.querySelector('#df-6bf3fcda-bc3a-4b7a-9699-365c00525793');\n",
              "          const dataTable =\n",
              "            await google.colab.kernel.invokeFunction('convertToInteractive',\n",
              "                                                     [key], {});\n",
              "          if (!dataTable) return;\n",
              "\n",
              "          const docLinkHtml = 'Like what you see? Visit the ' +\n",
              "            '<a target=\"_blank\" href=https://colab.research.google.com/notebooks/data_table.ipynb>data table notebook</a>'\n",
              "            + ' to learn more about interactive tables.';\n",
              "          element.innerHTML = '';\n",
              "          dataTable['output_type'] = 'display_data';\n",
              "          await google.colab.output.renderOutput(dataTable, element);\n",
              "          const docLink = document.createElement('div');\n",
              "          docLink.innerHTML = docLinkHtml;\n",
              "          element.appendChild(docLink);\n",
              "        }\n",
              "      </script>\n",
              "    </div>\n",
              "  </div>\n",
              "  "
            ]
          },
          "metadata": {},
          "execution_count": 675
        }
      ]
    },
    {
      "cell_type": "code",
      "source": [
        "#Erro Absoluto Médio(MAE)\n",
        "from sklearn.metrics import mean_absolute_error\n",
        "mean_absolute_error(df4.Valores_Analogicos_Sensor_pH, df4.previsaoridge)"
      ],
      "metadata": {
        "id": "s2HVXo69c-gT",
        "outputId": "8a4b4728-a541-4301-af8b-d64371053102",
        "colab": {
          "base_uri": "https://localhost:8080/"
        }
      },
      "execution_count": null,
      "outputs": [
        {
          "output_type": "execute_result",
          "data": {
            "text/plain": [
              "18.573579555643022"
            ]
          },
          "metadata": {},
          "execution_count": 676
        }
      ]
    },
    {
      "cell_type": "code",
      "source": [
        "#Erro médio Quadrático(MSE)\n",
        "from sklearn.metrics import mean_squared_error\n",
        "mean_squared_error(df4.Valores_Analogicos_Sensor_pH, df4.previsaoridge)"
      ],
      "metadata": {
        "id": "iigwC98TdGJ0",
        "outputId": "bde18861-156e-41e4-fea5-5c9fdfb20a36",
        "colab": {
          "base_uri": "https://localhost:8080/"
        }
      },
      "execution_count": null,
      "outputs": [
        {
          "output_type": "execute_result",
          "data": {
            "text/plain": [
              "554.4182748338188"
            ]
          },
          "metadata": {},
          "execution_count": 677
        }
      ]
    },
    {
      "cell_type": "markdown",
      "source": [
        "#Regressão Lasso"
      ],
      "metadata": {
        "id": "PVhEbyPGdNlm"
      }
    },
    {
      "cell_type": "code",
      "source": [
        "df5=df.drop(columns=['pH_Meio_Aquoso'])#apaga a coluna pH medida direta"
      ],
      "metadata": {
        "id": "cq44eq3rdLt0"
      },
      "execution_count": null,
      "outputs": []
    },
    {
      "cell_type": "code",
      "source": [
        "df5"
      ],
      "metadata": {
        "id": "VY6bRhZ9dV7o",
        "outputId": "c94dd24f-f5b9-4d0a-828e-a04635bb0a79",
        "colab": {
          "base_uri": "https://localhost:8080/",
          "height": 424
        }
      },
      "execution_count": null,
      "outputs": [
        {
          "output_type": "execute_result",
          "data": {
            "text/plain": [
              "    pH_Medida_Direta_Akso  Valores_Analogicos_Sensor_pH\n",
              "0                    6.43                        711.00\n",
              "1                    5.84                        724.00\n",
              "2                    7.80                        601.00\n",
              "3                    4.41                        763.50\n",
              "4                    6.43                        645.25\n",
              "..                    ...                           ...\n",
              "73                   6.73                        644.10\n",
              "74                   6.97                        609.40\n",
              "75                   7.51                        578.80\n",
              "76                   6.71                        650.50\n",
              "77                   6.96                        633.00\n",
              "\n",
              "[77 rows x 2 columns]"
            ],
            "text/html": [
              "\n",
              "  <div id=\"df-cbe2f265-2450-487f-b94b-361948649ebf\">\n",
              "    <div class=\"colab-df-container\">\n",
              "      <div>\n",
              "<style scoped>\n",
              "    .dataframe tbody tr th:only-of-type {\n",
              "        vertical-align: middle;\n",
              "    }\n",
              "\n",
              "    .dataframe tbody tr th {\n",
              "        vertical-align: top;\n",
              "    }\n",
              "\n",
              "    .dataframe thead th {\n",
              "        text-align: right;\n",
              "    }\n",
              "</style>\n",
              "<table border=\"1\" class=\"dataframe\">\n",
              "  <thead>\n",
              "    <tr style=\"text-align: right;\">\n",
              "      <th></th>\n",
              "      <th>pH_Medida_Direta_Akso</th>\n",
              "      <th>Valores_Analogicos_Sensor_pH</th>\n",
              "    </tr>\n",
              "  </thead>\n",
              "  <tbody>\n",
              "    <tr>\n",
              "      <th>0</th>\n",
              "      <td>6.43</td>\n",
              "      <td>711.00</td>\n",
              "    </tr>\n",
              "    <tr>\n",
              "      <th>1</th>\n",
              "      <td>5.84</td>\n",
              "      <td>724.00</td>\n",
              "    </tr>\n",
              "    <tr>\n",
              "      <th>2</th>\n",
              "      <td>7.80</td>\n",
              "      <td>601.00</td>\n",
              "    </tr>\n",
              "    <tr>\n",
              "      <th>3</th>\n",
              "      <td>4.41</td>\n",
              "      <td>763.50</td>\n",
              "    </tr>\n",
              "    <tr>\n",
              "      <th>4</th>\n",
              "      <td>6.43</td>\n",
              "      <td>645.25</td>\n",
              "    </tr>\n",
              "    <tr>\n",
              "      <th>...</th>\n",
              "      <td>...</td>\n",
              "      <td>...</td>\n",
              "    </tr>\n",
              "    <tr>\n",
              "      <th>73</th>\n",
              "      <td>6.73</td>\n",
              "      <td>644.10</td>\n",
              "    </tr>\n",
              "    <tr>\n",
              "      <th>74</th>\n",
              "      <td>6.97</td>\n",
              "      <td>609.40</td>\n",
              "    </tr>\n",
              "    <tr>\n",
              "      <th>75</th>\n",
              "      <td>7.51</td>\n",
              "      <td>578.80</td>\n",
              "    </tr>\n",
              "    <tr>\n",
              "      <th>76</th>\n",
              "      <td>6.71</td>\n",
              "      <td>650.50</td>\n",
              "    </tr>\n",
              "    <tr>\n",
              "      <th>77</th>\n",
              "      <td>6.96</td>\n",
              "      <td>633.00</td>\n",
              "    </tr>\n",
              "  </tbody>\n",
              "</table>\n",
              "<p>77 rows × 2 columns</p>\n",
              "</div>\n",
              "      <button class=\"colab-df-convert\" onclick=\"convertToInteractive('df-cbe2f265-2450-487f-b94b-361948649ebf')\"\n",
              "              title=\"Convert this dataframe to an interactive table.\"\n",
              "              style=\"display:none;\">\n",
              "        \n",
              "  <svg xmlns=\"http://www.w3.org/2000/svg\" height=\"24px\"viewBox=\"0 0 24 24\"\n",
              "       width=\"24px\">\n",
              "    <path d=\"M0 0h24v24H0V0z\" fill=\"none\"/>\n",
              "    <path d=\"M18.56 5.44l.94 2.06.94-2.06 2.06-.94-2.06-.94-.94-2.06-.94 2.06-2.06.94zm-11 1L8.5 8.5l.94-2.06 2.06-.94-2.06-.94L8.5 2.5l-.94 2.06-2.06.94zm10 10l.94 2.06.94-2.06 2.06-.94-2.06-.94-.94-2.06-.94 2.06-2.06.94z\"/><path d=\"M17.41 7.96l-1.37-1.37c-.4-.4-.92-.59-1.43-.59-.52 0-1.04.2-1.43.59L10.3 9.45l-7.72 7.72c-.78.78-.78 2.05 0 2.83L4 21.41c.39.39.9.59 1.41.59.51 0 1.02-.2 1.41-.59l7.78-7.78 2.81-2.81c.8-.78.8-2.07 0-2.86zM5.41 20L4 18.59l7.72-7.72 1.47 1.35L5.41 20z\"/>\n",
              "  </svg>\n",
              "      </button>\n",
              "      \n",
              "  <style>\n",
              "    .colab-df-container {\n",
              "      display:flex;\n",
              "      flex-wrap:wrap;\n",
              "      gap: 12px;\n",
              "    }\n",
              "\n",
              "    .colab-df-convert {\n",
              "      background-color: #E8F0FE;\n",
              "      border: none;\n",
              "      border-radius: 50%;\n",
              "      cursor: pointer;\n",
              "      display: none;\n",
              "      fill: #1967D2;\n",
              "      height: 32px;\n",
              "      padding: 0 0 0 0;\n",
              "      width: 32px;\n",
              "    }\n",
              "\n",
              "    .colab-df-convert:hover {\n",
              "      background-color: #E2EBFA;\n",
              "      box-shadow: 0px 1px 2px rgba(60, 64, 67, 0.3), 0px 1px 3px 1px rgba(60, 64, 67, 0.15);\n",
              "      fill: #174EA6;\n",
              "    }\n",
              "\n",
              "    [theme=dark] .colab-df-convert {\n",
              "      background-color: #3B4455;\n",
              "      fill: #D2E3FC;\n",
              "    }\n",
              "\n",
              "    [theme=dark] .colab-df-convert:hover {\n",
              "      background-color: #434B5C;\n",
              "      box-shadow: 0px 1px 3px 1px rgba(0, 0, 0, 0.15);\n",
              "      filter: drop-shadow(0px 1px 2px rgba(0, 0, 0, 0.3));\n",
              "      fill: #FFFFFF;\n",
              "    }\n",
              "  </style>\n",
              "\n",
              "      <script>\n",
              "        const buttonEl =\n",
              "          document.querySelector('#df-cbe2f265-2450-487f-b94b-361948649ebf button.colab-df-convert');\n",
              "        buttonEl.style.display =\n",
              "          google.colab.kernel.accessAllowed ? 'block' : 'none';\n",
              "\n",
              "        async function convertToInteractive(key) {\n",
              "          const element = document.querySelector('#df-cbe2f265-2450-487f-b94b-361948649ebf');\n",
              "          const dataTable =\n",
              "            await google.colab.kernel.invokeFunction('convertToInteractive',\n",
              "                                                     [key], {});\n",
              "          if (!dataTable) return;\n",
              "\n",
              "          const docLinkHtml = 'Like what you see? Visit the ' +\n",
              "            '<a target=\"_blank\" href=https://colab.research.google.com/notebooks/data_table.ipynb>data table notebook</a>'\n",
              "            + ' to learn more about interactive tables.';\n",
              "          element.innerHTML = '';\n",
              "          dataTable['output_type'] = 'display_data';\n",
              "          await google.colab.output.renderOutput(dataTable, element);\n",
              "          const docLink = document.createElement('div');\n",
              "          docLink.innerHTML = docLinkHtml;\n",
              "          element.appendChild(docLink);\n",
              "        }\n",
              "      </script>\n",
              "    </div>\n",
              "  </div>\n",
              "  "
            ]
          },
          "metadata": {},
          "execution_count": 679
        }
      ]
    },
    {
      "cell_type": "code",
      "source": [
        "x5= df5.iloc[ : , 0:1].values\n",
        "y5= df5.iloc[ : , 1].values"
      ],
      "metadata": {
        "id": "Va8uFW-QdwDO"
      },
      "execution_count": null,
      "outputs": []
    },
    {
      "cell_type": "code",
      "source": [
        "#deve-se escolher o melhor parametro de regularização(Alpha)\n",
        "modelo_lasso = Lasso(alpha= 0.01)\n",
        "modelo_lasso.fit(x5, y5)\n",
        "modelo_lasso.score(x5, y5)"
      ],
      "metadata": {
        "id": "kEcK5jaldkIK",
        "outputId": "e551e0f6-2691-4248-fcf1-d55e418e29e8",
        "colab": {
          "base_uri": "https://localhost:8080/"
        }
      },
      "execution_count": null,
      "outputs": [
        {
          "output_type": "execute_result",
          "data": {
            "text/plain": [
              "0.8400370168270068"
            ]
          },
          "metadata": {},
          "execution_count": 681
        }
      ]
    },
    {
      "cell_type": "code",
      "source": [
        "modelo_lasso.intercept_"
      ],
      "metadata": {
        "id": "z8Ti79kLd5x0",
        "outputId": "5a220ddd-abcd-4c89-f260-82d50353466d",
        "colab": {
          "base_uri": "https://localhost:8080/"
        }
      },
      "execution_count": null,
      "outputs": [
        {
          "output_type": "execute_result",
          "data": {
            "text/plain": [
              "993.7155464308328"
            ]
          },
          "metadata": {},
          "execution_count": 682
        }
      ]
    },
    {
      "cell_type": "code",
      "source": [
        "modelo_lasso.coef_"
      ],
      "metadata": {
        "id": "a4iOx0VAd8bE",
        "outputId": "d0182574-dbd9-4950-f059-06f42cf7e6de",
        "colab": {
          "base_uri": "https://localhost:8080/"
        }
      },
      "execution_count": null,
      "outputs": [
        {
          "output_type": "execute_result",
          "data": {
            "text/plain": [
              "array([-53.28159449])"
            ]
          },
          "metadata": {},
          "execution_count": 683
        }
      ]
    },
    {
      "cell_type": "markdown",
      "source": [
        "pH med direta= 993.7155-53.2815*Valores_Analogicos_Sensor_pH"
      ],
      "metadata": {
        "id": "UzUKbxsweBmI"
      }
    },
    {
      "cell_type": "code",
      "source": [
        "previsaolasso = modelo_lasso.predict(x5)"
      ],
      "metadata": {
        "id": "hw1-MYZ_d-9R"
      },
      "execution_count": null,
      "outputs": []
    },
    {
      "cell_type": "code",
      "source": [
        "df5['previsaolasso'] = modelo_lasso.predict(x5)"
      ],
      "metadata": {
        "id": "hcnWkNJpeesz"
      },
      "execution_count": null,
      "outputs": []
    },
    {
      "cell_type": "code",
      "source": [
        "df5['erro_abs'] = abs (df5.Valores_Analogicos_Sensor_pH - df5.previsaolasso)"
      ],
      "metadata": {
        "id": "3bPY75w9eixm"
      },
      "execution_count": null,
      "outputs": []
    },
    {
      "cell_type": "code",
      "source": [
        "df5"
      ],
      "metadata": {
        "id": "XgGthM5henkR",
        "outputId": "39336299-cc1c-42cf-8de1-fa8074202e2b",
        "colab": {
          "base_uri": "https://localhost:8080/",
          "height": 424
        }
      },
      "execution_count": null,
      "outputs": [
        {
          "output_type": "execute_result",
          "data": {
            "text/plain": [
              "    pH_Medida_Direta_Akso  Valores_Analogicos_Sensor_pH  previsaolasso  \\\n",
              "0                    6.43                        711.00     651.114894   \n",
              "1                    5.84                        724.00     682.551035   \n",
              "2                    7.80                        601.00     578.119109   \n",
              "3                    4.41                        763.50     758.743715   \n",
              "4                    6.43                        645.25     651.114894   \n",
              "..                    ...                           ...            ...   \n",
              "73                   6.73                        644.10     635.130416   \n",
              "74                   6.97                        609.40     622.342833   \n",
              "75                   7.51                        578.80     593.570772   \n",
              "76                   6.71                        650.50     636.196047   \n",
              "77                   6.96                        633.00     622.875649   \n",
              "\n",
              "     erro_abs  \n",
              "0   59.885106  \n",
              "1   41.448965  \n",
              "2   22.880891  \n",
              "3    4.756285  \n",
              "4    5.864894  \n",
              "..        ...  \n",
              "73   8.969584  \n",
              "74  12.942833  \n",
              "75  14.770772  \n",
              "76  14.303953  \n",
              "77  10.124351  \n",
              "\n",
              "[77 rows x 4 columns]"
            ],
            "text/html": [
              "\n",
              "  <div id=\"df-8f84e268-3583-41d7-9148-6b24131f710c\">\n",
              "    <div class=\"colab-df-container\">\n",
              "      <div>\n",
              "<style scoped>\n",
              "    .dataframe tbody tr th:only-of-type {\n",
              "        vertical-align: middle;\n",
              "    }\n",
              "\n",
              "    .dataframe tbody tr th {\n",
              "        vertical-align: top;\n",
              "    }\n",
              "\n",
              "    .dataframe thead th {\n",
              "        text-align: right;\n",
              "    }\n",
              "</style>\n",
              "<table border=\"1\" class=\"dataframe\">\n",
              "  <thead>\n",
              "    <tr style=\"text-align: right;\">\n",
              "      <th></th>\n",
              "      <th>pH_Medida_Direta_Akso</th>\n",
              "      <th>Valores_Analogicos_Sensor_pH</th>\n",
              "      <th>previsaolasso</th>\n",
              "      <th>erro_abs</th>\n",
              "    </tr>\n",
              "  </thead>\n",
              "  <tbody>\n",
              "    <tr>\n",
              "      <th>0</th>\n",
              "      <td>6.43</td>\n",
              "      <td>711.00</td>\n",
              "      <td>651.114894</td>\n",
              "      <td>59.885106</td>\n",
              "    </tr>\n",
              "    <tr>\n",
              "      <th>1</th>\n",
              "      <td>5.84</td>\n",
              "      <td>724.00</td>\n",
              "      <td>682.551035</td>\n",
              "      <td>41.448965</td>\n",
              "    </tr>\n",
              "    <tr>\n",
              "      <th>2</th>\n",
              "      <td>7.80</td>\n",
              "      <td>601.00</td>\n",
              "      <td>578.119109</td>\n",
              "      <td>22.880891</td>\n",
              "    </tr>\n",
              "    <tr>\n",
              "      <th>3</th>\n",
              "      <td>4.41</td>\n",
              "      <td>763.50</td>\n",
              "      <td>758.743715</td>\n",
              "      <td>4.756285</td>\n",
              "    </tr>\n",
              "    <tr>\n",
              "      <th>4</th>\n",
              "      <td>6.43</td>\n",
              "      <td>645.25</td>\n",
              "      <td>651.114894</td>\n",
              "      <td>5.864894</td>\n",
              "    </tr>\n",
              "    <tr>\n",
              "      <th>...</th>\n",
              "      <td>...</td>\n",
              "      <td>...</td>\n",
              "      <td>...</td>\n",
              "      <td>...</td>\n",
              "    </tr>\n",
              "    <tr>\n",
              "      <th>73</th>\n",
              "      <td>6.73</td>\n",
              "      <td>644.10</td>\n",
              "      <td>635.130416</td>\n",
              "      <td>8.969584</td>\n",
              "    </tr>\n",
              "    <tr>\n",
              "      <th>74</th>\n",
              "      <td>6.97</td>\n",
              "      <td>609.40</td>\n",
              "      <td>622.342833</td>\n",
              "      <td>12.942833</td>\n",
              "    </tr>\n",
              "    <tr>\n",
              "      <th>75</th>\n",
              "      <td>7.51</td>\n",
              "      <td>578.80</td>\n",
              "      <td>593.570772</td>\n",
              "      <td>14.770772</td>\n",
              "    </tr>\n",
              "    <tr>\n",
              "      <th>76</th>\n",
              "      <td>6.71</td>\n",
              "      <td>650.50</td>\n",
              "      <td>636.196047</td>\n",
              "      <td>14.303953</td>\n",
              "    </tr>\n",
              "    <tr>\n",
              "      <th>77</th>\n",
              "      <td>6.96</td>\n",
              "      <td>633.00</td>\n",
              "      <td>622.875649</td>\n",
              "      <td>10.124351</td>\n",
              "    </tr>\n",
              "  </tbody>\n",
              "</table>\n",
              "<p>77 rows × 4 columns</p>\n",
              "</div>\n",
              "      <button class=\"colab-df-convert\" onclick=\"convertToInteractive('df-8f84e268-3583-41d7-9148-6b24131f710c')\"\n",
              "              title=\"Convert this dataframe to an interactive table.\"\n",
              "              style=\"display:none;\">\n",
              "        \n",
              "  <svg xmlns=\"http://www.w3.org/2000/svg\" height=\"24px\"viewBox=\"0 0 24 24\"\n",
              "       width=\"24px\">\n",
              "    <path d=\"M0 0h24v24H0V0z\" fill=\"none\"/>\n",
              "    <path d=\"M18.56 5.44l.94 2.06.94-2.06 2.06-.94-2.06-.94-.94-2.06-.94 2.06-2.06.94zm-11 1L8.5 8.5l.94-2.06 2.06-.94-2.06-.94L8.5 2.5l-.94 2.06-2.06.94zm10 10l.94 2.06.94-2.06 2.06-.94-2.06-.94-.94-2.06-.94 2.06-2.06.94z\"/><path d=\"M17.41 7.96l-1.37-1.37c-.4-.4-.92-.59-1.43-.59-.52 0-1.04.2-1.43.59L10.3 9.45l-7.72 7.72c-.78.78-.78 2.05 0 2.83L4 21.41c.39.39.9.59 1.41.59.51 0 1.02-.2 1.41-.59l7.78-7.78 2.81-2.81c.8-.78.8-2.07 0-2.86zM5.41 20L4 18.59l7.72-7.72 1.47 1.35L5.41 20z\"/>\n",
              "  </svg>\n",
              "      </button>\n",
              "      \n",
              "  <style>\n",
              "    .colab-df-container {\n",
              "      display:flex;\n",
              "      flex-wrap:wrap;\n",
              "      gap: 12px;\n",
              "    }\n",
              "\n",
              "    .colab-df-convert {\n",
              "      background-color: #E8F0FE;\n",
              "      border: none;\n",
              "      border-radius: 50%;\n",
              "      cursor: pointer;\n",
              "      display: none;\n",
              "      fill: #1967D2;\n",
              "      height: 32px;\n",
              "      padding: 0 0 0 0;\n",
              "      width: 32px;\n",
              "    }\n",
              "\n",
              "    .colab-df-convert:hover {\n",
              "      background-color: #E2EBFA;\n",
              "      box-shadow: 0px 1px 2px rgba(60, 64, 67, 0.3), 0px 1px 3px 1px rgba(60, 64, 67, 0.15);\n",
              "      fill: #174EA6;\n",
              "    }\n",
              "\n",
              "    [theme=dark] .colab-df-convert {\n",
              "      background-color: #3B4455;\n",
              "      fill: #D2E3FC;\n",
              "    }\n",
              "\n",
              "    [theme=dark] .colab-df-convert:hover {\n",
              "      background-color: #434B5C;\n",
              "      box-shadow: 0px 1px 3px 1px rgba(0, 0, 0, 0.15);\n",
              "      filter: drop-shadow(0px 1px 2px rgba(0, 0, 0, 0.3));\n",
              "      fill: #FFFFFF;\n",
              "    }\n",
              "  </style>\n",
              "\n",
              "      <script>\n",
              "        const buttonEl =\n",
              "          document.querySelector('#df-8f84e268-3583-41d7-9148-6b24131f710c button.colab-df-convert');\n",
              "        buttonEl.style.display =\n",
              "          google.colab.kernel.accessAllowed ? 'block' : 'none';\n",
              "\n",
              "        async function convertToInteractive(key) {\n",
              "          const element = document.querySelector('#df-8f84e268-3583-41d7-9148-6b24131f710c');\n",
              "          const dataTable =\n",
              "            await google.colab.kernel.invokeFunction('convertToInteractive',\n",
              "                                                     [key], {});\n",
              "          if (!dataTable) return;\n",
              "\n",
              "          const docLinkHtml = 'Like what you see? Visit the ' +\n",
              "            '<a target=\"_blank\" href=https://colab.research.google.com/notebooks/data_table.ipynb>data table notebook</a>'\n",
              "            + ' to learn more about interactive tables.';\n",
              "          element.innerHTML = '';\n",
              "          dataTable['output_type'] = 'display_data';\n",
              "          await google.colab.output.renderOutput(dataTable, element);\n",
              "          const docLink = document.createElement('div');\n",
              "          docLink.innerHTML = docLinkHtml;\n",
              "          element.appendChild(docLink);\n",
              "        }\n",
              "      </script>\n",
              "    </div>\n",
              "  </div>\n",
              "  "
            ]
          },
          "metadata": {},
          "execution_count": 687
        }
      ]
    },
    {
      "cell_type": "code",
      "source": [
        "#Erro Absoluto Médio(MAE)\n",
        "from sklearn.metrics import mean_absolute_error\n",
        "mean_absolute_error(df5.Valores_Analogicos_Sensor_pH, df5.previsaolasso)"
      ],
      "metadata": {
        "id": "n7PcFY0EeqgA",
        "outputId": "eeadab11-2e34-4c02-f58b-628536997767",
        "colab": {
          "base_uri": "https://localhost:8080/"
        }
      },
      "execution_count": null,
      "outputs": [
        {
          "output_type": "execute_result",
          "data": {
            "text/plain": [
              "18.5732221664593"
            ]
          },
          "metadata": {},
          "execution_count": 688
        }
      ]
    },
    {
      "cell_type": "code",
      "source": [
        "#Erro médio Quadrático(MSE)\n",
        "from sklearn.metrics import mean_squared_error\n",
        "mean_squared_error(df5.Valores_Analogicos_Sensor_pH, df5.previsaolasso)"
      ],
      "metadata": {
        "id": "7sW6CMvMeqoO",
        "outputId": "d5a5c84e-2dbd-48a7-c3a1-3c78818204ee",
        "colab": {
          "base_uri": "https://localhost:8080/"
        }
      },
      "execution_count": null,
      "outputs": [
        {
          "output_type": "execute_result",
          "data": {
            "text/plain": [
              "554.4183256660311"
            ]
          },
          "metadata": {},
          "execution_count": 689
        }
      ]
    },
    {
      "cell_type": "markdown",
      "source": [
        "#Regressão Elastic Net"
      ],
      "metadata": {
        "id": "PzkWDaTMe2D-"
      }
    },
    {
      "cell_type": "code",
      "source": [
        "df6=df.drop(columns=['pH_Medida_Direta_Akso'])#apaga a coluna pH medida direta"
      ],
      "metadata": {
        "id": "T4sfEejaezvL"
      },
      "execution_count": null,
      "outputs": []
    },
    {
      "cell_type": "code",
      "source": [
        "df6"
      ],
      "metadata": {
        "id": "ZSJtrm-ne8Z6",
        "outputId": "f0c59d20-3aa1-411b-d8ed-75cb22c7fece",
        "colab": {
          "base_uri": "https://localhost:8080/",
          "height": 424
        }
      },
      "execution_count": null,
      "outputs": [
        {
          "output_type": "execute_result",
          "data": {
            "text/plain": [
              "    pH_Meio_Aquoso  Valores_Analogicos_Sensor_pH\n",
              "0              5.1                        711.00\n",
              "1              4.5                        724.00\n",
              "2              7.0                        601.00\n",
              "3              4.2                        763.50\n",
              "4              6.1                        645.25\n",
              "..             ...                           ...\n",
              "73             7.5                        644.10\n",
              "74             7.0                        609.40\n",
              "75             7.3                        578.80\n",
              "76             6.1                        650.50\n",
              "77             5.8                        633.00\n",
              "\n",
              "[77 rows x 2 columns]"
            ],
            "text/html": [
              "\n",
              "  <div id=\"df-b78b5761-278c-42b1-82d7-f7a8a5764533\">\n",
              "    <div class=\"colab-df-container\">\n",
              "      <div>\n",
              "<style scoped>\n",
              "    .dataframe tbody tr th:only-of-type {\n",
              "        vertical-align: middle;\n",
              "    }\n",
              "\n",
              "    .dataframe tbody tr th {\n",
              "        vertical-align: top;\n",
              "    }\n",
              "\n",
              "    .dataframe thead th {\n",
              "        text-align: right;\n",
              "    }\n",
              "</style>\n",
              "<table border=\"1\" class=\"dataframe\">\n",
              "  <thead>\n",
              "    <tr style=\"text-align: right;\">\n",
              "      <th></th>\n",
              "      <th>pH_Meio_Aquoso</th>\n",
              "      <th>Valores_Analogicos_Sensor_pH</th>\n",
              "    </tr>\n",
              "  </thead>\n",
              "  <tbody>\n",
              "    <tr>\n",
              "      <th>0</th>\n",
              "      <td>5.1</td>\n",
              "      <td>711.00</td>\n",
              "    </tr>\n",
              "    <tr>\n",
              "      <th>1</th>\n",
              "      <td>4.5</td>\n",
              "      <td>724.00</td>\n",
              "    </tr>\n",
              "    <tr>\n",
              "      <th>2</th>\n",
              "      <td>7.0</td>\n",
              "      <td>601.00</td>\n",
              "    </tr>\n",
              "    <tr>\n",
              "      <th>3</th>\n",
              "      <td>4.2</td>\n",
              "      <td>763.50</td>\n",
              "    </tr>\n",
              "    <tr>\n",
              "      <th>4</th>\n",
              "      <td>6.1</td>\n",
              "      <td>645.25</td>\n",
              "    </tr>\n",
              "    <tr>\n",
              "      <th>...</th>\n",
              "      <td>...</td>\n",
              "      <td>...</td>\n",
              "    </tr>\n",
              "    <tr>\n",
              "      <th>73</th>\n",
              "      <td>7.5</td>\n",
              "      <td>644.10</td>\n",
              "    </tr>\n",
              "    <tr>\n",
              "      <th>74</th>\n",
              "      <td>7.0</td>\n",
              "      <td>609.40</td>\n",
              "    </tr>\n",
              "    <tr>\n",
              "      <th>75</th>\n",
              "      <td>7.3</td>\n",
              "      <td>578.80</td>\n",
              "    </tr>\n",
              "    <tr>\n",
              "      <th>76</th>\n",
              "      <td>6.1</td>\n",
              "      <td>650.50</td>\n",
              "    </tr>\n",
              "    <tr>\n",
              "      <th>77</th>\n",
              "      <td>5.8</td>\n",
              "      <td>633.00</td>\n",
              "    </tr>\n",
              "  </tbody>\n",
              "</table>\n",
              "<p>77 rows × 2 columns</p>\n",
              "</div>\n",
              "      <button class=\"colab-df-convert\" onclick=\"convertToInteractive('df-b78b5761-278c-42b1-82d7-f7a8a5764533')\"\n",
              "              title=\"Convert this dataframe to an interactive table.\"\n",
              "              style=\"display:none;\">\n",
              "        \n",
              "  <svg xmlns=\"http://www.w3.org/2000/svg\" height=\"24px\"viewBox=\"0 0 24 24\"\n",
              "       width=\"24px\">\n",
              "    <path d=\"M0 0h24v24H0V0z\" fill=\"none\"/>\n",
              "    <path d=\"M18.56 5.44l.94 2.06.94-2.06 2.06-.94-2.06-.94-.94-2.06-.94 2.06-2.06.94zm-11 1L8.5 8.5l.94-2.06 2.06-.94-2.06-.94L8.5 2.5l-.94 2.06-2.06.94zm10 10l.94 2.06.94-2.06 2.06-.94-2.06-.94-.94-2.06-.94 2.06-2.06.94z\"/><path d=\"M17.41 7.96l-1.37-1.37c-.4-.4-.92-.59-1.43-.59-.52 0-1.04.2-1.43.59L10.3 9.45l-7.72 7.72c-.78.78-.78 2.05 0 2.83L4 21.41c.39.39.9.59 1.41.59.51 0 1.02-.2 1.41-.59l7.78-7.78 2.81-2.81c.8-.78.8-2.07 0-2.86zM5.41 20L4 18.59l7.72-7.72 1.47 1.35L5.41 20z\"/>\n",
              "  </svg>\n",
              "      </button>\n",
              "      \n",
              "  <style>\n",
              "    .colab-df-container {\n",
              "      display:flex;\n",
              "      flex-wrap:wrap;\n",
              "      gap: 12px;\n",
              "    }\n",
              "\n",
              "    .colab-df-convert {\n",
              "      background-color: #E8F0FE;\n",
              "      border: none;\n",
              "      border-radius: 50%;\n",
              "      cursor: pointer;\n",
              "      display: none;\n",
              "      fill: #1967D2;\n",
              "      height: 32px;\n",
              "      padding: 0 0 0 0;\n",
              "      width: 32px;\n",
              "    }\n",
              "\n",
              "    .colab-df-convert:hover {\n",
              "      background-color: #E2EBFA;\n",
              "      box-shadow: 0px 1px 2px rgba(60, 64, 67, 0.3), 0px 1px 3px 1px rgba(60, 64, 67, 0.15);\n",
              "      fill: #174EA6;\n",
              "    }\n",
              "\n",
              "    [theme=dark] .colab-df-convert {\n",
              "      background-color: #3B4455;\n",
              "      fill: #D2E3FC;\n",
              "    }\n",
              "\n",
              "    [theme=dark] .colab-df-convert:hover {\n",
              "      background-color: #434B5C;\n",
              "      box-shadow: 0px 1px 3px 1px rgba(0, 0, 0, 0.15);\n",
              "      filter: drop-shadow(0px 1px 2px rgba(0, 0, 0, 0.3));\n",
              "      fill: #FFFFFF;\n",
              "    }\n",
              "  </style>\n",
              "\n",
              "      <script>\n",
              "        const buttonEl =\n",
              "          document.querySelector('#df-b78b5761-278c-42b1-82d7-f7a8a5764533 button.colab-df-convert');\n",
              "        buttonEl.style.display =\n",
              "          google.colab.kernel.accessAllowed ? 'block' : 'none';\n",
              "\n",
              "        async function convertToInteractive(key) {\n",
              "          const element = document.querySelector('#df-b78b5761-278c-42b1-82d7-f7a8a5764533');\n",
              "          const dataTable =\n",
              "            await google.colab.kernel.invokeFunction('convertToInteractive',\n",
              "                                                     [key], {});\n",
              "          if (!dataTable) return;\n",
              "\n",
              "          const docLinkHtml = 'Like what you see? Visit the ' +\n",
              "            '<a target=\"_blank\" href=https://colab.research.google.com/notebooks/data_table.ipynb>data table notebook</a>'\n",
              "            + ' to learn more about interactive tables.';\n",
              "          element.innerHTML = '';\n",
              "          dataTable['output_type'] = 'display_data';\n",
              "          await google.colab.output.renderOutput(dataTable, element);\n",
              "          const docLink = document.createElement('div');\n",
              "          docLink.innerHTML = docLinkHtml;\n",
              "          element.appendChild(docLink);\n",
              "        }\n",
              "      </script>\n",
              "    </div>\n",
              "  </div>\n",
              "  "
            ]
          },
          "metadata": {},
          "execution_count": 691
        }
      ]
    },
    {
      "cell_type": "code",
      "source": [
        "x6= df3.iloc[ : , 0:1].values\n",
        "y6= df3.iloc[ : , 1].values"
      ],
      "metadata": {
        "id": "Fv26n4nye_FQ"
      },
      "execution_count": null,
      "outputs": []
    },
    {
      "cell_type": "code",
      "source": [
        "#deve-se escolher o melhor parametro de regularização(Alpha)\n",
        "modelo_elastic = ElasticNet(alpha= 0.001, l1_ratio=0.9999)\n",
        "modelo_elastic.fit(x6, y6)\n",
        "modelo_elastic.score(x6, y6)"
      ],
      "metadata": {
        "id": "FleY5VlVfBeW",
        "outputId": "bfcb0d8c-3fdf-4982-eb92-31d9efdcfad4",
        "colab": {
          "base_uri": "https://localhost:8080/"
        }
      },
      "execution_count": null,
      "outputs": [
        {
          "output_type": "execute_result",
          "data": {
            "text/plain": [
              "0.8371060291239523"
            ]
          },
          "metadata": {},
          "execution_count": 693
        }
      ]
    },
    {
      "cell_type": "code",
      "source": [
        "modelo_elastic.intercept_"
      ],
      "metadata": {
        "id": "IxZezT8yfZAd",
        "outputId": "3ceae279-9b86-4e45-d949-d8777adc949e",
        "colab": {
          "base_uri": "https://localhost:8080/"
        }
      },
      "execution_count": null,
      "outputs": [
        {
          "output_type": "execute_result",
          "data": {
            "text/plain": [
              "948.4751898885793"
            ]
          },
          "metadata": {},
          "execution_count": 694
        }
      ]
    },
    {
      "cell_type": "code",
      "source": [
        "modelo_elastic.coef_"
      ],
      "metadata": {
        "id": "d6KSQCDRfGA8",
        "outputId": "9c9ce173-3da5-45dd-eb01-c57ad732353e",
        "colab": {
          "base_uri": "https://localhost:8080/"
        }
      },
      "execution_count": null,
      "outputs": [
        {
          "output_type": "execute_result",
          "data": {
            "text/plain": [
              "array([-47.52956822])"
            ]
          },
          "metadata": {},
          "execution_count": 695
        }
      ]
    },
    {
      "cell_type": "markdown",
      "source": [
        "pH meio aquoso = 948.47518 - -47.5295*Valores_Analogicos_Sensor_pH"
      ],
      "metadata": {
        "id": "pyn5Ua2ifeub"
      }
    },
    {
      "cell_type": "code",
      "source": [
        "previsaoelastic = modelo_elastic.predict(x6)"
      ],
      "metadata": {
        "id": "whKzf8obfc3Z"
      },
      "execution_count": null,
      "outputs": []
    },
    {
      "cell_type": "code",
      "source": [
        "df6['previsaoelastic'] = modelo_elastic.predict(x6)"
      ],
      "metadata": {
        "id": "dKWZdeTtfqGG"
      },
      "execution_count": null,
      "outputs": []
    },
    {
      "cell_type": "code",
      "source": [
        "df6['erro_abs'] = abs (df6.Valores_Analogicos_Sensor_pH - df6.previsaoelastic)"
      ],
      "metadata": {
        "id": "oLUc2fYcfuBB"
      },
      "execution_count": null,
      "outputs": []
    },
    {
      "cell_type": "code",
      "source": [
        "df6"
      ],
      "metadata": {
        "id": "Rd3Uo1rLfzJY",
        "outputId": "eee2ea00-dd4a-4ae4-9b5b-386d241e8141",
        "colab": {
          "base_uri": "https://localhost:8080/",
          "height": 424
        }
      },
      "execution_count": null,
      "outputs": [
        {
          "output_type": "execute_result",
          "data": {
            "text/plain": [
              "    pH_Meio_Aquoso  Valores_Analogicos_Sensor_pH  previsaoelastic   erro_abs\n",
              "0              5.1                        711.00       706.074392   4.925608\n",
              "1              4.5                        724.00       734.592133  10.592133\n",
              "2              7.0                        601.00       615.768212  14.768212\n",
              "3              4.2                        763.50       748.851003  14.648997\n",
              "4              6.1                        645.25       658.544824  13.294824\n",
              "..             ...                           ...              ...        ...\n",
              "73             7.5                        644.10       592.003428  52.096572\n",
              "74             7.0                        609.40       615.768212   6.368212\n",
              "75             7.3                        578.80       601.509342  22.709342\n",
              "76             6.1                        650.50       658.544824   8.044824\n",
              "77             5.8                        633.00       672.803694  39.803694\n",
              "\n",
              "[77 rows x 4 columns]"
            ],
            "text/html": [
              "\n",
              "  <div id=\"df-42b4669f-de31-4624-923d-1f805e82cad2\">\n",
              "    <div class=\"colab-df-container\">\n",
              "      <div>\n",
              "<style scoped>\n",
              "    .dataframe tbody tr th:only-of-type {\n",
              "        vertical-align: middle;\n",
              "    }\n",
              "\n",
              "    .dataframe tbody tr th {\n",
              "        vertical-align: top;\n",
              "    }\n",
              "\n",
              "    .dataframe thead th {\n",
              "        text-align: right;\n",
              "    }\n",
              "</style>\n",
              "<table border=\"1\" class=\"dataframe\">\n",
              "  <thead>\n",
              "    <tr style=\"text-align: right;\">\n",
              "      <th></th>\n",
              "      <th>pH_Meio_Aquoso</th>\n",
              "      <th>Valores_Analogicos_Sensor_pH</th>\n",
              "      <th>previsaoelastic</th>\n",
              "      <th>erro_abs</th>\n",
              "    </tr>\n",
              "  </thead>\n",
              "  <tbody>\n",
              "    <tr>\n",
              "      <th>0</th>\n",
              "      <td>5.1</td>\n",
              "      <td>711.00</td>\n",
              "      <td>706.074392</td>\n",
              "      <td>4.925608</td>\n",
              "    </tr>\n",
              "    <tr>\n",
              "      <th>1</th>\n",
              "      <td>4.5</td>\n",
              "      <td>724.00</td>\n",
              "      <td>734.592133</td>\n",
              "      <td>10.592133</td>\n",
              "    </tr>\n",
              "    <tr>\n",
              "      <th>2</th>\n",
              "      <td>7.0</td>\n",
              "      <td>601.00</td>\n",
              "      <td>615.768212</td>\n",
              "      <td>14.768212</td>\n",
              "    </tr>\n",
              "    <tr>\n",
              "      <th>3</th>\n",
              "      <td>4.2</td>\n",
              "      <td>763.50</td>\n",
              "      <td>748.851003</td>\n",
              "      <td>14.648997</td>\n",
              "    </tr>\n",
              "    <tr>\n",
              "      <th>4</th>\n",
              "      <td>6.1</td>\n",
              "      <td>645.25</td>\n",
              "      <td>658.544824</td>\n",
              "      <td>13.294824</td>\n",
              "    </tr>\n",
              "    <tr>\n",
              "      <th>...</th>\n",
              "      <td>...</td>\n",
              "      <td>...</td>\n",
              "      <td>...</td>\n",
              "      <td>...</td>\n",
              "    </tr>\n",
              "    <tr>\n",
              "      <th>73</th>\n",
              "      <td>7.5</td>\n",
              "      <td>644.10</td>\n",
              "      <td>592.003428</td>\n",
              "      <td>52.096572</td>\n",
              "    </tr>\n",
              "    <tr>\n",
              "      <th>74</th>\n",
              "      <td>7.0</td>\n",
              "      <td>609.40</td>\n",
              "      <td>615.768212</td>\n",
              "      <td>6.368212</td>\n",
              "    </tr>\n",
              "    <tr>\n",
              "      <th>75</th>\n",
              "      <td>7.3</td>\n",
              "      <td>578.80</td>\n",
              "      <td>601.509342</td>\n",
              "      <td>22.709342</td>\n",
              "    </tr>\n",
              "    <tr>\n",
              "      <th>76</th>\n",
              "      <td>6.1</td>\n",
              "      <td>650.50</td>\n",
              "      <td>658.544824</td>\n",
              "      <td>8.044824</td>\n",
              "    </tr>\n",
              "    <tr>\n",
              "      <th>77</th>\n",
              "      <td>5.8</td>\n",
              "      <td>633.00</td>\n",
              "      <td>672.803694</td>\n",
              "      <td>39.803694</td>\n",
              "    </tr>\n",
              "  </tbody>\n",
              "</table>\n",
              "<p>77 rows × 4 columns</p>\n",
              "</div>\n",
              "      <button class=\"colab-df-convert\" onclick=\"convertToInteractive('df-42b4669f-de31-4624-923d-1f805e82cad2')\"\n",
              "              title=\"Convert this dataframe to an interactive table.\"\n",
              "              style=\"display:none;\">\n",
              "        \n",
              "  <svg xmlns=\"http://www.w3.org/2000/svg\" height=\"24px\"viewBox=\"0 0 24 24\"\n",
              "       width=\"24px\">\n",
              "    <path d=\"M0 0h24v24H0V0z\" fill=\"none\"/>\n",
              "    <path d=\"M18.56 5.44l.94 2.06.94-2.06 2.06-.94-2.06-.94-.94-2.06-.94 2.06-2.06.94zm-11 1L8.5 8.5l.94-2.06 2.06-.94-2.06-.94L8.5 2.5l-.94 2.06-2.06.94zm10 10l.94 2.06.94-2.06 2.06-.94-2.06-.94-.94-2.06-.94 2.06-2.06.94z\"/><path d=\"M17.41 7.96l-1.37-1.37c-.4-.4-.92-.59-1.43-.59-.52 0-1.04.2-1.43.59L10.3 9.45l-7.72 7.72c-.78.78-.78 2.05 0 2.83L4 21.41c.39.39.9.59 1.41.59.51 0 1.02-.2 1.41-.59l7.78-7.78 2.81-2.81c.8-.78.8-2.07 0-2.86zM5.41 20L4 18.59l7.72-7.72 1.47 1.35L5.41 20z\"/>\n",
              "  </svg>\n",
              "      </button>\n",
              "      \n",
              "  <style>\n",
              "    .colab-df-container {\n",
              "      display:flex;\n",
              "      flex-wrap:wrap;\n",
              "      gap: 12px;\n",
              "    }\n",
              "\n",
              "    .colab-df-convert {\n",
              "      background-color: #E8F0FE;\n",
              "      border: none;\n",
              "      border-radius: 50%;\n",
              "      cursor: pointer;\n",
              "      display: none;\n",
              "      fill: #1967D2;\n",
              "      height: 32px;\n",
              "      padding: 0 0 0 0;\n",
              "      width: 32px;\n",
              "    }\n",
              "\n",
              "    .colab-df-convert:hover {\n",
              "      background-color: #E2EBFA;\n",
              "      box-shadow: 0px 1px 2px rgba(60, 64, 67, 0.3), 0px 1px 3px 1px rgba(60, 64, 67, 0.15);\n",
              "      fill: #174EA6;\n",
              "    }\n",
              "\n",
              "    [theme=dark] .colab-df-convert {\n",
              "      background-color: #3B4455;\n",
              "      fill: #D2E3FC;\n",
              "    }\n",
              "\n",
              "    [theme=dark] .colab-df-convert:hover {\n",
              "      background-color: #434B5C;\n",
              "      box-shadow: 0px 1px 3px 1px rgba(0, 0, 0, 0.15);\n",
              "      filter: drop-shadow(0px 1px 2px rgba(0, 0, 0, 0.3));\n",
              "      fill: #FFFFFF;\n",
              "    }\n",
              "  </style>\n",
              "\n",
              "      <script>\n",
              "        const buttonEl =\n",
              "          document.querySelector('#df-42b4669f-de31-4624-923d-1f805e82cad2 button.colab-df-convert');\n",
              "        buttonEl.style.display =\n",
              "          google.colab.kernel.accessAllowed ? 'block' : 'none';\n",
              "\n",
              "        async function convertToInteractive(key) {\n",
              "          const element = document.querySelector('#df-42b4669f-de31-4624-923d-1f805e82cad2');\n",
              "          const dataTable =\n",
              "            await google.colab.kernel.invokeFunction('convertToInteractive',\n",
              "                                                     [key], {});\n",
              "          if (!dataTable) return;\n",
              "\n",
              "          const docLinkHtml = 'Like what you see? Visit the ' +\n",
              "            '<a target=\"_blank\" href=https://colab.research.google.com/notebooks/data_table.ipynb>data table notebook</a>'\n",
              "            + ' to learn more about interactive tables.';\n",
              "          element.innerHTML = '';\n",
              "          dataTable['output_type'] = 'display_data';\n",
              "          await google.colab.output.renderOutput(dataTable, element);\n",
              "          const docLink = document.createElement('div');\n",
              "          docLink.innerHTML = docLinkHtml;\n",
              "          element.appendChild(docLink);\n",
              "        }\n",
              "      </script>\n",
              "    </div>\n",
              "  </div>\n",
              "  "
            ]
          },
          "metadata": {},
          "execution_count": 699
        }
      ]
    },
    {
      "cell_type": "code",
      "source": [
        "#Erro Absoluto Médio(MAE)\n",
        "from sklearn.metrics import mean_absolute_error\n",
        "mean_absolute_error(df6.Valores_Analogicos_Sensor_pH, df6.previsaoelastic)"
      ],
      "metadata": {
        "id": "_dOw3CyQf2NA",
        "outputId": "9fb392e0-fa47-4a12-81bd-0ab997d5bb5c",
        "colab": {
          "base_uri": "https://localhost:8080/"
        }
      },
      "execution_count": null,
      "outputs": [
        {
          "output_type": "execute_result",
          "data": {
            "text/plain": [
              "18.050404972045815"
            ]
          },
          "metadata": {},
          "execution_count": 700
        }
      ]
    },
    {
      "cell_type": "code",
      "source": [
        "#Erro médio Quadrático(MSE)\n",
        "from sklearn.metrics import mean_squared_error\n",
        "mean_squared_error(df6.Valores_Analogicos_Sensor_pH, df6.previsaoelastic)"
      ],
      "metadata": {
        "id": "Wd1X9j3lf6Jh",
        "outputId": "2f2e8722-0983-4d97-f7c3-5eec42180d35",
        "colab": {
          "base_uri": "https://localhost:8080/"
        }
      },
      "execution_count": null,
      "outputs": [
        {
          "output_type": "execute_result",
          "data": {
            "text/plain": [
              "564.5768839939781"
            ]
          },
          "metadata": {},
          "execution_count": 701
        }
      ]
    }
  ]
}