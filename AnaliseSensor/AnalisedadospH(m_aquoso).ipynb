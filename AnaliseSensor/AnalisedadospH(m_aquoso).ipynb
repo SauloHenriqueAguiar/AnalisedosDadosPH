{
  "nbformat": 4,
  "nbformat_minor": 0,
  "metadata": {
    "colab": {
      "provenance": [],
      "collapsed_sections": [],
      "authorship_tag": "ABX9TyP2rnnzTje3uEwT2IgHAtst",
      "include_colab_link": true
    },
    "kernelspec": {
      "name": "python3",
      "display_name": "Python 3"
    },
    "language_info": {
      "name": "python"
    }
  },
  "cells": [
    {
      "cell_type": "markdown",
      "metadata": {
        "id": "view-in-github",
        "colab_type": "text"
      },
      "source": [
        "<a href=\"https://colab.research.google.com/github/SauloHenriqueAguiar/pHSensor/blob/main/AnalisedadospH(m_aquoso).ipynb\" target=\"_parent\"><img src=\"https://colab.research.google.com/assets/colab-badge.svg\" alt=\"Open In Colab\"/></a>"
      ]
    },
    {
      "cell_type": "code",
      "execution_count": 112,
      "metadata": {
        "id": "zVfYlADfYn7L"
      },
      "outputs": [],
      "source": [
        "import pandas as pd \n",
        "read_file = pd.read_excel (\"/content/dadospH.xlsx\")"
      ]
    },
    {
      "cell_type": "code",
      "source": [
        "read_file.to_csv (\"/content/dadospH.csv\",  \n",
        "                  index = None, \n",
        "                  header=True)"
      ],
      "metadata": {
        "id": "uq_QjFMxaYnb"
      },
      "execution_count": 113,
      "outputs": []
    },
    {
      "cell_type": "code",
      "source": [
        "df = pd.DataFrame(pd.read_csv(\"/content/dadospH.csv\"))"
      ],
      "metadata": {
        "id": "QIH_DioPag2_"
      },
      "execution_count": 114,
      "outputs": []
    },
    {
      "cell_type": "code",
      "source": [
        "df"
      ],
      "metadata": {
        "colab": {
          "base_uri": "https://localhost:8080/",
          "height": 424
        },
        "id": "tplZqyY-akgm",
        "outputId": "83688b9c-da25-4298-99f6-4cf11e094d90"
      },
      "execution_count": 115,
      "outputs": [
        {
          "output_type": "execute_result",
          "data": {
            "text/plain": [
              "    pH_Meio_Aquoso  pH_Medicao_Direta_Akso  ESP32_Média_Movel\n",
              "0              7.0                    7.23                607\n",
              "1              6.7                    6.83                695\n",
              "2              7.2                    6.92                671\n",
              "3              7.2                    6.99                667\n",
              "4              7.4                    7.30                652\n",
              "..             ...                     ...                ...\n",
              "84             7.5                    7.85                603\n",
              "85             7.5                    7.11                657\n",
              "86             6.1                    6.56                685\n",
              "87             5.2                    5.70                785\n",
              "88             7.0                    6.80                672\n",
              "\n",
              "[89 rows x 3 columns]"
            ],
            "text/html": [
              "\n",
              "  <div id=\"df-0f6e2f08-5c0d-4688-978c-658653133a3a\">\n",
              "    <div class=\"colab-df-container\">\n",
              "      <div>\n",
              "<style scoped>\n",
              "    .dataframe tbody tr th:only-of-type {\n",
              "        vertical-align: middle;\n",
              "    }\n",
              "\n",
              "    .dataframe tbody tr th {\n",
              "        vertical-align: top;\n",
              "    }\n",
              "\n",
              "    .dataframe thead th {\n",
              "        text-align: right;\n",
              "    }\n",
              "</style>\n",
              "<table border=\"1\" class=\"dataframe\">\n",
              "  <thead>\n",
              "    <tr style=\"text-align: right;\">\n",
              "      <th></th>\n",
              "      <th>pH_Meio_Aquoso</th>\n",
              "      <th>pH_Medicao_Direta_Akso</th>\n",
              "      <th>ESP32_Média_Movel</th>\n",
              "    </tr>\n",
              "  </thead>\n",
              "  <tbody>\n",
              "    <tr>\n",
              "      <th>0</th>\n",
              "      <td>7.0</td>\n",
              "      <td>7.23</td>\n",
              "      <td>607</td>\n",
              "    </tr>\n",
              "    <tr>\n",
              "      <th>1</th>\n",
              "      <td>6.7</td>\n",
              "      <td>6.83</td>\n",
              "      <td>695</td>\n",
              "    </tr>\n",
              "    <tr>\n",
              "      <th>2</th>\n",
              "      <td>7.2</td>\n",
              "      <td>6.92</td>\n",
              "      <td>671</td>\n",
              "    </tr>\n",
              "    <tr>\n",
              "      <th>3</th>\n",
              "      <td>7.2</td>\n",
              "      <td>6.99</td>\n",
              "      <td>667</td>\n",
              "    </tr>\n",
              "    <tr>\n",
              "      <th>4</th>\n",
              "      <td>7.4</td>\n",
              "      <td>7.30</td>\n",
              "      <td>652</td>\n",
              "    </tr>\n",
              "    <tr>\n",
              "      <th>...</th>\n",
              "      <td>...</td>\n",
              "      <td>...</td>\n",
              "      <td>...</td>\n",
              "    </tr>\n",
              "    <tr>\n",
              "      <th>84</th>\n",
              "      <td>7.5</td>\n",
              "      <td>7.85</td>\n",
              "      <td>603</td>\n",
              "    </tr>\n",
              "    <tr>\n",
              "      <th>85</th>\n",
              "      <td>7.5</td>\n",
              "      <td>7.11</td>\n",
              "      <td>657</td>\n",
              "    </tr>\n",
              "    <tr>\n",
              "      <th>86</th>\n",
              "      <td>6.1</td>\n",
              "      <td>6.56</td>\n",
              "      <td>685</td>\n",
              "    </tr>\n",
              "    <tr>\n",
              "      <th>87</th>\n",
              "      <td>5.2</td>\n",
              "      <td>5.70</td>\n",
              "      <td>785</td>\n",
              "    </tr>\n",
              "    <tr>\n",
              "      <th>88</th>\n",
              "      <td>7.0</td>\n",
              "      <td>6.80</td>\n",
              "      <td>672</td>\n",
              "    </tr>\n",
              "  </tbody>\n",
              "</table>\n",
              "<p>89 rows × 3 columns</p>\n",
              "</div>\n",
              "      <button class=\"colab-df-convert\" onclick=\"convertToInteractive('df-0f6e2f08-5c0d-4688-978c-658653133a3a')\"\n",
              "              title=\"Convert this dataframe to an interactive table.\"\n",
              "              style=\"display:none;\">\n",
              "        \n",
              "  <svg xmlns=\"http://www.w3.org/2000/svg\" height=\"24px\"viewBox=\"0 0 24 24\"\n",
              "       width=\"24px\">\n",
              "    <path d=\"M0 0h24v24H0V0z\" fill=\"none\"/>\n",
              "    <path d=\"M18.56 5.44l.94 2.06.94-2.06 2.06-.94-2.06-.94-.94-2.06-.94 2.06-2.06.94zm-11 1L8.5 8.5l.94-2.06 2.06-.94-2.06-.94L8.5 2.5l-.94 2.06-2.06.94zm10 10l.94 2.06.94-2.06 2.06-.94-2.06-.94-.94-2.06-.94 2.06-2.06.94z\"/><path d=\"M17.41 7.96l-1.37-1.37c-.4-.4-.92-.59-1.43-.59-.52 0-1.04.2-1.43.59L10.3 9.45l-7.72 7.72c-.78.78-.78 2.05 0 2.83L4 21.41c.39.39.9.59 1.41.59.51 0 1.02-.2 1.41-.59l7.78-7.78 2.81-2.81c.8-.78.8-2.07 0-2.86zM5.41 20L4 18.59l7.72-7.72 1.47 1.35L5.41 20z\"/>\n",
              "  </svg>\n",
              "      </button>\n",
              "      \n",
              "  <style>\n",
              "    .colab-df-container {\n",
              "      display:flex;\n",
              "      flex-wrap:wrap;\n",
              "      gap: 12px;\n",
              "    }\n",
              "\n",
              "    .colab-df-convert {\n",
              "      background-color: #E8F0FE;\n",
              "      border: none;\n",
              "      border-radius: 50%;\n",
              "      cursor: pointer;\n",
              "      display: none;\n",
              "      fill: #1967D2;\n",
              "      height: 32px;\n",
              "      padding: 0 0 0 0;\n",
              "      width: 32px;\n",
              "    }\n",
              "\n",
              "    .colab-df-convert:hover {\n",
              "      background-color: #E2EBFA;\n",
              "      box-shadow: 0px 1px 2px rgba(60, 64, 67, 0.3), 0px 1px 3px 1px rgba(60, 64, 67, 0.15);\n",
              "      fill: #174EA6;\n",
              "    }\n",
              "\n",
              "    [theme=dark] .colab-df-convert {\n",
              "      background-color: #3B4455;\n",
              "      fill: #D2E3FC;\n",
              "    }\n",
              "\n",
              "    [theme=dark] .colab-df-convert:hover {\n",
              "      background-color: #434B5C;\n",
              "      box-shadow: 0px 1px 3px 1px rgba(0, 0, 0, 0.15);\n",
              "      filter: drop-shadow(0px 1px 2px rgba(0, 0, 0, 0.3));\n",
              "      fill: #FFFFFF;\n",
              "    }\n",
              "  </style>\n",
              "\n",
              "      <script>\n",
              "        const buttonEl =\n",
              "          document.querySelector('#df-0f6e2f08-5c0d-4688-978c-658653133a3a button.colab-df-convert');\n",
              "        buttonEl.style.display =\n",
              "          google.colab.kernel.accessAllowed ? 'block' : 'none';\n",
              "\n",
              "        async function convertToInteractive(key) {\n",
              "          const element = document.querySelector('#df-0f6e2f08-5c0d-4688-978c-658653133a3a');\n",
              "          const dataTable =\n",
              "            await google.colab.kernel.invokeFunction('convertToInteractive',\n",
              "                                                     [key], {});\n",
              "          if (!dataTable) return;\n",
              "\n",
              "          const docLinkHtml = 'Like what you see? Visit the ' +\n",
              "            '<a target=\"_blank\" href=https://colab.research.google.com/notebooks/data_table.ipynb>data table notebook</a>'\n",
              "            + ' to learn more about interactive tables.';\n",
              "          element.innerHTML = '';\n",
              "          dataTable['output_type'] = 'display_data';\n",
              "          await google.colab.output.renderOutput(dataTable, element);\n",
              "          const docLink = document.createElement('div');\n",
              "          docLink.innerHTML = docLinkHtml;\n",
              "          element.appendChild(docLink);\n",
              "        }\n",
              "      </script>\n",
              "    </div>\n",
              "  </div>\n",
              "  "
            ]
          },
          "metadata": {},
          "execution_count": 115
        }
      ]
    },
    {
      "cell_type": "code",
      "source": [
        "#Distribuição de dados pH med direta akso\n",
        "import matplotlib.pyplot as plt\n",
        "import pandas as pd \n",
        "df['pH_Medicao_Direta_Akso'].hist(bins=40)\n",
        "plt.tight_layout()\n",
        "plt.show()"
      ],
      "metadata": {
        "colab": {
          "base_uri": "https://localhost:8080/",
          "height": 297
        },
        "id": "unmdWB3Z9Qsa",
        "outputId": "a1d60fb7-797d-47b6-b78b-42946eab80e4"
      },
      "execution_count": 116,
      "outputs": [
        {
          "output_type": "display_data",
          "data": {
            "text/plain": [
              "<Figure size 432x288 with 1 Axes>"
            ],
            "image/png": "[encoded data removed]"
          },
          "metadata": {
            "needs_background": "light"
          }
        }
      ]
    },
    {
      "cell_type": "code",
      "source": [
        "#Distribuição de dados pH aquoso\n",
        "df['pH_Meio_Aquoso'].hist(bins=40)\n",
        "plt.tight_layout()\n",
        "plt.show()"
      ],
      "metadata": {
        "colab": {
          "base_uri": "https://localhost:8080/",
          "height": 297
        },
        "id": "Dv9mlOM5-dd9",
        "outputId": "30b9dae1-5dd7-4707-f6be-dc5289734be6"
      },
      "execution_count": 117,
      "outputs": [
        {
          "output_type": "display_data",
          "data": {
            "text/plain": [
              "<Figure size 432x288 with 1 Axes>"
            ],
            "image/png": "[encoded data removed]"
          },
          "metadata": {
            "needs_background": "light"
          }
        }
      ]
    },
    {
      "cell_type": "code",
      "source": [
        "#Distribuição de dados esp32\n",
        "df['ESP32_Média_Movel'].hist(bins=40)\n",
        "plt.tight_layout()\n",
        "plt.show()"
      ],
      "metadata": {
        "colab": {
          "base_uri": "https://localhost:8080/",
          "height": 297
        },
        "id": "_5PxnsdYIBVM",
        "outputId": "e587c228-499a-4e46-bb5b-d1b64c4cfd41"
      },
      "execution_count": 118,
      "outputs": [
        {
          "output_type": "display_data",
          "data": {
            "text/plain": [
              "<Figure size 432x288 with 1 Axes>"
            ],
            "image/png": "[encoded data removed]"
          },
          "metadata": {
            "needs_background": "light"
          }
        }
      ]
    },
    {
      "cell_type": "code",
      "source": [
        "# Verificar valores faltosos:\n",
        "pd.options.mode.use_inf_as_na = True\n",
        "df.isnull().sum()"
      ],
      "metadata": {
        "colab": {
          "base_uri": "https://localhost:8080/"
        },
        "id": "JtGdd4K_am2U",
        "outputId": "80ccb1f1-08e1-469e-e354-6ce0a576a046"
      },
      "execution_count": 119,
      "outputs": [
        {
          "output_type": "execute_result",
          "data": {
            "text/plain": [
              "pH_Meio_Aquoso            0\n",
              "pH_Medicao_Direta_Akso    0\n",
              "ESP32_Média_Movel         0\n",
              "dtype: int64"
            ]
          },
          "metadata": {},
          "execution_count": 119
        }
      ]
    },
    {
      "cell_type": "code",
      "source": [
        "#Verificar Outliers\n",
        "import warnings\n",
        "import matplotlib.pyplot as plt\n",
        "warnings.filterwarnings(\"ignore\")\n",
        "import seaborn as sns\n",
        "for feature in ['pH_Meio_Aquoso', 'pH_Medicao_Direta_Akso', 'ESP32_Média_Movel']:\n",
        "    fig, ax = plt.subplots(figsize=(6, 4))\n",
        "    sns.boxplot(df[feature])"
      ],
      "metadata": {
        "colab": {
          "base_uri": "https://localhost:8080/",
          "height": 807
        },
        "id": "xCTu9TMFat-B",
        "outputId": "46f4d71b-42bf-4d4c-dd81-3b3bf017c5b3"
      },
      "execution_count": 120,
      "outputs": [
        {
          "output_type": "display_data",
          "data": {
            "text/plain": [
              "<Figure size 432x288 with 1 Axes>"
            ],
            "image/png": "[encoded data removed]"
          },
          "metadata": {
            "needs_background": "light"
          }
        },
        {
          "output_type": "display_data",
          "data": {
            "text/plain": [
              "<Figure size 432x288 with 1 Axes>"
            ],
            "image/png": "[encoded data removed]"
          },
          "metadata": {
            "needs_background": "light"
          }
        },
        {
          "output_type": "display_data",
          "data": {
            "text/plain": [
              "<Figure size 432x288 with 1 Axes>"
            ],
            "image/png": "[encoded data removed]"
          },
          "metadata": {
            "needs_background": "light"
          }
        }
      ]
    },
    {
      "cell_type": "code",
      "source": [
        "from seaborn import jointplot\n",
        "for feature in ['pH_Meio_Aquoso', 'pH_Medicao_Direta_Akso', 'ESP32_Média_Movel']: \n",
        "  p = jointplot(feature, \"ESP32_Média_Movel\", data=df, kind=\"reg\")"
      ],
      "metadata": {
        "colab": {
          "base_uri": "https://localhost:8080/",
          "height": 1000
        },
        "id": "AuFw1MseavkI",
        "outputId": "74bd6543-797a-452f-a978-5c60b7fc6113"
      },
      "execution_count": 121,
      "outputs": [
        {
          "output_type": "display_data",
          "data": {
            "text/plain": [
              "<Figure size 432x432 with 3 Axes>"
            ],
            "image/png": "[encoded data removed]"
          },
          "metadata": {
            "needs_background": "light"
          }
        },
        {
          "output_type": "display_data",
          "data": {
            "text/plain": [
              "<Figure size 432x432 with 3 Axes>"
            ],
            "image/png": "[encoded data removed]"
          },
          "metadata": {
            "needs_background": "light"
          }
        },
        {
          "output_type": "display_data",
          "data": {
            "text/plain": [
              "<Figure size 432x432 with 3 Axes>"
            ],
            "image/png": "[encoded data removed]"
          },
          "metadata": {
            "needs_background": "light"
          }
        }
      ]
    },
    {
      "cell_type": "markdown",
      "source": [
        "##Correlação de Pearson"
      ],
      "metadata": {
        "id": "xBZLbdBaa7E-"
      }
    },
    {
      "cell_type": "code",
      "source": [
        "correlation = df.corr()\n",
        "# plot da matriz de correlação\n",
        "import seaborn as sn\n",
        "plot = sn.heatmap(correlation, annot = True, fmt=\".1f\", linewidths=.6)\n",
        "plot"
      ],
      "metadata": {
        "colab": {
          "base_uri": "https://localhost:8080/",
          "height": 401
        },
        "id": "QZf7ttpEa1iN",
        "outputId": "9c035584-a143-40b8-bb4d-c4aaad747f7b"
      },
      "execution_count": 122,
      "outputs": [
        {
          "output_type": "execute_result",
          "data": {
            "text/plain": [
              "<matplotlib.axes._subplots.AxesSubplot at 0x7f4efe11f5d0>"
            ]
          },
          "metadata": {},
          "execution_count": 122
        },
        {
          "output_type": "display_data",
          "data": {
            "text/plain": [
              "<Figure size 432x288 with 2 Axes>"
            ],
            "image/png": "[encoded data removed]"
          },
          "metadata": {
            "needs_background": "light"
          }
        }
      ]
    },
    {
      "cell_type": "code",
      "source": [
        "print(correlation)"
      ],
      "metadata": {
        "colab": {
          "base_uri": "https://localhost:8080/"
        },
        "id": "2MAku7jma_tn",
        "outputId": "2b2a4d2e-c6b5-48e4-f3ef-38d5d2b16cf6"
      },
      "execution_count": 123,
      "outputs": [
        {
          "output_type": "stream",
          "name": "stdout",
          "text": [
            "                        pH_Meio_Aquoso  pH_Medicao_Direta_Akso  \\\n",
            "pH_Meio_Aquoso                1.000000                0.972046   \n",
            "pH_Medicao_Direta_Akso        0.972046                1.000000   \n",
            "ESP32_Média_Movel            -0.923839               -0.909744   \n",
            "\n",
            "                        ESP32_Média_Movel  \n",
            "pH_Meio_Aquoso                  -0.923839  \n",
            "pH_Medicao_Direta_Akso          -0.909744  \n",
            "ESP32_Média_Movel                1.000000  \n"
          ]
        }
      ]
    },
    {
      "cell_type": "markdown",
      "source": [
        "##Correlação de Spearman"
      ],
      "metadata": {
        "id": "YONmljkIbI_O"
      }
    },
    {
      "cell_type": "code",
      "source": [
        "def display_correlation(discorr):\n",
        "    r = discorr.corr(method=\"spearman\")\n",
        "    plt.figure(figsize=(10,6))\n",
        "    heatmap = sns.heatmap(discorr.corr(), vmin=-1, \n",
        "                      vmax=1, annot=True)\n",
        "    plt.title(\"Spearman Correlation\")\n",
        "    return(r)"
      ],
      "metadata": {
        "id": "ashsILW5bCGu"
      },
      "execution_count": 124,
      "outputs": []
    },
    {
      "cell_type": "code",
      "source": [
        "import numpy as np\n",
        "import pandas as pd\n",
        "import seaborn as sns # For pairplots and heatmaps\n",
        "import matplotlib.pyplot as plt\n",
        "\n",
        "r_simple=display_correlation(df)"
      ],
      "metadata": {
        "colab": {
          "base_uri": "https://localhost:8080/",
          "height": 391
        },
        "id": "-bKJ26KcbL1q",
        "outputId": "3a1694cd-e3fd-468a-896a-65c8685360b4"
      },
      "execution_count": 125,
      "outputs": [
        {
          "output_type": "display_data",
          "data": {
            "text/plain": [
              "<Figure size 720x432 with 2 Axes>"
            ],
            "image/png": "[encoded data removed]"
          },
          "metadata": {
            "needs_background": "light"
          }
        }
      ]
    },
    {
      "cell_type": "code",
      "source": [
        "my_r = df.corr(method=\"spearman\")\n",
        "print(my_r)"
      ],
      "metadata": {
        "colab": {
          "base_uri": "https://localhost:8080/"
        },
        "id": "TOGJoffGbOLF",
        "outputId": "c35c0843-0966-490d-8d19-a94a0d2bbece"
      },
      "execution_count": 126,
      "outputs": [
        {
          "output_type": "stream",
          "name": "stdout",
          "text": [
            "                        pH_Meio_Aquoso  pH_Medicao_Direta_Akso  \\\n",
            "pH_Meio_Aquoso                1.000000                0.972102   \n",
            "pH_Medicao_Direta_Akso        0.972102                1.000000   \n",
            "ESP32_Média_Movel            -0.931042               -0.919443   \n",
            "\n",
            "                        ESP32_Média_Movel  \n",
            "pH_Meio_Aquoso                  -0.931042  \n",
            "pH_Medicao_Direta_Akso          -0.919443  \n",
            "ESP32_Média_Movel                1.000000  \n"
          ]
        }
      ]
    },
    {
      "cell_type": "markdown",
      "source": [
        "##Normalidade"
      ],
      "metadata": {
        "id": "yFxqf8QSJcbM"
      }
    },
    {
      "cell_type": "code",
      "source": [
        "plt.figure(figsize=(10,7), dpi= 80)\n",
        "sns.distplot(df['ESP32_Média_Movel'], color=\"dodgerblue\", label=\"Compact\",)"
      ],
      "metadata": {
        "colab": {
          "base_uri": "https://localhost:8080/",
          "height": 506
        },
        "id": "fmSYBAIJJOxQ",
        "outputId": "8995ba60-c5ca-4276-839a-f583cb0ca731"
      },
      "execution_count": 127,
      "outputs": [
        {
          "output_type": "execute_result",
          "data": {
            "text/plain": [
              "<matplotlib.axes._subplots.AxesSubplot at 0x7f4efe00c910>"
            ]
          },
          "metadata": {},
          "execution_count": 127
        },
        {
          "output_type": "display_data",
          "data": {
            "text/plain": [
              "<Figure size 800x560 with 1 Axes>"
            ],
            "image/png": "[encoded data removed]"
          },
          "metadata": {
            "needs_background": "light"
          }
        }
      ]
    },
    {
      "cell_type": "code",
      "source": [
        "plt.figure(figsize=(10,7), dpi= 80)\n",
        "sns.distplot(df['pH_Meio_Aquoso'], color=\"orange\", label=\"Compact\",)"
      ],
      "metadata": {
        "colab": {
          "base_uri": "https://localhost:8080/",
          "height": 505
        },
        "id": "z1nTBAgDJgal",
        "outputId": "6e67d475-ccfa-425d-aedb-9d98297c0e30"
      },
      "execution_count": 128,
      "outputs": [
        {
          "output_type": "execute_result",
          "data": {
            "text/plain": [
              "<matplotlib.axes._subplots.AxesSubplot at 0x7f4efe28fc90>"
            ]
          },
          "metadata": {},
          "execution_count": 128
        },
        {
          "output_type": "display_data",
          "data": {
            "text/plain": [
              "<Figure size 800x560 with 1 Axes>"
            ],
            "image/png": "[encoded data removed]"
          },
          "metadata": {
            "needs_background": "light"
          }
        }
      ]
    },
    {
      "cell_type": "code",
      "source": [
        "\n",
        "plt.figure(figsize=(10,7), dpi= 80)\n",
        "sns.distplot(df['pH_Medicao_Direta_Akso'], color=\"green\", label=\"Compact\",)"
      ],
      "metadata": {
        "colab": {
          "base_uri": "https://localhost:8080/",
          "height": 505
        },
        "id": "mh2N8LWcJu8R",
        "outputId": "37d10b5c-bbcf-46d0-83a6-47bf1e2784e4"
      },
      "execution_count": 129,
      "outputs": [
        {
          "output_type": "execute_result",
          "data": {
            "text/plain": [
              "<matplotlib.axes._subplots.AxesSubplot at 0x7f4efdfe4f50>"
            ]
          },
          "metadata": {},
          "execution_count": 129
        },
        {
          "output_type": "display_data",
          "data": {
            "text/plain": [
              "<Figure size 800x560 with 1 Axes>"
            ],
            "image/png": "[encoded data removed]"
          },
          "metadata": {
            "needs_background": "light"
          }
        }
      ]
    },
    {
      "cell_type": "code",
      "source": [
        "# Teste de normalidade valores da ESP-32\n",
        "from scipy import stats\n",
        "plt.show()\n",
        "alpha = 0.05\n",
        "k2, p = stats.normaltest(df['ESP32_Média_Movel'])\n",
        "\n",
        "#Hipotese nula: Os dados seguem distribuição normal\n",
        "#Hipotese alternativa: Os dados não seguem distribuição normal\n",
        "\n",
        "if p < alpha:\n",
        "    print(\"A Hipótese Nula pode ser rejeitada: Não segue distribuição normal\")\n",
        "else:\n",
        "    print(\"A hipótese nula não pode ser rejeitada: Segue distribuição normal\")"
      ],
      "metadata": {
        "colab": {
          "base_uri": "https://localhost:8080/"
        },
        "id": "kxiM-GdTKlOw",
        "outputId": "0ad7da58-d993-48a9-acd0-710342d13417"
      },
      "execution_count": 130,
      "outputs": [
        {
          "output_type": "stream",
          "name": "stdout",
          "text": [
            "A hipótese nula não pode ser rejeitada: Segue distribuição normal\n"
          ]
        }
      ]
    },
    {
      "cell_type": "code",
      "source": [
        "# teste de normalidade pH aquoso\n",
        "plt.show()\n",
        "alpha = 0.05\n",
        "k2, p = stats.normaltest(df['pH_Meio_Aquoso'])\n",
        "\n",
        "#Hipotese nula: Os dados seguem distribuição normal\n",
        "#Hipotese alternativa: Os dados não seguem distribuição normal\n",
        "\n",
        "if p < alpha:\n",
        "    print(\"A Hipótese Nula pode ser rejeitada: Não segue distribuição normal\")\n",
        "else:\n",
        "    print(\"A hipótese nula não pode ser rejeitada: Segue distribuição normal\")\n"
      ],
      "metadata": {
        "colab": {
          "base_uri": "https://localhost:8080/"
        },
        "id": "Uj_4enLWMdLk",
        "outputId": "981dd5b0-debb-4666-b99a-2f5e70506f00"
      },
      "execution_count": 131,
      "outputs": [
        {
          "output_type": "stream",
          "name": "stdout",
          "text": [
            "A hipótese nula não pode ser rejeitada: Segue distribuição normal\n"
          ]
        }
      ]
    },
    {
      "cell_type": "code",
      "source": [
        "# teste de normalidade pH aquoso\n",
        "plt.show()\n",
        "alpha = 0.05\n",
        "k2, p = stats.normaltest(df['pH_Medicao_Direta_Akso'])\n",
        "\n",
        "#Hipotese nula: Os dados seguem distribuição normal\n",
        "#Hipotese alternativa: Os dados não seguem distribuição normal\n",
        "\n",
        "if p < alpha:\n",
        "    print(\"A Hipótese Nula pode ser rejeitada: Não segue distribuição normal\")\n",
        "else:\n",
        "    print(\"A hipótese nula não pode ser rejeitada: Segue distribuição normal\")\n"
      ],
      "metadata": {
        "colab": {
          "base_uri": "https://localhost:8080/"
        },
        "id": "6-W-qBTlMrpu",
        "outputId": "c19da4e5-8366-4497-83b2-e9c266e4d7d7"
      },
      "execution_count": 132,
      "outputs": [
        {
          "output_type": "stream",
          "name": "stdout",
          "text": [
            "A hipótese nula não pode ser rejeitada: Segue distribuição normal\n"
          ]
        }
      ]
    },
    {
      "cell_type": "markdown",
      "source": [
        "##remover outleirs"
      ],
      "metadata": {
        "id": "1vQzBmciJZE_"
      }
    },
    {
      "cell_type": "code",
      "source": [
        "for x in ['pH_Meio_Aquoso']:\n",
        "    q75,q25 = np.percentile(df.loc[:,x],[75,25])\n",
        "    intr_qr = q75-q25\n",
        " \n",
        "    max = q75+(1.5*intr_qr)\n",
        "    min = q25-(1.5*intr_qr)\n",
        " \n",
        "    df.loc[df[x] < min,x] = np.nan\n",
        "    df.loc[df[x] > max,x] = np.nan"
      ],
      "metadata": {
        "id": "zBELOSOVJU0t"
      },
      "execution_count": 133,
      "outputs": []
    },
    {
      "cell_type": "code",
      "source": [
        "df.isnull().sum()"
      ],
      "metadata": {
        "colab": {
          "base_uri": "https://localhost:8080/"
        },
        "id": "kXLGNfG4Jj-Y",
        "outputId": "bbbde4fa-a5f6-49b6-f4a0-3b7f11a99b78"
      },
      "execution_count": 134,
      "outputs": [
        {
          "output_type": "execute_result",
          "data": {
            "text/plain": [
              "pH_Meio_Aquoso            0\n",
              "pH_Medicao_Direta_Akso    0\n",
              "ESP32_Média_Movel         0\n",
              "dtype: int64"
            ]
          },
          "metadata": {},
          "execution_count": 134
        }
      ]
    },
    {
      "cell_type": "code",
      "source": [
        "#descarte de outleires\n",
        "df = df.dropna(axis = 0)"
      ],
      "metadata": {
        "id": "wo1QHvEBJppP"
      },
      "execution_count": 135,
      "outputs": []
    },
    {
      "cell_type": "code",
      "source": [
        "df.isnull().sum()"
      ],
      "metadata": {
        "colab": {
          "base_uri": "https://localhost:8080/"
        },
        "id": "8g2VlpAqJsYA",
        "outputId": "dc4773b2-ec59-400c-f96c-0ea5bf150967"
      },
      "execution_count": 136,
      "outputs": [
        {
          "output_type": "execute_result",
          "data": {
            "text/plain": [
              "pH_Meio_Aquoso            0\n",
              "pH_Medicao_Direta_Akso    0\n",
              "ESP32_Média_Movel         0\n",
              "dtype: int64"
            ]
          },
          "metadata": {},
          "execution_count": 136
        }
      ]
    },
    {
      "cell_type": "code",
      "source": [
        "for x in ['ESP32_Média_Movel']:\n",
        "    q75,q25 = np.percentile(df.loc[:,x],[75,25])\n",
        "    intr_qr = q75-q25\n",
        " \n",
        "    max = q75+(1.5*intr_qr)\n",
        "    min = q25-(1.5*intr_qr)\n",
        " \n",
        "    df.loc[df[x] < min,x] = np.nan\n",
        "    df.loc[df[x] > max,x] = np.nan"
      ],
      "metadata": {
        "id": "28lhaGzTJt2y"
      },
      "execution_count": 137,
      "outputs": []
    },
    {
      "cell_type": "code",
      "source": [
        "df.isnull().sum()"
      ],
      "metadata": {
        "colab": {
          "base_uri": "https://localhost:8080/"
        },
        "id": "LZjYKcxUJ0_0",
        "outputId": "eb3860eb-c3bd-4102-e6aa-198d50c601a7"
      },
      "execution_count": 138,
      "outputs": [
        {
          "output_type": "execute_result",
          "data": {
            "text/plain": [
              "pH_Meio_Aquoso            0\n",
              "pH_Medicao_Direta_Akso    0\n",
              "ESP32_Média_Movel         0\n",
              "dtype: int64"
            ]
          },
          "metadata": {},
          "execution_count": 138
        }
      ]
    },
    {
      "cell_type": "code",
      "source": [
        "#descarte de outleires\n",
        "df = df.dropna(axis = 0)"
      ],
      "metadata": {
        "id": "3IIo-ftnJ4Fd"
      },
      "execution_count": 139,
      "outputs": []
    },
    {
      "cell_type": "code",
      "source": [
        "df.isnull().sum()"
      ],
      "metadata": {
        "colab": {
          "base_uri": "https://localhost:8080/"
        },
        "id": "I4ywfTjSJ8ap",
        "outputId": "040c872e-6774-4fcb-821e-1b9b971e61a2"
      },
      "execution_count": 140,
      "outputs": [
        {
          "output_type": "execute_result",
          "data": {
            "text/plain": [
              "pH_Meio_Aquoso            0\n",
              "pH_Medicao_Direta_Akso    0\n",
              "ESP32_Média_Movel         0\n",
              "dtype: int64"
            ]
          },
          "metadata": {},
          "execution_count": 140
        }
      ]
    },
    {
      "cell_type": "code",
      "source": [
        "# Verifique a distribuição de destino \n",
        "a= df [ 'pH_Medicao_Direta_Akso' ] .value_counts ( normalize = True )\n",
        "a"
      ],
      "metadata": {
        "colab": {
          "base_uri": "https://localhost:8080/"
        },
        "id": "fGg8oEqLZghz",
        "outputId": "f97853d6-965e-4c20-bb89-0e5f4d486790"
      },
      "execution_count": 141,
      "outputs": [
        {
          "output_type": "execute_result",
          "data": {
            "text/plain": [
              "6.80    0.033708\n",
              "4.80    0.033708\n",
              "7.00    0.033708\n",
              "4.32    0.022472\n",
              "6.27    0.022472\n",
              "          ...   \n",
              "9.03    0.011236\n",
              "4.35    0.011236\n",
              "7.74    0.011236\n",
              "7.47    0.011236\n",
              "5.70    0.011236\n",
              "Name: pH_Medicao_Direta_Akso, Length: 74, dtype: float64"
            ]
          },
          "metadata": {},
          "execution_count": 141
        }
      ]
    },
    {
      "cell_type": "code",
      "source": [
        "# Verifique a distribuição de destino \n",
        "b=df [ 'pH_Meio_Aquoso' ] .value_counts ( normalize = True )\n",
        "b"
      ],
      "metadata": {
        "colab": {
          "base_uri": "https://localhost:8080/"
        },
        "id": "Fu9sPgmXcLyD",
        "outputId": "291a93b9-ff21-4ee1-b49f-a06b749f27a7"
      },
      "execution_count": 142,
      "outputs": [
        {
          "output_type": "execute_result",
          "data": {
            "text/plain": [
              "7.50     0.067416\n",
              "7.00     0.056180\n",
              "6.10     0.044944\n",
              "7.40     0.044944\n",
              "4.50     0.033708\n",
              "6.40     0.033708\n",
              "6.70     0.033708\n",
              "4.60     0.033708\n",
              "5.10     0.033708\n",
              "6.00     0.033708\n",
              "7.30     0.033708\n",
              "7.20     0.033708\n",
              "5.20     0.033708\n",
              "6.20     0.022472\n",
              "8.00     0.022472\n",
              "8.80     0.022472\n",
              "5.00     0.022472\n",
              "6.60     0.022472\n",
              "6.50     0.022472\n",
              "8.10     0.022472\n",
              "5.70     0.022472\n",
              "5.80     0.022472\n",
              "6.90     0.022472\n",
              "4.70     0.022472\n",
              "4.10     0.011236\n",
              "10.36    0.011236\n",
              "4.90     0.011236\n",
              "7.70     0.011236\n",
              "4.30     0.011236\n",
              "5.30     0.011236\n",
              "8.50     0.011236\n",
              "4.20     0.011236\n",
              "4.80     0.011236\n",
              "7.10     0.011236\n",
              "10.16    0.011236\n",
              "7.60     0.011236\n",
              "9.50     0.011236\n",
              "9.00     0.011236\n",
              "8.41     0.011236\n",
              "5.50     0.011236\n",
              "4.40     0.011236\n",
              "6.80     0.011236\n",
              "5.40     0.011236\n",
              "5.90     0.011236\n",
              "7.80     0.011236\n",
              "Name: pH_Meio_Aquoso, dtype: float64"
            ]
          },
          "metadata": {},
          "execution_count": 142
        }
      ]
    },
    {
      "cell_type": "code",
      "source": [
        "# Verifique a distribuição de destino \n",
        "c= df [ 'ESP32_Média_Movel' ] .value_counts ( normalize = True )\n",
        "c"
      ],
      "metadata": {
        "colab": {
          "base_uri": "https://localhost:8080/"
        },
        "id": "OeYSQC15cY7g",
        "outputId": "d86c35fc-3c74-4113-9286-898f75a9f0f9"
      },
      "execution_count": 143,
      "outputs": [
        {
          "output_type": "execute_result",
          "data": {
            "text/plain": [
              "775.0    0.022472\n",
              "655.0    0.022472\n",
              "750.0    0.022472\n",
              "757.0    0.022472\n",
              "685.0    0.022472\n",
              "           ...   \n",
              "591.0    0.011236\n",
              "529.0    0.011236\n",
              "576.0    0.011236\n",
              "695.0    0.011236\n",
              "672.0    0.011236\n",
              "Name: ESP32_Média_Movel, Length: 76, dtype: float64"
            ]
          },
          "metadata": {},
          "execution_count": 143
        }
      ]
    },
    {
      "cell_type": "code",
      "source": [
        "# Visualize os dados \n",
        "plt.figure ( figsize= ( 12, 8 ))\n",
        "sns.scatterplot ( x = 'pH_Meio_Aquoso', y = 'ESP32_Média_Movel', hue = 'pH_Meio_Aquoso', data = df )"
      ],
      "metadata": {
        "colab": {
          "base_uri": "https://localhost:8080/",
          "height": 515
        },
        "id": "3rng4tBUcK-_",
        "outputId": "2e71b385-6575-4547-cc27-9ea0687006d2"
      },
      "execution_count": 144,
      "outputs": [
        {
          "output_type": "execute_result",
          "data": {
            "text/plain": [
              "<matplotlib.axes._subplots.AxesSubplot at 0x7f4efe1d6510>"
            ]
          },
          "metadata": {},
          "execution_count": 144
        },
        {
          "output_type": "display_data",
          "data": {
            "text/plain": [
              "<Figure size 864x576 with 1 Axes>"
            ],
            "image/png": "[encoded data removed]"
          },
          "metadata": {
            "needs_background": "light"
          }
        }
      ]
    },
    {
      "cell_type": "code",
      "source": [
        "plt.figure ( figsize= ( 12, 8 ))\n",
        "sns.scatterplot ( x = 'pH_Medicao_Direta_Akso', y = 'ESP32_Média_Movel', hue = 'pH_Medicao_Direta_Akso', data = df )"
      ],
      "metadata": {
        "colab": {
          "base_uri": "https://localhost:8080/",
          "height": 515
        },
        "id": "CWgJFIegdnZR",
        "outputId": "4b3e1285-88d3-49d0-ce85-809b97ce8730"
      },
      "execution_count": 145,
      "outputs": [
        {
          "output_type": "execute_result",
          "data": {
            "text/plain": [
              "<matplotlib.axes._subplots.AxesSubplot at 0x7f4effcbbd50>"
            ]
          },
          "metadata": {},
          "execution_count": 145
        },
        {
          "output_type": "display_data",
          "data": {
            "text/plain": [
              "<Figure size 864x576 with 1 Axes>"
            ],
            "image/png": "[encoded data removed]"
          },
          "metadata": {
            "needs_background": "light"
          }
        }
      ]
    },
    {
      "cell_type": "markdown",
      "source": [
        "##Analise da Normalidade\n",
        "Teste de Normalidade dos Dados\n",
        "\n",
        "Aplicou-se o teste Shapiro-Wilk:\n",
        "\n",
        "Ho= distribuição normal: p-value> 0.05.\n",
        "\n",
        "Ha = distribuição não normal : p-value <= 0,05"
      ],
      "metadata": {
        "id": "__WShaeMV7pZ"
      }
    },
    {
      "cell_type": "code",
      "source": [
        "import scipy.stats as stats\n",
        "import pylab\n",
        "def teste_shapiro(data):\n",
        "  shapiro_stat, shapiro_p_valor=stats.shapiro(data)\n",
        "  print('O valor da estatistica de Shapiro-Wilk =%.3f, O valor de p de Shapiro-Wilk=%.3f' % (shapiro_stat, shapiro_p_valor))\n",
        "  alpha = 0.05\n",
        "  return shapiro_p_valor > alpha\n",
        "\n",
        "for columns in list(df.keys()):\n",
        "   print(f'\\n** {columns} **')\n",
        "   nenhum_rejeita = True\n",
        "   for feature in ['pH_Meio_Aquoso', 'pH_Medicao_Direta_Akso', 'ESP32_Média_Movel']:\n",
        "    print(f'- Métrica: {feature}')\n",
        "    if teste_shapiro(df[feature]):\n",
        "      print(f'Segue uma distribuição Normal(não rejeita H0)')\n",
        "      nenhum_rejeita = False\n",
        "    if nenhum_rejeita: print('Não segue uma distribuição Normal (rejeita H0)')"
      ],
      "metadata": {
        "colab": {
          "base_uri": "https://localhost:8080/"
        },
        "id": "gKX2ITAPVo-x",
        "outputId": "d88d3577-4b89-4879-d3a4-081537abc90c"
      },
      "execution_count": 146,
      "outputs": [
        {
          "output_type": "stream",
          "name": "stdout",
          "text": [
            "\n",
            "** pH_Meio_Aquoso **\n",
            "- Métrica: pH_Meio_Aquoso\n",
            "O valor da estatistica de Shapiro-Wilk =0.972, O valor de p de Shapiro-Wilk=0.053\n",
            "Segue uma distribuição Normal(não rejeita H0)\n",
            "- Métrica: pH_Medicao_Direta_Akso\n",
            "O valor da estatistica de Shapiro-Wilk =0.973, O valor de p de Shapiro-Wilk=0.058\n",
            "Segue uma distribuição Normal(não rejeita H0)\n",
            "- Métrica: ESP32_Média_Movel\n",
            "O valor da estatistica de Shapiro-Wilk =0.979, O valor de p de Shapiro-Wilk=0.170\n",
            "Segue uma distribuição Normal(não rejeita H0)\n",
            "\n",
            "** pH_Medicao_Direta_Akso **\n",
            "- Métrica: pH_Meio_Aquoso\n",
            "O valor da estatistica de Shapiro-Wilk =0.972, O valor de p de Shapiro-Wilk=0.053\n",
            "Segue uma distribuição Normal(não rejeita H0)\n",
            "- Métrica: pH_Medicao_Direta_Akso\n",
            "O valor da estatistica de Shapiro-Wilk =0.973, O valor de p de Shapiro-Wilk=0.058\n",
            "Segue uma distribuição Normal(não rejeita H0)\n",
            "- Métrica: ESP32_Média_Movel\n",
            "O valor da estatistica de Shapiro-Wilk =0.979, O valor de p de Shapiro-Wilk=0.170\n",
            "Segue uma distribuição Normal(não rejeita H0)\n",
            "\n",
            "** ESP32_Média_Movel **\n",
            "- Métrica: pH_Meio_Aquoso\n",
            "O valor da estatistica de Shapiro-Wilk =0.972, O valor de p de Shapiro-Wilk=0.053\n",
            "Segue uma distribuição Normal(não rejeita H0)\n",
            "- Métrica: pH_Medicao_Direta_Akso\n",
            "O valor da estatistica de Shapiro-Wilk =0.973, O valor de p de Shapiro-Wilk=0.058\n",
            "Segue uma distribuição Normal(não rejeita H0)\n",
            "- Métrica: ESP32_Média_Movel\n",
            "O valor da estatistica de Shapiro-Wilk =0.979, O valor de p de Shapiro-Wilk=0.170\n",
            "Segue uma distribuição Normal(não rejeita H0)\n"
          ]
        }
      ]
    },
    {
      "cell_type": "code",
      "source": [
        "valoresphmedidos =df[['pH_Meio_Aquoso', 'pH_Medicao_Direta_Akso', 'ESP32_Média_Movel']]\n",
        "valoresphmedidos"
      ],
      "metadata": {
        "colab": {
          "base_uri": "https://localhost:8080/",
          "height": 424
        },
        "id": "G81ml2DubPgu",
        "outputId": "4ca523ff-423a-41b8-9185-f3a2d2af4a91"
      },
      "execution_count": 147,
      "outputs": [
        {
          "output_type": "execute_result",
          "data": {
            "text/plain": [
              "    pH_Meio_Aquoso  pH_Medicao_Direta_Akso  ESP32_Média_Movel\n",
              "0              7.0                    7.23              607.0\n",
              "1              6.7                    6.83              695.0\n",
              "2              7.2                    6.92              671.0\n",
              "3              7.2                    6.99              667.0\n",
              "4              7.4                    7.30              652.0\n",
              "..             ...                     ...                ...\n",
              "84             7.5                    7.85              603.0\n",
              "85             7.5                    7.11              657.0\n",
              "86             6.1                    6.56              685.0\n",
              "87             5.2                    5.70              785.0\n",
              "88             7.0                    6.80              672.0\n",
              "\n",
              "[89 rows x 3 columns]"
            ],
            "text/html": [
              "\n",
              "  <div id=\"df-13d289ed-d13d-4851-a604-3a4869c9311a\">\n",
              "    <div class=\"colab-df-container\">\n",
              "      <div>\n",
              "<style scoped>\n",
              "    .dataframe tbody tr th:only-of-type {\n",
              "        vertical-align: middle;\n",
              "    }\n",
              "\n",
              "    .dataframe tbody tr th {\n",
              "        vertical-align: top;\n",
              "    }\n",
              "\n",
              "    .dataframe thead th {\n",
              "        text-align: right;\n",
              "    }\n",
              "</style>\n",
              "<table border=\"1\" class=\"dataframe\">\n",
              "  <thead>\n",
              "    <tr style=\"text-align: right;\">\n",
              "      <th></th>\n",
              "      <th>pH_Meio_Aquoso</th>\n",
              "      <th>pH_Medicao_Direta_Akso</th>\n",
              "      <th>ESP32_Média_Movel</th>\n",
              "    </tr>\n",
              "  </thead>\n",
              "  <tbody>\n",
              "    <tr>\n",
              "      <th>0</th>\n",
              "      <td>7.0</td>\n",
              "      <td>7.23</td>\n",
              "      <td>607.0</td>\n",
              "    </tr>\n",
              "    <tr>\n",
              "      <th>1</th>\n",
              "      <td>6.7</td>\n",
              "      <td>6.83</td>\n",
              "      <td>695.0</td>\n",
              "    </tr>\n",
              "    <tr>\n",
              "      <th>2</th>\n",
              "      <td>7.2</td>\n",
              "      <td>6.92</td>\n",
              "      <td>671.0</td>\n",
              "    </tr>\n",
              "    <tr>\n",
              "      <th>3</th>\n",
              "      <td>7.2</td>\n",
              "      <td>6.99</td>\n",
              "      <td>667.0</td>\n",
              "    </tr>\n",
              "    <tr>\n",
              "      <th>4</th>\n",
              "      <td>7.4</td>\n",
              "      <td>7.30</td>\n",
              "      <td>652.0</td>\n",
              "    </tr>\n",
              "    <tr>\n",
              "      <th>...</th>\n",
              "      <td>...</td>\n",
              "      <td>...</td>\n",
              "      <td>...</td>\n",
              "    </tr>\n",
              "    <tr>\n",
              "      <th>84</th>\n",
              "      <td>7.5</td>\n",
              "      <td>7.85</td>\n",
              "      <td>603.0</td>\n",
              "    </tr>\n",
              "    <tr>\n",
              "      <th>85</th>\n",
              "      <td>7.5</td>\n",
              "      <td>7.11</td>\n",
              "      <td>657.0</td>\n",
              "    </tr>\n",
              "    <tr>\n",
              "      <th>86</th>\n",
              "      <td>6.1</td>\n",
              "      <td>6.56</td>\n",
              "      <td>685.0</td>\n",
              "    </tr>\n",
              "    <tr>\n",
              "      <th>87</th>\n",
              "      <td>5.2</td>\n",
              "      <td>5.70</td>\n",
              "      <td>785.0</td>\n",
              "    </tr>\n",
              "    <tr>\n",
              "      <th>88</th>\n",
              "      <td>7.0</td>\n",
              "      <td>6.80</td>\n",
              "      <td>672.0</td>\n",
              "    </tr>\n",
              "  </tbody>\n",
              "</table>\n",
              "<p>89 rows × 3 columns</p>\n",
              "</div>\n",
              "      <button class=\"colab-df-convert\" onclick=\"convertToInteractive('df-13d289ed-d13d-4851-a604-3a4869c9311a')\"\n",
              "              title=\"Convert this dataframe to an interactive table.\"\n",
              "              style=\"display:none;\">\n",
              "        \n",
              "  <svg xmlns=\"http://www.w3.org/2000/svg\" height=\"24px\"viewBox=\"0 0 24 24\"\n",
              "       width=\"24px\">\n",
              "    <path d=\"M0 0h24v24H0V0z\" fill=\"none\"/>\n",
              "    <path d=\"M18.56 5.44l.94 2.06.94-2.06 2.06-.94-2.06-.94-.94-2.06-.94 2.06-2.06.94zm-11 1L8.5 8.5l.94-2.06 2.06-.94-2.06-.94L8.5 2.5l-.94 2.06-2.06.94zm10 10l.94 2.06.94-2.06 2.06-.94-2.06-.94-.94-2.06-.94 2.06-2.06.94z\"/><path d=\"M17.41 7.96l-1.37-1.37c-.4-.4-.92-.59-1.43-.59-.52 0-1.04.2-1.43.59L10.3 9.45l-7.72 7.72c-.78.78-.78 2.05 0 2.83L4 21.41c.39.39.9.59 1.41.59.51 0 1.02-.2 1.41-.59l7.78-7.78 2.81-2.81c.8-.78.8-2.07 0-2.86zM5.41 20L4 18.59l7.72-7.72 1.47 1.35L5.41 20z\"/>\n",
              "  </svg>\n",
              "      </button>\n",
              "      \n",
              "  <style>\n",
              "    .colab-df-container {\n",
              "      display:flex;\n",
              "      flex-wrap:wrap;\n",
              "      gap: 12px;\n",
              "    }\n",
              "\n",
              "    .colab-df-convert {\n",
              "      background-color: #E8F0FE;\n",
              "      border: none;\n",
              "      border-radius: 50%;\n",
              "      cursor: pointer;\n",
              "      display: none;\n",
              "      fill: #1967D2;\n",
              "      height: 32px;\n",
              "      padding: 0 0 0 0;\n",
              "      width: 32px;\n",
              "    }\n",
              "\n",
              "    .colab-df-convert:hover {\n",
              "      background-color: #E2EBFA;\n",
              "      box-shadow: 0px 1px 2px rgba(60, 64, 67, 0.3), 0px 1px 3px 1px rgba(60, 64, 67, 0.15);\n",
              "      fill: #174EA6;\n",
              "    }\n",
              "\n",
              "    [theme=dark] .colab-df-convert {\n",
              "      background-color: #3B4455;\n",
              "      fill: #D2E3FC;\n",
              "    }\n",
              "\n",
              "    [theme=dark] .colab-df-convert:hover {\n",
              "      background-color: #434B5C;\n",
              "      box-shadow: 0px 1px 3px 1px rgba(0, 0, 0, 0.15);\n",
              "      filter: drop-shadow(0px 1px 2px rgba(0, 0, 0, 0.3));\n",
              "      fill: #FFFFFF;\n",
              "    }\n",
              "  </style>\n",
              "\n",
              "      <script>\n",
              "        const buttonEl =\n",
              "          document.querySelector('#df-13d289ed-d13d-4851-a604-3a4869c9311a button.colab-df-convert');\n",
              "        buttonEl.style.display =\n",
              "          google.colab.kernel.accessAllowed ? 'block' : 'none';\n",
              "\n",
              "        async function convertToInteractive(key) {\n",
              "          const element = document.querySelector('#df-13d289ed-d13d-4851-a604-3a4869c9311a');\n",
              "          const dataTable =\n",
              "            await google.colab.kernel.invokeFunction('convertToInteractive',\n",
              "                                                     [key], {});\n",
              "          if (!dataTable) return;\n",
              "\n",
              "          const docLinkHtml = 'Like what you see? Visit the ' +\n",
              "            '<a target=\"_blank\" href=https://colab.research.google.com/notebooks/data_table.ipynb>data table notebook</a>'\n",
              "            + ' to learn more about interactive tables.';\n",
              "          element.innerHTML = '';\n",
              "          dataTable['output_type'] = 'display_data';\n",
              "          await google.colab.output.renderOutput(dataTable, element);\n",
              "          const docLink = document.createElement('div');\n",
              "          docLink.innerHTML = docLinkHtml;\n",
              "          element.appendChild(docLink);\n",
              "        }\n",
              "      </script>\n",
              "    </div>\n",
              "  </div>\n",
              "  "
            ]
          },
          "metadata": {},
          "execution_count": 147
        }
      ]
    },
    {
      "cell_type": "code",
      "source": [
        "#pH medição meio aquoso\n",
        "stats.shapiro(valoresphmedidos.pH_Meio_Aquoso) "
      ],
      "metadata": {
        "colab": {
          "base_uri": "https://localhost:8080/"
        },
        "id": "Z3jwXhNQWhQI",
        "outputId": "ed10a9e3-73d4-47ce-c7ac-4e93135ccbef"
      },
      "execution_count": 148,
      "outputs": [
        {
          "output_type": "execute_result",
          "data": {
            "text/plain": [
              "ShapiroResult(statistic=0.9722622036933899, pvalue=0.05337866023182869)"
            ]
          },
          "metadata": {},
          "execution_count": 148
        }
      ]
    },
    {
      "cell_type": "markdown",
      "source": [
        "p > 0.05 então segue distribuição normal"
      ],
      "metadata": {
        "id": "R8NoQnE3glIT"
      }
    },
    {
      "cell_type": "code",
      "source": [
        "#pH medição direta no solo(akso)\n",
        "stats.shapiro(valoresphmedidos.pH_Medicao_Direta_Akso)"
      ],
      "metadata": {
        "colab": {
          "base_uri": "https://localhost:8080/"
        },
        "id": "4wkHND5ZgwOI",
        "outputId": "463eb003-73b9-4e03-b754-34ebda6f5afa"
      },
      "execution_count": 149,
      "outputs": [
        {
          "output_type": "execute_result",
          "data": {
            "text/plain": [
              "ShapiroResult(statistic=0.9727921485900879, pvalue=0.05815822631120682)"
            ]
          },
          "metadata": {},
          "execution_count": 149
        }
      ]
    },
    {
      "cell_type": "markdown",
      "source": [
        "p > 0.05 então segue distribuição normal"
      ],
      "metadata": {
        "id": "ZL_Ums67g2Ag"
      }
    },
    {
      "cell_type": "code",
      "source": [
        "# Valores analogicos ESP32_Média_Movel\n",
        "stats.shapiro(valoresphmedidos.ESP32_Média_Movel)"
      ],
      "metadata": {
        "colab": {
          "base_uri": "https://localhost:8080/"
        },
        "id": "zKu0iTdIg3fb",
        "outputId": "42cdcae6-36f3-44df-92a7-639833de89a5"
      },
      "execution_count": 150,
      "outputs": [
        {
          "output_type": "execute_result",
          "data": {
            "text/plain": [
              "ShapiroResult(statistic=0.9794191718101501, pvalue=0.16975319385528564)"
            ]
          },
          "metadata": {},
          "execution_count": 150
        }
      ]
    },
    {
      "cell_type": "code",
      "source": [
        "for feature in ['pH_Meio_Aquoso', 'pH_Medicao_Direta_Akso', 'ESP32_Média_Movel']:\n",
        "    stats.probplot(df[feature], dist=\"norm\", plot=pylab)\n",
        "    print(f'- Variável Correspondente: {feature}')\n",
        "    pylab.title(\"Normal Q-Q Plot\")\n",
        "    pylab.legend(['Dados','Dist.Normal'],loc='upper left')\n",
        "    pylab.show()"
      ],
      "metadata": {
        "colab": {
          "base_uri": "https://localhost:8080/",
          "height": 903
        },
        "id": "JrTD5uXuhE1w",
        "outputId": "e7e10beb-973f-4a0d-8184-2d5f03cb17ba"
      },
      "execution_count": 151,
      "outputs": [
        {
          "output_type": "stream",
          "name": "stdout",
          "text": [
            "- Variável Correspondente: pH_Meio_Aquoso\n"
          ]
        },
        {
          "output_type": "display_data",
          "data": {
            "text/plain": [
              "<Figure size 432x288 with 1 Axes>"
            ],
            "image/png": "[encoded data removed]"
          },
          "metadata": {
            "needs_background": "light"
          }
        },
        {
          "output_type": "stream",
          "name": "stdout",
          "text": [
            "- Variável Correspondente: pH_Medicao_Direta_Akso\n"
          ]
        },
        {
          "output_type": "display_data",
          "data": {
            "text/plain": [
              "<Figure size 432x288 with 1 Axes>"
            ],
            "image/png": "[encoded data removed]"
          },
          "metadata": {
            "needs_background": "light"
          }
        },
        {
          "output_type": "stream",
          "name": "stdout",
          "text": [
            "- Variável Correspondente: ESP32_Média_Movel\n"
          ]
        },
        {
          "output_type": "display_data",
          "data": {
            "text/plain": [
              "<Figure size 432x288 with 1 Axes>"
            ],
            "image/png": "[encoded data removed]"
          },
          "metadata": {
            "needs_background": "light"
          }
        }
      ]
    },
    {
      "cell_type": "code",
      "source": [
        "#Visualização de dados\n",
        "sns.pairplot(data=df, diag_kind='kde')"
      ],
      "metadata": {
        "colab": {
          "base_uri": "https://localhost:8080/",
          "height": 567
        },
        "id": "9BPH_EZ9Q7Pu",
        "outputId": "339c00ac-cfbe-4dfd-a792-c4499fb1ac6a"
      },
      "execution_count": 152,
      "outputs": [
        {
          "output_type": "execute_result",
          "data": {
            "text/plain": [
              "<seaborn.axisgrid.PairGrid at 0x7f4effb56890>"
            ]
          },
          "metadata": {},
          "execution_count": 152
        },
        {
          "output_type": "display_data",
          "data": {
            "text/plain": [
              "<Figure size 540x540 with 12 Axes>"
            ],
            "image/png": "[encoded data removed]"
          },
          "metadata": {
            "needs_background": "light"
          }
        }
      ]
    },
    {
      "cell_type": "markdown",
      "source": [
        "#Regressão Linear"
      ],
      "metadata": {
        "id": "iu9bjgUIQ_7U"
      }
    },
    {
      "cell_type": "code",
      "source": [
        "import pandas as pd #para ler e manipular nossos dados\n",
        "from sklearn.linear_model import LinearRegression  #modelo de regressão linear simples\n",
        "from sklearn.model_selection import train_test_split #ferramenta para separar nossos dados"
      ],
      "metadata": {
        "id": "NifpGTPCQ7rX"
      },
      "execution_count": 153,
      "outputs": []
    },
    {
      "cell_type": "code",
      "source": [
        "df1= df[['ESP32_Média_Movel', 'pH_Meio_Aquoso']]\n",
        "df1"
      ],
      "metadata": {
        "colab": {
          "base_uri": "https://localhost:8080/",
          "height": 424
        },
        "id": "VqVhDCqYRCme",
        "outputId": "109c5497-812a-4190-ea5d-557ff7dfb0e3"
      },
      "execution_count": 154,
      "outputs": [
        {
          "output_type": "execute_result",
          "data": {
            "text/plain": [
              "    ESP32_Média_Movel  pH_Meio_Aquoso\n",
              "0               607.0             7.0\n",
              "1               695.0             6.7\n",
              "2               671.0             7.2\n",
              "3               667.0             7.2\n",
              "4               652.0             7.4\n",
              "..                ...             ...\n",
              "84              603.0             7.5\n",
              "85              657.0             7.5\n",
              "86              685.0             6.1\n",
              "87              785.0             5.2\n",
              "88              672.0             7.0\n",
              "\n",
              "[89 rows x 2 columns]"
            ],
            "text/html": [
              "\n",
              "  <div id=\"df-02070a44-fc69-43b6-846f-1aa75711d131\">\n",
              "    <div class=\"colab-df-container\">\n",
              "      <div>\n",
              "<style scoped>\n",
              "    .dataframe tbody tr th:only-of-type {\n",
              "        vertical-align: middle;\n",
              "    }\n",
              "\n",
              "    .dataframe tbody tr th {\n",
              "        vertical-align: top;\n",
              "    }\n",
              "\n",
              "    .dataframe thead th {\n",
              "        text-align: right;\n",
              "    }\n",
              "</style>\n",
              "<table border=\"1\" class=\"dataframe\">\n",
              "  <thead>\n",
              "    <tr style=\"text-align: right;\">\n",
              "      <th></th>\n",
              "      <th>ESP32_Média_Movel</th>\n",
              "      <th>pH_Meio_Aquoso</th>\n",
              "    </tr>\n",
              "  </thead>\n",
              "  <tbody>\n",
              "    <tr>\n",
              "      <th>0</th>\n",
              "      <td>607.0</td>\n",
              "      <td>7.0</td>\n",
              "    </tr>\n",
              "    <tr>\n",
              "      <th>1</th>\n",
              "      <td>695.0</td>\n",
              "      <td>6.7</td>\n",
              "    </tr>\n",
              "    <tr>\n",
              "      <th>2</th>\n",
              "      <td>671.0</td>\n",
              "      <td>7.2</td>\n",
              "    </tr>\n",
              "    <tr>\n",
              "      <th>3</th>\n",
              "      <td>667.0</td>\n",
              "      <td>7.2</td>\n",
              "    </tr>\n",
              "    <tr>\n",
              "      <th>4</th>\n",
              "      <td>652.0</td>\n",
              "      <td>7.4</td>\n",
              "    </tr>\n",
              "    <tr>\n",
              "      <th>...</th>\n",
              "      <td>...</td>\n",
              "      <td>...</td>\n",
              "    </tr>\n",
              "    <tr>\n",
              "      <th>84</th>\n",
              "      <td>603.0</td>\n",
              "      <td>7.5</td>\n",
              "    </tr>\n",
              "    <tr>\n",
              "      <th>85</th>\n",
              "      <td>657.0</td>\n",
              "      <td>7.5</td>\n",
              "    </tr>\n",
              "    <tr>\n",
              "      <th>86</th>\n",
              "      <td>685.0</td>\n",
              "      <td>6.1</td>\n",
              "    </tr>\n",
              "    <tr>\n",
              "      <th>87</th>\n",
              "      <td>785.0</td>\n",
              "      <td>5.2</td>\n",
              "    </tr>\n",
              "    <tr>\n",
              "      <th>88</th>\n",
              "      <td>672.0</td>\n",
              "      <td>7.0</td>\n",
              "    </tr>\n",
              "  </tbody>\n",
              "</table>\n",
              "<p>89 rows × 2 columns</p>\n",
              "</div>\n",
              "      <button class=\"colab-df-convert\" onclick=\"convertToInteractive('df-02070a44-fc69-43b6-846f-1aa75711d131')\"\n",
              "              title=\"Convert this dataframe to an interactive table.\"\n",
              "              style=\"display:none;\">\n",
              "        \n",
              "  <svg xmlns=\"http://www.w3.org/2000/svg\" height=\"24px\"viewBox=\"0 0 24 24\"\n",
              "       width=\"24px\">\n",
              "    <path d=\"M0 0h24v24H0V0z\" fill=\"none\"/>\n",
              "    <path d=\"M18.56 5.44l.94 2.06.94-2.06 2.06-.94-2.06-.94-.94-2.06-.94 2.06-2.06.94zm-11 1L8.5 8.5l.94-2.06 2.06-.94-2.06-.94L8.5 2.5l-.94 2.06-2.06.94zm10 10l.94 2.06.94-2.06 2.06-.94-2.06-.94-.94-2.06-.94 2.06-2.06.94z\"/><path d=\"M17.41 7.96l-1.37-1.37c-.4-.4-.92-.59-1.43-.59-.52 0-1.04.2-1.43.59L10.3 9.45l-7.72 7.72c-.78.78-.78 2.05 0 2.83L4 21.41c.39.39.9.59 1.41.59.51 0 1.02-.2 1.41-.59l7.78-7.78 2.81-2.81c.8-.78.8-2.07 0-2.86zM5.41 20L4 18.59l7.72-7.72 1.47 1.35L5.41 20z\"/>\n",
              "  </svg>\n",
              "      </button>\n",
              "      \n",
              "  <style>\n",
              "    .colab-df-container {\n",
              "      display:flex;\n",
              "      flex-wrap:wrap;\n",
              "      gap: 12px;\n",
              "    }\n",
              "\n",
              "    .colab-df-convert {\n",
              "      background-color: #E8F0FE;\n",
              "      border: none;\n",
              "      border-radius: 50%;\n",
              "      cursor: pointer;\n",
              "      display: none;\n",
              "      fill: #1967D2;\n",
              "      height: 32px;\n",
              "      padding: 0 0 0 0;\n",
              "      width: 32px;\n",
              "    }\n",
              "\n",
              "    .colab-df-convert:hover {\n",
              "      background-color: #E2EBFA;\n",
              "      box-shadow: 0px 1px 2px rgba(60, 64, 67, 0.3), 0px 1px 3px 1px rgba(60, 64, 67, 0.15);\n",
              "      fill: #174EA6;\n",
              "    }\n",
              "\n",
              "    [theme=dark] .colab-df-convert {\n",
              "      background-color: #3B4455;\n",
              "      fill: #D2E3FC;\n",
              "    }\n",
              "\n",
              "    [theme=dark] .colab-df-convert:hover {\n",
              "      background-color: #434B5C;\n",
              "      box-shadow: 0px 1px 3px 1px rgba(0, 0, 0, 0.15);\n",
              "      filter: drop-shadow(0px 1px 2px rgba(0, 0, 0, 0.3));\n",
              "      fill: #FFFFFF;\n",
              "    }\n",
              "  </style>\n",
              "\n",
              "      <script>\n",
              "        const buttonEl =\n",
              "          document.querySelector('#df-02070a44-fc69-43b6-846f-1aa75711d131 button.colab-df-convert');\n",
              "        buttonEl.style.display =\n",
              "          google.colab.kernel.accessAllowed ? 'block' : 'none';\n",
              "\n",
              "        async function convertToInteractive(key) {\n",
              "          const element = document.querySelector('#df-02070a44-fc69-43b6-846f-1aa75711d131');\n",
              "          const dataTable =\n",
              "            await google.colab.kernel.invokeFunction('convertToInteractive',\n",
              "                                                     [key], {});\n",
              "          if (!dataTable) return;\n",
              "\n",
              "          const docLinkHtml = 'Like what you see? Visit the ' +\n",
              "            '<a target=\"_blank\" href=https://colab.research.google.com/notebooks/data_table.ipynb>data table notebook</a>'\n",
              "            + ' to learn more about interactive tables.';\n",
              "          element.innerHTML = '';\n",
              "          dataTable['output_type'] = 'display_data';\n",
              "          await google.colab.output.renderOutput(dataTable, element);\n",
              "          const docLink = document.createElement('div');\n",
              "          docLink.innerHTML = docLinkHtml;\n",
              "          element.appendChild(docLink);\n",
              "        }\n",
              "      </script>\n",
              "    </div>\n",
              "  </div>\n",
              "  "
            ]
          },
          "metadata": {},
          "execution_count": 154
        }
      ]
    },
    {
      "cell_type": "code",
      "source": [
        "#Regressão Linear \n",
        "import statsmodels.api as sm\n",
        "from statsmodels.formula.api import ols\n",
        "regressao1 = ols('pH_Meio_Aquoso~ESP32_Média_Movel', data=df).fit() #relação da variável de entrada e verificar sua influência sobre a variável de destino. \n",
        "anova_table = sm.stats.anova_lm(regressao1, typ=2)#aplicou anova no modelo\n",
        "print(anova_table)"
      ],
      "metadata": {
        "colab": {
          "base_uri": "https://localhost:8080/"
        },
        "id": "EHUe8Fs9REoq",
        "outputId": "02e63d81-d183-4331-91b2-0a82d28255b0"
      },
      "execution_count": 155,
      "outputs": [
        {
          "output_type": "stream",
          "name": "stdout",
          "text": [
            "                       sum_sq    df          F        PR(>F)\n",
            "ESP32_Média_Movel  144.148824   1.0  506.77179  4.798868e-38\n",
            "Residual            24.746736  87.0        NaN           NaN\n"
          ]
        }
      ]
    },
    {
      "cell_type": "code",
      "source": [
        "print(f\"Overall model F({regressao1.df_model: .0f},{regressao1.df_resid: .0f}) = {regressao1.fvalue: .3f}, p = {regressao1.f_pvalue: .4f}\")\n",
        "print(regressao1.summary())"
      ],
      "metadata": {
        "colab": {
          "base_uri": "https://localhost:8080/"
        },
        "id": "3xJhntsYRGqw",
        "outputId": "eb7e0fcd-7458-45de-b35a-563c63788d2a"
      },
      "execution_count": 156,
      "outputs": [
        {
          "output_type": "stream",
          "name": "stdout",
          "text": [
            "Overall model F( 1, 87) =  506.772, p =  0.0000\n",
            "                            OLS Regression Results                            \n",
            "==============================================================================\n",
            "Dep. Variable:         pH_Meio_Aquoso   R-squared:                       0.853\n",
            "Model:                            OLS   Adj. R-squared:                  0.852\n",
            "Method:                 Least Squares   F-statistic:                     506.8\n",
            "Date:                Tue, 06 Sep 2022   Prob (F-statistic):           4.80e-38\n",
            "Time:                        02:39:41   Log-Likelihood:                -69.328\n",
            "No. Observations:                  89   AIC:                             142.7\n",
            "Df Residuals:                      87   BIC:                             147.6\n",
            "Df Model:                           1                                         \n",
            "Covariance Type:            nonrobust                                         \n",
            "=====================================================================================\n",
            "                        coef    std err          t      P>|t|      [0.025      0.975]\n",
            "-------------------------------------------------------------------------------------\n",
            "Intercept            17.1680      0.477     36.004      0.000      16.220      18.116\n",
            "ESP32_Média_Movel    -0.0154      0.001    -22.512      0.000      -0.017      -0.014\n",
            "==============================================================================\n",
            "Omnibus:                        0.256   Durbin-Watson:                   1.944\n",
            "Prob(Omnibus):                  0.880   Jarque-Bera (JB):                0.425\n",
            "Skew:                          -0.088   Prob(JB):                        0.809\n",
            "Kurtosis:                       2.711   Cond. No.                     5.90e+03\n",
            "==============================================================================\n",
            "\n",
            "Notes:\n",
            "[1] Standard Errors assume that the covariance matrix of the errors is correctly specified.\n",
            "[2] The condition number is large, 5.9e+03. This might indicate that there are\n",
            "strong multicollinearity or other numerical problems.\n"
          ]
        }
      ]
    },
    {
      "cell_type": "code",
      "source": [
        "import pandas as pd #para ler e manipular nossos dados\n",
        "from sklearn.linear_model import LinearRegression  #modelo de regressão linear simples\n",
        "from sklearn.model_selection import train_test_split #ferramenta para separar nossos dados"
      ],
      "metadata": {
        "id": "WvrA9QtbRJQF"
      },
      "execution_count": 157,
      "outputs": []
    },
    {
      "cell_type": "code",
      "source": [
        "df1= df[['ESP32_Média_Movel', 'pH_Meio_Aquoso']]\n",
        "df1"
      ],
      "metadata": {
        "colab": {
          "base_uri": "https://localhost:8080/",
          "height": 424
        },
        "id": "6nUFeG85RP7o",
        "outputId": "5dd1c25a-3684-469f-bfd8-2c26e80e302c"
      },
      "execution_count": 158,
      "outputs": [
        {
          "output_type": "execute_result",
          "data": {
            "text/plain": [
              "    ESP32_Média_Movel  pH_Meio_Aquoso\n",
              "0               607.0             7.0\n",
              "1               695.0             6.7\n",
              "2               671.0             7.2\n",
              "3               667.0             7.2\n",
              "4               652.0             7.4\n",
              "..                ...             ...\n",
              "84              603.0             7.5\n",
              "85              657.0             7.5\n",
              "86              685.0             6.1\n",
              "87              785.0             5.2\n",
              "88              672.0             7.0\n",
              "\n",
              "[89 rows x 2 columns]"
            ],
            "text/html": [
              "\n",
              "  <div id=\"df-20d47ac1-4e44-478f-bb46-ac24e5da560a\">\n",
              "    <div class=\"colab-df-container\">\n",
              "      <div>\n",
              "<style scoped>\n",
              "    .dataframe tbody tr th:only-of-type {\n",
              "        vertical-align: middle;\n",
              "    }\n",
              "\n",
              "    .dataframe tbody tr th {\n",
              "        vertical-align: top;\n",
              "    }\n",
              "\n",
              "    .dataframe thead th {\n",
              "        text-align: right;\n",
              "    }\n",
              "</style>\n",
              "<table border=\"1\" class=\"dataframe\">\n",
              "  <thead>\n",
              "    <tr style=\"text-align: right;\">\n",
              "      <th></th>\n",
              "      <th>ESP32_Média_Movel</th>\n",
              "      <th>pH_Meio_Aquoso</th>\n",
              "    </tr>\n",
              "  </thead>\n",
              "  <tbody>\n",
              "    <tr>\n",
              "      <th>0</th>\n",
              "      <td>607.0</td>\n",
              "      <td>7.0</td>\n",
              "    </tr>\n",
              "    <tr>\n",
              "      <th>1</th>\n",
              "      <td>695.0</td>\n",
              "      <td>6.7</td>\n",
              "    </tr>\n",
              "    <tr>\n",
              "      <th>2</th>\n",
              "      <td>671.0</td>\n",
              "      <td>7.2</td>\n",
              "    </tr>\n",
              "    <tr>\n",
              "      <th>3</th>\n",
              "      <td>667.0</td>\n",
              "      <td>7.2</td>\n",
              "    </tr>\n",
              "    <tr>\n",
              "      <th>4</th>\n",
              "      <td>652.0</td>\n",
              "      <td>7.4</td>\n",
              "    </tr>\n",
              "    <tr>\n",
              "      <th>...</th>\n",
              "      <td>...</td>\n",
              "      <td>...</td>\n",
              "    </tr>\n",
              "    <tr>\n",
              "      <th>84</th>\n",
              "      <td>603.0</td>\n",
              "      <td>7.5</td>\n",
              "    </tr>\n",
              "    <tr>\n",
              "      <th>85</th>\n",
              "      <td>657.0</td>\n",
              "      <td>7.5</td>\n",
              "    </tr>\n",
              "    <tr>\n",
              "      <th>86</th>\n",
              "      <td>685.0</td>\n",
              "      <td>6.1</td>\n",
              "    </tr>\n",
              "    <tr>\n",
              "      <th>87</th>\n",
              "      <td>785.0</td>\n",
              "      <td>5.2</td>\n",
              "    </tr>\n",
              "    <tr>\n",
              "      <th>88</th>\n",
              "      <td>672.0</td>\n",
              "      <td>7.0</td>\n",
              "    </tr>\n",
              "  </tbody>\n",
              "</table>\n",
              "<p>89 rows × 2 columns</p>\n",
              "</div>\n",
              "      <button class=\"colab-df-convert\" onclick=\"convertToInteractive('df-20d47ac1-4e44-478f-bb46-ac24e5da560a')\"\n",
              "              title=\"Convert this dataframe to an interactive table.\"\n",
              "              style=\"display:none;\">\n",
              "        \n",
              "  <svg xmlns=\"http://www.w3.org/2000/svg\" height=\"24px\"viewBox=\"0 0 24 24\"\n",
              "       width=\"24px\">\n",
              "    <path d=\"M0 0h24v24H0V0z\" fill=\"none\"/>\n",
              "    <path d=\"M18.56 5.44l.94 2.06.94-2.06 2.06-.94-2.06-.94-.94-2.06-.94 2.06-2.06.94zm-11 1L8.5 8.5l.94-2.06 2.06-.94-2.06-.94L8.5 2.5l-.94 2.06-2.06.94zm10 10l.94 2.06.94-2.06 2.06-.94-2.06-.94-.94-2.06-.94 2.06-2.06.94z\"/><path d=\"M17.41 7.96l-1.37-1.37c-.4-.4-.92-.59-1.43-.59-.52 0-1.04.2-1.43.59L10.3 9.45l-7.72 7.72c-.78.78-.78 2.05 0 2.83L4 21.41c.39.39.9.59 1.41.59.51 0 1.02-.2 1.41-.59l7.78-7.78 2.81-2.81c.8-.78.8-2.07 0-2.86zM5.41 20L4 18.59l7.72-7.72 1.47 1.35L5.41 20z\"/>\n",
              "  </svg>\n",
              "      </button>\n",
              "      \n",
              "  <style>\n",
              "    .colab-df-container {\n",
              "      display:flex;\n",
              "      flex-wrap:wrap;\n",
              "      gap: 12px;\n",
              "    }\n",
              "\n",
              "    .colab-df-convert {\n",
              "      background-color: #E8F0FE;\n",
              "      border: none;\n",
              "      border-radius: 50%;\n",
              "      cursor: pointer;\n",
              "      display: none;\n",
              "      fill: #1967D2;\n",
              "      height: 32px;\n",
              "      padding: 0 0 0 0;\n",
              "      width: 32px;\n",
              "    }\n",
              "\n",
              "    .colab-df-convert:hover {\n",
              "      background-color: #E2EBFA;\n",
              "      box-shadow: 0px 1px 2px rgba(60, 64, 67, 0.3), 0px 1px 3px 1px rgba(60, 64, 67, 0.15);\n",
              "      fill: #174EA6;\n",
              "    }\n",
              "\n",
              "    [theme=dark] .colab-df-convert {\n",
              "      background-color: #3B4455;\n",
              "      fill: #D2E3FC;\n",
              "    }\n",
              "\n",
              "    [theme=dark] .colab-df-convert:hover {\n",
              "      background-color: #434B5C;\n",
              "      box-shadow: 0px 1px 3px 1px rgba(0, 0, 0, 0.15);\n",
              "      filter: drop-shadow(0px 1px 2px rgba(0, 0, 0, 0.3));\n",
              "      fill: #FFFFFF;\n",
              "    }\n",
              "  </style>\n",
              "\n",
              "      <script>\n",
              "        const buttonEl =\n",
              "          document.querySelector('#df-20d47ac1-4e44-478f-bb46-ac24e5da560a button.colab-df-convert');\n",
              "        buttonEl.style.display =\n",
              "          google.colab.kernel.accessAllowed ? 'block' : 'none';\n",
              "\n",
              "        async function convertToInteractive(key) {\n",
              "          const element = document.querySelector('#df-20d47ac1-4e44-478f-bb46-ac24e5da560a');\n",
              "          const dataTable =\n",
              "            await google.colab.kernel.invokeFunction('convertToInteractive',\n",
              "                                                     [key], {});\n",
              "          if (!dataTable) return;\n",
              "\n",
              "          const docLinkHtml = 'Like what you see? Visit the ' +\n",
              "            '<a target=\"_blank\" href=https://colab.research.google.com/notebooks/data_table.ipynb>data table notebook</a>'\n",
              "            + ' to learn more about interactive tables.';\n",
              "          element.innerHTML = '';\n",
              "          dataTable['output_type'] = 'display_data';\n",
              "          await google.colab.output.renderOutput(dataTable, element);\n",
              "          const docLink = document.createElement('div');\n",
              "          docLink.innerHTML = docLinkHtml;\n",
              "          element.appendChild(docLink);\n",
              "        }\n",
              "      </script>\n",
              "    </div>\n",
              "  </div>\n",
              "  "
            ]
          },
          "metadata": {},
          "execution_count": 158
        }
      ]
    },
    {
      "cell_type": "code",
      "source": [
        "x= df1.iloc[ : , 0:1].values\n",
        "y= df1.iloc[ : , 1].values"
      ],
      "metadata": {
        "id": "9EL49sM2RSGy"
      },
      "execution_count": 159,
      "outputs": []
    },
    {
      "cell_type": "code",
      "source": [
        "#separando em base de treino e teste com 30% dos dados reservados para avaliar \n",
        "X_train, X_test, y_train, y_test = train_test_split(x, y,test_size=0.3, random_state=0)"
      ],
      "metadata": {
        "id": "imu-4jQORUNN"
      },
      "execution_count": 160,
      "outputs": []
    },
    {
      "cell_type": "code",
      "source": [
        "#definindo o algoritmo utilizado\n",
        "LinearRegressionModel = LinearRegression()"
      ],
      "metadata": {
        "id": "-wW-51xNRWIK"
      },
      "execution_count": 161,
      "outputs": []
    },
    {
      "cell_type": "code",
      "source": [
        "#treinando o algoritmo com a base de treino\n",
        "LinearRegressionModel.fit(X_train,y_train)"
      ],
      "metadata": {
        "colab": {
          "base_uri": "https://localhost:8080/"
        },
        "id": "UFut6I5gRZtH",
        "outputId": "557935cb-a0a0-4cf5-ce49-0231518e092c"
      },
      "execution_count": 162,
      "outputs": [
        {
          "output_type": "execute_result",
          "data": {
            "text/plain": [
              "LinearRegression()"
            ]
          },
          "metadata": {},
          "execution_count": 162
        }
      ]
    },
    {
      "cell_type": "code",
      "source": [
        "#criando a predição que será usada na avalização\n",
        "y_pred = LinearRegressionModel.predict(X_test)"
      ],
      "metadata": {
        "id": "pHXicnIzRaX5"
      },
      "execution_count": 163,
      "outputs": []
    },
    {
      "cell_type": "code",
      "source": [
        "#R²\n",
        "from sklearn.metrics import r2_score \n",
        "# em metrics, temos quase todas as metricas geralmete utilizadas\n",
        "\n",
        "R2 = r2_score(y_test,y_pred)\n",
        "print(R2)"
      ],
      "metadata": {
        "colab": {
          "base_uri": "https://localhost:8080/"
        },
        "id": "hp0KqvZCRcXR",
        "outputId": "63b6460e-2f78-4c0b-a837-d9ca1a0e1988"
      },
      "execution_count": 164,
      "outputs": [
        {
          "output_type": "stream",
          "name": "stdout",
          "text": [
            "0.8960175361285524\n"
          ]
        }
      ]
    },
    {
      "cell_type": "code",
      "source": [
        "#Erro médio Quadrático(MSE)\n",
        "from sklearn.metrics import mean_squared_error\n",
        "mean_squared_error(y_test, y_pred)"
      ],
      "metadata": {
        "colab": {
          "base_uri": "https://localhost:8080/"
        },
        "id": "LaHujC4uReup",
        "outputId": "9c7b9cb2-0adb-4a24-aa3d-63c4a1f6dcf1"
      },
      "execution_count": 165,
      "outputs": [
        {
          "output_type": "execute_result",
          "data": {
            "text/plain": [
              "0.2629951292016087"
            ]
          },
          "metadata": {},
          "execution_count": 165
        }
      ]
    },
    {
      "cell_type": "code",
      "source": [
        "#Erro Absoluto Médio(MAE)\n",
        "from sklearn.metrics import mean_absolute_error\n",
        "mean_absolute_error(y_test, y_pred)"
      ],
      "metadata": {
        "colab": {
          "base_uri": "https://localhost:8080/"
        },
        "id": "emN0avF4Rgtz",
        "outputId": "ae091011-ea40-4ecf-a4ab-a79de4047765"
      },
      "execution_count": 166,
      "outputs": [
        {
          "output_type": "execute_result",
          "data": {
            "text/plain": [
              "0.42169774662895837"
            ]
          },
          "metadata": {},
          "execution_count": 166
        }
      ]
    },
    {
      "cell_type": "code",
      "source": [
        "# MAPE(exprime uma porcentagem, obtida através da divisão da diferença entre predito (ŷ) e real pelo valor real (y))\n",
        "#significa que, em média, nosso modelo faz previsões que erram por x% do valor real.\n",
        "\n",
        "MAPE = np.mean(np.abs((y_test - y_pred) / y_test)) * 100\n",
        "\n",
        "print(f\"Valor do MAPE dado em percentual: {MAPE}\")"
      ],
      "metadata": {
        "colab": {
          "base_uri": "https://localhost:8080/"
        },
        "id": "vnc2qJ9TRifj",
        "outputId": "a25db7fe-a012-458f-9894-c2b62914d827"
      },
      "execution_count": 167,
      "outputs": [
        {
          "output_type": "stream",
          "name": "stdout",
          "text": [
            "Valor do MAPE dado em percentual: 6.704352860510989\n"
          ]
        }
      ]
    },
    {
      "cell_type": "code",
      "source": [
        "# MAPE Erro Percentual Medio Absoluto\n",
        "from sklearn.metrics import mean_absolute_percentage_error\n",
        "mean_absolute_percentage_error(y_test, y_pred)"
      ],
      "metadata": {
        "colab": {
          "base_uri": "https://localhost:8080/"
        },
        "id": "5yyHQrtnRkRT",
        "outputId": "1090331b-a28d-45f5-e276-2bdd90182895"
      },
      "execution_count": 168,
      "outputs": [
        {
          "output_type": "execute_result",
          "data": {
            "text/plain": [
              "0.06704352860510988"
            ]
          },
          "metadata": {},
          "execution_count": 168
        }
      ]
    },
    {
      "cell_type": "code",
      "source": [
        "#Erro máximo\n",
        "from sklearn.metrics import max_error\n",
        "max_error(y_test, y_pred)"
      ],
      "metadata": {
        "colab": {
          "base_uri": "https://localhost:8080/"
        },
        "id": "OsXPRrEsANz3",
        "outputId": "813dcdee-e87f-4fca-c4ed-30159ce68146"
      },
      "execution_count": 169,
      "outputs": [
        {
          "output_type": "execute_result",
          "data": {
            "text/plain": [
              "1.4132513432856513"
            ]
          },
          "metadata": {},
          "execution_count": 169
        }
      ]
    },
    {
      "cell_type": "markdown",
      "source": [
        "**Validação cruzada Kfold**"
      ],
      "metadata": {
        "id": "OUv84-SE7EbZ"
      }
    },
    {
      "cell_type": "code",
      "source": [
        "df1= df[['ESP32_Média_Movel', 'pH_Meio_Aquoso']]\n",
        "df1"
      ],
      "metadata": {
        "colab": {
          "base_uri": "https://localhost:8080/",
          "height": 424
        },
        "id": "JLne6jogExtX",
        "outputId": "3fe6a25b-7926-4a12-bb1d-7bd536ff9a6e"
      },
      "execution_count": 170,
      "outputs": [
        {
          "output_type": "execute_result",
          "data": {
            "text/plain": [
              "    ESP32_Média_Movel  pH_Meio_Aquoso\n",
              "0               607.0             7.0\n",
              "1               695.0             6.7\n",
              "2               671.0             7.2\n",
              "3               667.0             7.2\n",
              "4               652.0             7.4\n",
              "..                ...             ...\n",
              "84              603.0             7.5\n",
              "85              657.0             7.5\n",
              "86              685.0             6.1\n",
              "87              785.0             5.2\n",
              "88              672.0             7.0\n",
              "\n",
              "[89 rows x 2 columns]"
            ],
            "text/html": [
              "\n",
              "  <div id=\"df-a3116046-d499-4dfe-888c-cb03510fdf8c\">\n",
              "    <div class=\"colab-df-container\">\n",
              "      <div>\n",
              "<style scoped>\n",
              "    .dataframe tbody tr th:only-of-type {\n",
              "        vertical-align: middle;\n",
              "    }\n",
              "\n",
              "    .dataframe tbody tr th {\n",
              "        vertical-align: top;\n",
              "    }\n",
              "\n",
              "    .dataframe thead th {\n",
              "        text-align: right;\n",
              "    }\n",
              "</style>\n",
              "<table border=\"1\" class=\"dataframe\">\n",
              "  <thead>\n",
              "    <tr style=\"text-align: right;\">\n",
              "      <th></th>\n",
              "      <th>ESP32_Média_Movel</th>\n",
              "      <th>pH_Meio_Aquoso</th>\n",
              "    </tr>\n",
              "  </thead>\n",
              "  <tbody>\n",
              "    <tr>\n",
              "      <th>0</th>\n",
              "      <td>607.0</td>\n",
              "      <td>7.0</td>\n",
              "    </tr>\n",
              "    <tr>\n",
              "      <th>1</th>\n",
              "      <td>695.0</td>\n",
              "      <td>6.7</td>\n",
              "    </tr>\n",
              "    <tr>\n",
              "      <th>2</th>\n",
              "      <td>671.0</td>\n",
              "      <td>7.2</td>\n",
              "    </tr>\n",
              "    <tr>\n",
              "      <th>3</th>\n",
              "      <td>667.0</td>\n",
              "      <td>7.2</td>\n",
              "    </tr>\n",
              "    <tr>\n",
              "      <th>4</th>\n",
              "      <td>652.0</td>\n",
              "      <td>7.4</td>\n",
              "    </tr>\n",
              "    <tr>\n",
              "      <th>...</th>\n",
              "      <td>...</td>\n",
              "      <td>...</td>\n",
              "    </tr>\n",
              "    <tr>\n",
              "      <th>84</th>\n",
              "      <td>603.0</td>\n",
              "      <td>7.5</td>\n",
              "    </tr>\n",
              "    <tr>\n",
              "      <th>85</th>\n",
              "      <td>657.0</td>\n",
              "      <td>7.5</td>\n",
              "    </tr>\n",
              "    <tr>\n",
              "      <th>86</th>\n",
              "      <td>685.0</td>\n",
              "      <td>6.1</td>\n",
              "    </tr>\n",
              "    <tr>\n",
              "      <th>87</th>\n",
              "      <td>785.0</td>\n",
              "      <td>5.2</td>\n",
              "    </tr>\n",
              "    <tr>\n",
              "      <th>88</th>\n",
              "      <td>672.0</td>\n",
              "      <td>7.0</td>\n",
              "    </tr>\n",
              "  </tbody>\n",
              "</table>\n",
              "<p>89 rows × 2 columns</p>\n",
              "</div>\n",
              "      <button class=\"colab-df-convert\" onclick=\"convertToInteractive('df-a3116046-d499-4dfe-888c-cb03510fdf8c')\"\n",
              "              title=\"Convert this dataframe to an interactive table.\"\n",
              "              style=\"display:none;\">\n",
              "        \n",
              "  <svg xmlns=\"http://www.w3.org/2000/svg\" height=\"24px\"viewBox=\"0 0 24 24\"\n",
              "       width=\"24px\">\n",
              "    <path d=\"M0 0h24v24H0V0z\" fill=\"none\"/>\n",
              "    <path d=\"M18.56 5.44l.94 2.06.94-2.06 2.06-.94-2.06-.94-.94-2.06-.94 2.06-2.06.94zm-11 1L8.5 8.5l.94-2.06 2.06-.94-2.06-.94L8.5 2.5l-.94 2.06-2.06.94zm10 10l.94 2.06.94-2.06 2.06-.94-2.06-.94-.94-2.06-.94 2.06-2.06.94z\"/><path d=\"M17.41 7.96l-1.37-1.37c-.4-.4-.92-.59-1.43-.59-.52 0-1.04.2-1.43.59L10.3 9.45l-7.72 7.72c-.78.78-.78 2.05 0 2.83L4 21.41c.39.39.9.59 1.41.59.51 0 1.02-.2 1.41-.59l7.78-7.78 2.81-2.81c.8-.78.8-2.07 0-2.86zM5.41 20L4 18.59l7.72-7.72 1.47 1.35L5.41 20z\"/>\n",
              "  </svg>\n",
              "      </button>\n",
              "      \n",
              "  <style>\n",
              "    .colab-df-container {\n",
              "      display:flex;\n",
              "      flex-wrap:wrap;\n",
              "      gap: 12px;\n",
              "    }\n",
              "\n",
              "    .colab-df-convert {\n",
              "      background-color: #E8F0FE;\n",
              "      border: none;\n",
              "      border-radius: 50%;\n",
              "      cursor: pointer;\n",
              "      display: none;\n",
              "      fill: #1967D2;\n",
              "      height: 32px;\n",
              "      padding: 0 0 0 0;\n",
              "      width: 32px;\n",
              "    }\n",
              "\n",
              "    .colab-df-convert:hover {\n",
              "      background-color: #E2EBFA;\n",
              "      box-shadow: 0px 1px 2px rgba(60, 64, 67, 0.3), 0px 1px 3px 1px rgba(60, 64, 67, 0.15);\n",
              "      fill: #174EA6;\n",
              "    }\n",
              "\n",
              "    [theme=dark] .colab-df-convert {\n",
              "      background-color: #3B4455;\n",
              "      fill: #D2E3FC;\n",
              "    }\n",
              "\n",
              "    [theme=dark] .colab-df-convert:hover {\n",
              "      background-color: #434B5C;\n",
              "      box-shadow: 0px 1px 3px 1px rgba(0, 0, 0, 0.15);\n",
              "      filter: drop-shadow(0px 1px 2px rgba(0, 0, 0, 0.3));\n",
              "      fill: #FFFFFF;\n",
              "    }\n",
              "  </style>\n",
              "\n",
              "      <script>\n",
              "        const buttonEl =\n",
              "          document.querySelector('#df-a3116046-d499-4dfe-888c-cb03510fdf8c button.colab-df-convert');\n",
              "        buttonEl.style.display =\n",
              "          google.colab.kernel.accessAllowed ? 'block' : 'none';\n",
              "\n",
              "        async function convertToInteractive(key) {\n",
              "          const element = document.querySelector('#df-a3116046-d499-4dfe-888c-cb03510fdf8c');\n",
              "          const dataTable =\n",
              "            await google.colab.kernel.invokeFunction('convertToInteractive',\n",
              "                                                     [key], {});\n",
              "          if (!dataTable) return;\n",
              "\n",
              "          const docLinkHtml = 'Like what you see? Visit the ' +\n",
              "            '<a target=\"_blank\" href=https://colab.research.google.com/notebooks/data_table.ipynb>data table notebook</a>'\n",
              "            + ' to learn more about interactive tables.';\n",
              "          element.innerHTML = '';\n",
              "          dataTable['output_type'] = 'display_data';\n",
              "          await google.colab.output.renderOutput(dataTable, element);\n",
              "          const docLink = document.createElement('div');\n",
              "          docLink.innerHTML = docLinkHtml;\n",
              "          element.appendChild(docLink);\n",
              "        }\n",
              "      </script>\n",
              "    </div>\n",
              "  </div>\n",
              "  "
            ]
          },
          "metadata": {},
          "execution_count": 170
        }
      ]
    },
    {
      "cell_type": "code",
      "source": [
        "y = df1['pH_Meio_Aquoso']\n",
        "x = df1.drop('pH_Meio_Aquoso', axis =1)"
      ],
      "metadata": {
        "id": "z4Q35GXVCrh1"
      },
      "execution_count": 171,
      "outputs": []
    },
    {
      "cell_type": "code",
      "source": [
        "from sklearn.model_selection import cross_val_score\n",
        "from sklearn.model_selection import KFold\n",
        "from sklearn.linear_model import LinearRegression"
      ],
      "metadata": {
        "id": "_3IxCcNB7zp8"
      },
      "execution_count": 172,
      "outputs": []
    },
    {
      "cell_type": "code",
      "source": [
        "modelo = LinearRegression()\n",
        "kfold = KFold(n_splits=5)\n",
        "Resultado = cross_val_score(modelo,x,y, cv=kfold)"
      ],
      "metadata": {
        "id": "CDfHTwiX8C9q"
      },
      "execution_count": 173,
      "outputs": []
    },
    {
      "cell_type": "code",
      "source": [
        "print(Resultado)"
      ],
      "metadata": {
        "colab": {
          "base_uri": "https://localhost:8080/"
        },
        "id": "JWrxGj-g-Zmb",
        "outputId": "74623217-3796-46b6-8adb-41baf062a325"
      },
      "execution_count": 174,
      "outputs": [
        {
          "output_type": "stream",
          "name": "stdout",
          "text": [
            "[0.38583206 0.6994635  0.8897397  0.88396705 0.81721311]\n"
          ]
        }
      ]
    },
    {
      "cell_type": "code",
      "source": [
        "print(Resultado.mean())"
      ],
      "metadata": {
        "colab": {
          "base_uri": "https://localhost:8080/"
        },
        "id": "i0kgcUW0E3d2",
        "outputId": "a2db249e-6fa0-496a-c7d0-4e267cb44825"
      },
      "execution_count": 175,
      "outputs": [
        {
          "output_type": "stream",
          "name": "stdout",
          "text": [
            "0.7352430867184394\n"
          ]
        }
      ]
    },
    {
      "cell_type": "code",
      "source": [
        "modelo.fit(x,y)"
      ],
      "metadata": {
        "colab": {
          "base_uri": "https://localhost:8080/"
        },
        "id": "mEGo6gxuiBcQ",
        "outputId": "0ec5c5c7-2d70-4b34-a3db-67b354ba9183"
      },
      "execution_count": 176,
      "outputs": [
        {
          "output_type": "execute_result",
          "data": {
            "text/plain": [
              "LinearRegression()"
            ]
          },
          "metadata": {},
          "execution_count": 176
        }
      ]
    },
    {
      "cell_type": "code",
      "source": [
        "modelo.intercept_"
      ],
      "metadata": {
        "colab": {
          "base_uri": "https://localhost:8080/"
        },
        "id": "03PUCqpHiSHq",
        "outputId": "2d1d2a78-2475-4d0f-c53a-9abeb4b9fc12"
      },
      "execution_count": 177,
      "outputs": [
        {
          "output_type": "execute_result",
          "data": {
            "text/plain": [
              "17.16798413713084"
            ]
          },
          "metadata": {},
          "execution_count": 177
        }
      ]
    },
    {
      "cell_type": "code",
      "source": [
        "modelo.coef_"
      ],
      "metadata": {
        "colab": {
          "base_uri": "https://localhost:8080/"
        },
        "id": "pUNg6XtqiYkw",
        "outputId": "0a4d8864-e6dd-4dbf-9806-b5e9d7ff93bb"
      },
      "execution_count": 178,
      "outputs": [
        {
          "output_type": "execute_result",
          "data": {
            "text/plain": [
              "array([-0.01535258])"
            ]
          },
          "metadata": {},
          "execution_count": 178
        }
      ]
    },
    {
      "cell_type": "code",
      "source": [
        "plt.scatter(x,y)\n",
        "xreg = np.arange(-3,3,1)\n",
        "plt.plot(xreg,-0.0153*xreg +17.167, color = 'red')\n",
        "plt.show()"
      ],
      "metadata": {
        "colab": {
          "base_uri": "https://localhost:8080/",
          "height": 265
        },
        "id": "h3GL8qMujP8m",
        "outputId": "a6ab34df-6bca-403a-e86d-3d574eabd160"
      },
      "execution_count": 179,
      "outputs": [
        {
          "output_type": "display_data",
          "data": {
            "text/plain": [
              "<Figure size 432x288 with 1 Axes>"
            ],
            "image/png": "[encoded data removed]"
          },
          "metadata": {
            "needs_background": "light"
          }
        }
      ]
    },
    {
      "cell_type": "code",
      "source": [
        "df1 = pd.DataFrame({'pH Real': y_test.flatten(), 'pH predito': y_pred.flatten()})\n",
        "df1.plot(kind='bar',figsize=(20,10)) \n",
        "plt.grid(which='major', linestyle='-', linewidth='0.5', color='green')\n",
        "plt.grid(which='minor', linestyle=':', linewidth='0.5', color='black')\n",
        "plt.show()"
      ],
      "metadata": {
        "colab": {
          "base_uri": "https://localhost:8080/",
          "height": 594
        },
        "id": "WffUiiCqeu5j",
        "outputId": "d78ab504-1e9e-419c-abc0-0a34637b32f0"
      },
      "execution_count": 180,
      "outputs": [
        {
          "output_type": "display_data",
          "data": {
            "text/plain": [
              "<Figure size 1440x720 with 1 Axes>"
            ],
            "image/png": "[encoded data removed]"
          },
          "metadata": {
            "needs_background": "light"
          }
        }
      ]
    },
    {
      "cell_type": "markdown",
      "source": [
        "###**Validação do Modelo de Regressão Linear**"
      ],
      "metadata": {
        "id": "ZGkcVIsdm8-H"
      }
    },
    {
      "cell_type": "markdown",
      "source": [
        "**Analise dos Residuos**"
      ],
      "metadata": {
        "id": "wEvEF12bm_vw"
      }
    },
    {
      "cell_type": "code",
      "source": [
        "# listagem de residuos(distancia que o ponto está da reta)\n",
        "residuos = regressao1.resid\n",
        "residuos"
      ],
      "metadata": {
        "colab": {
          "base_uri": "https://localhost:8080/"
        },
        "id": "sSfH1YAbm50w",
        "outputId": "500ec7e0-ee4e-4d14-bc89-979709b5589d"
      },
      "execution_count": 181,
      "outputs": [
        {
          "output_type": "execute_result",
          "data": {
            "text/plain": [
              "0    -0.848968\n",
              "1     0.202059\n",
              "2     0.333597\n",
              "3     0.272187\n",
              "4     0.241898\n",
              "        ...   \n",
              "84   -0.410378\n",
              "85    0.418661\n",
              "86   -0.551467\n",
              "87    0.083791\n",
              "88    0.148950\n",
              "Length: 89, dtype: float64"
            ]
          },
          "metadata": {},
          "execution_count": 181
        }
      ]
    },
    {
      "cell_type": "markdown",
      "source": [
        "**Teste de normalidade dos resíduos**\n",
        "\n",
        "H0 = distribuição normal: p>0.05\n",
        "\n",
        "Ha = distribuição não normal: p<=0.05"
      ],
      "metadata": {
        "id": "U3ayRsUPnJlH"
      }
    },
    {
      "cell_type": "code",
      "source": [
        "estatistica, p= stats.shapiro(residuos)\n",
        "print('Estatística de Teste: {}' .format(estatistica))\n",
        "print('p-valor: {}'.format(p))"
      ],
      "metadata": {
        "colab": {
          "base_uri": "https://localhost:8080/"
        },
        "id": "tdKdOAqJnEPf",
        "outputId": "af934f46-1bf6-4eb5-df4f-f9d11ac5fc4b"
      },
      "execution_count": 182,
      "outputs": [
        {
          "output_type": "stream",
          "name": "stdout",
          "text": [
            "Estatística de Teste: 0.983237087726593\n",
            "p-valor: 0.30753031373023987\n"
          ]
        }
      ]
    },
    {
      "cell_type": "code",
      "source": [
        "#Q-Q plot\n",
        "stats.probplot(residuos, dist='norm', plot=plt)\n",
        "plt.title('Normal Q-Q Plot - Resíduos')\n",
        "plt.show()"
      ],
      "metadata": {
        "colab": {
          "base_uri": "https://localhost:8080/",
          "height": 295
        },
        "id": "qP6BA4b1nQuw",
        "outputId": "c5ae7fcf-4f24-45b9-b9b6-b9e8a2c7cd4b"
      },
      "execution_count": 183,
      "outputs": [
        {
          "output_type": "display_data",
          "data": {
            "text/plain": [
              "<Figure size 432x288 with 1 Axes>"
            ],
            "image/png": "[encoded data removed]"
          },
          "metadata": {
            "needs_background": "light"
          }
        }
      ]
    },
    {
      "cell_type": "markdown",
      "source": [
        "**Analise de Homocedasticidade dos resíduos**\n",
        "\n",
        "Saber se os resíduos são homogeneos"
      ],
      "metadata": {
        "id": "q_4VweydnUov"
      }
    },
    {
      "cell_type": "code",
      "source": [
        "plt.scatter(y=residuos ,x=regressao1.predict(), color='red')\n",
        "plt.hlines(y=0, xmin=3, xmax=9, color='orange')\n",
        "plt.ylabel('Resíduos')\n",
        "plt.xlabel('Valores Preditos')\n",
        "plt.show()"
      ],
      "metadata": {
        "colab": {
          "base_uri": "https://localhost:8080/",
          "height": 279
        },
        "id": "9ay5yQNEnR5i",
        "outputId": "1d807e70-0f5b-49f0-8c54-138d43d04d61"
      },
      "execution_count": 184,
      "outputs": [
        {
          "output_type": "display_data",
          "data": {
            "text/plain": [
              "<Figure size 432x288 with 1 Axes>"
            ],
            "image/png": "[encoded data removed]"
          },
          "metadata": {
            "needs_background": "light"
          }
        }
      ]
    },
    {
      "cell_type": "markdown",
      "source": [
        "Teste Breusch-Pagan(Homocedastiscidade ou Heterocedastiscidade)\n",
        "\n",
        "Ho = Existe Homocedastiscidade: p> 0.05 Ha = Não existe Homocedastiscidade: p<= 0.05"
      ],
      "metadata": {
        "id": "BMvZwvq0n1Zj"
      }
    },
    {
      "cell_type": "code",
      "source": [
        "from statsmodels.compat import lzip\n",
        "import statsmodels.stats.api as sms"
      ],
      "metadata": {
        "id": "zJBMM5CNnx4C"
      },
      "execution_count": 185,
      "outputs": []
    },
    {
      "cell_type": "code",
      "source": [
        "estatistica, p, f, fp=sms.het_breuschpagan(regressao1.resid, regressao1.model.exog)\n",
        "print('Estatistica do teste: {}' .format(estatistica))\n",
        "print('p-valor: {}' .format(p))\n",
        "print('f-valor: {}' .format(f))\n",
        "print('f_p-valor: {}' .format(fp))"
      ],
      "metadata": {
        "colab": {
          "base_uri": "https://localhost:8080/"
        },
        "id": "Z2wITHwfn4A4",
        "outputId": "6dc870e8-c19c-46ad-8af2-9205afa0475b"
      },
      "execution_count": 186,
      "outputs": [
        {
          "output_type": "stream",
          "name": "stdout",
          "text": [
            "Estatistica do teste: 1.0504036053041819\n",
            "p-valor: 0.30541415125604066\n",
            "f-valor: 1.0390623426098538\n",
            "f_p-valor: 0.3108659250976999\n"
          ]
        }
      ]
    },
    {
      "cell_type": "markdown",
      "source": [
        "p-valor = 0.30. então p>0.05. significa que tem Homocedastiscidade."
      ],
      "metadata": {
        "id": "Tx2-ESMEoH05"
      }
    },
    {
      "cell_type": "markdown",
      "source": [
        "**Outleires nos resíduos**\n",
        "\n",
        "(Entre -3 e 3)"
      ],
      "metadata": {
        "id": "K-cGhDu9oQ4F"
      }
    },
    {
      "cell_type": "code",
      "source": [
        "outliers= regressao1.outlier_test()"
      ],
      "metadata": {
        "id": "wAy2h7IpoWE-"
      },
      "execution_count": 187,
      "outputs": []
    },
    {
      "cell_type": "code",
      "source": [
        "outliers.max()"
      ],
      "metadata": {
        "colab": {
          "base_uri": "https://localhost:8080/"
        },
        "id": "y0cJDN0soWyP",
        "outputId": "7334814a-ce92-480d-fa86-0a94d4726d7e"
      },
      "execution_count": 188,
      "outputs": [
        {
          "output_type": "execute_result",
          "data": {
            "text/plain": [
              "student_resid    2.586456\n",
              "unadj_p          0.982015\n",
              "bonf(p)          1.000000\n",
              "dtype: float64"
            ]
          },
          "metadata": {},
          "execution_count": 188
        }
      ]
    },
    {
      "cell_type": "code",
      "source": [
        "outliers.min()"
      ],
      "metadata": {
        "colab": {
          "base_uri": "https://localhost:8080/"
        },
        "id": "iWsv1mz5oY2y",
        "outputId": "3271a962-1822-4c82-ee60-73c6a97075a1"
      },
      "execution_count": 189,
      "outputs": [
        {
          "output_type": "execute_result",
          "data": {
            "text/plain": [
              "student_resid   -2.176515\n",
              "unadj_p          0.011379\n",
              "bonf(p)          1.000000\n",
              "dtype: float64"
            ]
          },
          "metadata": {},
          "execution_count": 189
        }
      ]
    },
    {
      "cell_type": "markdown",
      "source": [
        "Portanto o modelo passou no teste de Normalidade, Homocedasticidade e Outleires de Resíduos, portanto o modelo é aprovado."
      ],
      "metadata": {
        "id": "Cwt4SCDtof7E"
      }
    },
    {
      "cell_type": "code",
      "source": [
        "#Simulação de regressão\n",
        "plt.scatter(y= df.pH_Meio_Aquoso, x=df.ESP32_Média_Movel ,color='green', s=80, alpha=0.9)\n",
        "X_plot = np.linspace(400, 900)\n",
        "plt.plot(X_plot, X_plot*regressao1.params[1] + regressao1.params[0], color='orange')\n",
        "plt.title('Reta de Regressão')\n",
        "plt.ylabel('pH_Meio_Aquoso')\n",
        "plt.xlabel('Valores_Analogicos_Sensor_pH')\n",
        "plt.show()"
      ],
      "metadata": {
        "colab": {
          "base_uri": "https://localhost:8080/",
          "height": 296
        },
        "id": "yzlgKm7zocSf",
        "outputId": "ef0231e2-7a4b-4510-cb0c-1e71639d8dde"
      },
      "execution_count": 190,
      "outputs": [
        {
          "output_type": "display_data",
          "data": {
            "text/plain": [
              "<Figure size 432x288 with 1 Axes>"
            ],
            "image/png": "[encoded data removed]"
          },
          "metadata": {
            "needs_background": "light"
          }
        }
      ]
    },
    {
      "cell_type": "markdown",
      "source": [
        "**Teste de Autocorrelação**\n"
      ],
      "metadata": {
        "id": "Fj_UxdNZxT8q"
      }
    },
    {
      "cell_type": "markdown",
      "source": [
        "Teste de Durbin-Watson: Isso é feito comparando os termos de erro sucessivos para verificar se eles estão correlacionados direta/inversamente entre si. Valores entre 1,5 e 2,5 nos diriam que a autocorrelação não é um problema nesse modelo preditivo."
      ],
      "metadata": {
        "id": "xPCPhsdBxi1t"
      }
    },
    {
      "cell_type": "code",
      "source": [
        "from statsmodels.stats.stattools import durbin_watson\n",
        "\n",
        "#perform Durbin-Watson test\n",
        "durbin_watson(regressao1.resid)"
      ],
      "metadata": {
        "colab": {
          "base_uri": "https://localhost:8080/"
        },
        "id": "1ChZd6i7xBai",
        "outputId": "91fd6029-8ba4-4f6d-bd3c-6353409647ba"
      },
      "execution_count": 191,
      "outputs": [
        {
          "output_type": "execute_result",
          "data": {
            "text/plain": [
              "1.9435148712293953"
            ]
          },
          "metadata": {},
          "execution_count": 191
        }
      ]
    },
    {
      "cell_type": "markdown",
      "source": [
        "### Comparando Modelos"
      ],
      "metadata": {
        "id": "13gAVMtDWgjs"
      }
    },
    {
      "cell_type": "code",
      "source": [
        "df1= df[['ESP32_Média_Movel', 'pH_Meio_Aquoso']]\n",
        "df1"
      ],
      "metadata": {
        "colab": {
          "base_uri": "https://localhost:8080/",
          "height": 424
        },
        "id": "TnujvJ1GbquW",
        "outputId": "d1938151-3935-4002-fbee-8a4037d84505"
      },
      "execution_count": 192,
      "outputs": [
        {
          "output_type": "execute_result",
          "data": {
            "text/plain": [
              "    ESP32_Média_Movel  pH_Meio_Aquoso\n",
              "0               607.0             7.0\n",
              "1               695.0             6.7\n",
              "2               671.0             7.2\n",
              "3               667.0             7.2\n",
              "4               652.0             7.4\n",
              "..                ...             ...\n",
              "84              603.0             7.5\n",
              "85              657.0             7.5\n",
              "86              685.0             6.1\n",
              "87              785.0             5.2\n",
              "88              672.0             7.0\n",
              "\n",
              "[89 rows x 2 columns]"
            ],
            "text/html": [
              "\n",
              "  <div id=\"df-6f19fa4d-ef4a-4d8d-b574-75959676c2e3\">\n",
              "    <div class=\"colab-df-container\">\n",
              "      <div>\n",
              "<style scoped>\n",
              "    .dataframe tbody tr th:only-of-type {\n",
              "        vertical-align: middle;\n",
              "    }\n",
              "\n",
              "    .dataframe tbody tr th {\n",
              "        vertical-align: top;\n",
              "    }\n",
              "\n",
              "    .dataframe thead th {\n",
              "        text-align: right;\n",
              "    }\n",
              "</style>\n",
              "<table border=\"1\" class=\"dataframe\">\n",
              "  <thead>\n",
              "    <tr style=\"text-align: right;\">\n",
              "      <th></th>\n",
              "      <th>ESP32_Média_Movel</th>\n",
              "      <th>pH_Meio_Aquoso</th>\n",
              "    </tr>\n",
              "  </thead>\n",
              "  <tbody>\n",
              "    <tr>\n",
              "      <th>0</th>\n",
              "      <td>607.0</td>\n",
              "      <td>7.0</td>\n",
              "    </tr>\n",
              "    <tr>\n",
              "      <th>1</th>\n",
              "      <td>695.0</td>\n",
              "      <td>6.7</td>\n",
              "    </tr>\n",
              "    <tr>\n",
              "      <th>2</th>\n",
              "      <td>671.0</td>\n",
              "      <td>7.2</td>\n",
              "    </tr>\n",
              "    <tr>\n",
              "      <th>3</th>\n",
              "      <td>667.0</td>\n",
              "      <td>7.2</td>\n",
              "    </tr>\n",
              "    <tr>\n",
              "      <th>4</th>\n",
              "      <td>652.0</td>\n",
              "      <td>7.4</td>\n",
              "    </tr>\n",
              "    <tr>\n",
              "      <th>...</th>\n",
              "      <td>...</td>\n",
              "      <td>...</td>\n",
              "    </tr>\n",
              "    <tr>\n",
              "      <th>84</th>\n",
              "      <td>603.0</td>\n",
              "      <td>7.5</td>\n",
              "    </tr>\n",
              "    <tr>\n",
              "      <th>85</th>\n",
              "      <td>657.0</td>\n",
              "      <td>7.5</td>\n",
              "    </tr>\n",
              "    <tr>\n",
              "      <th>86</th>\n",
              "      <td>685.0</td>\n",
              "      <td>6.1</td>\n",
              "    </tr>\n",
              "    <tr>\n",
              "      <th>87</th>\n",
              "      <td>785.0</td>\n",
              "      <td>5.2</td>\n",
              "    </tr>\n",
              "    <tr>\n",
              "      <th>88</th>\n",
              "      <td>672.0</td>\n",
              "      <td>7.0</td>\n",
              "    </tr>\n",
              "  </tbody>\n",
              "</table>\n",
              "<p>89 rows × 2 columns</p>\n",
              "</div>\n",
              "      <button class=\"colab-df-convert\" onclick=\"convertToInteractive('df-6f19fa4d-ef4a-4d8d-b574-75959676c2e3')\"\n",
              "              title=\"Convert this dataframe to an interactive table.\"\n",
              "              style=\"display:none;\">\n",
              "        \n",
              "  <svg xmlns=\"http://www.w3.org/2000/svg\" height=\"24px\"viewBox=\"0 0 24 24\"\n",
              "       width=\"24px\">\n",
              "    <path d=\"M0 0h24v24H0V0z\" fill=\"none\"/>\n",
              "    <path d=\"M18.56 5.44l.94 2.06.94-2.06 2.06-.94-2.06-.94-.94-2.06-.94 2.06-2.06.94zm-11 1L8.5 8.5l.94-2.06 2.06-.94-2.06-.94L8.5 2.5l-.94 2.06-2.06.94zm10 10l.94 2.06.94-2.06 2.06-.94-2.06-.94-.94-2.06-.94 2.06-2.06.94z\"/><path d=\"M17.41 7.96l-1.37-1.37c-.4-.4-.92-.59-1.43-.59-.52 0-1.04.2-1.43.59L10.3 9.45l-7.72 7.72c-.78.78-.78 2.05 0 2.83L4 21.41c.39.39.9.59 1.41.59.51 0 1.02-.2 1.41-.59l7.78-7.78 2.81-2.81c.8-.78.8-2.07 0-2.86zM5.41 20L4 18.59l7.72-7.72 1.47 1.35L5.41 20z\"/>\n",
              "  </svg>\n",
              "      </button>\n",
              "      \n",
              "  <style>\n",
              "    .colab-df-container {\n",
              "      display:flex;\n",
              "      flex-wrap:wrap;\n",
              "      gap: 12px;\n",
              "    }\n",
              "\n",
              "    .colab-df-convert {\n",
              "      background-color: #E8F0FE;\n",
              "      border: none;\n",
              "      border-radius: 50%;\n",
              "      cursor: pointer;\n",
              "      display: none;\n",
              "      fill: #1967D2;\n",
              "      height: 32px;\n",
              "      padding: 0 0 0 0;\n",
              "      width: 32px;\n",
              "    }\n",
              "\n",
              "    .colab-df-convert:hover {\n",
              "      background-color: #E2EBFA;\n",
              "      box-shadow: 0px 1px 2px rgba(60, 64, 67, 0.3), 0px 1px 3px 1px rgba(60, 64, 67, 0.15);\n",
              "      fill: #174EA6;\n",
              "    }\n",
              "\n",
              "    [theme=dark] .colab-df-convert {\n",
              "      background-color: #3B4455;\n",
              "      fill: #D2E3FC;\n",
              "    }\n",
              "\n",
              "    [theme=dark] .colab-df-convert:hover {\n",
              "      background-color: #434B5C;\n",
              "      box-shadow: 0px 1px 3px 1px rgba(0, 0, 0, 0.15);\n",
              "      filter: drop-shadow(0px 1px 2px rgba(0, 0, 0, 0.3));\n",
              "      fill: #FFFFFF;\n",
              "    }\n",
              "  </style>\n",
              "\n",
              "      <script>\n",
              "        const buttonEl =\n",
              "          document.querySelector('#df-6f19fa4d-ef4a-4d8d-b574-75959676c2e3 button.colab-df-convert');\n",
              "        buttonEl.style.display =\n",
              "          google.colab.kernel.accessAllowed ? 'block' : 'none';\n",
              "\n",
              "        async function convertToInteractive(key) {\n",
              "          const element = document.querySelector('#df-6f19fa4d-ef4a-4d8d-b574-75959676c2e3');\n",
              "          const dataTable =\n",
              "            await google.colab.kernel.invokeFunction('convertToInteractive',\n",
              "                                                     [key], {});\n",
              "          if (!dataTable) return;\n",
              "\n",
              "          const docLinkHtml = 'Like what you see? Visit the ' +\n",
              "            '<a target=\"_blank\" href=https://colab.research.google.com/notebooks/data_table.ipynb>data table notebook</a>'\n",
              "            + ' to learn more about interactive tables.';\n",
              "          element.innerHTML = '';\n",
              "          dataTable['output_type'] = 'display_data';\n",
              "          await google.colab.output.renderOutput(dataTable, element);\n",
              "          const docLink = document.createElement('div');\n",
              "          docLink.innerHTML = docLinkHtml;\n",
              "          element.appendChild(docLink);\n",
              "        }\n",
              "      </script>\n",
              "    </div>\n",
              "  </div>\n",
              "  "
            ]
          },
          "metadata": {},
          "execution_count": 192
        }
      ]
    },
    {
      "cell_type": "code",
      "source": [
        "y = df1['pH_Meio_Aquoso']\n",
        "x = df1.drop('pH_Meio_Aquoso', axis =1)"
      ],
      "metadata": {
        "id": "DP8opQxrbgyF"
      },
      "execution_count": 193,
      "outputs": []
    },
    {
      "cell_type": "code",
      "source": [
        "from sklearn.linear_model import LinearRegression\n",
        "from sklearn.linear_model import Ridge\n",
        "from sklearn.linear_model import Lasso\n",
        "from sklearn.linear_model import ElasticNet\n",
        "def modelregressionfold(a,b):\n",
        "  kfold = KFold(n_splits=10)\n",
        "  x = a\n",
        "  y = b\n",
        "  reg = LinearRegression()\n",
        "  ridge = Ridge()\n",
        "  lasso = Lasso()\n",
        "  elastic = ElasticNet()\n",
        "  res_reg = cross_val_score(reg,x,y, cv=kfold)\n",
        "  res_ridge = cross_val_score(ridge,x,y, cv=kfold)\n",
        "  res_lasso = cross_val_score(lasso,x,y, cv=kfold)\n",
        "  res_elastic = cross_val_score(elastic,x,y, cv=kfold)\n",
        "  dic_regmodels = {'Linear': res_reg.mean(),'Ridge': res_ridge.mean(),'Lasso': res_lasso.mean(), 'Elastic': res_elastic.mean()}\n",
        "  #melhor_modelo = max(dic_regmodels)\n",
        "  print('Regressão Linear: ', res_reg.mean(),'Regressão Ridge: ', res_ridge.mean(),'Regressão Lasso: ', res_lasso.mean(), 'Regressão Elastic: ', res_elastic.mean())\n",
        "  #print('O melhor modelo foi: ', melhor_modelo, 'Com o valor',[melhor_modelo])\n",
        "\n",
        "\n"
      ],
      "metadata": {
        "id": "JE7IH3cLWfxH"
      },
      "execution_count": 194,
      "outputs": []
    },
    {
      "cell_type": "code",
      "source": [
        "modelregressionfold(x,y)"
      ],
      "metadata": {
        "colab": {
          "base_uri": "https://localhost:8080/"
        },
        "id": "G6WAJTbGbPtz",
        "outputId": "a4fca605-2059-4039-8140-2e9bb4b2192f"
      },
      "execution_count": 195,
      "outputs": [
        {
          "output_type": "stream",
          "name": "stdout",
          "text": [
            "Regressão Linear:  0.7050225795520031 Regressão Ridge:  0.7050230984961949 Regressão Lasso:  0.7075071722438165 Regressão Elastic:  0.7063141649871942\n"
          ]
        }
      ]
    },
    {
      "cell_type": "markdown",
      "source": [
        "# Otimização"
      ],
      "metadata": {
        "id": "G7bGXfvvZ6Xx"
      }
    },
    {
      "cell_type": "code",
      "source": [
        "from sklearn.model_selection import GridSearchCV\n",
        "from sklearn.linear_model import LinearRegression"
      ],
      "metadata": {
        "id": "aLzLktO365K1"
      },
      "execution_count": 196,
      "outputs": []
    },
    {
      "cell_type": "code",
      "source": [
        "#Definindo Valores que serão testados\n",
        "valores = {'alpha':[0.1,0.5,1,2,5,10,25,50,100,200,300,500,700,1000], 'l1_ratio':[0.01,0.01, 0.02,0.05,0.1, 0.2, 0.3, 0.4, 0.5, 0.8,1]}"
      ],
      "metadata": {
        "id": "d36s0ExcV4WR"
      },
      "execution_count": 197,
      "outputs": []
    },
    {
      "cell_type": "code",
      "source": [
        "modelo.fit(x,y)"
      ],
      "metadata": {
        "id": "5a1c95Vpiytb",
        "outputId": "5b9b544f-fd62-4aa6-8a96-7a312c2b9bef",
        "colab": {
          "base_uri": "https://localhost:8080/"
        }
      },
      "execution_count": 198,
      "outputs": [
        {
          "output_type": "execute_result",
          "data": {
            "text/plain": [
              "LinearRegression()"
            ]
          },
          "metadata": {},
          "execution_count": 198
        }
      ]
    },
    {
      "cell_type": "code",
      "source": [
        "modelo = ElasticNet()\n",
        "procura = GridSearchCV(estimator= modelo, param_grid=valores, cv =5)\n",
        "procura.fit(x,y)"
      ],
      "metadata": {
        "colab": {
          "base_uri": "https://localhost:8080/"
        },
        "id": "3LZjG9KgWrx8",
        "outputId": "a123521d-a0eb-4eb3-95d8-6dc2f4ee2b53"
      },
      "execution_count": 199,
      "outputs": [
        {
          "output_type": "execute_result",
          "data": {
            "text/plain": [
              "GridSearchCV(cv=5, estimator=ElasticNet(),\n",
              "             param_grid={'alpha': [0.1, 0.5, 1, 2, 5, 10, 25, 50, 100, 200, 300,\n",
              "                                   500, 700, 1000],\n",
              "                         'l1_ratio': [0.01, 0.01, 0.02, 0.05, 0.1, 0.2, 0.3,\n",
              "                                      0.4, 0.5, 0.8, 1]})"
            ]
          },
          "metadata": {},
          "execution_count": 199
        }
      ]
    },
    {
      "cell_type": "code",
      "source": [
        "print('Melhor Score: ', procura.best_score_)\n",
        "print('Melhor Alpha: ', procura.best_estimator_ )\n",
        "print('Melhor l1 ratio:', procura.best_estimator_.l1_ratio)"
      ],
      "metadata": {
        "colab": {
          "base_uri": "https://localhost:8080/"
        },
        "id": "Vm_iuVcsXI8s",
        "outputId": "deb1aecf-bdbf-417f-dab9-1f27fff85b72"
      },
      "execution_count": 200,
      "outputs": [
        {
          "output_type": "stream",
          "name": "stdout",
          "text": [
            "Melhor Score:  0.7416257647305572\n",
            "Melhor Alpha:  ElasticNet(alpha=300, l1_ratio=0.01)\n",
            "Melhor l1 ratio: 0.01\n"
          ]
        }
      ]
    },
    {
      "cell_type": "code",
      "source": [
        "# define model\n",
        "model = ElasticNet(alpha=300, l1_ratio=0.01)"
      ],
      "metadata": {
        "id": "wKf2G3btdRSX"
      },
      "execution_count": 201,
      "outputs": []
    },
    {
      "cell_type": "code",
      "source": [
        "model.fit(x,y)"
      ],
      "metadata": {
        "colab": {
          "base_uri": "https://localhost:8080/"
        },
        "id": "ZMb_TKO7dmX1",
        "outputId": "81e9d6fb-aff4-43c5-e7c8-5f44504db12e"
      },
      "execution_count": 202,
      "outputs": [
        {
          "output_type": "execute_result",
          "data": {
            "text/plain": [
              "ElasticNet(alpha=300, l1_ratio=0.01)"
            ]
          },
          "metadata": {},
          "execution_count": 202
        }
      ]
    },
    {
      "cell_type": "code",
      "source": [
        "print(model.coef_)"
      ],
      "metadata": {
        "colab": {
          "base_uri": "https://localhost:8080/"
        },
        "id": "I_9wdOp0dJtC",
        "outputId": "b5541e45-556e-44a9-c88f-0f0faa339105"
      },
      "execution_count": 203,
      "outputs": [
        {
          "output_type": "stream",
          "name": "stdout",
          "text": [
            "[-0.01429802]\n"
          ]
        }
      ]
    },
    {
      "cell_type": "code",
      "source": [
        "print(model.intercept_)"
      ],
      "metadata": {
        "colab": {
          "base_uri": "https://localhost:8080/"
        },
        "id": "19cArbi2dr_o",
        "outputId": "e83b8e96-d56d-4b9a-c9de-3ecfb8bb4885"
      },
      "execution_count": 204,
      "outputs": [
        {
          "output_type": "stream",
          "name": "stdout",
          "text": [
            "16.435847960409095\n"
          ]
        }
      ]
    }
  ]
}
