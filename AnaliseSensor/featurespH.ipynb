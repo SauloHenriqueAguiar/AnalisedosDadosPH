{
  "nbformat": 4,
  "nbformat_minor": 0,
  "metadata": {
    "colab": {
      "provenance": [],
      "collapsed_sections": [],
      "authorship_tag": "ABX9TyPZxNDLDcThXekCgjCm6rDx",
      "include_colab_link": true
    },
    "kernelspec": {
      "name": "python3",
      "display_name": "Python 3"
    },
    "language_info": {
      "name": "python"
    }
  },
  "cells": [
    {
      "cell_type": "markdown",
      "metadata": {
        "id": "view-in-github",
        "colab_type": "text"
      },
      "source": [
        "<a href=\"https://colab.research.google.com/github/SauloHenriqueAguiar/pHSensor/blob/main/featurespH.ipynb\" target=\"_parent\"><img src=\"https://colab.research.google.com/assets/colab-badge.svg\" alt=\"Open In Colab\"/></a>"
      ]
    },
    {
      "cell_type": "code",
      "execution_count": 1,
      "metadata": {
        "id": "DE4b1bju6GjE"
      },
      "outputs": [],
      "source": [
        "import pandas as pd \n",
        "read_file = pd.read_excel (\"/content/dadossensorcompleto.xlsx\")"
      ]
    },
    {
      "cell_type": "code",
      "source": [
        "read_file.to_csv (\"/content/dadospH.csv\",  \n",
        "                  index = None, \n",
        "                  header=True)"
      ],
      "metadata": {
        "id": "XDtY29Y-6y_G"
      },
      "execution_count": 2,
      "outputs": []
    },
    {
      "cell_type": "code",
      "source": [
        "df = pd.DataFrame(pd.read_csv(\"/content/dadospH.csv\"))\n",
        "df"
      ],
      "metadata": {
        "colab": {
          "base_uri": "https://localhost:8080/",
          "height": 424
        },
        "id": "P2Gx265T61-u",
        "outputId": "992e1bcd-f663-408b-a03d-1f84e8e636c1"
      },
      "execution_count": 3,
      "outputs": [
        {
          "output_type": "execute_result",
          "data": {
            "text/plain": [
              "    pH(Meio_Aquoso)  pH(Medicao_Direta_Akso  Média-FS(ociloscópio)(mV)  \\\n",
              "0               7.0                    7.23                        538   \n",
              "1               6.7                    6.83                        590   \n",
              "2               7.2                    6.92                        480   \n",
              "3               7.2                    6.62                        610   \n",
              "4               7.4                    7.00                        523   \n",
              "..              ...                     ...                        ...   \n",
              "84              7.5                    7.85                        560   \n",
              "85              7.5                    7.11                        731   \n",
              "86              6.1                    6.56                        668   \n",
              "87              5.2                    5.70                        730   \n",
              "88              7.0                    6.80                        610   \n",
              "\n",
              "    CC-RMS(Ociloscópio)(mV)  Multimetro(DDP)(mV)  ESP-32(Média Movel)  \\\n",
              "0                       540                  547                  607   \n",
              "1                       590                  627                  695   \n",
              "2                       490                  505                  564   \n",
              "3                       620                  662                  709   \n",
              "4                       530                  540                  510   \n",
              "..                      ...                  ...                  ...   \n",
              "84                      545                  570                  603   \n",
              "85                      732                  733                  735   \n",
              "86                      660                  690                  685   \n",
              "87                      740                  768                  785   \n",
              "88                      620                  649                  672   \n",
              "\n",
              "    ESP-32(TrueRMS)  \n",
              "0               608  \n",
              "1               698  \n",
              "2               564  \n",
              "3               706  \n",
              "4               515  \n",
              "..              ...  \n",
              "84              604  \n",
              "85              736  \n",
              "86              685  \n",
              "87              785  \n",
              "88              672  \n",
              "\n",
              "[89 rows x 7 columns]"
            ],
            "text/html": [
              "\n",
              "  <div id=\"df-f7f27647-9f63-4669-a264-637cbd0c0e03\">\n",
              "    <div class=\"colab-df-container\">\n",
              "      <div>\n",
              "<style scoped>\n",
              "    .dataframe tbody tr th:only-of-type {\n",
              "        vertical-align: middle;\n",
              "    }\n",
              "\n",
              "    .dataframe tbody tr th {\n",
              "        vertical-align: top;\n",
              "    }\n",
              "\n",
              "    .dataframe thead th {\n",
              "        text-align: right;\n",
              "    }\n",
              "</style>\n",
              "<table border=\"1\" class=\"dataframe\">\n",
              "  <thead>\n",
              "    <tr style=\"text-align: right;\">\n",
              "      <th></th>\n",
              "      <th>pH(Meio_Aquoso)</th>\n",
              "      <th>pH(Medicao_Direta_Akso</th>\n",
              "      <th>Média-FS(ociloscópio)(mV)</th>\n",
              "      <th>CC-RMS(Ociloscópio)(mV)</th>\n",
              "      <th>Multimetro(DDP)(mV)</th>\n",
              "      <th>ESP-32(Média Movel)</th>\n",
              "      <th>ESP-32(TrueRMS)</th>\n",
              "    </tr>\n",
              "  </thead>\n",
              "  <tbody>\n",
              "    <tr>\n",
              "      <th>0</th>\n",
              "      <td>7.0</td>\n",
              "      <td>7.23</td>\n",
              "      <td>538</td>\n",
              "      <td>540</td>\n",
              "      <td>547</td>\n",
              "      <td>607</td>\n",
              "      <td>608</td>\n",
              "    </tr>\n",
              "    <tr>\n",
              "      <th>1</th>\n",
              "      <td>6.7</td>\n",
              "      <td>6.83</td>\n",
              "      <td>590</td>\n",
              "      <td>590</td>\n",
              "      <td>627</td>\n",
              "      <td>695</td>\n",
              "      <td>698</td>\n",
              "    </tr>\n",
              "    <tr>\n",
              "      <th>2</th>\n",
              "      <td>7.2</td>\n",
              "      <td>6.92</td>\n",
              "      <td>480</td>\n",
              "      <td>490</td>\n",
              "      <td>505</td>\n",
              "      <td>564</td>\n",
              "      <td>564</td>\n",
              "    </tr>\n",
              "    <tr>\n",
              "      <th>3</th>\n",
              "      <td>7.2</td>\n",
              "      <td>6.62</td>\n",
              "      <td>610</td>\n",
              "      <td>620</td>\n",
              "      <td>662</td>\n",
              "      <td>709</td>\n",
              "      <td>706</td>\n",
              "    </tr>\n",
              "    <tr>\n",
              "      <th>4</th>\n",
              "      <td>7.4</td>\n",
              "      <td>7.00</td>\n",
              "      <td>523</td>\n",
              "      <td>530</td>\n",
              "      <td>540</td>\n",
              "      <td>510</td>\n",
              "      <td>515</td>\n",
              "    </tr>\n",
              "    <tr>\n",
              "      <th>...</th>\n",
              "      <td>...</td>\n",
              "      <td>...</td>\n",
              "      <td>...</td>\n",
              "      <td>...</td>\n",
              "      <td>...</td>\n",
              "      <td>...</td>\n",
              "      <td>...</td>\n",
              "    </tr>\n",
              "    <tr>\n",
              "      <th>84</th>\n",
              "      <td>7.5</td>\n",
              "      <td>7.85</td>\n",
              "      <td>560</td>\n",
              "      <td>545</td>\n",
              "      <td>570</td>\n",
              "      <td>603</td>\n",
              "      <td>604</td>\n",
              "    </tr>\n",
              "    <tr>\n",
              "      <th>85</th>\n",
              "      <td>7.5</td>\n",
              "      <td>7.11</td>\n",
              "      <td>731</td>\n",
              "      <td>732</td>\n",
              "      <td>733</td>\n",
              "      <td>735</td>\n",
              "      <td>736</td>\n",
              "    </tr>\n",
              "    <tr>\n",
              "      <th>86</th>\n",
              "      <td>6.1</td>\n",
              "      <td>6.56</td>\n",
              "      <td>668</td>\n",
              "      <td>660</td>\n",
              "      <td>690</td>\n",
              "      <td>685</td>\n",
              "      <td>685</td>\n",
              "    </tr>\n",
              "    <tr>\n",
              "      <th>87</th>\n",
              "      <td>5.2</td>\n",
              "      <td>5.70</td>\n",
              "      <td>730</td>\n",
              "      <td>740</td>\n",
              "      <td>768</td>\n",
              "      <td>785</td>\n",
              "      <td>785</td>\n",
              "    </tr>\n",
              "    <tr>\n",
              "      <th>88</th>\n",
              "      <td>7.0</td>\n",
              "      <td>6.80</td>\n",
              "      <td>610</td>\n",
              "      <td>620</td>\n",
              "      <td>649</td>\n",
              "      <td>672</td>\n",
              "      <td>672</td>\n",
              "    </tr>\n",
              "  </tbody>\n",
              "</table>\n",
              "<p>89 rows × 7 columns</p>\n",
              "</div>\n",
              "      <button class=\"colab-df-convert\" onclick=\"convertToInteractive('df-f7f27647-9f63-4669-a264-637cbd0c0e03')\"\n",
              "              title=\"Convert this dataframe to an interactive table.\"\n",
              "              style=\"display:none;\">\n",
              "        \n",
              "  <svg xmlns=\"http://www.w3.org/2000/svg\" height=\"24px\"viewBox=\"0 0 24 24\"\n",
              "       width=\"24px\">\n",
              "    <path d=\"M0 0h24v24H0V0z\" fill=\"none\"/>\n",
              "    <path d=\"M18.56 5.44l.94 2.06.94-2.06 2.06-.94-2.06-.94-.94-2.06-.94 2.06-2.06.94zm-11 1L8.5 8.5l.94-2.06 2.06-.94-2.06-.94L8.5 2.5l-.94 2.06-2.06.94zm10 10l.94 2.06.94-2.06 2.06-.94-2.06-.94-.94-2.06-.94 2.06-2.06.94z\"/><path d=\"M17.41 7.96l-1.37-1.37c-.4-.4-.92-.59-1.43-.59-.52 0-1.04.2-1.43.59L10.3 9.45l-7.72 7.72c-.78.78-.78 2.05 0 2.83L4 21.41c.39.39.9.59 1.41.59.51 0 1.02-.2 1.41-.59l7.78-7.78 2.81-2.81c.8-.78.8-2.07 0-2.86zM5.41 20L4 18.59l7.72-7.72 1.47 1.35L5.41 20z\"/>\n",
              "  </svg>\n",
              "      </button>\n",
              "      \n",
              "  <style>\n",
              "    .colab-df-container {\n",
              "      display:flex;\n",
              "      flex-wrap:wrap;\n",
              "      gap: 12px;\n",
              "    }\n",
              "\n",
              "    .colab-df-convert {\n",
              "      background-color: #E8F0FE;\n",
              "      border: none;\n",
              "      border-radius: 50%;\n",
              "      cursor: pointer;\n",
              "      display: none;\n",
              "      fill: #1967D2;\n",
              "      height: 32px;\n",
              "      padding: 0 0 0 0;\n",
              "      width: 32px;\n",
              "    }\n",
              "\n",
              "    .colab-df-convert:hover {\n",
              "      background-color: #E2EBFA;\n",
              "      box-shadow: 0px 1px 2px rgba(60, 64, 67, 0.3), 0px 1px 3px 1px rgba(60, 64, 67, 0.15);\n",
              "      fill: #174EA6;\n",
              "    }\n",
              "\n",
              "    [theme=dark] .colab-df-convert {\n",
              "      background-color: #3B4455;\n",
              "      fill: #D2E3FC;\n",
              "    }\n",
              "\n",
              "    [theme=dark] .colab-df-convert:hover {\n",
              "      background-color: #434B5C;\n",
              "      box-shadow: 0px 1px 3px 1px rgba(0, 0, 0, 0.15);\n",
              "      filter: drop-shadow(0px 1px 2px rgba(0, 0, 0, 0.3));\n",
              "      fill: #FFFFFF;\n",
              "    }\n",
              "  </style>\n",
              "\n",
              "      <script>\n",
              "        const buttonEl =\n",
              "          document.querySelector('#df-f7f27647-9f63-4669-a264-637cbd0c0e03 button.colab-df-convert');\n",
              "        buttonEl.style.display =\n",
              "          google.colab.kernel.accessAllowed ? 'block' : 'none';\n",
              "\n",
              "        async function convertToInteractive(key) {\n",
              "          const element = document.querySelector('#df-f7f27647-9f63-4669-a264-637cbd0c0e03');\n",
              "          const dataTable =\n",
              "            await google.colab.kernel.invokeFunction('convertToInteractive',\n",
              "                                                     [key], {});\n",
              "          if (!dataTable) return;\n",
              "\n",
              "          const docLinkHtml = 'Like what you see? Visit the ' +\n",
              "            '<a target=\"_blank\" href=https://colab.research.google.com/notebooks/data_table.ipynb>data table notebook</a>'\n",
              "            + ' to learn more about interactive tables.';\n",
              "          element.innerHTML = '';\n",
              "          dataTable['output_type'] = 'display_data';\n",
              "          await google.colab.output.renderOutput(dataTable, element);\n",
              "          const docLink = document.createElement('div');\n",
              "          docLink.innerHTML = docLinkHtml;\n",
              "          element.appendChild(docLink);\n",
              "        }\n",
              "      </script>\n",
              "    </div>\n",
              "  </div>\n",
              "  "
            ]
          },
          "metadata": {},
          "execution_count": 3
        }
      ]
    },
    {
      "cell_type": "code",
      "source": [
        "import matplotlib as plt"
      ],
      "metadata": {
        "id": "Yonh0ljoAD6s"
      },
      "execution_count": 19,
      "outputs": []
    },
    {
      "cell_type": "code",
      "source": [
        "#Correlação de Pearson\n",
        "correlation = df.corr()\n",
        "# plot da matriz de correlação\n",
        "import seaborn as sn\n",
        "plot = sn.heatmap(correlation,cmap=\"YlGnBu\", annot = True, fmt=\".2g\", linewidths=.6)\n",
        "\n",
        "plot\n"
      ],
      "metadata": {
        "colab": {
          "base_uri": "https://localhost:8080/",
          "height": 409
        },
        "id": "p8MehX2t74mH",
        "outputId": "934fe9f9-7d83-4c88-86c9-52de9eb50cc5"
      },
      "execution_count": 22,
      "outputs": [
        {
          "output_type": "execute_result",
          "data": {
            "text/plain": [
              "<matplotlib.axes._subplots.AxesSubplot at 0x7fa9cf19ba90>"
            ]
          },
          "metadata": {},
          "execution_count": 22
        },
        {
          "output_type": "display_data",
          "data": {
            "text/plain": [
              "<Figure size 432x288 with 2 Axes>"
            ],
            "image/png": "[encoded data removed]"
          },
          "metadata": {
            "needs_background": "light"
          }
        }
      ]
    },
    {
      "cell_type": "code",
      "source": [],
      "metadata": {
        "id": "i8h9vhogyYnD"
      },
      "execution_count": null,
      "outputs": []
    },
    {
      "cell_type": "code",
      "source": [],
      "metadata": {
        "id": "TdvPJDZrxfHe"
      },
      "execution_count": null,
      "outputs": []
    }
  ]
}
